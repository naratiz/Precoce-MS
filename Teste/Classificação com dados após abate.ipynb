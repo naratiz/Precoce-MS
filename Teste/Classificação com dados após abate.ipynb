{
 "cells": [
  {
   "cell_type": "code",
   "execution_count": 1,
   "metadata": {},
   "outputs": [],
   "source": [
    "import pandas as pd\n",
    "\n",
    "from sklearn.pipeline import make_pipeline\n",
    "from sklearn.preprocessing import StandardScaler\n",
    "from sklearn.decomposition import PCA\n",
    "from sklearn.model_selection import train_test_split, cross_val_score, StratifiedKFold\n",
    "from sklearn.ensemble import RandomForestClassifier"
   ]
  },
  {
   "cell_type": "code",
   "execution_count": 2,
   "metadata": {},
   "outputs": [],
   "source": [
    "df = pd.read_csv('../../dados/procucao_gado_MS.csv', sep=';')"
   ]
  },
  {
   "cell_type": "code",
   "execution_count": 3,
   "metadata": {},
   "outputs": [
    {
     "data": {
      "text/html": [
       "<div>\n",
       "<style scoped>\n",
       "    .dataframe tbody tr th:only-of-type {\n",
       "        vertical-align: middle;\n",
       "    }\n",
       "\n",
       "    .dataframe tbody tr th {\n",
       "        vertical-align: top;\n",
       "    }\n",
       "\n",
       "    .dataframe thead th {\n",
       "        text-align: right;\n",
       "    }\n",
       "</style>\n",
       "<table border=\"1\" class=\"dataframe\">\n",
       "  <thead>\n",
       "    <tr style=\"text-align: right;\">\n",
       "      <th></th>\n",
       "      <th>tipificacao_1</th>\n",
       "      <th>tipificacao_2</th>\n",
       "      <th>tipificacao_3</th>\n",
       "      <th>maturidade</th>\n",
       "      <th>acabamento</th>\n",
       "      <th>peso</th>\n",
       "      <th>classificacao_estabelecimento</th>\n",
       "      <th>outros_incentivos</th>\n",
       "      <th>pratica_recuperacao_pastagem</th>\n",
       "      <th>fertiirrigacao</th>\n",
       "      <th>...</th>\n",
       "      <th>cnt1m_cl_ituinst</th>\n",
       "      <th>cnt3m_cl_ituinst</th>\n",
       "      <th>cnt6m_cl_ituinst</th>\n",
       "      <th>cnt12m_cl_ituinst</th>\n",
       "      <th>ano</th>\n",
       "      <th>categoria</th>\n",
       "      <th>classificacao</th>\n",
       "      <th>longitude</th>\n",
       "      <th>latitude</th>\n",
       "      <th>mes</th>\n",
       "    </tr>\n",
       "  </thead>\n",
       "  <tbody>\n",
       "    <tr>\n",
       "      <th>0</th>\n",
       "      <td>1</td>\n",
       "      <td>0</td>\n",
       "      <td>0</td>\n",
       "      <td>1</td>\n",
       "      <td>3</td>\n",
       "      <td>345.4</td>\n",
       "      <td>26.0</td>\n",
       "      <td>0</td>\n",
       "      <td>0</td>\n",
       "      <td>0</td>\n",
       "      <td>...</td>\n",
       "      <td>0.6129</td>\n",
       "      <td>0.5882</td>\n",
       "      <td>0.5882</td>\n",
       "      <td>0.5882</td>\n",
       "      <td>2017</td>\n",
       "      <td>1</td>\n",
       "      <td>1</td>\n",
       "      <td>-54.36319</td>\n",
       "      <td>-19.92092</td>\n",
       "      <td>2</td>\n",
       "    </tr>\n",
       "    <tr>\n",
       "      <th>1</th>\n",
       "      <td>1</td>\n",
       "      <td>0</td>\n",
       "      <td>0</td>\n",
       "      <td>1</td>\n",
       "      <td>3</td>\n",
       "      <td>268.8</td>\n",
       "      <td>26.0</td>\n",
       "      <td>0</td>\n",
       "      <td>0</td>\n",
       "      <td>0</td>\n",
       "      <td>...</td>\n",
       "      <td>0.6129</td>\n",
       "      <td>0.5882</td>\n",
       "      <td>0.5882</td>\n",
       "      <td>0.5882</td>\n",
       "      <td>2017</td>\n",
       "      <td>1</td>\n",
       "      <td>1</td>\n",
       "      <td>-54.36319</td>\n",
       "      <td>-19.92092</td>\n",
       "      <td>2</td>\n",
       "    </tr>\n",
       "    <tr>\n",
       "      <th>2</th>\n",
       "      <td>1</td>\n",
       "      <td>0</td>\n",
       "      <td>0</td>\n",
       "      <td>1</td>\n",
       "      <td>3</td>\n",
       "      <td>288.4</td>\n",
       "      <td>26.0</td>\n",
       "      <td>0</td>\n",
       "      <td>0</td>\n",
       "      <td>0</td>\n",
       "      <td>...</td>\n",
       "      <td>0.6129</td>\n",
       "      <td>0.5882</td>\n",
       "      <td>0.5882</td>\n",
       "      <td>0.5882</td>\n",
       "      <td>2017</td>\n",
       "      <td>1</td>\n",
       "      <td>1</td>\n",
       "      <td>-54.36319</td>\n",
       "      <td>-19.92092</td>\n",
       "      <td>2</td>\n",
       "    </tr>\n",
       "    <tr>\n",
       "      <th>3</th>\n",
       "      <td>1</td>\n",
       "      <td>0</td>\n",
       "      <td>0</td>\n",
       "      <td>1</td>\n",
       "      <td>3</td>\n",
       "      <td>357.2</td>\n",
       "      <td>26.0</td>\n",
       "      <td>0</td>\n",
       "      <td>0</td>\n",
       "      <td>0</td>\n",
       "      <td>...</td>\n",
       "      <td>0.6129</td>\n",
       "      <td>0.5882</td>\n",
       "      <td>0.5882</td>\n",
       "      <td>0.5882</td>\n",
       "      <td>2017</td>\n",
       "      <td>1</td>\n",
       "      <td>1</td>\n",
       "      <td>-54.36319</td>\n",
       "      <td>-19.92092</td>\n",
       "      <td>2</td>\n",
       "    </tr>\n",
       "    <tr>\n",
       "      <th>4</th>\n",
       "      <td>1</td>\n",
       "      <td>0</td>\n",
       "      <td>0</td>\n",
       "      <td>1</td>\n",
       "      <td>3</td>\n",
       "      <td>267.6</td>\n",
       "      <td>26.0</td>\n",
       "      <td>0</td>\n",
       "      <td>0</td>\n",
       "      <td>0</td>\n",
       "      <td>...</td>\n",
       "      <td>0.6129</td>\n",
       "      <td>0.5882</td>\n",
       "      <td>0.5882</td>\n",
       "      <td>0.5882</td>\n",
       "      <td>2017</td>\n",
       "      <td>1</td>\n",
       "      <td>1</td>\n",
       "      <td>-54.36319</td>\n",
       "      <td>-19.92092</td>\n",
       "      <td>2</td>\n",
       "    </tr>\n",
       "  </tbody>\n",
       "</table>\n",
       "<p>5 rows × 53 columns</p>\n",
       "</div>"
      ],
      "text/plain": [
       "   tipificacao_1  tipificacao_2  tipificacao_3  maturidade  acabamento   peso  \\\n",
       "0              1              0              0           1           3  345.4   \n",
       "1              1              0              0           1           3  268.8   \n",
       "2              1              0              0           1           3  288.4   \n",
       "3              1              0              0           1           3  357.2   \n",
       "4              1              0              0           1           3  267.6   \n",
       "\n",
       "   classificacao_estabelecimento  outros_incentivos  \\\n",
       "0                           26.0                  0   \n",
       "1                           26.0                  0   \n",
       "2                           26.0                  0   \n",
       "3                           26.0                  0   \n",
       "4                           26.0                  0   \n",
       "\n",
       "   pratica_recuperacao_pastagem  fertiirrigacao  ...  cnt1m_cl_ituinst  \\\n",
       "0                             0               0  ...            0.6129   \n",
       "1                             0               0  ...            0.6129   \n",
       "2                             0               0  ...            0.6129   \n",
       "3                             0               0  ...            0.6129   \n",
       "4                             0               0  ...            0.6129   \n",
       "\n",
       "   cnt3m_cl_ituinst  cnt6m_cl_ituinst  cnt12m_cl_ituinst   ano  categoria  \\\n",
       "0            0.5882            0.5882             0.5882  2017          1   \n",
       "1            0.5882            0.5882             0.5882  2017          1   \n",
       "2            0.5882            0.5882             0.5882  2017          1   \n",
       "3            0.5882            0.5882             0.5882  2017          1   \n",
       "4            0.5882            0.5882             0.5882  2017          1   \n",
       "\n",
       "   classificacao  longitude  latitude  mes  \n",
       "0              1  -54.36319 -19.92092    2  \n",
       "1              1  -54.36319 -19.92092    2  \n",
       "2              1  -54.36319 -19.92092    2  \n",
       "3              1  -54.36319 -19.92092    2  \n",
       "4              1  -54.36319 -19.92092    2  \n",
       "\n",
       "[5 rows x 53 columns]"
      ]
     },
     "execution_count": 3,
     "metadata": {},
     "output_type": "execute_result"
    }
   ],
   "source": [
    "df.head(5)"
   ]
  },
  {
   "cell_type": "code",
   "execution_count": 4,
   "metadata": {},
   "outputs": [],
   "source": [
    "SEED = 42\n",
    "y = df['categoria']\n",
    "X = df.drop(['categoria'],axis=1)"
   ]
  },
  {
   "cell_type": "code",
   "execution_count": 5,
   "metadata": {},
   "outputs": [
    {
     "data": {
      "text/plain": [
       "Index(['tipificacao_1', 'tipificacao_2', 'tipificacao_3', 'maturidade',\n",
       "       'acabamento', 'peso', 'classificacao_estabelecimento',\n",
       "       'outros_incentivos', 'pratica_recuperacao_pastagem', 'fertiirrigacao',\n",
       "       'ilp', 'ilpf', 'ifp', 'fabrica_racao', 'identificacao_individual',\n",
       "       'regua_de_manejo', 'bpa', 'participa_aliancas_mercadologicas',\n",
       "       'rastreamento_sisbov', 'tot1m_chuva', 'med1m_formituinst', 'med1m_ndvi',\n",
       "       'med1m_prer_soja', 'med1m_prer_milho', 'med1m_prer_boi', 'tot3m_chuva',\n",
       "       'med3m_formituinst', 'med3m_ndvi', 'med3m_prer_soja',\n",
       "       'med3m_prer_milho', 'med3m_prer_boi', 'tot6m_chuva',\n",
       "       'med6m_formituinst', 'med6m_ndvi', 'med6m_prer_soja',\n",
       "       'med6m_prer_milho', 'med6m_prer_boi', 'tot12m_chuva',\n",
       "       'med12m_formituinst', 'med12m_ndvi', 'med12m_prer_soja',\n",
       "       'med12m_prer_milho', 'med12m_prer_boi', 'cnt1m_cl_ituinst',\n",
       "       'cnt3m_cl_ituinst', 'cnt6m_cl_ituinst', 'cnt12m_cl_ituinst', 'ano',\n",
       "       'classificacao', 'longitude', 'latitude', 'mes'],\n",
       "      dtype='object')"
      ]
     },
     "execution_count": 5,
     "metadata": {},
     "output_type": "execute_result"
    }
   ],
   "source": [
    "X.columns"
   ]
  },
  {
   "cell_type": "code",
   "execution_count": 13,
   "metadata": {},
   "outputs": [],
   "source": [
    "skfolds = StratifiedKFold(n_splits=10, shuffle=True, random_state=SEED)"
   ]
  },
  {
   "cell_type": "code",
   "execution_count": 14,
   "metadata": {},
   "outputs": [],
   "source": [
    "# definindo nossas etapas do pipeline\n",
    "reduzDimPCA = PCA(n_components=30)\n",
    "scaler = StandardScaler()\n",
    "rfc_baseline = RandomForestClassifier(random_state=SEED)\n"
   ]
  },
  {
   "cell_type": "code",
   "execution_count": 18,
   "metadata": {},
   "outputs": [],
   "source": [
    "# criando o modelo usando pipeline\n",
    "model= make_pipeline(reduzDimPCA,\n",
    "                     scaler,\n",
    "                     rfc_baseline)"
   ]
  },
  {
   "cell_type": "code",
   "execution_count": 20,
   "metadata": {},
   "outputs": [
    {
     "data": {
      "text/plain": [
       "array([0.99668033, 0.99714863, 0.99681562, 0.99691968, 0.99665952,\n",
       "       0.99683643, 0.99663871, 0.99693009, 0.99655546, 0.9968364 ])"
      ]
     },
     "execution_count": 20,
     "metadata": {},
     "output_type": "execute_result"
    }
   ],
   "source": [
    "# Obtendo scores da validação cruzada com o pipeline criado\n",
    "scores = cross_val_score(model, X, y, cv=skfolds)\n",
    "scores"
   ]
  },
  {
   "cell_type": "code",
   "execution_count": 21,
   "metadata": {},
   "outputs": [
    {
     "name": "stdout",
     "output_type": "stream",
     "text": [
      "Acurária 0.997 +/- 0.00\n"
     ]
    }
   ],
   "source": [
    "print('Acurária %.3f +/- %.2f' % (scores.mean(), scores.std()))"
   ]
  },
  {
   "cell_type": "code",
   "execution_count": null,
   "metadata": {},
   "outputs": [],
   "source": []
  }
 ],
 "metadata": {
  "kernelspec": {
   "display_name": "Python 3",
   "language": "python",
   "name": "python3"
  },
  "language_info": {
   "codemirror_mode": {
    "name": "ipython",
    "version": 3
   },
   "file_extension": ".py",
   "mimetype": "text/x-python",
   "name": "python",
   "nbconvert_exporter": "python",
   "pygments_lexer": "ipython3",
   "version": "3.7.6"
  }
 },
 "nbformat": 4,
 "nbformat_minor": 4
}
