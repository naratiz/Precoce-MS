{
  "cells": [
    {
      "cell_type": "markdown",
      "metadata": {
        "id": "view-in-github",
        "colab_type": "text"
      },
      "source": [
        "<a href=\"https://colab.research.google.com/github/naratiz/Precoce-MS/blob/main/4_Modeling_Classifica%C3%A7%C3%A3o/Otimiza%C3%A7%C3%A3o_Classifica%C3%A7%C3%A3o_XGBoost.ipynb\" target=\"_parent\"><img src=\"https://colab.research.google.com/assets/colab-badge.svg\" alt=\"Open In Colab\"/></a>"
      ]
    },
    {
      "cell_type": "code",
      "execution_count": null,
      "metadata": {
        "id": "cxMc9pd239AS"
      },
      "outputs": [],
      "source": [
        "#!pip install optuna teste"
      ]
    },
    {
      "cell_type": "code",
      "execution_count": null,
      "metadata": {
        "id": "_kCbTntnv8Ow"
      },
      "outputs": [],
      "source": [
        "import pandas as pd\n",
        "import optuna\n",
        "import numpy as np\n",
        "import seaborn as sns\n",
        "import time\n",
        "import matplotlib.pyplot as plt\n",
        "import concurrent.futures\n",
        "import itertools\n",
        "import logging\n",
        "import sys\n",
        "\n",
        "from sklearn.model_selection import cross_val_score,train_test_split, StratifiedKFold, learning_curve\n",
        "from sklearn.preprocessing import StandardScaler\n",
        "from sklearn.decomposition import PCA\n",
        "from sklearn.metrics import accuracy_score, confusion_matrix, classification_report\n",
        "from xgboost import XGBClassifier\n",
        "from imblearn.combine import SMOTEENN "
      ]
    },
    {
      "cell_type": "code",
      "execution_count": null,
      "metadata": {
        "colab": {
          "base_uri": "https://localhost:8080/"
        },
        "id": "Y8Mt7ZWERcaN",
        "outputId": "1b77dcef-d9c7-4486-9d17-29f637ab96b0"
      },
      "outputs": [
        {
          "name": "stdout",
          "output_type": "stream",
          "text": [
            "Number of CPUs in the system: 8\n"
          ]
        }
      ],
      "source": [
        "import os \n",
        "n_cpu = os.cpu_count()\n",
        "print(\"Number of CPUs in the system:\", n_cpu)"
      ]
    },
    {
      "cell_type": "markdown",
      "metadata": {
        "id": "pUgoZt0eRhlW"
      },
      "source": [
        "# Base de Dados"
      ]
    },
    {
      "cell_type": "code",
      "execution_count": null,
      "metadata": {
        "colab": {
          "base_uri": "https://localhost:8080/"
        },
        "id": "rQKh1k3kwDkh",
        "outputId": "cdf90fb7-34bb-4872-bdc7-5359fe781a95"
      },
      "outputs": [
        {
          "name": "stdout",
          "output_type": "stream",
          "text": [
            "Mounted at /content/drive\n"
          ]
        }
      ],
      "source": [
        "from google.colab import drive\n",
        "drive.mount('/content/drive')"
      ]
    },
    {
      "cell_type": "code",
      "execution_count": null,
      "metadata": {
        "id": "E1gwV0WcwKor"
      },
      "outputs": [],
      "source": [
        "path = \"/content/drive/MyDrive/Dissertação/dados/procucao_gado_MS_train.csv\"\n",
        "# path = 'dados/procucao_gado_MS.csv'\n",
        "df = pd.read_csv(path, sep=';')"
      ]
    },
    {
      "cell_type": "code",
      "execution_count": null,
      "metadata": {
        "colab": {
          "base_uri": "https://localhost:8080/"
        },
        "id": "pBCYSIWr_0pQ",
        "outputId": "1aaa9cdb-646e-45d0-87ce-af4e3f426436"
      },
      "outputs": [
        {
          "name": "stdout",
          "output_type": "stream",
          "text": [
            "A base de dados apresenta 768751 registros e 48 características.\n"
          ]
        }
      ],
      "source": [
        "print('A base de dados apresenta {} registros e {} características.'.format(df.shape[0], df.shape[1]))"
      ]
    },
    {
      "cell_type": "markdown",
      "metadata": {
        "id": "eVO3VYZGRwwT"
      },
      "source": [
        "### Separando as características preditoras do atributo alvo"
      ]
    },
    {
      "cell_type": "code",
      "execution_count": null,
      "metadata": {
        "id": "SEKAWYGCSw2H"
      },
      "outputs": [],
      "source": [
        "SEED = 42"
      ]
    },
    {
      "cell_type": "code",
      "execution_count": null,
      "metadata": {
        "id": "ieqPxiv5wEBx"
      },
      "outputs": [],
      "source": [
        "y = df['categoria']\n",
        "# Retirar a variável alvo e as variáveis obtidas após o abate \n",
        "X = df.drop(['categoria'],axis=1)"
      ]
    },
    {
      "cell_type": "code",
      "execution_count": null,
      "metadata": {
        "id": "9Z2cwn0FbJEi"
      },
      "outputs": [],
      "source": [
        "# Para remover UserWarning do XGBClassifier: Use o parêmetro use_label_encoder=False \n",
        "# e codifique as classes no inervalo[0 ... n]\n",
        "y=y.replace(6, 0)"
      ]
    },
    {
      "cell_type": "markdown",
      "metadata": {
        "id": "MDtnrvqORl71"
      },
      "source": [
        "### StandardScaler"
      ]
    },
    {
      "cell_type": "code",
      "execution_count": null,
      "metadata": {
        "id": "BcQqqaxMwVRi"
      },
      "outputs": [],
      "source": [
        "scaler = StandardScaler()\n",
        "X_scaled = scaler.fit_transform(X)"
      ]
    },
    {
      "cell_type": "markdown",
      "metadata": {
        "id": "ZzDLuuydS4IR"
      },
      "source": [
        "## PCA"
      ]
    },
    {
      "cell_type": "code",
      "execution_count": null,
      "metadata": {
        "id": "eLlIibVMTu7q"
      },
      "outputs": [],
      "source": [
        "pca = PCA(n_components=30)\n",
        "pca.fit(X_scaled)\n",
        "X_scaled_pca = pca.transform(X_scaled)"
      ]
    },
    {
      "cell_type": "markdown",
      "metadata": {
        "id": "5GJFjZhVT1vw"
      },
      "source": [
        "## Baseline"
      ]
    },
    {
      "cell_type": "code",
      "execution_count": null,
      "metadata": {
        "id": "pfVl0LrtEWEv"
      },
      "outputs": [],
      "source": [
        "skfolds = StratifiedKFold(n_splits=10, shuffle=True, random_state=SEED)"
      ]
    },
    {
      "cell_type": "code",
      "execution_count": null,
      "metadata": {
        "colab": {
          "background_save": true
        },
        "id": "0lRHma8qQy3E",
        "outputId": "89ed109d-49f6-4317-c6d1-a55e64417251"
      },
      "outputs": [
        {
          "name": "stdout",
          "output_type": "stream",
          "text": [
            "Acurácia média da validação cruzada : 0.400\"\n",
            "Pronto em:  1195.628\n"
          ]
        }
      ],
      "source": [
        "xgb_baseline = XGBClassifier(objective=\"multi:softmax\", num_class= 6, eval_metric='mlogloss', random_state=SEED, nthread=-1,  use_label_encoder=False)\n",
        "t0 = time.time()\n",
        "score = cross_val_score(xgb_baseline, X_scaled, y, cv = skfolds)\n",
        "print('Acurácia média da validação cruzada : %0.3f\"' % score.mean())\n",
        "print(\"Pronto em:  %0.3f\" %(time.time()-t0))"
      ]
    },
    {
      "cell_type": "markdown",
      "metadata": {
        "id": "6Q_kKQ1U44r3"
      },
      "source": [
        "## Otimização dos hiperparâmetros"
      ]
    },
    {
      "cell_type": "code",
      "execution_count": null,
      "metadata": {
        "id": "ExYdslwYbJEq"
      },
      "outputs": [],
      "source": [
        "skfolds = StratifiedKFold(n_splits=5, shuffle=True, random_state=SEED)"
      ]
    },
    {
      "cell_type": "code",
      "execution_count": null,
      "metadata": {
        "id": "AJib_a_t8bbF"
      },
      "outputs": [],
      "source": [
        "# Add stream handler of stdout to show the messages\n",
        "optuna.logging.get_logger(\"optuna\").addHandler(logging.StreamHandler(sys.stdout))\n",
        "study_name = \"xgb-study\"  # Unique identifier of the study.\n",
        "storage_name = \"sqlite:///sample_data/{}.db\".format(study_name)"
      ]
    },
    {
      "cell_type": "code",
      "execution_count": null,
      "metadata": {
        "id": "hIgA5wan8TQT"
      },
      "outputs": [],
      "source": [
        "# função de otimização baseada em uma função objetivo\n",
        "def tune (objective):\n",
        "    study = optuna.create_study(study_name=study_name, storage=storage_name, load_if_exists=True, direction=\"maximize\")\n",
        "    study.optimize(objective, timeout=61200, n_trials=100)\n",
        "\n",
        "    params = study.best_params\n",
        "    print(f\"Trial: {study.best_trial.number}\")\n",
        "    params = study.best_params\n",
        "    print(\"\\n\")\n",
        "    print(f\"Melhor seleção de parâmetros : \\n{params}\")\n",
        "    print(\"\\n\")\n",
        "    print(f\"Acurácia : {study.best_value:.3f}\")\n",
        "    \n",
        "    return study, params"
      ]
    },
    {
      "cell_type": "markdown",
      "metadata": {
        "id": "Ajxr7PwTbJEs"
      },
      "source": [
        "# XGBClassifier"
      ]
    },
    {
      "cell_type": "code",
      "execution_count": null,
      "metadata": {
        "id": "EeZc_zgNbJEs"
      },
      "outputs": [],
      "source": [
        "X_train, X_test, y_train, y_test = train_test_split(X_scaled, y, test_size=0.3, random_state=SEED)"
      ]
    },
    {
      "cell_type": "code",
      "execution_count": null,
      "metadata": {
        "id": "rEyOBE0QBOmG"
      },
      "outputs": [],
      "source": [
        "def xgb_objective(trial: optuna.Trial): \n",
        "    xgb_params = {\n",
        "        'nthread' : -1,\n",
        "        'objective':'multi:softmax',\n",
        "        'num_class': 6,\n",
        "        'eval_metric': 'mlogloss',\n",
        "        'random_state': SEED,       \n",
        "        'gamma' : trial.suggest_loguniform('gamma', 1e-8, 1.0),\n",
        "        'reg_alpha': trial.suggest_loguniform('reg_alpha', 1e-8, 5),\n",
        "        'lambda': trial.suggest_loguniform('lambda', 1e-8, 10.0),\n",
        "        'max_depth': trial.suggest_int('max_depth', 2, 30),\n",
        "        'min_child_weight': trial.suggest_int('min_child_weight', 1, 300),\n",
        "        'colsample_bytree': trial.suggest_loguniform('colsample_bytree', 0.2, 0.9), \n",
        "        'subsample': trial.suggest_categorical('subsample', [0.4,0.5,0.6,0.7,0.8,1.0]),\n",
        "        'eta': trial.suggest_categorical('eta', [0.008,0.009,0.01,0.012,0.014,0.016,0.018, 0.02,0.5,1.0]),\n",
        "    }\n",
        "    model = XGBClassifier(**xgb_params, use_label_encoder=False) \n",
        "    scores = cross_val_score(model, X_train, y_train, n_jobs=-1, cv=skfolds)\n",
        "    return scores.mean()"
      ]
    },
    {
      "cell_type": "code",
      "execution_count": null,
      "metadata": {
        "colab": {
          "background_save": true,
          "base_uri": "https://localhost:8080/"
        },
        "id": "fSHzuFgFFCRH",
        "outputId": "603ee685-2fe4-4075-82fe-791d09c70c7e"
      },
      "outputs": [
        {
          "name": "stderr",
          "output_type": "stream",
          "text": [
            "\u001b[32m[I 2022-03-21 23:48:22,909]\u001b[0m Using an existing study with name 'xgb-study' instead of creating a new one.\u001b[0m\n"
          ]
        },
        {
          "name": "stdout",
          "output_type": "stream",
          "text": [
            "Using an existing study with name 'xgb-study' instead of creating a new one.\n",
            "Using an existing study with name 'xgb-study' instead of creating a new one.\n"
          ]
        },
        {
          "name": "stderr",
          "output_type": "stream",
          "text": [
            "\u001b[32m[I 2022-03-22 00:26:36,086]\u001b[0m Trial 97 finished with value: 0.5111340301974449 and parameters: {'gamma': 6.945081212306528e-07, 'reg_alpha': 2.140366923972721e-06, 'lambda': 1.584839227670745e-07, 'max_depth': 21, 'min_child_weight': 6, 'colsample_bytree': 0.28564370992110033, 'subsample': 1.0, 'eta': 0.02}. Best is trial 76 with value: 0.5111433217189314.\u001b[0m\n"
          ]
        },
        {
          "name": "stdout",
          "output_type": "stream",
          "text": [
            "Trial 97 finished with value: 0.5111340301974449 and parameters: {'gamma': 6.945081212306528e-07, 'reg_alpha': 2.140366923972721e-06, 'lambda': 1.584839227670745e-07, 'max_depth': 21, 'min_child_weight': 6, 'colsample_bytree': 0.28564370992110033, 'subsample': 1.0, 'eta': 0.02}. Best is trial 76 with value: 0.5111433217189314.\n",
            "Trial 97 finished with value: 0.5111340301974449 and parameters: {'gamma': 6.945081212306528e-07, 'reg_alpha': 2.140366923972721e-06, 'lambda': 1.584839227670745e-07, 'max_depth': 21, 'min_child_weight': 6, 'colsample_bytree': 0.28564370992110033, 'subsample': 1.0, 'eta': 0.02}. Best is trial 76 with value: 0.5111433217189314.\n"
          ]
        },
        {
          "name": "stderr",
          "output_type": "stream",
          "text": [
            "\u001b[32m[I 2022-03-22 01:05:54,193]\u001b[0m Trial 98 finished with value: 0.5111934959349592 and parameters: {'gamma': 7.904470077101956e-07, 'reg_alpha': 1.892577558598394e-06, 'lambda': 1.6440490656916741e-07, 'max_depth': 21, 'min_child_weight': 5, 'colsample_bytree': 0.2937657729656727, 'subsample': 1.0, 'eta': 0.02}. Best is trial 98 with value: 0.5111934959349592.\u001b[0m\n"
          ]
        },
        {
          "name": "stdout",
          "output_type": "stream",
          "text": [
            "Trial 98 finished with value: 0.5111934959349592 and parameters: {'gamma': 7.904470077101956e-07, 'reg_alpha': 1.892577558598394e-06, 'lambda': 1.6440490656916741e-07, 'max_depth': 21, 'min_child_weight': 5, 'colsample_bytree': 0.2937657729656727, 'subsample': 1.0, 'eta': 0.02}. Best is trial 98 with value: 0.5111934959349592.\n",
            "Trial 98 finished with value: 0.5111934959349592 and parameters: {'gamma': 7.904470077101956e-07, 'reg_alpha': 1.892577558598394e-06, 'lambda': 1.6440490656916741e-07, 'max_depth': 21, 'min_child_weight': 5, 'colsample_bytree': 0.2937657729656727, 'subsample': 1.0, 'eta': 0.02}. Best is trial 98 with value: 0.5111934959349592.\n"
          ]
        },
        {
          "name": "stderr",
          "output_type": "stream",
          "text": [
            "\u001b[32m[I 2022-03-22 01:46:03,274]\u001b[0m Trial 99 finished with value: 0.5110912891986062 and parameters: {'gamma': 1.009609251969414e-06, 'reg_alpha': 2.1091764240642175e-06, 'lambda': 1.5336974739251744e-07, 'max_depth': 21, 'min_child_weight': 6, 'colsample_bytree': 0.2916305791360438, 'subsample': 1.0, 'eta': 0.02}. Best is trial 98 with value: 0.5111934959349592.\u001b[0m\n"
          ]
        },
        {
          "name": "stdout",
          "output_type": "stream",
          "text": [
            "Trial 99 finished with value: 0.5110912891986062 and parameters: {'gamma': 1.009609251969414e-06, 'reg_alpha': 2.1091764240642175e-06, 'lambda': 1.5336974739251744e-07, 'max_depth': 21, 'min_child_weight': 6, 'colsample_bytree': 0.2916305791360438, 'subsample': 1.0, 'eta': 0.02}. Best is trial 98 with value: 0.5111934959349592.\n",
            "Trial 99 finished with value: 0.5110912891986062 and parameters: {'gamma': 1.009609251969414e-06, 'reg_alpha': 2.1091764240642175e-06, 'lambda': 1.5336974739251744e-07, 'max_depth': 21, 'min_child_weight': 6, 'colsample_bytree': 0.2916305791360438, 'subsample': 1.0, 'eta': 0.02}. Best is trial 98 with value: 0.5111934959349592.\n"
          ]
        },
        {
          "name": "stderr",
          "output_type": "stream",
          "text": [
            "\u001b[32m[I 2022-03-22 02:22:35,412]\u001b[0m Trial 100 finished with value: 0.5110318234610917 and parameters: {'gamma': 6.782352623887101e-07, 'reg_alpha': 3.297864680440559e-06, 'lambda': 6.108583200858653e-08, 'max_depth': 21, 'min_child_weight': 6, 'colsample_bytree': 0.29511434308812395, 'subsample': 1.0, 'eta': 0.02}. Best is trial 98 with value: 0.5111934959349592.\u001b[0m\n"
          ]
        },
        {
          "name": "stdout",
          "output_type": "stream",
          "text": [
            "Trial 100 finished with value: 0.5110318234610917 and parameters: {'gamma': 6.782352623887101e-07, 'reg_alpha': 3.297864680440559e-06, 'lambda': 6.108583200858653e-08, 'max_depth': 21, 'min_child_weight': 6, 'colsample_bytree': 0.29511434308812395, 'subsample': 1.0, 'eta': 0.02}. Best is trial 98 with value: 0.5111934959349592.\n",
            "Trial 100 finished with value: 0.5110318234610917 and parameters: {'gamma': 6.782352623887101e-07, 'reg_alpha': 3.297864680440559e-06, 'lambda': 6.108583200858653e-08, 'max_depth': 21, 'min_child_weight': 6, 'colsample_bytree': 0.29511434308812395, 'subsample': 1.0, 'eta': 0.02}. Best is trial 98 with value: 0.5111934959349592.\n"
          ]
        },
        {
          "name": "stderr",
          "output_type": "stream",
          "text": [
            "\u001b[32m[I 2022-03-22 02:56:38,127]\u001b[0m Trial 101 finished with value: 0.5110987224157956 and parameters: {'gamma': 1.0124915845248616e-06, 'reg_alpha': 2.4478182141138593e-06, 'lambda': 1.8758154042914815e-07, 'max_depth': 19, 'min_child_weight': 6, 'colsample_bytree': 0.28720826312847136, 'subsample': 1.0, 'eta': 0.02}. Best is trial 98 with value: 0.5111934959349592.\u001b[0m\n"
          ]
        },
        {
          "name": "stdout",
          "output_type": "stream",
          "text": [
            "Trial 101 finished with value: 0.5110987224157956 and parameters: {'gamma': 1.0124915845248616e-06, 'reg_alpha': 2.4478182141138593e-06, 'lambda': 1.8758154042914815e-07, 'max_depth': 19, 'min_child_weight': 6, 'colsample_bytree': 0.28720826312847136, 'subsample': 1.0, 'eta': 0.02}. Best is trial 98 with value: 0.5111934959349592.\n",
            "Trial 101 finished with value: 0.5110987224157956 and parameters: {'gamma': 1.0124915845248616e-06, 'reg_alpha': 2.4478182141138593e-06, 'lambda': 1.8758154042914815e-07, 'max_depth': 19, 'min_child_weight': 6, 'colsample_bytree': 0.28720826312847136, 'subsample': 1.0, 'eta': 0.02}. Best is trial 98 with value: 0.5111934959349592.\n"
          ]
        },
        {
          "name": "stderr",
          "output_type": "stream",
          "text": [
            "\u001b[32m[I 2022-03-22 03:31:50,878]\u001b[0m Trial 102 finished with value: 0.5111377468060396 and parameters: {'gamma': 4.731407096044001e-07, 'reg_alpha': 6.214692406473124e-07, 'lambda': 1.7212136221683408e-07, 'max_depth': 19, 'min_child_weight': 5, 'colsample_bytree': 0.29622671534964345, 'subsample': 1.0, 'eta': 0.02}. Best is trial 98 with value: 0.5111934959349592.\u001b[0m\n"
          ]
        },
        {
          "name": "stdout",
          "output_type": "stream",
          "text": [
            "Trial 102 finished with value: 0.5111377468060396 and parameters: {'gamma': 4.731407096044001e-07, 'reg_alpha': 6.214692406473124e-07, 'lambda': 1.7212136221683408e-07, 'max_depth': 19, 'min_child_weight': 5, 'colsample_bytree': 0.29622671534964345, 'subsample': 1.0, 'eta': 0.02}. Best is trial 98 with value: 0.5111934959349592.\n",
            "Trial 102 finished with value: 0.5111377468060396 and parameters: {'gamma': 4.731407096044001e-07, 'reg_alpha': 6.214692406473124e-07, 'lambda': 1.7212136221683408e-07, 'max_depth': 19, 'min_child_weight': 5, 'colsample_bytree': 0.29622671534964345, 'subsample': 1.0, 'eta': 0.02}. Best is trial 98 with value: 0.5111934959349592.\n"
          ]
        },
        {
          "name": "stderr",
          "output_type": "stream",
          "text": [
            "\u001b[32m[I 2022-03-22 04:01:12,847]\u001b[0m Trial 103 finished with value: 0.5111749128919861 and parameters: {'gamma': 6.389558324905902e-06, 'reg_alpha': 5.181914183522513e-07, 'lambda': 5.231386946440242e-08, 'max_depth': 18, 'min_child_weight': 5, 'colsample_bytree': 0.2386559146322083, 'subsample': 1.0, 'eta': 0.02}. Best is trial 98 with value: 0.5111934959349592.\u001b[0m\n"
          ]
        },
        {
          "name": "stdout",
          "output_type": "stream",
          "text": [
            "Trial 103 finished with value: 0.5111749128919861 and parameters: {'gamma': 6.389558324905902e-06, 'reg_alpha': 5.181914183522513e-07, 'lambda': 5.231386946440242e-08, 'max_depth': 18, 'min_child_weight': 5, 'colsample_bytree': 0.2386559146322083, 'subsample': 1.0, 'eta': 0.02}. Best is trial 98 with value: 0.5111934959349592.\n",
            "Trial 103 finished with value: 0.5111749128919861 and parameters: {'gamma': 6.389558324905902e-06, 'reg_alpha': 5.181914183522513e-07, 'lambda': 5.231386946440242e-08, 'max_depth': 18, 'min_child_weight': 5, 'colsample_bytree': 0.2386559146322083, 'subsample': 1.0, 'eta': 0.02}. Best is trial 98 with value: 0.5111934959349592.\n"
          ]
        },
        {
          "name": "stderr",
          "output_type": "stream",
          "text": [
            "\u001b[32m[I 2022-03-22 04:33:53,949]\u001b[0m Trial 104 finished with value: 0.5102457607433217 and parameters: {'gamma': 4.992939907173028e-06, 'reg_alpha': 7.764113779404604e-07, 'lambda': 5.456361753957796e-08, 'max_depth': 18, 'min_child_weight': 4, 'colsample_bytree': 0.2387309476664323, 'subsample': 0.5, 'eta': 0.02}. Best is trial 98 with value: 0.5111934959349592.\u001b[0m\n"
          ]
        },
        {
          "name": "stdout",
          "output_type": "stream",
          "text": [
            "Trial 104 finished with value: 0.5102457607433217 and parameters: {'gamma': 4.992939907173028e-06, 'reg_alpha': 7.764113779404604e-07, 'lambda': 5.456361753957796e-08, 'max_depth': 18, 'min_child_weight': 4, 'colsample_bytree': 0.2387309476664323, 'subsample': 0.5, 'eta': 0.02}. Best is trial 98 with value: 0.5111934959349592.\n",
            "Trial 104 finished with value: 0.5102457607433217 and parameters: {'gamma': 4.992939907173028e-06, 'reg_alpha': 7.764113779404604e-07, 'lambda': 5.456361753957796e-08, 'max_depth': 18, 'min_child_weight': 4, 'colsample_bytree': 0.2387309476664323, 'subsample': 0.5, 'eta': 0.02}. Best is trial 98 with value: 0.5111934959349592.\n"
          ]
        },
        {
          "name": "stderr",
          "output_type": "stream",
          "text": [
            "\u001b[32m[I 2022-03-22 05:07:57,229]\u001b[0m Trial 105 finished with value: 0.5111042973286876 and parameters: {'gamma': 1.7265517514818913e-06, 'reg_alpha': 5.162191185007525e-07, 'lambda': 1.7214443440365397e-07, 'max_depth': 19, 'min_child_weight': 8, 'colsample_bytree': 0.2945560030239388, 'subsample': 1.0, 'eta': 0.02}. Best is trial 98 with value: 0.5111934959349592.\u001b[0m\n"
          ]
        },
        {
          "name": "stdout",
          "output_type": "stream",
          "text": [
            "Trial 105 finished with value: 0.5111042973286876 and parameters: {'gamma': 1.7265517514818913e-06, 'reg_alpha': 5.162191185007525e-07, 'lambda': 1.7214443440365397e-07, 'max_depth': 19, 'min_child_weight': 8, 'colsample_bytree': 0.2945560030239388, 'subsample': 1.0, 'eta': 0.02}. Best is trial 98 with value: 0.5111934959349592.\n",
            "Trial 105 finished with value: 0.5111042973286876 and parameters: {'gamma': 1.7265517514818913e-06, 'reg_alpha': 5.162191185007525e-07, 'lambda': 1.7214443440365397e-07, 'max_depth': 19, 'min_child_weight': 8, 'colsample_bytree': 0.2945560030239388, 'subsample': 1.0, 'eta': 0.02}. Best is trial 98 with value: 0.5111934959349592.\n"
          ]
        },
        {
          "name": "stderr",
          "output_type": "stream",
          "text": [
            "\u001b[32m[I 2022-03-22 05:45:46,842]\u001b[0m Trial 106 finished with value: 0.5101472706155633 and parameters: {'gamma': 2.097989811860581e-06, 'reg_alpha': 5.204136652517514e-07, 'lambda': 1.4372117070579645e-07, 'max_depth': 19, 'min_child_weight': 7, 'colsample_bytree': 0.2936572335086229, 'subsample': 0.4, 'eta': 0.02}. Best is trial 98 with value: 0.5111934959349592.\u001b[0m\n"
          ]
        },
        {
          "name": "stdout",
          "output_type": "stream",
          "text": [
            "Trial 106 finished with value: 0.5101472706155633 and parameters: {'gamma': 2.097989811860581e-06, 'reg_alpha': 5.204136652517514e-07, 'lambda': 1.4372117070579645e-07, 'max_depth': 19, 'min_child_weight': 7, 'colsample_bytree': 0.2936572335086229, 'subsample': 0.4, 'eta': 0.02}. Best is trial 98 with value: 0.5111934959349592.\n",
            "Trial 106 finished with value: 0.5101472706155633 and parameters: {'gamma': 2.097989811860581e-06, 'reg_alpha': 5.204136652517514e-07, 'lambda': 1.4372117070579645e-07, 'max_depth': 19, 'min_child_weight': 7, 'colsample_bytree': 0.2936572335086229, 'subsample': 0.4, 'eta': 0.02}. Best is trial 98 with value: 0.5111934959349592.\n"
          ]
        },
        {
          "name": "stderr",
          "output_type": "stream",
          "text": [
            "\u001b[32m[I 2022-03-22 06:17:38,535]\u001b[0m Trial 107 finished with value: 0.5097514518002323 and parameters: {'gamma': 1.2019512851547134e-06, 'reg_alpha': 2.301765266823242e-06, 'lambda': 1.7771157613081744e-08, 'max_depth': 16, 'min_child_weight': 19, 'colsample_bytree': 0.28321573297671687, 'subsample': 0.6, 'eta': 0.02}. Best is trial 98 with value: 0.5111934959349592.\u001b[0m\n"
          ]
        },
        {
          "name": "stdout",
          "output_type": "stream",
          "text": [
            "Trial 107 finished with value: 0.5097514518002323 and parameters: {'gamma': 1.2019512851547134e-06, 'reg_alpha': 2.301765266823242e-06, 'lambda': 1.7771157613081744e-08, 'max_depth': 16, 'min_child_weight': 19, 'colsample_bytree': 0.28321573297671687, 'subsample': 0.6, 'eta': 0.02}. Best is trial 98 with value: 0.5111934959349592.\n",
            "Trial 107 finished with value: 0.5097514518002323 and parameters: {'gamma': 1.2019512851547134e-06, 'reg_alpha': 2.301765266823242e-06, 'lambda': 1.7771157613081744e-08, 'max_depth': 16, 'min_child_weight': 19, 'colsample_bytree': 0.28321573297671687, 'subsample': 0.6, 'eta': 0.02}. Best is trial 98 with value: 0.5111934959349592.\n"
          ]
        },
        {
          "name": "stderr",
          "output_type": "stream",
          "text": [
            "\u001b[32m[I 2022-03-22 07:00:07,471]\u001b[0m Trial 108 finished with value: 0.510937049941928 and parameters: {'gamma': 3.3098331164687717e-07, 'reg_alpha': 1.6250517900651935e-07, 'lambda': 2.1456719399213205e-07, 'max_depth': 21, 'min_child_weight': 1, 'colsample_bytree': 0.301427525446842, 'subsample': 1.0, 'eta': 0.02}. Best is trial 98 with value: 0.5111934959349592.\u001b[0m\n"
          ]
        },
        {
          "name": "stdout",
          "output_type": "stream",
          "text": [
            "Trial 108 finished with value: 0.510937049941928 and parameters: {'gamma': 3.3098331164687717e-07, 'reg_alpha': 1.6250517900651935e-07, 'lambda': 2.1456719399213205e-07, 'max_depth': 21, 'min_child_weight': 1, 'colsample_bytree': 0.301427525446842, 'subsample': 1.0, 'eta': 0.02}. Best is trial 98 with value: 0.5111934959349592.\n",
            "Trial 108 finished with value: 0.510937049941928 and parameters: {'gamma': 3.3098331164687717e-07, 'reg_alpha': 1.6250517900651935e-07, 'lambda': 2.1456719399213205e-07, 'max_depth': 21, 'min_child_weight': 1, 'colsample_bytree': 0.301427525446842, 'subsample': 1.0, 'eta': 0.02}. Best is trial 98 with value: 0.5111934959349592.\n"
          ]
        },
        {
          "name": "stderr",
          "output_type": "stream",
          "text": [
            "\u001b[32m[I 2022-03-22 07:33:43,379]\u001b[0m Trial 109 finished with value: 0.5112046457607433 and parameters: {'gamma': 5.0532569375462375e-06, 'reg_alpha': 4.230993655023464e-06, 'lambda': 5.131708114937776e-08, 'max_depth': 19, 'min_child_weight': 8, 'colsample_bytree': 0.27633920256693073, 'subsample': 1.0, 'eta': 0.02}. Best is trial 109 with value: 0.5112046457607433.\u001b[0m\n"
          ]
        },
        {
          "name": "stdout",
          "output_type": "stream",
          "text": [
            "Trial 109 finished with value: 0.5112046457607433 and parameters: {'gamma': 5.0532569375462375e-06, 'reg_alpha': 4.230993655023464e-06, 'lambda': 5.131708114937776e-08, 'max_depth': 19, 'min_child_weight': 8, 'colsample_bytree': 0.27633920256693073, 'subsample': 1.0, 'eta': 0.02}. Best is trial 109 with value: 0.5112046457607433.\n",
            "Trial 109 finished with value: 0.5112046457607433 and parameters: {'gamma': 5.0532569375462375e-06, 'reg_alpha': 4.230993655023464e-06, 'lambda': 5.131708114937776e-08, 'max_depth': 19, 'min_child_weight': 8, 'colsample_bytree': 0.27633920256693073, 'subsample': 1.0, 'eta': 0.02}. Best is trial 109 with value: 0.5112046457607433.\n"
          ]
        },
        {
          "name": "stderr",
          "output_type": "stream",
          "text": [
            "\u001b[32m[I 2022-03-22 08:08:33,697]\u001b[0m Trial 110 finished with value: 0.5111879210220673 and parameters: {'gamma': 4.83582164092141e-06, 'reg_alpha': 3.6480038094388416e-06, 'lambda': 5.596061321167712e-08, 'max_depth': 19, 'min_child_weight': 7, 'colsample_bytree': 0.27411937206347436, 'subsample': 1.0, 'eta': 0.02}. Best is trial 109 with value: 0.5112046457607433.\u001b[0m\n"
          ]
        },
        {
          "name": "stdout",
          "output_type": "stream",
          "text": [
            "Trial 110 finished with value: 0.5111879210220673 and parameters: {'gamma': 4.83582164092141e-06, 'reg_alpha': 3.6480038094388416e-06, 'lambda': 5.596061321167712e-08, 'max_depth': 19, 'min_child_weight': 7, 'colsample_bytree': 0.27411937206347436, 'subsample': 1.0, 'eta': 0.02}. Best is trial 109 with value: 0.5112046457607433.\n",
            "Trial 110 finished with value: 0.5111879210220673 and parameters: {'gamma': 4.83582164092141e-06, 'reg_alpha': 3.6480038094388416e-06, 'lambda': 5.596061321167712e-08, 'max_depth': 19, 'min_child_weight': 7, 'colsample_bytree': 0.27411937206347436, 'subsample': 1.0, 'eta': 0.02}. Best is trial 109 with value: 0.5112046457607433.\n"
          ]
        },
        {
          "name": "stderr",
          "output_type": "stream",
          "text": [
            "\u001b[32m[I 2022-03-22 08:38:48,725]\u001b[0m Trial 111 finished with value: 0.5112678281068525 and parameters: {'gamma': 6.264077106341069e-06, 'reg_alpha': 4.3211241653041055e-06, 'lambda': 4.654379818669684e-08, 'max_depth': 18, 'min_child_weight': 7, 'colsample_bytree': 0.24722640829106812, 'subsample': 1.0, 'eta': 0.02}. Best is trial 111 with value: 0.5112678281068525.\u001b[0m\n"
          ]
        },
        {
          "name": "stdout",
          "output_type": "stream",
          "text": [
            "Trial 111 finished with value: 0.5112678281068525 and parameters: {'gamma': 6.264077106341069e-06, 'reg_alpha': 4.3211241653041055e-06, 'lambda': 4.654379818669684e-08, 'max_depth': 18, 'min_child_weight': 7, 'colsample_bytree': 0.24722640829106812, 'subsample': 1.0, 'eta': 0.02}. Best is trial 111 with value: 0.5112678281068525.\n",
            "Trial 111 finished with value: 0.5112678281068525 and parameters: {'gamma': 6.264077106341069e-06, 'reg_alpha': 4.3211241653041055e-06, 'lambda': 4.654379818669684e-08, 'max_depth': 18, 'min_child_weight': 7, 'colsample_bytree': 0.24722640829106812, 'subsample': 1.0, 'eta': 0.02}. Best is trial 111 with value: 0.5112678281068525.\n"
          ]
        },
        {
          "name": "stderr",
          "output_type": "stream",
          "text": [
            "\u001b[32m[I 2022-03-22 09:08:26,995]\u001b[0m Trial 112 finished with value: 0.5109779326364693 and parameters: {'gamma': 1.2093636799562945e-05, 'reg_alpha': 2.0243076177125633e-06, 'lambda': 1.1069345052784309e-07, 'max_depth': 18, 'min_child_weight': 19, 'colsample_bytree': 0.2437838853190841, 'subsample': 1.0, 'eta': 0.02}. Best is trial 111 with value: 0.5112678281068525.\u001b[0m\n"
          ]
        },
        {
          "name": "stdout",
          "output_type": "stream",
          "text": [
            "Trial 112 finished with value: 0.5109779326364693 and parameters: {'gamma': 1.2093636799562945e-05, 'reg_alpha': 2.0243076177125633e-06, 'lambda': 1.1069345052784309e-07, 'max_depth': 18, 'min_child_weight': 19, 'colsample_bytree': 0.2437838853190841, 'subsample': 1.0, 'eta': 0.02}. Best is trial 111 with value: 0.5112678281068525.\n",
            "Trial 112 finished with value: 0.5109779326364693 and parameters: {'gamma': 1.2093636799562945e-05, 'reg_alpha': 2.0243076177125633e-06, 'lambda': 1.1069345052784309e-07, 'max_depth': 18, 'min_child_weight': 19, 'colsample_bytree': 0.2437838853190841, 'subsample': 1.0, 'eta': 0.02}. Best is trial 111 with value: 0.5112678281068525.\n"
          ]
        },
        {
          "name": "stderr",
          "output_type": "stream",
          "text": [
            "\u001b[32m[I 2022-03-22 09:37:40,030]\u001b[0m Trial 113 finished with value: 0.5110411149825784 and parameters: {'gamma': 6.407923196615658e-06, 'reg_alpha': 4.587464814695381e-06, 'lambda': 2.041743925756479e-08, 'max_depth': 19, 'min_child_weight': 9, 'colsample_bytree': 0.22814183914499533, 'subsample': 1.0, 'eta': 0.02}. Best is trial 111 with value: 0.5112678281068525.\u001b[0m\n"
          ]
        },
        {
          "name": "stdout",
          "output_type": "stream",
          "text": [
            "Trial 113 finished with value: 0.5110411149825784 and parameters: {'gamma': 6.407923196615658e-06, 'reg_alpha': 4.587464814695381e-06, 'lambda': 2.041743925756479e-08, 'max_depth': 19, 'min_child_weight': 9, 'colsample_bytree': 0.22814183914499533, 'subsample': 1.0, 'eta': 0.02}. Best is trial 111 with value: 0.5112678281068525.\n",
            "Trial 113 finished with value: 0.5110411149825784 and parameters: {'gamma': 6.407923196615658e-06, 'reg_alpha': 4.587464814695381e-06, 'lambda': 2.041743925756479e-08, 'max_depth': 19, 'min_child_weight': 9, 'colsample_bytree': 0.22814183914499533, 'subsample': 1.0, 'eta': 0.02}. Best is trial 111 with value: 0.5112678281068525.\n"
          ]
        },
        {
          "name": "stderr",
          "output_type": "stream",
          "text": [
            "\u001b[32m[I 2022-03-22 10:07:51,123]\u001b[0m Trial 114 finished with value: 0.510784668989547 and parameters: {'gamma': 8.089817138004423e-06, 'reg_alpha': 1.0853651711702898e-06, 'lambda': 4.107684758500421e-08, 'max_depth': 17, 'min_child_weight': 18, 'colsample_bytree': 0.2613210812203868, 'subsample': 0.8, 'eta': 0.02}. Best is trial 111 with value: 0.5112678281068525.\u001b[0m\n"
          ]
        },
        {
          "name": "stdout",
          "output_type": "stream",
          "text": [
            "Trial 114 finished with value: 0.510784668989547 and parameters: {'gamma': 8.089817138004423e-06, 'reg_alpha': 1.0853651711702898e-06, 'lambda': 4.107684758500421e-08, 'max_depth': 17, 'min_child_weight': 18, 'colsample_bytree': 0.2613210812203868, 'subsample': 0.8, 'eta': 0.02}. Best is trial 111 with value: 0.5112678281068525.\n",
            "Trial 114 finished with value: 0.510784668989547 and parameters: {'gamma': 8.089817138004423e-06, 'reg_alpha': 1.0853651711702898e-06, 'lambda': 4.107684758500421e-08, 'max_depth': 17, 'min_child_weight': 18, 'colsample_bytree': 0.2613210812203868, 'subsample': 0.8, 'eta': 0.02}. Best is trial 111 with value: 0.5112678281068525.\n"
          ]
        },
        {
          "name": "stderr",
          "output_type": "stream",
          "text": [
            "\u001b[32m[I 2022-03-22 10:36:19,558]\u001b[0m Trial 115 finished with value: 0.5111061556329849 and parameters: {'gamma': 3.052018458349273e-06, 'reg_alpha': 6.397501652223025e-07, 'lambda': 6.99728223288106e-08, 'max_depth': 17, 'min_child_weight': 6, 'colsample_bytree': 0.2534601201117331, 'subsample': 1.0, 'eta': 0.02}. Best is trial 111 with value: 0.5112678281068525.\u001b[0m\n"
          ]
        },
        {
          "name": "stdout",
          "output_type": "stream",
          "text": [
            "Trial 115 finished with value: 0.5111061556329849 and parameters: {'gamma': 3.052018458349273e-06, 'reg_alpha': 6.397501652223025e-07, 'lambda': 6.99728223288106e-08, 'max_depth': 17, 'min_child_weight': 6, 'colsample_bytree': 0.2534601201117331, 'subsample': 1.0, 'eta': 0.02}. Best is trial 111 with value: 0.5112678281068525.\n",
            "Trial 115 finished with value: 0.5111061556329849 and parameters: {'gamma': 3.052018458349273e-06, 'reg_alpha': 6.397501652223025e-07, 'lambda': 6.99728223288106e-08, 'max_depth': 17, 'min_child_weight': 6, 'colsample_bytree': 0.2534601201117331, 'subsample': 1.0, 'eta': 0.02}. Best is trial 111 with value: 0.5112678281068525.\n"
          ]
        },
        {
          "name": "stderr",
          "output_type": "stream",
          "text": [
            "\u001b[32m[I 2022-03-22 11:00:19,191]\u001b[0m Trial 116 finished with value: 0.5102234610917538 and parameters: {'gamma': 2.325990326129957e-05, 'reg_alpha': 8.155298409799978e-08, 'lambda': 2.554628802959322e-07, 'max_depth': 16, 'min_child_weight': 30, 'colsample_bytree': 0.25090957139991527, 'subsample': 1.0, 'eta': 0.02}. Best is trial 111 with value: 0.5112678281068525.\u001b[0m\n"
          ]
        },
        {
          "name": "stdout",
          "output_type": "stream",
          "text": [
            "Trial 116 finished with value: 0.5102234610917538 and parameters: {'gamma': 2.325990326129957e-05, 'reg_alpha': 8.155298409799978e-08, 'lambda': 2.554628802959322e-07, 'max_depth': 16, 'min_child_weight': 30, 'colsample_bytree': 0.25090957139991527, 'subsample': 1.0, 'eta': 0.02}. Best is trial 111 with value: 0.5112678281068525.\n",
            "Trial 116 finished with value: 0.5102234610917538 and parameters: {'gamma': 2.325990326129957e-05, 'reg_alpha': 8.155298409799978e-08, 'lambda': 2.554628802959322e-07, 'max_depth': 16, 'min_child_weight': 30, 'colsample_bytree': 0.25090957139991527, 'subsample': 1.0, 'eta': 0.02}. Best is trial 111 with value: 0.5112678281068525.\n"
          ]
        },
        {
          "name": "stderr",
          "output_type": "stream",
          "text": [
            "\u001b[32m[I 2022-03-22 11:28:59,926]\u001b[0m Trial 117 finished with value: 0.5106452961672474 and parameters: {'gamma': 2.8451272445432838e-06, 'reg_alpha': 5.975180962657072e-07, 'lambda': 1.4224459584502763e-08, 'max_depth': 17, 'min_child_weight': 2, 'colsample_bytree': 0.2244660144596375, 'subsample': 0.7, 'eta': 0.02}. Best is trial 111 with value: 0.5112678281068525.\u001b[0m\n"
          ]
        },
        {
          "name": "stdout",
          "output_type": "stream",
          "text": [
            "Trial 117 finished with value: 0.5106452961672474 and parameters: {'gamma': 2.8451272445432838e-06, 'reg_alpha': 5.975180962657072e-07, 'lambda': 1.4224459584502763e-08, 'max_depth': 17, 'min_child_weight': 2, 'colsample_bytree': 0.2244660144596375, 'subsample': 0.7, 'eta': 0.02}. Best is trial 111 with value: 0.5112678281068525.\n",
            "Trial 117 finished with value: 0.5106452961672474 and parameters: {'gamma': 2.8451272445432838e-06, 'reg_alpha': 5.975180962657072e-07, 'lambda': 1.4224459584502763e-08, 'max_depth': 17, 'min_child_weight': 2, 'colsample_bytree': 0.2244660144596375, 'subsample': 0.7, 'eta': 0.02}. Best is trial 111 with value: 0.5112678281068525.\n"
          ]
        },
        {
          "name": "stderr",
          "output_type": "stream",
          "text": [
            "\u001b[32m[I 2022-03-22 12:02:32,472]\u001b[0m Trial 118 finished with value: 0.5111061556329849 and parameters: {'gamma': 1.86858485143593e-06, 'reg_alpha': 2.6399271816645165e-07, 'lambda': 9.518775997293515e-08, 'max_depth': 18, 'min_child_weight': 7, 'colsample_bytree': 0.2798568271404432, 'subsample': 1.0, 'eta': 0.02}. Best is trial 111 with value: 0.5112678281068525.\u001b[0m\n"
          ]
        },
        {
          "name": "stdout",
          "output_type": "stream",
          "text": [
            "Trial 118 finished with value: 0.5111061556329849 and parameters: {'gamma': 1.86858485143593e-06, 'reg_alpha': 2.6399271816645165e-07, 'lambda': 9.518775997293515e-08, 'max_depth': 18, 'min_child_weight': 7, 'colsample_bytree': 0.2798568271404432, 'subsample': 1.0, 'eta': 0.02}. Best is trial 111 with value: 0.5112678281068525.\n",
            "Trial 118 finished with value: 0.5111061556329849 and parameters: {'gamma': 1.86858485143593e-06, 'reg_alpha': 2.6399271816645165e-07, 'lambda': 9.518775997293515e-08, 'max_depth': 18, 'min_child_weight': 7, 'colsample_bytree': 0.2798568271404432, 'subsample': 1.0, 'eta': 0.02}. Best is trial 111 with value: 0.5112678281068525.\n"
          ]
        },
        {
          "name": "stderr",
          "output_type": "stream",
          "text": [
            "\u001b[32m[I 2022-03-22 12:37:48,944]\u001b[0m Trial 119 finished with value: 0.5111414634146342 and parameters: {'gamma': 3.620369505520866e-06, 'reg_alpha': 2.2666991085091434e-07, 'lambda': 8.493198597819949e-08, 'max_depth': 20, 'min_child_weight': 16, 'colsample_bytree': 0.2800724989057081, 'subsample': 1.0, 'eta': 0.02}. Best is trial 111 with value: 0.5112678281068525.\u001b[0m\n"
          ]
        },
        {
          "name": "stdout",
          "output_type": "stream",
          "text": [
            "Trial 119 finished with value: 0.5111414634146342 and parameters: {'gamma': 3.620369505520866e-06, 'reg_alpha': 2.2666991085091434e-07, 'lambda': 8.493198597819949e-08, 'max_depth': 20, 'min_child_weight': 16, 'colsample_bytree': 0.2800724989057081, 'subsample': 1.0, 'eta': 0.02}. Best is trial 111 with value: 0.5112678281068525.\n",
            "Trial 119 finished with value: 0.5111414634146342 and parameters: {'gamma': 3.620369505520866e-06, 'reg_alpha': 2.2666991085091434e-07, 'lambda': 8.493198597819949e-08, 'max_depth': 20, 'min_child_weight': 16, 'colsample_bytree': 0.2800724989057081, 'subsample': 1.0, 'eta': 0.02}. Best is trial 111 with value: 0.5112678281068525.\n"
          ]
        },
        {
          "name": "stderr",
          "output_type": "stream",
          "text": [
            "\u001b[32m[I 2022-03-22 13:12:26,804]\u001b[0m Trial 120 finished with value: 0.5110188153310105 and parameters: {'gamma': 3.90324883860097e-06, 'reg_alpha': 1.112877888226163e-07, 'lambda': 2.8901261993775657e-08, 'max_depth': 20, 'min_child_weight': 16, 'colsample_bytree': 0.2660301300260719, 'subsample': 1.0, 'eta': 0.02}. Best is trial 111 with value: 0.5112678281068525.\u001b[0m\n"
          ]
        },
        {
          "name": "stdout",
          "output_type": "stream",
          "text": [
            "Trial 120 finished with value: 0.5110188153310105 and parameters: {'gamma': 3.90324883860097e-06, 'reg_alpha': 1.112877888226163e-07, 'lambda': 2.8901261993775657e-08, 'max_depth': 20, 'min_child_weight': 16, 'colsample_bytree': 0.2660301300260719, 'subsample': 1.0, 'eta': 0.02}. Best is trial 111 with value: 0.5112678281068525.\n",
            "Trial 120 finished with value: 0.5110188153310105 and parameters: {'gamma': 3.90324883860097e-06, 'reg_alpha': 1.112877888226163e-07, 'lambda': 2.8901261993775657e-08, 'max_depth': 20, 'min_child_weight': 16, 'colsample_bytree': 0.2660301300260719, 'subsample': 1.0, 'eta': 0.02}. Best is trial 111 with value: 0.5112678281068525.\n"
          ]
        },
        {
          "name": "stderr",
          "output_type": "stream",
          "text": [
            "\u001b[32m[I 2022-03-22 13:45:26,418]\u001b[0m Trial 121 finished with value: 0.5111154471544715 and parameters: {'gamma': 1.6694075289529047e-06, 'reg_alpha': 1.3880887250579483e-08, 'lambda': 8.58581535175636e-08, 'max_depth': 18, 'min_child_weight': 24, 'colsample_bytree': 0.28060233790418015, 'subsample': 1.0, 'eta': 0.02}. Best is trial 111 with value: 0.5112678281068525.\u001b[0m\n"
          ]
        },
        {
          "name": "stdout",
          "output_type": "stream",
          "text": [
            "Trial 121 finished with value: 0.5111154471544715 and parameters: {'gamma': 1.6694075289529047e-06, 'reg_alpha': 1.3880887250579483e-08, 'lambda': 8.58581535175636e-08, 'max_depth': 18, 'min_child_weight': 24, 'colsample_bytree': 0.28060233790418015, 'subsample': 1.0, 'eta': 0.02}. Best is trial 111 with value: 0.5112678281068525.\n",
            "Trial 121 finished with value: 0.5111154471544715 and parameters: {'gamma': 1.6694075289529047e-06, 'reg_alpha': 1.3880887250579483e-08, 'lambda': 8.58581535175636e-08, 'max_depth': 18, 'min_child_weight': 24, 'colsample_bytree': 0.28060233790418015, 'subsample': 1.0, 'eta': 0.02}. Best is trial 111 with value: 0.5112678281068525.\n"
          ]
        },
        {
          "name": "stderr",
          "output_type": "stream",
          "text": [
            "\u001b[32m[I 2022-03-22 14:16:08,392]\u001b[0m Trial 122 finished with value: 0.5110950058072009 and parameters: {'gamma': 9.007141584905093e-06, 'reg_alpha': 2.7924123329402036e-07, 'lambda': 8.667828719945494e-08, 'max_depth': 18, 'min_child_weight': 22, 'colsample_bytree': 0.2556645664202834, 'subsample': 1.0, 'eta': 0.02}. Best is trial 111 with value: 0.5112678281068525.\u001b[0m\n"
          ]
        },
        {
          "name": "stdout",
          "output_type": "stream",
          "text": [
            "Trial 122 finished with value: 0.5110950058072009 and parameters: {'gamma': 9.007141584905093e-06, 'reg_alpha': 2.7924123329402036e-07, 'lambda': 8.667828719945494e-08, 'max_depth': 18, 'min_child_weight': 22, 'colsample_bytree': 0.2556645664202834, 'subsample': 1.0, 'eta': 0.02}. Best is trial 111 with value: 0.5112678281068525.\n",
            "Trial 122 finished with value: 0.5110950058072009 and parameters: {'gamma': 9.007141584905093e-06, 'reg_alpha': 2.7924123329402036e-07, 'lambda': 8.667828719945494e-08, 'max_depth': 18, 'min_child_weight': 22, 'colsample_bytree': 0.2556645664202834, 'subsample': 1.0, 'eta': 0.02}. Best is trial 111 with value: 0.5112678281068525.\n"
          ]
        },
        {
          "name": "stderr",
          "output_type": "stream",
          "text": [
            "\u001b[32m[I 2022-03-22 14:42:55,898]\u001b[0m Trial 123 finished with value: 0.5110541231126597 and parameters: {'gamma': 0.0001191388677693771, 'reg_alpha': 2.22674769674383e-08, 'lambda': 4.904891752627244e-08, 'max_depth': 15, 'min_child_weight': 13, 'colsample_bytree': 0.28008686279168143, 'subsample': 1.0, 'eta': 0.02}. Best is trial 111 with value: 0.5112678281068525.\u001b[0m\n"
          ]
        },
        {
          "name": "stdout",
          "output_type": "stream",
          "text": [
            "Trial 123 finished with value: 0.5110541231126597 and parameters: {'gamma': 0.0001191388677693771, 'reg_alpha': 2.22674769674383e-08, 'lambda': 4.904891752627244e-08, 'max_depth': 15, 'min_child_weight': 13, 'colsample_bytree': 0.28008686279168143, 'subsample': 1.0, 'eta': 0.02}. Best is trial 111 with value: 0.5112678281068525.\n",
            "Trial 123 finished with value: 0.5110541231126597 and parameters: {'gamma': 0.0001191388677693771, 'reg_alpha': 2.22674769674383e-08, 'lambda': 4.904891752627244e-08, 'max_depth': 15, 'min_child_weight': 13, 'colsample_bytree': 0.28008686279168143, 'subsample': 1.0, 'eta': 0.02}. Best is trial 111 with value: 0.5112678281068525.\n"
          ]
        },
        {
          "name": "stderr",
          "output_type": "stream",
          "text": [
            "\u001b[32m[I 2022-03-22 15:08:26,002]\u001b[0m Trial 124 finished with value: 0.5101788617886178 and parameters: {'gamma': 1.6047762820796791e-06, 'reg_alpha': 1.0915995321266307e-08, 'lambda': 6.974238004145018e-08, 'max_depth': 18, 'min_child_weight': 27, 'colsample_bytree': 0.2092293862933996, 'subsample': 1.0, 'eta': 0.02}. Best is trial 111 with value: 0.5112678281068525.\u001b[0m\n"
          ]
        },
        {
          "name": "stdout",
          "output_type": "stream",
          "text": [
            "Trial 124 finished with value: 0.5101788617886178 and parameters: {'gamma': 1.6047762820796791e-06, 'reg_alpha': 1.0915995321266307e-08, 'lambda': 6.974238004145018e-08, 'max_depth': 18, 'min_child_weight': 27, 'colsample_bytree': 0.2092293862933996, 'subsample': 1.0, 'eta': 0.02}. Best is trial 111 with value: 0.5112678281068525.\n",
            "Trial 124 finished with value: 0.5101788617886178 and parameters: {'gamma': 1.6047762820796791e-06, 'reg_alpha': 1.0915995321266307e-08, 'lambda': 6.974238004145018e-08, 'max_depth': 18, 'min_child_weight': 27, 'colsample_bytree': 0.2092293862933996, 'subsample': 1.0, 'eta': 0.02}. Best is trial 111 with value: 0.5112678281068525.\n"
          ]
        },
        {
          "name": "stderr",
          "output_type": "stream",
          "text": [
            "\u001b[32m[I 2022-03-22 15:41:11,944]\u001b[0m Trial 125 finished with value: 0.5113365853658537 and parameters: {'gamma': 1.8030627974482705e-05, 'reg_alpha': 8.178450742773128e-07, 'lambda': 1.0479107603833961e-07, 'max_depth': 17, 'min_child_weight': 17, 'colsample_bytree': 0.32082495952188383, 'subsample': 1.0, 'eta': 0.02}. Best is trial 125 with value: 0.5113365853658537.\u001b[0m\n"
          ]
        },
        {
          "name": "stdout",
          "output_type": "stream",
          "text": [
            "Trial 125 finished with value: 0.5113365853658537 and parameters: {'gamma': 1.8030627974482705e-05, 'reg_alpha': 8.178450742773128e-07, 'lambda': 1.0479107603833961e-07, 'max_depth': 17, 'min_child_weight': 17, 'colsample_bytree': 0.32082495952188383, 'subsample': 1.0, 'eta': 0.02}. Best is trial 125 with value: 0.5113365853658537.\n",
            "Trial 125 finished with value: 0.5113365853658537 and parameters: {'gamma': 1.8030627974482705e-05, 'reg_alpha': 8.178450742773128e-07, 'lambda': 1.0479107603833961e-07, 'max_depth': 17, 'min_child_weight': 17, 'colsample_bytree': 0.32082495952188383, 'subsample': 1.0, 'eta': 0.02}. Best is trial 125 with value: 0.5113365853658537.\n"
          ]
        },
        {
          "name": "stderr",
          "output_type": "stream",
          "text": [
            "\u001b[32m[I 2022-03-22 16:23:58,897]\u001b[0m Trial 126 finished with value: 0.5110652729384436 and parameters: {'gamma': 3.8173696931783926e-05, 'reg_alpha': 4.865283850550834e-08, 'lambda': 3.029101807357798e-08, 'max_depth': 20, 'min_child_weight': 1, 'colsample_bytree': 0.3246432566474443, 'subsample': 1.0, 'eta': 0.02}. Best is trial 125 with value: 0.5113365853658537.\u001b[0m\n"
          ]
        },
        {
          "name": "stdout",
          "output_type": "stream",
          "text": [
            "Trial 126 finished with value: 0.5110652729384436 and parameters: {'gamma': 3.8173696931783926e-05, 'reg_alpha': 4.865283850550834e-08, 'lambda': 3.029101807357798e-08, 'max_depth': 20, 'min_child_weight': 1, 'colsample_bytree': 0.3246432566474443, 'subsample': 1.0, 'eta': 0.02}. Best is trial 125 with value: 0.5113365853658537.\n",
            "Trial 126 finished with value: 0.5110652729384436 and parameters: {'gamma': 3.8173696931783926e-05, 'reg_alpha': 4.865283850550834e-08, 'lambda': 3.029101807357798e-08, 'max_depth': 20, 'min_child_weight': 1, 'colsample_bytree': 0.3246432566474443, 'subsample': 1.0, 'eta': 0.02}. Best is trial 125 with value: 0.5113365853658537.\n"
          ]
        },
        {
          "name": "stderr",
          "output_type": "stream",
          "text": [
            "\u001b[32m[I 2022-03-22 16:48:58,203]\u001b[0m Trial 127 finished with value: 0.5105672473867596 and parameters: {'gamma': 1.2862597687136438e-05, 'reg_alpha': 8.999971138110206e-07, 'lambda': 3.668175651975311e-07, 'max_depth': 17, 'min_child_weight': 22, 'colsample_bytree': 0.22845922944337452, 'subsample': 1.0, 'eta': 0.01}. Best is trial 125 with value: 0.5113365853658537.\u001b[0m\n"
          ]
        },
        {
          "name": "stdout",
          "output_type": "stream",
          "text": [
            "Trial 127 finished with value: 0.5105672473867596 and parameters: {'gamma': 1.2862597687136438e-05, 'reg_alpha': 8.999971138110206e-07, 'lambda': 3.668175651975311e-07, 'max_depth': 17, 'min_child_weight': 22, 'colsample_bytree': 0.22845922944337452, 'subsample': 1.0, 'eta': 0.01}. Best is trial 125 with value: 0.5113365853658537.\n",
            "Trial 127 finished with value: 0.5105672473867596 and parameters: {'gamma': 1.2862597687136438e-05, 'reg_alpha': 8.999971138110206e-07, 'lambda': 3.668175651975311e-07, 'max_depth': 17, 'min_child_weight': 22, 'colsample_bytree': 0.22845922944337452, 'subsample': 1.0, 'eta': 0.01}. Best is trial 125 with value: 0.5113365853658537.\n",
            "Trial: 125\n",
            "\n",
            "\n",
            "Melhor seleção de parâmetros : \n",
            "{'colsample_bytree': 0.32082495952188383, 'eta': 0.02, 'gamma': 1.8030627974482705e-05, 'lambda': 1.0479107603833961e-07, 'max_depth': 17, 'min_child_weight': 17, 'reg_alpha': 8.178450742773128e-07, 'subsample': 1.0}\n",
            "\n",
            "\n",
            "Acurácia : 0.511\n",
            "Pronto em:  61235.416\n"
          ]
        }
      ],
      "source": [
        "t0 = time.time()\n",
        "study, best_params = tune(xgb_objective)  \n",
        "print(\"Pronto em:  %0.3f\" %(time.time()-t0))"
      ]
    },
    {
      "cell_type": "code",
      "execution_count": null,
      "metadata": {
        "id": "mEnV-k7k6L4d"
      },
      "outputs": [],
      "source": [
        "# Determina quais parâmetros tiveram o impacto mais significativo no desempenho geral do modelo.\n",
        "optuna.visualization.plot_param_importances(study)"
      ]
    }
  ],
  "metadata": {
    "colab": {
      "collapsed_sections": [],
      "machine_shape": "hm",
      "name": "Otimização -  Classificação XGBoost.ipynb",
      "provenance": [],
      "include_colab_link": true
    },
    "kernelspec": {
      "display_name": "Python 3 (ipykernel)",
      "language": "python",
      "name": "python3"
    },
    "language_info": {
      "codemirror_mode": {
        "name": "ipython",
        "version": 3
      },
      "file_extension": ".py",
      "mimetype": "text/x-python",
      "name": "python",
      "nbconvert_exporter": "python",
      "pygments_lexer": "ipython3",
      "version": "3.8.12"
    }
  },
  "nbformat": 4,
  "nbformat_minor": 0
}