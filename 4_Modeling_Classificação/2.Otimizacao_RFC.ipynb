{
 "cells": [
  {
   "cell_type": "markdown",
   "metadata": {
    "colab_type": "text",
    "id": "view-in-github"
   },
   "source": [
    "<a href=\"https://colab.research.google.com/github/naratiz/Precoce-MS/blob/main/Otimiza%C3%A7%C3%A3o_Classifica%C3%A7%C3%A3o_RFC.ipynb\" target=\"_parent\"><img src=\"https://colab.research.google.com/assets/colab-badge.svg\" alt=\"Open In Colab\"/></a>"
   ]
  },
  {
   "cell_type": "code",
   "execution_count": 20,
   "metadata": {},
   "outputs": [
    {
     "name": "stdout",
     "output_type": "stream",
     "text": [
      "Collecting plotly\n",
      "  Downloading plotly-5.9.0-py2.py3-none-any.whl (15.2 MB)\n",
      "\u001b[K     |████████████████████████████████| 15.2 MB 14.6 MB/s eta 0:00:01\n",
      "\u001b[?25hCollecting tenacity>=6.2.0\n",
      "  Downloading tenacity-8.0.1-py3-none-any.whl (24 kB)\n",
      "Installing collected packages: tenacity, plotly\n",
      "Successfully installed plotly-5.9.0 tenacity-8.0.1\n",
      "Note: you may need to restart the kernel to use updated packages.\n"
     ]
    }
   ],
   "source": [
    "pip install plotly"
   ]
  },
  {
   "cell_type": "code",
   "execution_count": 1,
   "metadata": {
    "id": "TA2nuDIKQEHu"
   },
   "outputs": [],
   "source": [
    "#!pip install optuna\n",
    "#!pip install plotly\n",
    "\n",
    "import pandas as pd\n",
    "import optuna\n",
    "import time\n",
    "import concurrent.futures\n",
    "import matplotlib.pyplot as plt\n",
    "import seaborn as sns\n",
    "import numpy as np\n",
    "import logging\n",
    "import sys\n",
    "\n",
    "from sklearn.preprocessing import StandardScaler\n",
    "from sklearn.decomposition import PCA\n",
    "from sklearn.model_selection import train_test_split, cross_val_score, StratifiedKFold\n",
    "from sklearn.ensemble import RandomForestClassifier\n",
    "from sklearn.svm import SVR, LinearSVR  \n",
    "from sklearn.metrics import classification_report,confusion_matrix"
   ]
  },
  {
   "cell_type": "markdown",
   "metadata": {},
   "source": [
    "<blockquote>\n",
    "  <p>Treinamento dos dados com o algoritmo Random Forest Classifier da biblioteca Sikit-learn. Primeiramente utiliza-se os hiperparâmetros básicos para obter o modelo base, e após é aplicado o framework para otimização de hiperparâmetros, Optuna.</p>\n",
    "</blockquote>"
   ]
  },
  {
   "cell_type": "markdown",
   "metadata": {
    "id": "dpm6xgjcF7IE"
   },
   "source": [
    "# Base de dados"
   ]
  },
  {
   "cell_type": "code",
   "execution_count": 2,
   "metadata": {
    "id": "6E_WZzkEF7IJ"
   },
   "outputs": [],
   "source": [
    "df = pd.read_csv('../../dados/df_train_class.csv', sep=';')"
   ]
  },
  {
   "cell_type": "code",
   "execution_count": 4,
   "metadata": {
    "colab": {
     "base_uri": "https://localhost:8080/"
    },
    "id": "QXzTkgOOO4IJ",
    "outputId": "3569af6f-6207-4873-dcb6-06874f00a3c6"
   },
   "outputs": [
    {
     "name": "stdout",
     "output_type": "stream",
     "text": [
      "A base de dados apresenta 672657 registros e 48 características.\n"
     ]
    }
   ],
   "source": [
    "print('A base de dados apresenta {} registros e {} características.'.format(df.shape[0], df.shape[1]))"
   ]
  },
  {
   "cell_type": "markdown",
   "metadata": {
    "id": "0iaiR8p-Wc63"
   },
   "source": [
    "## Separando os recursos do atributo alvo"
   ]
  },
  {
   "cell_type": "code",
   "execution_count": 3,
   "metadata": {
    "id": "eXGY4ZKRpNTa"
   },
   "outputs": [],
   "source": [
    "SEED = 42\n",
    "y = df['categoria']\n",
    "X = df.drop(['categoria'],axis=1)"
   ]
  },
  {
   "cell_type": "markdown",
   "metadata": {
    "id": "geFoyrIjF7IR"
   },
   "source": [
    "## StandardScaler"
   ]
  },
  {
   "cell_type": "code",
   "execution_count": 4,
   "metadata": {
    "id": "illpKWD_F7IU"
   },
   "outputs": [],
   "source": [
    "scaler = StandardScaler()\n",
    "X_scaled = scaler.fit_transform(X)"
   ]
  },
  {
   "cell_type": "markdown",
   "metadata": {
    "id": "pGW5OT3HF7IV"
   },
   "source": [
    "## PCA\n",
    "Para reduzir a dimensão do conjunto de dados."
   ]
  },
  {
   "cell_type": "code",
   "execution_count": 8,
   "metadata": {
    "id": "3qUF4NRvF7IX"
   },
   "outputs": [],
   "source": [
    "X_train, X_test, y_train, y_test = train_test_split(X_scaled, y, test_size=0.3, random_state=SEED)"
   ]
  },
  {
   "cell_type": "code",
   "execution_count": 9,
   "metadata": {
    "id": "sUYp6l5XF7IZ",
    "outputId": "fe721e13-075c-400f-b7cb-c7f28ef6bac4"
   },
   "outputs": [
    {
     "data": {
      "text/plain": [
       "PCA(n_components=40)"
      ]
     },
     "execution_count": 9,
     "metadata": {},
     "output_type": "execute_result"
    }
   ],
   "source": [
    "pca_test = PCA(n_components=40)\n",
    "pca_test.fit(X_train)"
   ]
  },
  {
   "cell_type": "code",
   "execution_count": 10,
   "metadata": {
    "id": "9PwkurbAF7Ic",
    "outputId": "c76980ee-eb42-403e-a84b-0b14bc48aaac"
   },
   "outputs": [
    {
     "data": {
      "image/png": "[encoded data removed]",
      "text/plain": [
       "<Figure size 432x288 with 1 Axes>"
      ]
     },
     "metadata": {},
     "output_type": "display_data"
    },
    {
     "data": {
      "text/plain": [
       "None"
      ]
     },
     "metadata": {},
     "output_type": "display_data"
    }
   ],
   "source": [
    "sns.set(style='whitegrid')\n",
    "plt.plot(np.cumsum(pca_test.explained_variance_ratio_))\n",
    "plt.xlabel('numero de componentes')\n",
    "plt.ylabel('cumulative explained variance')\n",
    "plt.axvline(linewidth=4, color='r', linestyle = '--', x=30, ymin=0, ymax=1)\n",
    "display(plt.show())"
   ]
  },
  {
   "cell_type": "code",
   "execution_count": 11,
   "metadata": {
    "id": "nOmEt83OF7Ie",
    "outputId": "c708a06b-0e64-4986-fb2a-4afd932a093d"
   },
   "outputs": [
    {
     "data": {
      "text/html": [
       "<div>\n",
       "<style scoped>\n",
       "    .dataframe tbody tr th:only-of-type {\n",
       "        vertical-align: middle;\n",
       "    }\n",
       "\n",
       "    .dataframe tbody tr th {\n",
       "        vertical-align: top;\n",
       "    }\n",
       "\n",
       "    .dataframe thead th {\n",
       "        text-align: right;\n",
       "    }\n",
       "</style>\n",
       "<table border=\"1\" class=\"dataframe\">\n",
       "  <thead>\n",
       "    <tr style=\"text-align: right;\">\n",
       "      <th></th>\n",
       "      <th>Cumulative Variance Ratio</th>\n",
       "      <th>Explained Variance Ratio</th>\n",
       "    </tr>\n",
       "  </thead>\n",
       "  <tbody>\n",
       "    <tr>\n",
       "      <th>0</th>\n",
       "      <td>0.223514</td>\n",
       "      <td>0.223514</td>\n",
       "    </tr>\n",
       "    <tr>\n",
       "      <th>1</th>\n",
       "      <td>0.373033</td>\n",
       "      <td>0.149519</td>\n",
       "    </tr>\n",
       "    <tr>\n",
       "      <th>2</th>\n",
       "      <td>0.465185</td>\n",
       "      <td>0.092153</td>\n",
       "    </tr>\n",
       "    <tr>\n",
       "      <th>3</th>\n",
       "      <td>0.543470</td>\n",
       "      <td>0.078284</td>\n",
       "    </tr>\n",
       "    <tr>\n",
       "      <th>4</th>\n",
       "      <td>0.594985</td>\n",
       "      <td>0.051515</td>\n",
       "    </tr>\n",
       "    <tr>\n",
       "      <th>5</th>\n",
       "      <td>0.635833</td>\n",
       "      <td>0.040848</td>\n",
       "    </tr>\n",
       "    <tr>\n",
       "      <th>6</th>\n",
       "      <td>0.670329</td>\n",
       "      <td>0.034496</td>\n",
       "    </tr>\n",
       "    <tr>\n",
       "      <th>7</th>\n",
       "      <td>0.701760</td>\n",
       "      <td>0.031431</td>\n",
       "    </tr>\n",
       "    <tr>\n",
       "      <th>8</th>\n",
       "      <td>0.732278</td>\n",
       "      <td>0.030518</td>\n",
       "    </tr>\n",
       "    <tr>\n",
       "      <th>9</th>\n",
       "      <td>0.759894</td>\n",
       "      <td>0.027616</td>\n",
       "    </tr>\n",
       "    <tr>\n",
       "      <th>10</th>\n",
       "      <td>0.784615</td>\n",
       "      <td>0.024721</td>\n",
       "    </tr>\n",
       "    <tr>\n",
       "      <th>11</th>\n",
       "      <td>0.807857</td>\n",
       "      <td>0.023242</td>\n",
       "    </tr>\n",
       "    <tr>\n",
       "      <th>12</th>\n",
       "      <td>0.830902</td>\n",
       "      <td>0.023045</td>\n",
       "    </tr>\n",
       "    <tr>\n",
       "      <th>13</th>\n",
       "      <td>0.851933</td>\n",
       "      <td>0.021031</td>\n",
       "    </tr>\n",
       "    <tr>\n",
       "      <th>14</th>\n",
       "      <td>0.869550</td>\n",
       "      <td>0.017616</td>\n",
       "    </tr>\n",
       "    <tr>\n",
       "      <th>15</th>\n",
       "      <td>0.886046</td>\n",
       "      <td>0.016496</td>\n",
       "    </tr>\n",
       "    <tr>\n",
       "      <th>16</th>\n",
       "      <td>0.901555</td>\n",
       "      <td>0.015509</td>\n",
       "    </tr>\n",
       "    <tr>\n",
       "      <th>17</th>\n",
       "      <td>0.915938</td>\n",
       "      <td>0.014383</td>\n",
       "    </tr>\n",
       "    <tr>\n",
       "      <th>18</th>\n",
       "      <td>0.929188</td>\n",
       "      <td>0.013250</td>\n",
       "    </tr>\n",
       "    <tr>\n",
       "      <th>19</th>\n",
       "      <td>0.941088</td>\n",
       "      <td>0.011899</td>\n",
       "    </tr>\n",
       "    <tr>\n",
       "      <th>20</th>\n",
       "      <td>0.950841</td>\n",
       "      <td>0.009754</td>\n",
       "    </tr>\n",
       "    <tr>\n",
       "      <th>21</th>\n",
       "      <td>0.960248</td>\n",
       "      <td>0.009406</td>\n",
       "    </tr>\n",
       "    <tr>\n",
       "      <th>22</th>\n",
       "      <td>0.968680</td>\n",
       "      <td>0.008432</td>\n",
       "    </tr>\n",
       "    <tr>\n",
       "      <th>23</th>\n",
       "      <td>0.974982</td>\n",
       "      <td>0.006302</td>\n",
       "    </tr>\n",
       "    <tr>\n",
       "      <th>24</th>\n",
       "      <td>0.978778</td>\n",
       "      <td>0.003796</td>\n",
       "    </tr>\n",
       "    <tr>\n",
       "      <th>25</th>\n",
       "      <td>0.982299</td>\n",
       "      <td>0.003521</td>\n",
       "    </tr>\n",
       "    <tr>\n",
       "      <th>26</th>\n",
       "      <td>0.985439</td>\n",
       "      <td>0.003140</td>\n",
       "    </tr>\n",
       "    <tr>\n",
       "      <th>27</th>\n",
       "      <td>0.988346</td>\n",
       "      <td>0.002907</td>\n",
       "    </tr>\n",
       "    <tr>\n",
       "      <th>28</th>\n",
       "      <td>0.990524</td>\n",
       "      <td>0.002178</td>\n",
       "    </tr>\n",
       "    <tr>\n",
       "      <th>29</th>\n",
       "      <td>0.992188</td>\n",
       "      <td>0.001664</td>\n",
       "    </tr>\n",
       "    <tr>\n",
       "      <th>30</th>\n",
       "      <td>0.993697</td>\n",
       "      <td>0.001509</td>\n",
       "    </tr>\n",
       "    <tr>\n",
       "      <th>31</th>\n",
       "      <td>0.994991</td>\n",
       "      <td>0.001294</td>\n",
       "    </tr>\n",
       "    <tr>\n",
       "      <th>32</th>\n",
       "      <td>0.995936</td>\n",
       "      <td>0.000944</td>\n",
       "    </tr>\n",
       "    <tr>\n",
       "      <th>33</th>\n",
       "      <td>0.996724</td>\n",
       "      <td>0.000788</td>\n",
       "    </tr>\n",
       "    <tr>\n",
       "      <th>34</th>\n",
       "      <td>0.997391</td>\n",
       "      <td>0.000667</td>\n",
       "    </tr>\n",
       "    <tr>\n",
       "      <th>35</th>\n",
       "      <td>0.998015</td>\n",
       "      <td>0.000625</td>\n",
       "    </tr>\n",
       "    <tr>\n",
       "      <th>36</th>\n",
       "      <td>0.998540</td>\n",
       "      <td>0.000524</td>\n",
       "    </tr>\n",
       "    <tr>\n",
       "      <th>37</th>\n",
       "      <td>0.999007</td>\n",
       "      <td>0.000468</td>\n",
       "    </tr>\n",
       "    <tr>\n",
       "      <th>38</th>\n",
       "      <td>0.999346</td>\n",
       "      <td>0.000339</td>\n",
       "    </tr>\n",
       "    <tr>\n",
       "      <th>39</th>\n",
       "      <td>0.999594</td>\n",
       "      <td>0.000248</td>\n",
       "    </tr>\n",
       "  </tbody>\n",
       "</table>\n",
       "</div>"
      ],
      "text/plain": [
       "    Cumulative Variance Ratio  Explained Variance Ratio\n",
       "0                    0.223514                  0.223514\n",
       "1                    0.373033                  0.149519\n",
       "2                    0.465185                  0.092153\n",
       "3                    0.543470                  0.078284\n",
       "4                    0.594985                  0.051515\n",
       "5                    0.635833                  0.040848\n",
       "6                    0.670329                  0.034496\n",
       "7                    0.701760                  0.031431\n",
       "8                    0.732278                  0.030518\n",
       "9                    0.759894                  0.027616\n",
       "10                   0.784615                  0.024721\n",
       "11                   0.807857                  0.023242\n",
       "12                   0.830902                  0.023045\n",
       "13                   0.851933                  0.021031\n",
       "14                   0.869550                  0.017616\n",
       "15                   0.886046                  0.016496\n",
       "16                   0.901555                  0.015509\n",
       "17                   0.915938                  0.014383\n",
       "18                   0.929188                  0.013250\n",
       "19                   0.941088                  0.011899\n",
       "20                   0.950841                  0.009754\n",
       "21                   0.960248                  0.009406\n",
       "22                   0.968680                  0.008432\n",
       "23                   0.974982                  0.006302\n",
       "24                   0.978778                  0.003796\n",
       "25                   0.982299                  0.003521\n",
       "26                   0.985439                  0.003140\n",
       "27                   0.988346                  0.002907\n",
       "28                   0.990524                  0.002178\n",
       "29                   0.992188                  0.001664\n",
       "30                   0.993697                  0.001509\n",
       "31                   0.994991                  0.001294\n",
       "32                   0.995936                  0.000944\n",
       "33                   0.996724                  0.000788\n",
       "34                   0.997391                  0.000667\n",
       "35                   0.998015                  0.000625\n",
       "36                   0.998540                  0.000524\n",
       "37                   0.999007                  0.000468\n",
       "38                   0.999346                  0.000339\n",
       "39                   0.999594                  0.000248"
      ]
     },
     "metadata": {},
     "output_type": "display_data"
    }
   ],
   "source": [
    "evr = pca_test.explained_variance_ratio_\n",
    "cvr = np.cumsum(pca_test.explained_variance_ratio_)\n",
    "pca_df = pd.DataFrame()\n",
    "pca_df['Cumulative Variance Ratio'] = cvr\n",
    "pca_df['Explained Variance Ratio'] = evr\n",
    "display(pca_df.head(40))"
   ]
  },
  {
   "cell_type": "markdown",
   "metadata": {
    "id": "3LBTVLRJF7If"
   },
   "source": [
    "Conforme o quadro acima, quando usamos o PCA para reduzir nossas 53 variáveis de previsão para 30 componentes,\n",
    "ainda podemos explicar mais de 99% da variação.  \n",
    "Usando essa lógica, usaremos o PCA para reduzir o número de componentes de 53 para 30 para X_train e X_test. "
   ]
  },
  {
   "cell_type": "code",
   "execution_count": 5,
   "metadata": {
    "id": "_kMgc5yEF7Ig"
   },
   "outputs": [],
   "source": [
    "pca = PCA(n_components=30)\n",
    "pca.fit(X_scaled)\n",
    "X_scaled_pca = pca.transform(X_scaled)"
   ]
  },
  {
   "cell_type": "markdown",
   "metadata": {
    "id": "5VGa46lbF7Ih"
   },
   "source": [
    "## Baseline"
   ]
  },
  {
   "cell_type": "code",
   "execution_count": 13,
   "metadata": {
    "id": "gfmKSMBMF7Ii"
   },
   "outputs": [],
   "source": [
    "skfolds = StratifiedKFold(n_splits=10, shuffle=True, random_state=SEED)"
   ]
  },
  {
   "cell_type": "code",
   "execution_count": null,
   "metadata": {
    "id": "4-06vFnpF7Ik"
   },
   "outputs": [],
   "source": [
    "rfc_baseline = RandomForestClassifier(random_state=SEED)\n",
    "scores = cross_val_score(rfc_baseline, X_scaled_pca, y, cv=skfolds)"
   ]
  },
  {
   "cell_type": "code",
   "execution_count": 17,
   "metadata": {},
   "outputs": [
    {
     "name": "stdout",
     "output_type": "stream",
     "text": [
      "Acurária 0.514 +/- 0.00\n"
     ]
    }
   ],
   "source": [
    "print('Acurária %.3f +/- %.2f' % (scores.mean(), scores.std()))"
   ]
  },
  {
   "cell_type": "markdown",
   "metadata": {
    "id": "xmxrclq_Vzuh"
   },
   "source": [
    "## Otimização dos hiperparâmetros\n",
    "\n",
    "Utilização do framework [Optuna](https://https://optuna.readthedocs.io/en/stable/) para otimização de hiperparâmetros"
   ]
  },
  {
   "cell_type": "code",
   "execution_count": 6,
   "metadata": {},
   "outputs": [],
   "source": [
    "# Manipulador de fluxo para mostrar as mensagens\n",
    "optuna.logging.get_logger(\"optuna\").addHandler(logging.StreamHandler(sys.stdout))\n",
    "study_name = \"rfc-study\"  # Unique identifier of the study.\n",
    "storage_name = \"sqlite:///{}.db\".format(study_name)\n",
    "# storage_name = \"sqlite:///content/drive/MyDrive/Dissertação/dados/{}.db\".format(study_name)"
   ]
  },
  {
   "cell_type": "code",
   "execution_count": 10,
   "metadata": {
    "id": "GvjnuoZFWUeg"
   },
   "outputs": [],
   "source": [
    "# função de otimização baseada em uma função objetivo\n",
    "def tune(objective):\n",
    "    study = optuna.create_study(study_name=study_name, storage=storage_name, load_if_exists=True, \n",
    "                                direction=\"maximize\")\n",
    "    study.optimize(objective, n_trials=5)\n",
    "    \n",
    "    params = study.best_params\n",
    "    print(f\"Trial: {study.best_trial.number}\")\n",
    "    print(\"\\n\")\n",
    "    print(f\"Melhor seleção de parâmetros : \\n{params}\")\n",
    "    print(\"\\n\")\n",
    "    print(f\"Acurácia : {study.best_value:.3f}\")\n",
    "    \n",
    "    return study, params"
   ]
  },
  {
   "cell_type": "markdown",
   "metadata": {
    "id": "lbKDfpMUOeFw"
   },
   "source": [
    "### Random Forest Classfier \n"
   ]
  },
  {
   "cell_type": "code",
   "execution_count": 8,
   "metadata": {
    "id": "n1DNEwIGWLWB"
   },
   "outputs": [],
   "source": [
    "skfolds = StratifiedKFold(n_splits=5, shuffle=True, random_state=SEED)"
   ]
  },
  {
   "cell_type": "code",
   "execution_count": 11,
   "metadata": {
    "id": "UQa2QF3qtdeu"
   },
   "outputs": [],
   "source": [
    "def randomforestclassfier_objective(trial: optuna.Trial): \n",
    "    rfc_params = {\n",
    "        \"n_estimators\": trial.suggest_int(\"n_estimators\", 10, 400),\n",
    "        \"criterion\" : trial.suggest_categorical(\"criterion\", choices=[\"gini\", \"entropy\"]),\n",
    "        \"max_depth\":  trial.suggest_int(\"max_depth\", 1, 100),\n",
    "        \"min_samples_split\" : trial.suggest_int(\"min_samples_split\", 1, 50),\n",
    "        \"min_samples_leaf\" : trial.suggest_int(\"min_samples_leaf\", 1, 10),\n",
    "        \"max_features\": trial.suggest_categorical(\"max_features\", choices=[\"auto\", \"sqrt\", \"log2\"]),\n",
    "        \"bootstrap\": trial.suggest_categorical(\"bootstrap\", choices=[\"True\", \"False\"]),\n",
    "        \"random_state\": SEED,\n",
    "    }\n",
    "    \n",
    "    rfc = RandomForestClassifier(**rfc_params)\n",
    "    scores = cross_val_score(rfc, X_scaled_pca, y, n_jobs=-1, cv=skfolds)\n",
    "    accuracy = scores.mean()\n",
    "    return accuracy"
   ]
  },
  {
   "cell_type": "code",
   "execution_count": 12,
   "metadata": {
    "colab": {
     "base_uri": "https://localhost:8080/"
    },
    "id": "LpuxgmyNt4Sn",
    "outputId": "15f3084f-c19f-43fa-b49f-654fa30967df",
    "scrolled": false
   },
   "outputs": [
    {
     "name": "stderr",
     "output_type": "stream",
     "text": [
      "\u001b[32m[I 2022-06-27 19:55:10,486]\u001b[0m Using an existing study with name 'rfc-study' instead of creating a new one.\u001b[0m\n"
     ]
    },
    {
     "name": "stdout",
     "output_type": "stream",
     "text": [
      "Using an existing study with name 'rfc-study' instead of creating a new one.\n"
     ]
    },
    {
     "name": "stderr",
     "output_type": "stream",
     "text": [
      "\u001b[32m[I 2022-06-27 20:29:21,746]\u001b[0m Trial 252 finished with value: 0.5149652803941913 and parameters: {'n_estimators': 363, 'criterion': 'entropy', 'max_depth': 19, 'min_samples_split': 41, 'min_samples_leaf': 1, 'max_features': 'auto', 'bootstrap': 'True'}. Best is trial 245 with value: 0.5149801467346411.\u001b[0m\n"
     ]
    },
    {
     "name": "stdout",
     "output_type": "stream",
     "text": [
      "Trial 252 finished with value: 0.5149652803941913 and parameters: {'n_estimators': 363, 'criterion': 'entropy', 'max_depth': 19, 'min_samples_split': 41, 'min_samples_leaf': 1, 'max_features': 'auto', 'bootstrap': 'True'}. Best is trial 245 with value: 0.5149801467346411.\n"
     ]
    },
    {
     "name": "stderr",
     "output_type": "stream",
     "text": [
      "\u001b[32m[I 2022-06-27 21:03:32,639]\u001b[0m Trial 253 finished with value: 0.5147452570769815 and parameters: {'n_estimators': 365, 'criterion': 'entropy', 'max_depth': 18, 'min_samples_split': 39, 'min_samples_leaf': 1, 'max_features': 'auto', 'bootstrap': 'True'}. Best is trial 245 with value: 0.5149801467346411.\u001b[0m\n"
     ]
    },
    {
     "name": "stdout",
     "output_type": "stream",
     "text": [
      "Trial 253 finished with value: 0.5147452570769815 and parameters: {'n_estimators': 365, 'criterion': 'entropy', 'max_depth': 18, 'min_samples_split': 39, 'min_samples_leaf': 1, 'max_features': 'auto', 'bootstrap': 'True'}. Best is trial 245 with value: 0.5149801467346411.\n"
     ]
    },
    {
     "name": "stderr",
     "output_type": "stream",
     "text": [
      "\u001b[32m[I 2022-06-27 21:44:13,336]\u001b[0m Trial 254 finished with value: 0.5144345486399042 and parameters: {'n_estimators': 356, 'criterion': 'entropy', 'max_depth': 22, 'min_samples_split': 41, 'min_samples_leaf': 1, 'max_features': 'auto', 'bootstrap': 'True'}. Best is trial 245 with value: 0.5149801467346411.\u001b[0m\n"
     ]
    },
    {
     "name": "stdout",
     "output_type": "stream",
     "text": [
      "Trial 254 finished with value: 0.5144345486399042 and parameters: {'n_estimators': 356, 'criterion': 'entropy', 'max_depth': 22, 'min_samples_split': 41, 'min_samples_leaf': 1, 'max_features': 'auto', 'bootstrap': 'True'}. Best is trial 245 with value: 0.5149801467346411.\n"
     ]
    },
    {
     "name": "stderr",
     "output_type": "stream",
     "text": [
      "\u001b[32m[I 2022-06-27 22:22:25,416]\u001b[0m Trial 255 finished with value: 0.5142918318091606 and parameters: {'n_estimators': 340, 'criterion': 'entropy', 'max_depth': 17, 'min_samples_split': 41, 'min_samples_leaf': 1, 'max_features': 'auto', 'bootstrap': 'True'}. Best is trial 245 with value: 0.5149801467346411.\u001b[0m\n"
     ]
    },
    {
     "name": "stdout",
     "output_type": "stream",
     "text": [
      "Trial 255 finished with value: 0.5142918318091606 and parameters: {'n_estimators': 340, 'criterion': 'entropy', 'max_depth': 17, 'min_samples_split': 41, 'min_samples_leaf': 1, 'max_features': 'auto', 'bootstrap': 'True'}. Best is trial 245 with value: 0.5149801467346411.\n"
     ]
    },
    {
     "name": "stderr",
     "output_type": "stream",
     "text": [
      "\u001b[32m[I 2022-06-27 22:50:48,591]\u001b[0m Trial 256 finished with value: 0.5147839105633256 and parameters: {'n_estimators': 364, 'criterion': 'entropy', 'max_depth': 19, 'min_samples_split': 42, 'min_samples_leaf': 1, 'max_features': 'auto', 'bootstrap': 'True'}. Best is trial 245 with value: 0.5149801467346411.\u001b[0m\n"
     ]
    },
    {
     "name": "stdout",
     "output_type": "stream",
     "text": [
      "Trial 256 finished with value: 0.5147839105633256 and parameters: {'n_estimators': 364, 'criterion': 'entropy', 'max_depth': 19, 'min_samples_split': 42, 'min_samples_leaf': 1, 'max_features': 'auto', 'bootstrap': 'True'}. Best is trial 245 with value: 0.5149801467346411.\n",
      "Trial: 245\n",
      "\n",
      "\n",
      "Melhor seleção de parâmetros : \n",
      "{'bootstrap': 'True', 'criterion': 'entropy', 'max_depth': 19, 'max_features': 'auto', 'min_samples_leaf': 1, 'min_samples_split': 39, 'n_estimators': 366}\n",
      "\n",
      "\n",
      "Acurácia : 0.515\n",
      "Pronto em:  10538.211\n"
     ]
    }
   ],
   "source": [
    "t0 = time.time()\n",
    "study, rfc_params = tune(randomforestclassfier_objective)  \n",
    "print(\"Pronto em:  %0.3f\" %(time.time()-t0))"
   ]
  },
  {
   "cell_type": "markdown",
   "metadata": {},
   "source": [
    "Melhores valores para os hiperparâmentros:"
   ]
  },
  {
   "cell_type": "code",
   "execution_count": 13,
   "metadata": {
    "id": "k6wyaTYHF7Is",
    "outputId": "b05445e2-492e-4c27-8433-ae66f1cfd939"
   },
   "outputs": [
    {
     "data": {
      "text/plain": [
       "{'bootstrap': 'True',\n",
       " 'criterion': 'entropy',\n",
       " 'max_depth': 19,\n",
       " 'max_features': 'auto',\n",
       " 'min_samples_leaf': 1,\n",
       " 'min_samples_split': 39,\n",
       " 'n_estimators': 366}"
      ]
     },
     "execution_count": 13,
     "metadata": {},
     "output_type": "execute_result"
    }
   ],
   "source": [
    "rfc_params"
   ]
  },
  {
   "cell_type": "markdown",
   "metadata": {},
   "source": [
    "<blockquote>\n",
    "    <p>Acurácia baseline: 0.514 <br>\n",
    "       Acurácia após otimização: 0.515\n",
    "    </p>\n",
    "</blockquote>"
   ]
  },
  {
   "cell_type": "markdown",
   "metadata": {
    "id": "89sNP2-6F7Iv"
   },
   "source": [
    "## Analisando a importância de cada variável"
   ]
  },
  {
   "cell_type": "code",
   "execution_count": null,
   "metadata": {},
   "outputs": [],
   "source": [
    "# Determina quais hiperparâmetros tiveram o impacto mais significativo no desempenho geral do modelo.\n",
    "optuna.visualization.plot_param_importances(study)"
   ]
  },
  {
   "cell_type": "code",
   "execution_count": null,
   "metadata": {},
   "outputs": [],
   "source": [
    "model_rfc.fit(X_scaled_pca, y_train)"
   ]
  },
  {
   "cell_type": "code",
   "execution_count": 14,
   "metadata": {
    "id": "9ZKVdGQ2F7Iv"
   },
   "outputs": [],
   "source": [
    "nomes_caracteristicas = []\n",
    "for i in X.columns:\n",
    "    nomes_caracteristicas.append(i)"
   ]
  },
  {
   "cell_type": "code",
   "execution_count": null,
   "metadata": {
    "id": "wbxcinw2F7Iw"
   },
   "outputs": [],
   "source": [
    "importancia = model_rfc.feature_importances_\n",
    "# Importâncias de características são fornecidas pelo atributo ajustado feature_importances_ \n",
    "# e são calculadas como a média e o desvio padrão de acumulação da diminuição de impurezas dentro de cada árvore.\n",
    "std = np.std([tree.feature_importances_ for tree in model_rfc.estimators_], axis=0)"
   ]
  },
  {
   "cell_type": "code",
   "execution_count": null,
   "metadata": {
    "id": "TUkNaQ8XF7Ix"
   },
   "outputs": [],
   "source": [
    "forest_importances = pd.Series(importancia, index=nomes_caracteristicas)\n",
    "forest_importances.sort_values(ascending=False, inplace=True)\n",
    "fig, ax = plt.subplots(figsize=(20,10))\n",
    "forest_importances.plot.bar(yerr=std, ax=ax)\n",
    "ax.set_title(\"Feature importances using MDI\")\n",
    "ax.set_ylabel(\"Mean decrease in impurity\")\n",
    "fig.tight_layout()"
   ]
  }
 ],
 "metadata": {
  "colab": {
   "collapsed_sections": [],
   "history_visible": true,
   "include_colab_link": true,
   "machine_shape": "hm",
   "name": "Otimização - Classificação RFC.ipynb",
   "provenance": []
  },
  "kernelspec": {
   "display_name": "Python 3",
   "language": "python",
   "name": "python3"
  },
  "language_info": {
   "codemirror_mode": {
    "name": "ipython",
    "version": 3
   },
   "file_extension": ".py",
   "mimetype": "text/x-python",
   "name": "python",
   "nbconvert_exporter": "python",
   "pygments_lexer": "ipython3",
   "version": "3.7.6"
  }
 },
 "nbformat": 4,
 "nbformat_minor": 1
}
