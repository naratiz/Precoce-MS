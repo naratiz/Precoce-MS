{
  "cells": [
    {
      "cell_type": "markdown",
      "metadata": {
        "id": "view-in-github",
        "colab_type": "text"
      },
      "source": [
        "<a href=\"https://colab.research.google.com/github/naratiz/Precoce-MS/blob/main/Otimiza%C3%A7%C3%A3o_Classifica%C3%A7%C3%A3o_RFC.ipynb\" target=\"_parent\"><img src=\"https://colab.research.google.com/assets/colab-badge.svg\" alt=\"Open In Colab\"/></a>"
      ]
    },
    {
      "cell_type": "code",
      "execution_count": null,
      "metadata": {
        "id": "TA2nuDIKQEHu",
        "scrolled": true
      },
      "outputs": [],
      "source": [
        "#!pip install optuna\n",
        "#!pip install plotly\n",
        "\n",
        "import pandas as pd\n",
        "import optuna\n",
        "import time\n",
        "import concurrent.futures\n",
        "import plotly\n",
        "import matplotlib.pyplot as plt\n",
        "import seaborn as sns\n",
        "import numpy as np\n",
        "\n",
        "from sklearn.preprocessing import StandardScaler\n",
        "from sklearn.decomposition import PCA\n",
        "from sklearn.model_selection import train_test_split, cross_val_score, StratifiedKFold\n",
        "from sklearn.ensemble import RandomForestClassifier\n",
        "from sklearn.svm import SVR, LinearSVR  \n",
        "from sklearn.metrics import classification_report,confusion_matrix"
      ]
    },
    {
      "cell_type": "markdown",
      "metadata": {
        "id": "dpm6xgjcF7IE"
      },
      "source": [
        "# Base de dados"
      ]
    },
    {
      "cell_type": "code",
      "execution_count": null,
      "metadata": {
        "id": "6E_WZzkEF7IJ"
      },
      "outputs": [],
      "source": [
        "df = pd.read_csv('dados/procucao_gado_MS.csv', sep=';')"
      ]
    },
    {
      "cell_type": "code",
      "execution_count": null,
      "metadata": {
        "colab": {
          "base_uri": "https://localhost:8080/"
        },
        "id": "QXzTkgOOO4IJ",
        "outputId": "3569af6f-6207-4873-dcb6-06874f00a3c6"
      },
      "outputs": [
        {
          "name": "stdout",
          "output_type": "stream",
          "text": [
            "A base de dados apresenta 960939 registros e 53 características.\n"
          ]
        }
      ],
      "source": [
        "print('A base de dados apresenta {} registros e {} características.'.format(df.shape[0], df.shape[1]))"
      ]
    },
    {
      "cell_type": "markdown",
      "metadata": {
        "id": "0iaiR8p-Wc63"
      },
      "source": [
        "## Separando os recursos do atributo alvo"
      ]
    },
    {
      "cell_type": "code",
      "execution_count": null,
      "metadata": {
        "id": "eXGY4ZKRpNTa"
      },
      "outputs": [],
      "source": [
        "SEED = 42\n",
        "y = df['categoria']\n",
        "# Retirar a variável alvo e as variáveis obtidas após o abate \n",
        "X = df.drop(['categoria','peso','acabamento', 'maturidade', 'classificacao','ano'],axis=1)"
      ]
    },
    {
      "cell_type": "markdown",
      "metadata": {
        "id": "geFoyrIjF7IR"
      },
      "source": [
        "## StandardScaler"
      ]
    },
    {
      "cell_type": "code",
      "execution_count": null,
      "metadata": {
        "id": "illpKWD_F7IU"
      },
      "outputs": [],
      "source": [
        "scaler = StandardScaler()\n",
        "X_scaled = scaler.fit_transform(X)"
      ]
    },
    {
      "cell_type": "markdown",
      "metadata": {
        "id": "pGW5OT3HF7IV"
      },
      "source": [
        "## PCA"
      ]
    },
    {
      "cell_type": "code",
      "execution_count": null,
      "metadata": {
        "id": "3qUF4NRvF7IX"
      },
      "outputs": [],
      "source": [
        "X_train, X_test, y_train, y_test = train_test_split(X_scaled, y, test_size=0.3, random_state=SEED)"
      ]
    },
    {
      "cell_type": "code",
      "execution_count": null,
      "metadata": {
        "id": "sUYp6l5XF7IZ",
        "outputId": "fe721e13-075c-400f-b7cb-c7f28ef6bac4"
      },
      "outputs": [
        {
          "data": {
            "text/plain": [
              "PCA(n_components=40)"
            ]
          },
          "execution_count": 42,
          "metadata": {},
          "output_type": "execute_result"
        }
      ],
      "source": [
        "pca_test = PCA(n_components=40)\n",
        "pca_test.fit(X_train)"
      ]
    },
    {
      "cell_type": "code",
      "execution_count": null,
      "metadata": {
        "id": "9PwkurbAF7Ic",
        "outputId": "c76980ee-eb42-403e-a84b-0b14bc48aaac"
      },
      "outputs": [
        {
          "data": {
            "image/png": "[encoded data removed]",
            "text/plain": [
              "<Figure size 432x288 with 1 Axes>"
            ]
          },
          "metadata": {},
          "output_type": "display_data"
        },
        {
          "data": {
            "text/plain": [
              "None"
            ]
          },
          "metadata": {},
          "output_type": "display_data"
        }
      ],
      "source": [
        "sns.set(style='whitegrid')\n",
        "plt.plot(np.cumsum(pca_test.explained_variance_ratio_))\n",
        "plt.xlabel('numero de componentes')\n",
        "plt.ylabel('cumulative explained variance')\n",
        "plt.axvline(linewidth=4, color='r', linestyle = '--', x=30, ymin=0, ymax=1)\n",
        "display(plt.show())"
      ]
    },
    {
      "cell_type": "code",
      "execution_count": null,
      "metadata": {
        "id": "nOmEt83OF7Ie",
        "outputId": "c708a06b-0e64-4986-fb2a-4afd932a093d"
      },
      "outputs": [
        {
          "data": {
            "text/html": [
              "<div>\n",
              "<style scoped>\n",
              "    .dataframe tbody tr th:only-of-type {\n",
              "        vertical-align: middle;\n",
              "    }\n",
              "\n",
              "    .dataframe tbody tr th {\n",
              "        vertical-align: top;\n",
              "    }\n",
              "\n",
              "    .dataframe thead th {\n",
              "        text-align: right;\n",
              "    }\n",
              "</style>\n",
              "<table border=\"1\" class=\"dataframe\">\n",
              "  <thead>\n",
              "    <tr style=\"text-align: right;\">\n",
              "      <th></th>\n",
              "      <th>Cumulative Variance Ratio</th>\n",
              "      <th>Explained Variance Ratio</th>\n",
              "    </tr>\n",
              "  </thead>\n",
              "  <tbody>\n",
              "    <tr>\n",
              "      <th>0</th>\n",
              "      <td>0.223531</td>\n",
              "      <td>0.223531</td>\n",
              "    </tr>\n",
              "    <tr>\n",
              "      <th>1</th>\n",
              "      <td>0.373166</td>\n",
              "      <td>0.149635</td>\n",
              "    </tr>\n",
              "    <tr>\n",
              "      <th>2</th>\n",
              "      <td>0.465324</td>\n",
              "      <td>0.092158</td>\n",
              "    </tr>\n",
              "    <tr>\n",
              "      <th>3</th>\n",
              "      <td>0.543604</td>\n",
              "      <td>0.078280</td>\n",
              "    </tr>\n",
              "    <tr>\n",
              "      <th>4</th>\n",
              "      <td>0.595144</td>\n",
              "      <td>0.051540</td>\n",
              "    </tr>\n",
              "    <tr>\n",
              "      <th>5</th>\n",
              "      <td>0.636005</td>\n",
              "      <td>0.040861</td>\n",
              "    </tr>\n",
              "    <tr>\n",
              "      <th>6</th>\n",
              "      <td>0.670550</td>\n",
              "      <td>0.034544</td>\n",
              "    </tr>\n",
              "    <tr>\n",
              "      <th>7</th>\n",
              "      <td>0.702058</td>\n",
              "      <td>0.031508</td>\n",
              "    </tr>\n",
              "    <tr>\n",
              "      <th>8</th>\n",
              "      <td>0.732554</td>\n",
              "      <td>0.030496</td>\n",
              "    </tr>\n",
              "    <tr>\n",
              "      <th>9</th>\n",
              "      <td>0.760144</td>\n",
              "      <td>0.027590</td>\n",
              "    </tr>\n",
              "    <tr>\n",
              "      <th>10</th>\n",
              "      <td>0.784803</td>\n",
              "      <td>0.024659</td>\n",
              "    </tr>\n",
              "    <tr>\n",
              "      <th>11</th>\n",
              "      <td>0.808005</td>\n",
              "      <td>0.023202</td>\n",
              "    </tr>\n",
              "    <tr>\n",
              "      <th>12</th>\n",
              "      <td>0.831002</td>\n",
              "      <td>0.022997</td>\n",
              "    </tr>\n",
              "    <tr>\n",
              "      <th>13</th>\n",
              "      <td>0.852013</td>\n",
              "      <td>0.021010</td>\n",
              "    </tr>\n",
              "    <tr>\n",
              "      <th>14</th>\n",
              "      <td>0.869589</td>\n",
              "      <td>0.017576</td>\n",
              "    </tr>\n",
              "    <tr>\n",
              "      <th>15</th>\n",
              "      <td>0.886046</td>\n",
              "      <td>0.016457</td>\n",
              "    </tr>\n",
              "    <tr>\n",
              "      <th>16</th>\n",
              "      <td>0.901565</td>\n",
              "      <td>0.015519</td>\n",
              "    </tr>\n",
              "    <tr>\n",
              "      <th>17</th>\n",
              "      <td>0.915922</td>\n",
              "      <td>0.014357</td>\n",
              "    </tr>\n",
              "    <tr>\n",
              "      <th>18</th>\n",
              "      <td>0.929145</td>\n",
              "      <td>0.013223</td>\n",
              "    </tr>\n",
              "    <tr>\n",
              "      <th>19</th>\n",
              "      <td>0.941049</td>\n",
              "      <td>0.011904</td>\n",
              "    </tr>\n",
              "    <tr>\n",
              "      <th>20</th>\n",
              "      <td>0.950809</td>\n",
              "      <td>0.009760</td>\n",
              "    </tr>\n",
              "    <tr>\n",
              "      <th>21</th>\n",
              "      <td>0.960226</td>\n",
              "      <td>0.009417</td>\n",
              "    </tr>\n",
              "    <tr>\n",
              "      <th>22</th>\n",
              "      <td>0.968668</td>\n",
              "      <td>0.008442</td>\n",
              "    </tr>\n",
              "    <tr>\n",
              "      <th>23</th>\n",
              "      <td>0.974971</td>\n",
              "      <td>0.006303</td>\n",
              "    </tr>\n",
              "    <tr>\n",
              "      <th>24</th>\n",
              "      <td>0.978772</td>\n",
              "      <td>0.003801</td>\n",
              "    </tr>\n",
              "    <tr>\n",
              "      <th>25</th>\n",
              "      <td>0.982293</td>\n",
              "      <td>0.003521</td>\n",
              "    </tr>\n",
              "    <tr>\n",
              "      <th>26</th>\n",
              "      <td>0.985433</td>\n",
              "      <td>0.003140</td>\n",
              "    </tr>\n",
              "    <tr>\n",
              "      <th>27</th>\n",
              "      <td>0.988343</td>\n",
              "      <td>0.002910</td>\n",
              "    </tr>\n",
              "    <tr>\n",
              "      <th>28</th>\n",
              "      <td>0.990523</td>\n",
              "      <td>0.002179</td>\n",
              "    </tr>\n",
              "    <tr>\n",
              "      <th>29</th>\n",
              "      <td>0.992190</td>\n",
              "      <td>0.001668</td>\n",
              "    </tr>\n",
              "    <tr>\n",
              "      <th>30</th>\n",
              "      <td>0.993698</td>\n",
              "      <td>0.001508</td>\n",
              "    </tr>\n",
              "    <tr>\n",
              "      <th>31</th>\n",
              "      <td>0.994993</td>\n",
              "      <td>0.001295</td>\n",
              "    </tr>\n",
              "    <tr>\n",
              "      <th>32</th>\n",
              "      <td>0.995937</td>\n",
              "      <td>0.000944</td>\n",
              "    </tr>\n",
              "    <tr>\n",
              "      <th>33</th>\n",
              "      <td>0.996724</td>\n",
              "      <td>0.000787</td>\n",
              "    </tr>\n",
              "    <tr>\n",
              "      <th>34</th>\n",
              "      <td>0.997392</td>\n",
              "      <td>0.000667</td>\n",
              "    </tr>\n",
              "    <tr>\n",
              "      <th>35</th>\n",
              "      <td>0.998016</td>\n",
              "      <td>0.000624</td>\n",
              "    </tr>\n",
              "    <tr>\n",
              "      <th>36</th>\n",
              "      <td>0.998540</td>\n",
              "      <td>0.000525</td>\n",
              "    </tr>\n",
              "    <tr>\n",
              "      <th>37</th>\n",
              "      <td>0.999007</td>\n",
              "      <td>0.000467</td>\n",
              "    </tr>\n",
              "    <tr>\n",
              "      <th>38</th>\n",
              "      <td>0.999347</td>\n",
              "      <td>0.000339</td>\n",
              "    </tr>\n",
              "    <tr>\n",
              "      <th>39</th>\n",
              "      <td>0.999595</td>\n",
              "      <td>0.000248</td>\n",
              "    </tr>\n",
              "  </tbody>\n",
              "</table>\n",
              "</div>"
            ],
            "text/plain": [
              "    Cumulative Variance Ratio  Explained Variance Ratio\n",
              "0                    0.223531                  0.223531\n",
              "1                    0.373166                  0.149635\n",
              "2                    0.465324                  0.092158\n",
              "3                    0.543604                  0.078280\n",
              "4                    0.595144                  0.051540\n",
              "5                    0.636005                  0.040861\n",
              "6                    0.670550                  0.034544\n",
              "7                    0.702058                  0.031508\n",
              "8                    0.732554                  0.030496\n",
              "9                    0.760144                  0.027590\n",
              "10                   0.784803                  0.024659\n",
              "11                   0.808005                  0.023202\n",
              "12                   0.831002                  0.022997\n",
              "13                   0.852013                  0.021010\n",
              "14                   0.869589                  0.017576\n",
              "15                   0.886046                  0.016457\n",
              "16                   0.901565                  0.015519\n",
              "17                   0.915922                  0.014357\n",
              "18                   0.929145                  0.013223\n",
              "19                   0.941049                  0.011904\n",
              "20                   0.950809                  0.009760\n",
              "21                   0.960226                  0.009417\n",
              "22                   0.968668                  0.008442\n",
              "23                   0.974971                  0.006303\n",
              "24                   0.978772                  0.003801\n",
              "25                   0.982293                  0.003521\n",
              "26                   0.985433                  0.003140\n",
              "27                   0.988343                  0.002910\n",
              "28                   0.990523                  0.002179\n",
              "29                   0.992190                  0.001668\n",
              "30                   0.993698                  0.001508\n",
              "31                   0.994993                  0.001295\n",
              "32                   0.995937                  0.000944\n",
              "33                   0.996724                  0.000787\n",
              "34                   0.997392                  0.000667\n",
              "35                   0.998016                  0.000624\n",
              "36                   0.998540                  0.000525\n",
              "37                   0.999007                  0.000467\n",
              "38                   0.999347                  0.000339\n",
              "39                   0.999595                  0.000248"
            ]
          },
          "metadata": {},
          "output_type": "display_data"
        }
      ],
      "source": [
        "evr = pca_test.explained_variance_ratio_\n",
        "cvr = np.cumsum(pca_test.explained_variance_ratio_)\n",
        "pca_df = pd.DataFrame()\n",
        "pca_df['Cumulative Variance Ratio'] = cvr\n",
        "pca_df['Explained Variance Ratio'] = evr\n",
        "display(pca_df.head(40))"
      ]
    },
    {
      "cell_type": "code",
      "execution_count": null,
      "metadata": {
        "id": "3LBTVLRJF7If"
      },
      "outputs": [],
      "source": [
        "# Conforme o quadro acima, quando usamos o PCA para reduzir nossas 53 variáveis de previsão para 30 componentes,\n",
        "# ainda podemos explicar mais de 99% da variação.  \n",
        "# Usando essa lógica, usaremos o PCA para reduzir o número de componentes de 53 para 30 para X_train e X_test. "
      ]
    },
    {
      "cell_type": "code",
      "execution_count": null,
      "metadata": {
        "id": "_kMgc5yEF7Ig"
      },
      "outputs": [],
      "source": [
        "pca = PCA(n_components=30)\n",
        "pca.fit(X_scaled)\n",
        "X_scaled_pca = pca.transform(X_scaled)"
      ]
    },
    {
      "cell_type": "markdown",
      "metadata": {
        "id": "5VGa46lbF7Ih"
      },
      "source": [
        "## Baseline"
      ]
    },
    {
      "cell_type": "code",
      "execution_count": null,
      "metadata": {
        "id": "gfmKSMBMF7Ii"
      },
      "outputs": [],
      "source": [
        "skfolds = StratifiedKFold(n_splits=10, shuffle=True, random_state=SEED)"
      ]
    },
    {
      "cell_type": "code",
      "execution_count": null,
      "metadata": {
        "id": "4-06vFnpF7Ik"
      },
      "outputs": [],
      "source": [
        "rfc_baseline = RandomForestClassifier()\n",
        "scores = cross_val_score(rfc_baseline, X_scaled_pca, y, cv=skfolds)"
      ]
    },
    {
      "cell_type": "code",
      "execution_count": null,
      "metadata": {
        "id": "B3MOy_WtF7Ik",
        "outputId": "dfd7acdc-1ad6-463d-ca0d-6accab192a64"
      },
      "outputs": [
        {
          "data": {
            "text/plain": [
              "0.5161846922762237"
            ]
          },
          "execution_count": 10,
          "metadata": {},
          "output_type": "execute_result"
        }
      ],
      "source": [
        "scores.mean()"
      ]
    },
    {
      "cell_type": "markdown",
      "metadata": {
        "id": "xmxrclq_Vzuh"
      },
      "source": [
        "## Otimização dos hiperparâmetros\n",
        "\n",
        "Utilização do framework [Optuna](https://https://optuna.readthedocs.io/en/stable/) para otimização de hiperparâmetros"
      ]
    },
    {
      "cell_type": "code",
      "execution_count": null,
      "metadata": {
        "id": "n1DNEwIGWLWB"
      },
      "outputs": [],
      "source": [
        "skfolds = StratifiedKFold(n_splits=5, shuffle=True, random_state=SEED)"
      ]
    },
    {
      "cell_type": "code",
      "execution_count": null,
      "metadata": {
        "id": "GvjnuoZFWUeg"
      },
      "outputs": [],
      "source": [
        "# função de otimização baseada em uma função objetivo\n",
        "def tune(objective):\n",
        "    study = optuna.create_study(direction=\"maximize\")\n",
        "    study.optimize(objective, n_trials=200)\n",
        "\n",
        "    params = study.best_params\n",
        "    print(\"\\n\")\n",
        "    print(f\"Melhor seleção de parâmetros : \\n{params}\")\n",
        "    print(\"\\n\")\n",
        "    print(f\"Acurácia : {study.best_value:.3f}\")\n",
        "\n",
        "    return study, params"
      ]
    },
    {
      "cell_type": "markdown",
      "metadata": {
        "id": "lbKDfpMUOeFw"
      },
      "source": [
        "## Random Forest Classfier \n"
      ]
    },
    {
      "cell_type": "code",
      "execution_count": null,
      "metadata": {
        "id": "bbhivu50F7Ip"
      },
      "outputs": [],
      "source": [
        "X_train, X_test, y_train, y_test = train_test_split(X_scaled_pca, y, test_size=0.3, random_state=SEED)"
      ]
    },
    {
      "cell_type": "code",
      "execution_count": null,
      "metadata": {
        "id": "UQa2QF3qtdeu"
      },
      "outputs": [],
      "source": [
        "def randomforestclassfier_objective(trial: optuna.Trial): \n",
        "    rfc_params = {\n",
        "        \"n_estimators\": trial.suggest_int(\"n_estimators\", 10, 300),\n",
        "        \"criterion\" : trial.suggest_categorical(\"criterion\", choices=[\"gini\", \"entropy\"]),\n",
        "        \"max_depth\":  trial.suggest_int(\"max_depth\", 10, 200),\n",
        "        \"min_samples_split\" : trial.suggest_int(\"min_samples_split\", 5, 50),\n",
        "        \"min_samples_leaf\" : trial.suggest_int(\"min_samples_leaf\", 1, 10),\n",
        "        \"max_features\": trial.suggest_categorical(\"max_features\", choices=[\"auto\", \"sqrt\", \"log2\"]),\n",
        "        \"bootstrap\": trial.suggest_categorical(\"bootstrap\", choices=[\"True\", \"False\"]),\n",
        "        \"random_state\": SEED,\n",
        "    }\n",
        "    \n",
        "    rfc = RandomForestClassifier(**rfc_params)\n",
        "    scores = cross_val_score(rfc, X_train, y_train, n_jobs=-1, cv=skfolds)\n",
        "    accuracy = scores.mean()\n",
        "    return accuracy"
      ]
    },
    {
      "cell_type": "code",
      "execution_count": null,
      "metadata": {
        "colab": {
          "base_uri": "https://localhost:8080/"
        },
        "id": "LpuxgmyNt4Sn",
        "outputId": "15f3084f-c19f-43fa-b49f-654fa30967df"
      },
      "outputs": [
        {
          "name": "stderr",
          "output_type": "stream",
          "text": [
            "\u001b[32m[I 2022-02-18 21:34:33,302]\u001b[0m A new study created in memory with name: no-name-71d98d37-5d72-4e5b-97c3-3cc0bdbf7ce5\u001b[0m\n",
            "\u001b[32m[I 2022-02-18 21:37:21,393]\u001b[0m Trial 0 finished with value: 0.5100593626517976 and parameters: {'n_estimators': 68, 'criterion': 'gini', 'max_depth': 16, 'min_samples_split': 35, 'min_samples_leaf': 6, 'max_features': 'log2', 'bootstrap': 'True'}. Best is trial 0 with value: 0.5100593626517976.\u001b[0m\n",
            "\u001b[32m[I 2022-02-18 21:39:35,703]\u001b[0m Trial 1 finished with value: 0.513228882671032 and parameters: {'n_estimators': 60, 'criterion': 'entropy', 'max_depth': 164, 'min_samples_split': 13, 'min_samples_leaf': 8, 'max_features': 'log2', 'bootstrap': 'False'}. Best is trial 1 with value: 0.513228882671032.\u001b[0m\n",
            "\u001b[32m[I 2022-02-18 21:41:08,178]\u001b[0m Trial 2 finished with value: 0.5128096499122067 and parameters: {'n_estimators': 41, 'criterion': 'gini', 'max_depth': 110, 'min_samples_split': 7, 'min_samples_leaf': 2, 'max_features': 'log2', 'bootstrap': 'True'}. Best is trial 1 with value: 0.513228882671032.\u001b[0m\n",
            "\u001b[32m[I 2022-02-18 21:45:57,916]\u001b[0m Trial 3 finished with value: 0.5136139223683366 and parameters: {'n_estimators': 110, 'criterion': 'entropy', 'max_depth': 83, 'min_samples_split': 37, 'min_samples_leaf': 5, 'max_features': 'auto', 'bootstrap': 'True'}. Best is trial 3 with value: 0.5136139223683366.\u001b[0m\n",
            "\u001b[32m[I 2022-02-18 21:47:21,953]\u001b[0m Trial 4 finished with value: 0.513261588843241 and parameters: {'n_estimators': 30, 'criterion': 'entropy', 'max_depth': 42, 'min_samples_split': 31, 'min_samples_leaf': 10, 'max_features': 'auto', 'bootstrap': 'True'}. Best is trial 3 with value: 0.5136139223683366.\u001b[0m\n",
            "\u001b[32m[I 2022-02-18 21:54:32,932]\u001b[0m Trial 5 finished with value: 0.5138755707183125 and parameters: {'n_estimators': 163, 'criterion': 'entropy', 'max_depth': 28, 'min_samples_split': 47, 'min_samples_leaf': 2, 'max_features': 'auto', 'bootstrap': 'False'}. Best is trial 5 with value: 0.5138755707183125.\u001b[0m\n",
            "\u001b[32m[I 2022-02-18 21:56:29,167]\u001b[0m Trial 6 finished with value: 0.5132318553446048 and parameters: {'n_estimators': 42, 'criterion': 'entropy', 'max_depth': 121, 'min_samples_split': 28, 'min_samples_leaf': 3, 'max_features': 'auto', 'bootstrap': 'False'}. Best is trial 5 with value: 0.5138755707183125.\u001b[0m\n",
            "\u001b[32m[I 2022-02-18 22:05:49,687]\u001b[0m Trial 7 finished with value: 0.5136882539379781 and parameters: {'n_estimators': 251, 'criterion': 'entropy', 'max_depth': 165, 'min_samples_split': 46, 'min_samples_leaf': 9, 'max_features': 'log2', 'bootstrap': 'True'}. Best is trial 5 with value: 0.5138755707183125.\u001b[0m\n",
            "\u001b[32m[I 2022-02-18 22:18:09,952]\u001b[0m Trial 8 finished with value: 0.5138071854130084 and parameters: {'n_estimators': 273, 'criterion': 'gini', 'max_depth': 169, 'min_samples_split': 42, 'min_samples_leaf': 2, 'max_features': 'sqrt', 'bootstrap': 'False'}. Best is trial 5 with value: 0.5138755707183125.\u001b[0m\n",
            "\u001b[32m[I 2022-02-18 22:30:46,159]\u001b[0m Trial 9 finished with value: 0.5136496014572296 and parameters: {'n_estimators': 282, 'criterion': 'gini', 'max_depth': 85, 'min_samples_split': 27, 'min_samples_leaf': 6, 'max_features': 'sqrt', 'bootstrap': 'False'}. Best is trial 5 with value: 0.5138755707183125.\u001b[0m\n",
            "\u001b[32m[I 2022-02-18 22:37:41,403]\u001b[0m Trial 10 finished with value: 0.4725558507496176 and parameters: {'n_estimators': 167, 'criterion': 'entropy', 'max_depth': 11, 'min_samples_split': 50, 'min_samples_leaf': 1, 'max_features': 'auto', 'bootstrap': 'False'}. Best is trial 5 with value: 0.5138755707183125.\u001b[0m\n",
            "\u001b[32m[I 2022-02-18 22:46:50,783]\u001b[0m Trial 11 finished with value: 0.5136525745175702 and parameters: {'n_estimators': 208, 'criterion': 'gini', 'max_depth': 197, 'min_samples_split': 42, 'min_samples_leaf': 4, 'max_features': 'sqrt', 'bootstrap': 'False'}. Best is trial 5 with value: 0.5138755707183125.\u001b[0m\n",
            "\u001b[32m[I 2022-02-18 22:55:58,059]\u001b[0m Trial 12 finished with value: 0.5136005421436635 and parameters: {'n_estimators': 207, 'criterion': 'gini', 'max_depth': 57, 'min_samples_split': 42, 'min_samples_leaf': 1, 'max_features': 'sqrt', 'bootstrap': 'False'}. Best is trial 5 with value: 0.5138755707183125.\u001b[0m\n",
            "\u001b[32m[I 2022-02-18 23:01:45,675]\u001b[0m Trial 13 finished with value: 0.5133715997669877 and parameters: {'n_estimators': 128, 'criterion': 'gini', 'max_depth': 155, 'min_samples_split': 21, 'min_samples_leaf': 3, 'max_features': 'sqrt', 'bootstrap': 'False'}. Best is trial 5 with value: 0.5138755707183125.\u001b[0m\n",
            "\u001b[32m[I 2022-02-18 23:15:19,701]\u001b[0m Trial 14 finished with value: 0.5139053035649691 and parameters: {'n_estimators': 300, 'criterion': 'entropy', 'max_depth': 123, 'min_samples_split': 50, 'min_samples_leaf': 3, 'max_features': 'auto', 'bootstrap': 'False'}. Best is trial 14 with value: 0.5139053035649691.\u001b[0m\n",
            "\u001b[32m[I 2022-02-18 23:24:59,163]\u001b[0m Trial 15 finished with value: 0.5138042117117387 and parameters: {'n_estimators': 224, 'criterion': 'entropy', 'max_depth': 131, 'min_samples_split': 50, 'min_samples_leaf': 4, 'max_features': 'auto', 'bootstrap': 'False'}. Best is trial 14 with value: 0.5139053035649691.\u001b[0m\n",
            "\u001b[32m[I 2022-02-18 23:31:49,824]\u001b[0m Trial 16 finished with value: 0.5136510878161171 and parameters: {'n_estimators': 166, 'criterion': 'entropy', 'max_depth': 84, 'min_samples_split': 37, 'min_samples_leaf': 3, 'max_features': 'auto', 'bootstrap': 'False'}. Best is trial 14 with value: 0.5139053035649691.\u001b[0m\n",
            "\u001b[32m[I 2022-02-18 23:36:43,821]\u001b[0m Trial 17 finished with value: 0.5134147124736506 and parameters: {'n_estimators': 118, 'criterion': 'entropy', 'max_depth': 49, 'min_samples_split': 19, 'min_samples_leaf': 7, 'max_features': 'auto', 'bootstrap': 'False'}. Best is trial 14 with value: 0.5139053035649691.\u001b[0m\n",
            "\u001b[32m[I 2022-02-18 23:45:55,757]\u001b[0m Trial 18 finished with value: 0.5138651643164646 and parameters: {'n_estimators': 228, 'criterion': 'entropy', 'max_depth': 131, 'min_samples_split': 46, 'min_samples_leaf': 4, 'max_features': 'auto', 'bootstrap': 'False'}. Best is trial 14 with value: 0.5139053035649691.\u001b[0m\n",
            "\u001b[32m[I 2022-02-18 23:57:51,924]\u001b[0m Trial 19 finished with value: 0.5139617956012146 and parameters: {'n_estimators': 295, 'criterion': 'entropy', 'max_depth': 98, 'min_samples_split': 46, 'min_samples_leaf': 2, 'max_features': 'auto', 'bootstrap': 'False'}. Best is trial 19 with value: 0.5139617956012146.\u001b[0m\n",
            "\u001b[32m[I 2022-02-19 00:09:53,719]\u001b[0m Trial 20 finished with value: 0.513891923450801 and parameters: {'n_estimators': 292, 'criterion': 'entropy', 'max_depth': 99, 'min_samples_split': 39, 'min_samples_leaf': 5, 'max_features': 'auto', 'bootstrap': 'False'}. Best is trial 19 with value: 0.5139617956012146.\u001b[0m\n",
            "\u001b[32m[I 2022-02-19 00:21:51,874]\u001b[0m Trial 21 finished with value: 0.513929089263248 and parameters: {'n_estimators': 295, 'criterion': 'entropy', 'max_depth': 99, 'min_samples_split': 43, 'min_samples_leaf': 5, 'max_features': 'auto', 'bootstrap': 'False'}. Best is trial 19 with value: 0.5139617956012146.\u001b[0m\n",
            "\u001b[32m[I 2022-02-19 00:33:58,913]\u001b[0m Trial 22 finished with value: 0.5139023302283661 and parameters: {'n_estimators': 300, 'criterion': 'entropy', 'max_depth': 74, 'min_samples_split': 45, 'min_samples_leaf': 4, 'max_features': 'auto', 'bootstrap': 'False'}. Best is trial 19 with value: 0.5139617956012146.\u001b[0m\n",
            "\u001b[32m[I 2022-02-19 00:43:19,462]\u001b[0m Trial 23 finished with value: 0.5137819123170948 and parameters: {'n_estimators': 260, 'criterion': 'entropy', 'max_depth': 106, 'min_samples_split': 34, 'min_samples_leaf': 3, 'max_features': 'auto', 'bootstrap': 'False'}. Best is trial 19 with value: 0.5139617956012146.\u001b[0m\n",
            "\u001b[32m[I 2022-02-19 00:51:00,269]\u001b[0m Trial 24 finished with value: 0.5140301814258923 and parameters: {'n_estimators': 249, 'criterion': 'entropy', 'max_depth': 145, 'min_samples_split': 49, 'min_samples_leaf': 1, 'max_features': 'auto', 'bootstrap': 'False'}. Best is trial 24 with value: 0.5140301814258923.\u001b[0m\n",
            "\u001b[32m[I 2022-02-19 00:58:26,898]\u001b[0m Trial 25 finished with value: 0.513878544264875 and parameters: {'n_estimators': 247, 'criterion': 'entropy', 'max_depth': 145, 'min_samples_split': 41, 'min_samples_leaf': 1, 'max_features': 'auto', 'bootstrap': 'False'}. Best is trial 24 with value: 0.5140301814258923.\u001b[0m\n"
          ]
        },
        {
          "name": "stderr",
          "output_type": "stream",
          "text": [
            "\u001b[32m[I 2022-02-19 01:06:44,501]\u001b[0m Trial 26 finished with value: 0.5138488109761984 and parameters: {'n_estimators': 276, 'criterion': 'entropy', 'max_depth': 185, 'min_samples_split': 45, 'min_samples_leaf': 7, 'max_features': 'auto', 'bootstrap': 'True'}. Best is trial 24 with value: 0.5140301814258923.\u001b[0m\n",
            "\u001b[32m[I 2022-02-19 01:14:10,106]\u001b[0m Trial 27 finished with value: 0.5136808207953796 and parameters: {'n_estimators': 248, 'criterion': 'entropy', 'max_depth': 66, 'min_samples_split': 32, 'min_samples_leaf': 2, 'max_features': 'auto', 'bootstrap': 'False'}. Best is trial 24 with value: 0.5140301814258923.\u001b[0m\n",
            "\u001b[32m[I 2022-02-19 01:19:09,391]\u001b[0m Trial 28 finished with value: 0.5137848858636573 and parameters: {'n_estimators': 191, 'criterion': 'entropy', 'max_depth': 144, 'min_samples_split': 48, 'min_samples_leaf': 1, 'max_features': 'log2', 'bootstrap': 'False'}. Best is trial 24 with value: 0.5140301814258923.\u001b[0m\n",
            "\u001b[32m[I 2022-02-19 01:27:00,106]\u001b[0m Trial 29 finished with value: 0.513829484907107 and parameters: {'n_estimators': 262, 'criterion': 'entropy', 'max_depth': 92, 'min_samples_split': 39, 'min_samples_leaf': 5, 'max_features': 'auto', 'bootstrap': 'True'}. Best is trial 24 with value: 0.5140301814258923.\u001b[0m\n",
            "\u001b[32m[I 2022-02-19 01:32:47,019]\u001b[0m Trial 30 finished with value: 0.5135871624052124 and parameters: {'n_estimators': 228, 'criterion': 'entropy', 'max_depth': 115, 'min_samples_split': 23, 'min_samples_leaf': 7, 'max_features': 'log2', 'bootstrap': 'False'}. Best is trial 24 with value: 0.5140301814258923.\u001b[0m\n",
            "\u001b[32m[I 2022-02-19 01:41:39,718]\u001b[0m Trial 31 finished with value: 0.5139231428773551 and parameters: {'n_estimators': 293, 'criterion': 'entropy', 'max_depth': 128, 'min_samples_split': 50, 'min_samples_leaf': 2, 'max_features': 'auto', 'bootstrap': 'False'}. Best is trial 24 with value: 0.5140301814258923.\u001b[0m\n",
            "\u001b[32m[I 2022-02-19 01:49:52,035]\u001b[0m Trial 32 finished with value: 0.5139469294596741 and parameters: {'n_estimators': 279, 'criterion': 'entropy', 'max_depth': 139, 'min_samples_split': 43, 'min_samples_leaf': 2, 'max_features': 'auto', 'bootstrap': 'False'}. Best is trial 24 with value: 0.5140301814258923.\u001b[0m\n",
            "\u001b[32m[I 2022-02-19 01:58:10,899]\u001b[0m Trial 33 finished with value: 0.5138948968868584 and parameters: {'n_estimators': 271, 'criterion': 'entropy', 'max_depth': 146, 'min_samples_split': 44, 'min_samples_leaf': 1, 'max_features': 'auto', 'bootstrap': 'False'}. Best is trial 24 with value: 0.5140301814258923.\u001b[0m\n",
            "\u001b[32m[I 2022-02-19 02:05:43,619]\u001b[0m Trial 34 finished with value: 0.5137610995907523 and parameters: {'n_estimators': 241, 'criterion': 'entropy', 'max_depth': 105, 'min_samples_split': 36, 'min_samples_leaf': 2, 'max_features': 'auto', 'bootstrap': 'False'}. Best is trial 24 with value: 0.5140301814258923.\u001b[0m\n",
            "\u001b[32m[I 2022-02-19 02:13:00,884]\u001b[0m Trial 35 finished with value: 0.513564862955316 and parameters: {'n_estimators': 283, 'criterion': 'entropy', 'max_depth': 182, 'min_samples_split': 12, 'min_samples_leaf': 8, 'max_features': 'log2', 'bootstrap': 'True'}. Best is trial 24 with value: 0.5140301814258923.\u001b[0m\n",
            "\u001b[32m[I 2022-02-19 02:15:37,301]\u001b[0m Trial 36 finished with value: 0.5136629809525696 and parameters: {'n_estimators': 86, 'criterion': 'entropy', 'max_depth': 95, 'min_samples_split': 39, 'min_samples_leaf': 2, 'max_features': 'auto', 'bootstrap': 'False'}. Best is trial 24 with value: 0.5140301814258923.\u001b[0m\n",
            "\u001b[32m[I 2022-02-19 02:23:30,921]\u001b[0m Trial 37 finished with value: 0.5138339450777689 and parameters: {'n_estimators': 267, 'criterion': 'gini', 'max_depth': 138, 'min_samples_split': 48, 'min_samples_leaf': 6, 'max_features': 'auto', 'bootstrap': 'True'}. Best is trial 24 with value: 0.5140301814258923.\u001b[0m\n",
            "\u001b[32m[I 2022-02-19 02:28:01,402]\u001b[0m Trial 38 finished with value: 0.5135321565952482 and parameters: {'n_estimators': 143, 'criterion': 'entropy', 'max_depth': 115, 'min_samples_split': 43, 'min_samples_leaf': 10, 'max_features': 'auto', 'bootstrap': 'False'}. Best is trial 24 with value: 0.5140301814258923.\u001b[0m\n",
            "\u001b[32m[I 2022-02-19 02:28:24,276]\u001b[0m Trial 39 finished with value: 0.5129315533646281 and parameters: {'n_estimators': 14, 'criterion': 'entropy', 'max_depth': 155, 'min_samples_split': 40, 'min_samples_leaf': 1, 'max_features': 'log2', 'bootstrap': 'False'}. Best is trial 24 with value: 0.5140301814258923.\u001b[0m\n",
            "\u001b[32m[I 2022-02-19 02:34:25,166]\u001b[0m Trial 40 finished with value: 0.5136748746194462 and parameters: {'n_estimators': 196, 'criterion': 'entropy', 'max_depth': 75, 'min_samples_split': 34, 'min_samples_leaf': 2, 'max_features': 'auto', 'bootstrap': 'True'}. Best is trial 24 with value: 0.5140301814258923.\u001b[0m\n",
            "\u001b[32m[I 2022-02-19 02:43:12,747]\u001b[0m Trial 41 finished with value: 0.5139989614799646 and parameters: {'n_estimators': 287, 'criterion': 'entropy', 'max_depth': 127, 'min_samples_split': 48, 'min_samples_leaf': 2, 'max_features': 'auto', 'bootstrap': 'False'}. Best is trial 24 with value: 0.5140301814258923.\u001b[0m\n",
            "\u001b[32m[I 2022-02-19 02:52:08,456]\u001b[0m Trial 42 finished with value: 0.513880030480106 and parameters: {'n_estimators': 287, 'criterion': 'entropy', 'max_depth': 111, 'min_samples_split': 47, 'min_samples_leaf': 3, 'max_features': 'auto', 'bootstrap': 'False'}. Best is trial 24 with value: 0.5140301814258923.\u001b[0m\n",
            "\u001b[32m[I 2022-02-19 03:00:13,801]\u001b[0m Trial 43 finished with value: 0.5133894394329895 and parameters: {'n_estimators': 262, 'criterion': 'entropy', 'max_depth': 155, 'min_samples_split': 5, 'min_samples_leaf': 2, 'max_features': 'auto', 'bootstrap': 'False'}. Best is trial 24 with value: 0.5140301814258923.\u001b[0m\n",
            "\u001b[32m[I 2022-02-19 03:08:53,813]\u001b[0m Trial 44 finished with value: 0.5140405878277403 and parameters: {'n_estimators': 280, 'criterion': 'entropy', 'max_depth': 172, 'min_samples_split': 48, 'min_samples_leaf': 1, 'max_features': 'auto', 'bootstrap': 'False'}. Best is trial 44 with value: 0.5140405878277403.\u001b[0m\n",
            "\u001b[32m[I 2022-02-19 03:17:28,094]\u001b[0m Trial 45 finished with value: 0.5137952920665964 and parameters: {'n_estimators': 280, 'criterion': 'gini', 'max_depth': 168, 'min_samples_split': 48, 'min_samples_leaf': 1, 'max_features': 'sqrt', 'bootstrap': 'False'}. Best is trial 44 with value: 0.5140405878277403.\u001b[0m\n",
            "\u001b[32m[I 2022-02-19 03:24:41,420]\u001b[0m Trial 46 finished with value: 0.5138948971299696 and parameters: {'n_estimators': 237, 'criterion': 'entropy', 'max_depth': 176, 'min_samples_split': 45, 'min_samples_leaf': 1, 'max_features': 'auto', 'bootstrap': 'False'}. Best is trial 44 with value: 0.5140405878277403.\u001b[0m\n",
            "\u001b[32m[I 2022-02-19 03:32:42,215]\u001b[0m Trial 47 finished with value: 0.513890436948257 and parameters: {'n_estimators': 260, 'criterion': 'entropy', 'max_depth': 159, 'min_samples_split': 48, 'min_samples_leaf': 2, 'max_features': 'auto', 'bootstrap': 'False'}. Best is trial 44 with value: 0.5140405878277403.\u001b[0m\n",
            "\u001b[32m[I 2022-02-19 03:40:24,382]\u001b[0m Trial 48 finished with value: 0.5137150135916884 and parameters: {'n_estimators': 254, 'criterion': 'gini', 'max_depth': 200, 'min_samples_split': 46, 'min_samples_leaf': 3, 'max_features': 'sqrt', 'bootstrap': 'False'}. Best is trial 44 with value: 0.5140405878277403.\u001b[0m\n",
            "\u001b[32m[I 2022-02-19 03:48:57,905]\u001b[0m Trial 49 finished with value: 0.5141268131858139 and parameters: {'n_estimators': 278, 'criterion': 'entropy', 'max_depth': 26, 'min_samples_split': 50, 'min_samples_leaf': 1, 'max_features': 'auto', 'bootstrap': 'False'}. Best is trial 49 with value: 0.5141268131858139.\u001b[0m\n",
            "\u001b[32m[I 2022-02-19 03:55:33,592]\u001b[0m Trial 50 finished with value: 0.5139246303523431 and parameters: {'n_estimators': 217, 'criterion': 'entropy', 'max_depth': 30, 'min_samples_split': 50, 'min_samples_leaf': 1, 'max_features': 'auto', 'bootstrap': 'False'}. Best is trial 49 with value: 0.5141268131858139.\u001b[0m\n",
            "\u001b[32m[I 2022-02-19 04:04:12,981]\u001b[0m Trial 51 finished with value: 0.5140301814590438 and parameters: {'n_estimators': 275, 'criterion': 'entropy', 'max_depth': 122, 'min_samples_split': 47, 'min_samples_leaf': 1, 'max_features': 'auto', 'bootstrap': 'False'}. Best is trial 49 with value: 0.5141268131858139.\u001b[0m\n",
            "\u001b[32m[I 2022-02-19 04:12:43,504]\u001b[0m Trial 52 finished with value: 0.5140628877528084 and parameters: {'n_estimators': 276, 'criterion': 'entropy', 'max_depth': 27, 'min_samples_split': 48, 'min_samples_leaf': 1, 'max_features': 'auto', 'bootstrap': 'False'}. Best is trial 49 with value: 0.5141268131858139.\u001b[0m\n"
          ]
        },
        {
          "name": "stderr",
          "output_type": "stream",
          "text": [
            "\u001b[32m[I 2022-02-19 04:21:02,986]\u001b[0m Trial 53 finished with value: 0.5143334565104114 and parameters: {'n_estimators': 272, 'criterion': 'entropy', 'max_depth': 23, 'min_samples_split': 48, 'min_samples_leaf': 1, 'max_features': 'auto', 'bootstrap': 'False'}. Best is trial 53 with value: 0.5143334565104114.\u001b[0m\n",
            "\u001b[32m[I 2022-02-19 04:28:14,672]\u001b[0m Trial 54 finished with value: 0.5146486255380698 and parameters: {'n_estimators': 234, 'criterion': 'entropy', 'max_depth': 20, 'min_samples_split': 48, 'min_samples_leaf': 1, 'max_features': 'auto', 'bootstrap': 'False'}. Best is trial 54 with value: 0.5146486255380698.\u001b[0m\n",
            "\u001b[32m[I 2022-02-19 04:36:47,199]\u001b[0m Trial 55 finished with value: 0.5139290899925811 and parameters: {'n_estimators': 271, 'criterion': 'entropy', 'max_depth': 28, 'min_samples_split': 44, 'min_samples_leaf': 1, 'max_features': 'auto', 'bootstrap': 'False'}. Best is trial 54 with value: 0.5146486255380698.\u001b[0m\n",
            "\u001b[32m[I 2022-02-19 04:43:58,255]\u001b[0m Trial 56 finished with value: 0.5146724123634999 and parameters: {'n_estimators': 236, 'criterion': 'gini', 'max_depth': 20, 'min_samples_split': 41, 'min_samples_leaf': 1, 'max_features': 'sqrt', 'bootstrap': 'False'}. Best is trial 56 with value: 0.5146724123634999.\u001b[0m\n",
            "\u001b[32m[I 2022-02-19 04:49:31,709]\u001b[0m Trial 57 finished with value: 0.5142070929646814 and parameters: {'n_estimators': 186, 'criterion': 'gini', 'max_depth': 18, 'min_samples_split': 41, 'min_samples_leaf': 1, 'max_features': 'sqrt', 'bootstrap': 'False'}. Best is trial 56 with value: 0.5146724123634999.\u001b[0m\n",
            "\u001b[32m[I 2022-02-19 04:55:20,287]\u001b[0m Trial 58 finished with value: 0.5141862799731268 and parameters: {'n_estimators': 191, 'criterion': 'gini', 'max_depth': 18, 'min_samples_split': 41, 'min_samples_leaf': 1, 'max_features': 'sqrt', 'bootstrap': 'False'}. Best is trial 56 with value: 0.5146724123634999.\u001b[0m\n",
            "\u001b[32m[I 2022-02-19 05:00:52,784]\u001b[0m Trial 59 finished with value: 0.5142546664276832 and parameters: {'n_estimators': 183, 'criterion': 'gini', 'max_depth': 18, 'min_samples_split': 29, 'min_samples_leaf': 3, 'max_features': 'sqrt', 'bootstrap': 'True'}. Best is trial 56 with value: 0.5146724123634999.\u001b[0m\n",
            "\u001b[32m[I 2022-02-19 05:06:20,763]\u001b[0m Trial 60 finished with value: 0.5131842838927945 and parameters: {'n_estimators': 183, 'criterion': 'gini', 'max_depth': 17, 'min_samples_split': 29, 'min_samples_leaf': 3, 'max_features': 'sqrt', 'bootstrap': 'True'}. Best is trial 56 with value: 0.5146724123634999.\u001b[0m\n",
            "\u001b[32m[I 2022-02-19 05:11:56,836]\u001b[0m Trial 61 finished with value: 0.5135559429676079 and parameters: {'n_estimators': 181, 'criterion': 'gini', 'max_depth': 38, 'min_samples_split': 37, 'min_samples_leaf': 1, 'max_features': 'sqrt', 'bootstrap': 'True'}. Best is trial 56 with value: 0.5146724123634999.\u001b[0m\n",
            "\u001b[32m[I 2022-02-19 05:16:10,223]\u001b[0m Trial 62 finished with value: 0.45171313277981023 and parameters: {'n_estimators': 155, 'criterion': 'gini', 'max_depth': 10, 'min_samples_split': 41, 'min_samples_leaf': 1, 'max_features': 'sqrt', 'bootstrap': 'True'}. Best is trial 56 with value: 0.5146724123634999.\u001b[0m\n",
            "\u001b[32m[I 2022-02-19 05:22:09,865]\u001b[0m Trial 63 finished with value: 0.5133225411054012 and parameters: {'n_estimators': 211, 'criterion': 'gini', 'max_depth': 17, 'min_samples_split': 26, 'min_samples_leaf': 2, 'max_features': 'sqrt', 'bootstrap': 'True'}. Best is trial 56 with value: 0.5146724123634999.\u001b[0m\n",
            "\u001b[32m[I 2022-02-19 05:28:09,044]\u001b[0m Trial 64 finished with value: 0.5133299735628685 and parameters: {'n_estimators': 198, 'criterion': 'gini', 'max_depth': 43, 'min_samples_split': 14, 'min_samples_leaf': 1, 'max_features': 'sqrt', 'bootstrap': 'True'}. Best is trial 56 with value: 0.5146724123634999.\u001b[0m\n",
            "\u001b[32m[I 2022-02-19 05:33:23,333]\u001b[0m Trial 65 finished with value: 0.514346836701933 and parameters: {'n_estimators': 174, 'criterion': 'gini', 'max_depth': 22, 'min_samples_split': 31, 'min_samples_leaf': 4, 'max_features': 'sqrt', 'bootstrap': 'False'}. Best is trial 56 with value: 0.5146724123634999.\u001b[0m\n",
            "\u001b[32m[I 2022-02-19 05:38:37,435]\u001b[0m Trial 66 finished with value: 0.5143765699906098 and parameters: {'n_estimators': 177, 'criterion': 'gini', 'max_depth': 21, 'min_samples_split': 30, 'min_samples_leaf': 4, 'max_features': 'sqrt', 'bootstrap': 'False'}. Best is trial 56 with value: 0.5146724123634999.\u001b[0m\n",
            "\u001b[32m[I 2022-02-19 05:43:58,819]\u001b[0m Trial 67 finished with value: 0.5135827026765705 and parameters: {'n_estimators': 174, 'criterion': 'gini', 'max_depth': 36, 'min_samples_split': 31, 'min_samples_leaf': 4, 'max_features': 'sqrt', 'bootstrap': 'False'}. Best is trial 56 with value: 0.5146724123634999.\u001b[0m\n",
            "\u001b[32m[I 2022-02-19 05:48:28,626]\u001b[0m Trial 68 finished with value: 0.5134147122968427 and parameters: {'n_estimators': 146, 'criterion': 'gini', 'max_depth': 54, 'min_samples_split': 25, 'min_samples_leaf': 4, 'max_features': 'sqrt', 'bootstrap': 'True'}. Best is trial 56 with value: 0.5146724123634999.\u001b[0m\n",
            "\u001b[32m[I 2022-02-19 05:53:03,516]\u001b[0m Trial 69 finished with value: 0.5139930159449604 and parameters: {'n_estimators': 158, 'criterion': 'gini', 'max_depth': 23, 'min_samples_split': 29, 'min_samples_leaf': 4, 'max_features': 'sqrt', 'bootstrap': 'False'}. Best is trial 56 with value: 0.5146724123634999.\u001b[0m\n",
            "\u001b[32m[I 2022-02-19 05:57:00,578]\u001b[0m Trial 70 finished with value: 0.5134712046756538 and parameters: {'n_estimators': 128, 'criterion': 'gini', 'max_depth': 36, 'min_samples_split': 32, 'min_samples_leaf': 5, 'max_features': 'sqrt', 'bootstrap': 'False'}. Best is trial 56 with value: 0.5146724123634999.\u001b[0m\n",
            "\u001b[32m[I 2022-02-19 06:02:14,622]\u001b[0m Trial 71 finished with value: 0.5147095784190581 and parameters: {'n_estimators': 173, 'criterion': 'gini', 'max_depth': 20, 'min_samples_split': 35, 'min_samples_leaf': 3, 'max_features': 'sqrt', 'bootstrap': 'False'}. Best is trial 71 with value: 0.5147095784190581.\u001b[0m\n",
            "\u001b[32m[I 2022-02-19 06:06:46,302]\u001b[0m Trial 72 finished with value: 0.4523345487478235 and parameters: {'n_estimators': 169, 'criterion': 'gini', 'max_depth': 10, 'min_samples_split': 34, 'min_samples_leaf': 3, 'max_features': 'sqrt', 'bootstrap': 'False'}. Best is trial 71 with value: 0.5147095784190581.\u001b[0m\n",
            "\u001b[32m[I 2022-02-19 06:12:36,931]\u001b[0m Trial 73 finished with value: 0.5144806355561601 and parameters: {'n_estimators': 202, 'criterion': 'gini', 'max_depth': 21, 'min_samples_split': 30, 'min_samples_leaf': 3, 'max_features': 'sqrt', 'bootstrap': 'False'}. Best is trial 71 with value: 0.5147095784190581.\u001b[0m\n",
            "\u001b[32m[I 2022-02-19 06:18:58,299]\u001b[0m Trial 74 finished with value: 0.5135589163484129 and parameters: {'n_estimators': 205, 'criterion': 'gini', 'max_depth': 43, 'min_samples_split': 30, 'min_samples_leaf': 4, 'max_features': 'sqrt', 'bootstrap': 'False'}. Best is trial 71 with value: 0.5147095784190581.\u001b[0m\n",
            "\u001b[32m[I 2022-02-19 06:25:37,210]\u001b[0m Trial 75 finished with value: 0.5134830977458033 and parameters: {'n_estimators': 219, 'criterion': 'gini', 'max_depth': 49, 'min_samples_split': 27, 'min_samples_leaf': 3, 'max_features': 'sqrt', 'bootstrap': 'False'}. Best is trial 71 with value: 0.5147095784190581.\u001b[0m\n",
            "\u001b[32m[I 2022-02-19 06:32:45,477]\u001b[0m Trial 76 finished with value: 0.5142204721727082 and parameters: {'n_estimators': 234, 'criterion': 'gini', 'max_depth': 23, 'min_samples_split': 32, 'min_samples_leaf': 5, 'max_features': 'sqrt', 'bootstrap': 'False'}. Best is trial 71 with value: 0.5147095784190581.\u001b[0m\n",
            "\u001b[32m[I 2022-02-19 06:37:15,411]\u001b[0m Trial 77 finished with value: 0.5134340385648433 and parameters: {'n_estimators': 145, 'criterion': 'gini', 'max_depth': 32, 'min_samples_split': 25, 'min_samples_leaf': 4, 'max_features': 'sqrt', 'bootstrap': 'False'}. Best is trial 71 with value: 0.5147095784190581.\u001b[0m\n",
            "\u001b[32m[I 2022-02-19 06:42:23,508]\u001b[0m Trial 78 finished with value: 0.5141803327031936 and parameters: {'n_estimators': 176, 'criterion': 'gini', 'max_depth': 23, 'min_samples_split': 35, 'min_samples_leaf': 3, 'max_features': 'sqrt', 'bootstrap': 'False'}. Best is trial 71 with value: 0.5147095784190581.\u001b[0m\n",
            "\u001b[32m[I 2022-02-19 06:48:15,179]\u001b[0m Trial 79 finished with value: 0.503220808307556 and parameters: {'n_estimators': 202, 'criterion': 'gini', 'max_depth': 14, 'min_samples_split': 28, 'min_samples_leaf': 4, 'max_features': 'sqrt', 'bootstrap': 'True'}. Best is trial 71 with value: 0.5147095784190581.\u001b[0m\n"
          ]
        },
        {
          "name": "stderr",
          "output_type": "stream",
          "text": [
            "\u001b[32m[I 2022-02-19 06:53:04,351]\u001b[0m Trial 80 finished with value: 0.5134028192045922 and parameters: {'n_estimators': 159, 'criterion': 'gini', 'max_depth': 32, 'min_samples_split': 23, 'min_samples_leaf': 3, 'max_features': 'sqrt', 'bootstrap': 'False'}. Best is trial 71 with value: 0.5147095784190581.\u001b[0m\n",
            "\u001b[32m[I 2022-02-19 06:59:53,155]\u001b[0m Trial 81 finished with value: 0.5146397061691899 and parameters: {'n_estimators': 235, 'criterion': 'gini', 'max_depth': 20, 'min_samples_split': 32, 'min_samples_leaf': 5, 'max_features': 'sqrt', 'bootstrap': 'False'}. Best is trial 71 with value: 0.5147095784190581.\u001b[0m\n",
            "\u001b[32m[I 2022-02-19 07:06:47,361]\u001b[0m Trial 82 finished with value: 0.514361703141837 and parameters: {'n_estimators': 227, 'criterion': 'gini', 'max_depth': 22, 'min_samples_split': 33, 'min_samples_leaf': 6, 'max_features': 'sqrt', 'bootstrap': 'False'}. Best is trial 71 with value: 0.5147095784190581.\u001b[0m\n",
            "\u001b[32m[I 2022-02-19 07:13:39,834]\u001b[0m Trial 83 finished with value: 0.5141639798823012 and parameters: {'n_estimators': 227, 'criterion': 'gini', 'max_depth': 23, 'min_samples_split': 31, 'min_samples_leaf': 6, 'max_features': 'sqrt', 'bootstrap': 'False'}. Best is trial 71 with value: 0.5147095784190581.\u001b[0m\n",
            "\u001b[32m[I 2022-02-19 07:19:21,771]\u001b[0m Trial 84 finished with value: 0.5135499963938563 and parameters: {'n_estimators': 214, 'criterion': 'gini', 'max_depth': 37, 'min_samples_split': 33, 'min_samples_leaf': 6, 'max_features': 'log2', 'bootstrap': 'False'}. Best is trial 71 with value: 0.5147095784190581.\u001b[0m\n",
            "\u001b[32m[I 2022-02-19 07:26:29,045]\u001b[0m Trial 85 finished with value: 0.4950056265876661 and parameters: {'n_estimators': 245, 'criterion': 'gini', 'max_depth': 13, 'min_samples_split': 33, 'min_samples_leaf': 5, 'max_features': 'sqrt', 'bootstrap': 'False'}. Best is trial 71 with value: 0.5147095784190581.\u001b[0m\n",
            "\u001b[32m[I 2022-02-19 07:33:29,441]\u001b[0m Trial 86 finished with value: 0.5136540611637705 and parameters: {'n_estimators': 222, 'criterion': 'gini', 'max_depth': 45, 'min_samples_split': 38, 'min_samples_leaf': 6, 'max_features': 'sqrt', 'bootstrap': 'False'}. Best is trial 71 with value: 0.5147095784190581.\u001b[0m\n",
            "\u001b[32m[I 2022-02-19 07:40:33,958]\u001b[0m Trial 87 finished with value: 0.514532667167582 and parameters: {'n_estimators': 234, 'criterion': 'gini', 'max_depth': 21, 'min_samples_split': 35, 'min_samples_leaf': 7, 'max_features': 'sqrt', 'bootstrap': 'False'}. Best is trial 71 with value: 0.5147095784190581.\u001b[0m\n",
            "\u001b[32m[I 2022-02-19 07:47:42,180]\u001b[0m Trial 88 finished with value: 0.5136956874341927 and parameters: {'n_estimators': 232, 'criterion': 'gini', 'max_depth': 32, 'min_samples_split': 36, 'min_samples_leaf': 7, 'max_features': 'sqrt', 'bootstrap': 'False'}. Best is trial 71 with value: 0.5147095784190581.\u001b[0m\n",
            "\u001b[32m[I 2022-02-19 07:55:04,836]\u001b[0m Trial 89 finished with value: 0.5137343399259916 and parameters: {'n_estimators': 240, 'criterion': 'gini', 'max_depth': 56, 'min_samples_split': 35, 'min_samples_leaf': 7, 'max_features': 'sqrt', 'bootstrap': 'False'}. Best is trial 71 with value: 0.5147095784190581.\u001b[0m\n",
            "\u001b[32m[I 2022-02-19 08:01:03,708]\u001b[0m Trial 90 finished with value: 0.4948093913556436 and parameters: {'n_estimators': 209, 'criterion': 'gini', 'max_depth': 13, 'min_samples_split': 31, 'min_samples_leaf': 8, 'max_features': 'sqrt', 'bootstrap': 'False'}. Best is trial 71 with value: 0.5147095784190581.\u001b[0m\n",
            "\u001b[32m[I 2022-02-19 08:08:50,188]\u001b[0m Trial 91 finished with value: 0.514458335432183 and parameters: {'n_estimators': 257, 'criterion': 'gini', 'max_depth': 21, 'min_samples_split': 36, 'min_samples_leaf': 6, 'max_features': 'sqrt', 'bootstrap': 'False'}. Best is trial 71 with value: 0.5147095784190581.\u001b[0m\n",
            "\u001b[32m[I 2022-02-19 08:16:32,993]\u001b[0m Trial 92 finished with value: 0.5144494157870404 and parameters: {'n_estimators': 257, 'criterion': 'gini', 'max_depth': 21, 'min_samples_split': 37, 'min_samples_leaf': 6, 'max_features': 'sqrt', 'bootstrap': 'False'}. Best is trial 71 with value: 0.5147095784190581.\u001b[0m\n",
            "\u001b[32m[I 2022-02-19 08:24:28,840]\u001b[0m Trial 93 finished with value: 0.5137670461424028 and parameters: {'n_estimators': 258, 'criterion': 'gini', 'max_depth': 29, 'min_samples_split': 36, 'min_samples_leaf': 6, 'max_features': 'sqrt', 'bootstrap': 'False'}. Best is trial 71 with value: 0.5147095784190581.\u001b[0m\n",
            "\u001b[32m[I 2022-02-19 08:32:19,344]\u001b[0m Trial 94 finished with value: 0.5147229577265394 and parameters: {'n_estimators': 254, 'criterion': 'gini', 'max_depth': 20, 'min_samples_split': 38, 'min_samples_leaf': 5, 'max_features': 'sqrt', 'bootstrap': 'False'}. Best is trial 94 with value: 0.5147229577265394.\u001b[0m\n",
            "\u001b[32m[I 2022-02-19 08:39:46,001]\u001b[0m Trial 95 finished with value: 0.5073373212382286 and parameters: {'n_estimators': 249, 'criterion': 'gini', 'max_depth': 15, 'min_samples_split': 38, 'min_samples_leaf': 8, 'max_features': 'sqrt', 'bootstrap': 'False'}. Best is trial 94 with value: 0.5147229577265394.\u001b[0m\n",
            "\u001b[32m[I 2022-02-19 08:47:42,814]\u001b[0m Trial 96 finished with value: 0.5136347352051841 and parameters: {'n_estimators': 254, 'criterion': 'gini', 'max_depth': 40, 'min_samples_split': 38, 'min_samples_leaf': 5, 'max_features': 'sqrt', 'bootstrap': 'False'}. Best is trial 94 with value: 0.5147229577265394.\u001b[0m\n",
            "\u001b[32m[I 2022-02-19 08:53:58,608]\u001b[0m Trial 97 finished with value: 0.5137982653700478 and parameters: {'n_estimators': 241, 'criterion': 'gini', 'max_depth': 27, 'min_samples_split': 40, 'min_samples_leaf': 5, 'max_features': 'log2', 'bootstrap': 'False'}. Best is trial 94 with value: 0.5147229577265394.\u001b[0m\n",
            "\u001b[32m[I 2022-02-19 09:02:07,789]\u001b[0m Trial 98 finished with value: 0.5137031206099427 and parameters: {'n_estimators': 264, 'criterion': 'gini', 'max_depth': 33, 'min_samples_split': 37, 'min_samples_leaf': 7, 'max_features': 'sqrt', 'bootstrap': 'False'}. Best is trial 94 with value: 0.5147229577265394.\u001b[0m\n",
            "\u001b[32m[I 2022-02-19 09:09:09,281]\u001b[0m Trial 99 finished with value: 0.5144806359871297 and parameters: {'n_estimators': 234, 'criterion': 'gini', 'max_depth': 19, 'min_samples_split': 34, 'min_samples_leaf': 5, 'max_features': 'sqrt', 'bootstrap': 'False'}. Best is trial 94 with value: 0.5147229577265394.\u001b[0m\n",
            "\u001b[32m[I 2022-02-19 09:16:16,524]\u001b[0m Trial 100 finished with value: 0.5139573376848551 and parameters: {'n_estimators': 236, 'criterion': 'gini', 'max_depth': 18, 'min_samples_split': 34, 'min_samples_leaf': 5, 'max_features': 'sqrt', 'bootstrap': 'False'}. Best is trial 94 with value: 0.5147229577265394.\u001b[0m\n",
            "\u001b[32m[I 2022-02-19 09:24:01,925]\u001b[0m Trial 101 finished with value: 0.5145965939929509 and parameters: {'n_estimators': 256, 'criterion': 'gini', 'max_depth': 19, 'min_samples_split': 35, 'min_samples_leaf': 5, 'max_features': 'sqrt', 'bootstrap': 'False'}. Best is trial 94 with value: 0.5147229577265394.\u001b[0m\n",
            "\u001b[32m[I 2022-02-19 09:30:48,407]\u001b[0m Trial 102 finished with value: 0.45214277215044313 and parameters: {'n_estimators': 250, 'criterion': 'gini', 'max_depth': 10, 'min_samples_split': 36, 'min_samples_leaf': 5, 'max_features': 'sqrt', 'bootstrap': 'False'}. Best is trial 94 with value: 0.5147229577265394.\u001b[0m\n",
            "\u001b[32m[I 2022-02-19 09:37:51,116]\u001b[0m Trial 103 finished with value: 0.5137610995797018 and parameters: {'n_estimators': 232, 'criterion': 'gini', 'max_depth': 26, 'min_samples_split': 39, 'min_samples_leaf': 6, 'max_features': 'sqrt', 'bootstrap': 'False'}. Best is trial 94 with value: 0.5147229577265394.\u001b[0m\n",
            "\u001b[32m[I 2022-02-19 09:45:09,071]\u001b[0m Trial 104 finished with value: 0.5146352460869319 and parameters: {'n_estimators': 243, 'criterion': 'gini', 'max_depth': 20, 'min_samples_split': 35, 'min_samples_leaf': 5, 'max_features': 'sqrt', 'bootstrap': 'False'}. Best is trial 94 with value: 0.5147229577265394.\u001b[0m\n",
            "\u001b[32m[I 2022-02-19 09:52:21,378]\u001b[0m Trial 105 finished with value: 0.5077015476235142 and parameters: {'n_estimators': 244, 'criterion': 'gini', 'max_depth': 15, 'min_samples_split': 35, 'min_samples_leaf': 5, 'max_features': 'sqrt', 'bootstrap': 'False'}. Best is trial 94 with value: 0.5147229577265394.\u001b[0m\n",
            "\u001b[32m[I 2022-02-19 09:59:12,990]\u001b[0m Trial 106 finished with value: 0.5135901358081185 and parameters: {'n_estimators': 220, 'criterion': 'gini', 'max_depth': 34, 'min_samples_split': 33, 'min_samples_leaf': 5, 'max_features': 'sqrt', 'bootstrap': 'False'}. Best is trial 94 with value: 0.5147229577265394.\u001b[0m\n"
          ]
        },
        {
          "name": "stderr",
          "output_type": "stream",
          "text": [
            "\u001b[32m[I 2022-02-19 10:07:32,390]\u001b[0m Trial 107 finished with value: 0.5137373132957463 and parameters: {'n_estimators': 266, 'criterion': 'gini', 'max_depth': 62, 'min_samples_split': 34, 'min_samples_leaf': 9, 'max_features': 'sqrt', 'bootstrap': 'False'}. Best is trial 94 with value: 0.5147229577265394.\u001b[0m\n",
            "\u001b[32m[I 2022-02-19 10:15:25,025]\u001b[0m Trial 108 finished with value: 0.5137387997872397 and parameters: {'n_estimators': 252, 'criterion': 'gini', 'max_depth': 28, 'min_samples_split': 35, 'min_samples_leaf': 5, 'max_features': 'sqrt', 'bootstrap': 'False'}. Best is trial 94 with value: 0.5147229577265394.\u001b[0m\n",
            "\u001b[32m[I 2022-02-19 10:22:29,300]\u001b[0m Trial 109 finished with value: 0.5146218665252889 and parameters: {'n_estimators': 237, 'criterion': 'gini', 'max_depth': 20, 'min_samples_split': 32, 'min_samples_leaf': 5, 'max_features': 'sqrt', 'bootstrap': 'False'}. Best is trial 94 with value: 0.5147229577265394.\u001b[0m\n",
            "\u001b[32m[I 2022-02-19 10:27:42,886]\u001b[0m Trial 110 finished with value: 0.49360075075725957 and parameters: {'n_estimators': 214, 'criterion': 'gini', 'max_depth': 13, 'min_samples_split': 32, 'min_samples_leaf': 5, 'max_features': 'log2', 'bootstrap': 'False'}. Best is trial 94 with value: 0.5147229577265394.\u001b[0m\n",
            "\u001b[32m[I 2022-02-19 10:34:33,870]\u001b[0m Trial 111 finished with value: 0.514693225299802 and parameters: {'n_estimators': 224, 'criterion': 'gini', 'max_depth': 20, 'min_samples_split': 37, 'min_samples_leaf': 5, 'max_features': 'sqrt', 'bootstrap': 'False'}. Best is trial 94 with value: 0.5147229577265394.\u001b[0m\n",
            "\u001b[32m[I 2022-02-19 10:41:30,673]\u001b[0m Trial 112 finished with value: 0.513993016994758 and parameters: {'n_estimators': 231, 'criterion': 'gini', 'max_depth': 18, 'min_samples_split': 30, 'min_samples_leaf': 5, 'max_features': 'sqrt', 'bootstrap': 'False'}. Best is trial 94 with value: 0.5147229577265394.\u001b[0m\n",
            "\u001b[32m[I 2022-02-19 10:48:20,410]\u001b[0m Trial 113 finished with value: 0.5137804262344698 and parameters: {'n_estimators': 223, 'criterion': 'gini', 'max_depth': 27, 'min_samples_split': 39, 'min_samples_leaf': 9, 'max_features': 'sqrt', 'bootstrap': 'False'}. Best is trial 94 with value: 0.5147229577265394.\u001b[0m\n",
            "\u001b[32m[I 2022-02-19 10:55:19,304]\u001b[0m Trial 114 finished with value: 0.5146679531984335 and parameters: {'n_estimators': 238, 'criterion': 'gini', 'max_depth': 19, 'min_samples_split': 38, 'min_samples_leaf': 5, 'max_features': 'sqrt', 'bootstrap': 'False'}. Best is trial 94 with value: 0.5147229577265394.\u001b[0m\n",
            "\u001b[32m[I 2022-02-19 11:01:59,471]\u001b[0m Trial 115 finished with value: 0.4680944377569124 and parameters: {'n_estimators': 239, 'criterion': 'gini', 'max_depth': 11, 'min_samples_split': 40, 'min_samples_leaf': 5, 'max_features': 'sqrt', 'bootstrap': 'False'}. Best is trial 94 with value: 0.5147229577265394.\u001b[0m\n",
            "\u001b[32m[I 2022-02-19 11:09:17,707]\u001b[0m Trial 116 finished with value: 0.5140405882808109 and parameters: {'n_estimators': 242, 'criterion': 'gini', 'max_depth': 25, 'min_samples_split': 38, 'min_samples_leaf': 5, 'max_features': 'sqrt', 'bootstrap': 'False'}. Best is trial 94 with value: 0.5147229577265394.\u001b[0m\n",
            "\u001b[32m[I 2022-02-19 11:11:22,344]\u001b[0m Trial 117 finished with value: 0.5136867679658582 and parameters: {'n_estimators': 68, 'criterion': 'gini', 'max_depth': 47, 'min_samples_split': 42, 'min_samples_leaf': 4, 'max_features': 'sqrt', 'bootstrap': 'False'}. Best is trial 94 with value: 0.5147229577265394.\u001b[0m\n",
            "\u001b[32m[I 2022-02-19 11:18:01,697]\u001b[0m Trial 118 finished with value: 0.5136674412779387 and parameters: {'n_estimators': 226, 'criterion': 'gini', 'max_depth': 30, 'min_samples_split': 36, 'min_samples_leaf': 5, 'max_features': 'sqrt', 'bootstrap': 'False'}. Best is trial 94 with value: 0.5147229577265394.\u001b[0m\n",
            "\u001b[32m[I 2022-02-19 11:25:26,153]\u001b[0m Trial 119 finished with value: 0.5136823077067922 and parameters: {'n_estimators': 246, 'criterion': 'gini', 'max_depth': 40, 'min_samples_split': 37, 'min_samples_leaf': 5, 'max_features': 'sqrt', 'bootstrap': 'False'}. Best is trial 94 with value: 0.5147229577265394.\u001b[0m\n",
            "\u001b[32m[I 2022-02-19 11:32:11,943]\u001b[0m Trial 120 finished with value: 0.513115897327733 and parameters: {'n_estimators': 235, 'criterion': 'gini', 'max_depth': 17, 'min_samples_split': 34, 'min_samples_leaf': 4, 'max_features': 'sqrt', 'bootstrap': 'False'}. Best is trial 94 with value: 0.5147229577265394.\u001b[0m\n",
            "\u001b[32m[I 2022-02-19 11:38:39,568]\u001b[0m Trial 121 finished with value: 0.5139974763918851 and parameters: {'n_estimators': 218, 'criterion': 'gini', 'max_depth': 18, 'min_samples_split': 33, 'min_samples_leaf': 5, 'max_features': 'sqrt', 'bootstrap': 'False'}. Best is trial 94 with value: 0.5147229577265394.\u001b[0m\n",
            "\u001b[32m[I 2022-02-19 11:44:27,850]\u001b[0m Trial 122 finished with value: 0.5146307861593808 and parameters: {'n_estimators': 193, 'criterion': 'gini', 'max_depth': 20, 'min_samples_split': 32, 'min_samples_leaf': 5, 'max_features': 'sqrt', 'bootstrap': 'False'}. Best is trial 94 with value: 0.5147229577265394.\u001b[0m\n",
            "\u001b[32m[I 2022-02-19 11:51:25,080]\u001b[0m Trial 123 finished with value: 0.5077952063893985 and parameters: {'n_estimators': 237, 'criterion': 'gini', 'max_depth': 15, 'min_samples_split': 35, 'min_samples_leaf': 5, 'max_features': 'sqrt', 'bootstrap': 'False'}. Best is trial 94 with value: 0.5147229577265394.\u001b[0m\n",
            "\u001b[32m[I 2022-02-19 11:57:33,068]\u001b[0m Trial 124 finished with value: 0.4522706235358279 and parameters: {'n_estimators': 229, 'criterion': 'gini', 'max_depth': 10, 'min_samples_split': 34, 'min_samples_leaf': 6, 'max_features': 'sqrt', 'bootstrap': 'False'}. Best is trial 94 with value: 0.5147229577265394.\u001b[0m\n",
            "\u001b[32m[I 2022-02-19 12:03:26,086]\u001b[0m Trial 125 finished with value: 0.5136912273850862 and parameters: {'n_estimators': 194, 'criterion': 'gini', 'max_depth': 25, 'min_samples_split': 37, 'min_samples_leaf': 5, 'max_features': 'sqrt', 'bootstrap': 'False'}. Best is trial 94 with value: 0.5147229577265394.\u001b[0m\n",
            "\u001b[32m[I 2022-02-19 12:10:49,706]\u001b[0m Trial 126 finished with value: 0.5147467446293231 and parameters: {'n_estimators': 247, 'criterion': 'gini', 'max_depth': 20, 'min_samples_split': 32, 'min_samples_leaf': 4, 'max_features': 'sqrt', 'bootstrap': 'False'}. Best is trial 126 with value: 0.5147467446293231.\u001b[0m\n",
            "\u001b[32m[I 2022-02-19 12:18:28,095]\u001b[0m Trial 127 finished with value: 0.5137001475827537 and parameters: {'n_estimators': 249, 'criterion': 'gini', 'max_depth': 30, 'min_samples_split': 32, 'min_samples_leaf': 4, 'max_features': 'sqrt', 'bootstrap': 'False'}. Best is trial 126 with value: 0.5147467446293231.\u001b[0m\n",
            "\u001b[32m[I 2022-02-19 12:26:30,144]\u001b[0m Trial 128 finished with value: 0.5136897407167846 and parameters: {'n_estimators': 264, 'criterion': 'gini', 'max_depth': 34, 'min_samples_split': 39, 'min_samples_leaf': 4, 'max_features': 'sqrt', 'bootstrap': 'False'}. Best is trial 126 with value: 0.5147467446293231.\u001b[0m\n",
            "\u001b[32m[I 2022-02-19 12:33:39,381]\u001b[0m Trial 129 finished with value: 0.5022321937448054 and parameters: {'n_estimators': 244, 'criterion': 'gini', 'max_depth': 14, 'min_samples_split': 40, 'min_samples_leaf': 6, 'max_features': 'sqrt', 'bootstrap': 'False'}. Best is trial 126 with value: 0.5147467446293231.\u001b[0m\n",
            "\u001b[32m[I 2022-02-19 12:40:31,556]\u001b[0m Trial 130 finished with value: 0.5139112504812862 and parameters: {'n_estimators': 269, 'criterion': 'gini', 'max_depth': 25, 'min_samples_split': 28, 'min_samples_leaf': 4, 'max_features': 'log2', 'bootstrap': 'False'}. Best is trial 126 with value: 0.5147467446293231.\u001b[0m\n",
            "\u001b[32m[I 2022-02-19 12:48:05,562]\u001b[0m Trial 131 finished with value: 0.5145207744842001 and parameters: {'n_estimators': 254, 'criterion': 'gini', 'max_depth': 20, 'min_samples_split': 33, 'min_samples_leaf': 5, 'max_features': 'sqrt', 'bootstrap': 'False'}. Best is trial 126 with value: 0.5147467446293231.\u001b[0m\n",
            "\u001b[32m[I 2022-02-19 12:55:40,224]\u001b[0m Trial 132 finished with value: 0.514562400091592 and parameters: {'n_estimators': 252, 'criterion': 'gini', 'max_depth': 21, 'min_samples_split': 32, 'min_samples_leaf': 5, 'max_features': 'sqrt', 'bootstrap': 'False'}. Best is trial 126 with value: 0.5147467446293231.\u001b[0m\n",
            "\u001b[32m[I 2022-02-19 13:03:14,571]\u001b[0m Trial 133 finished with value: 0.5076420820738575 and parameters: {'n_estimators': 259, 'criterion': 'gini', 'max_depth': 15, 'min_samples_split': 38, 'min_samples_leaf': 5, 'max_features': 'sqrt', 'bootstrap': 'False'}. Best is trial 126 with value: 0.5147467446293231.\u001b[0m\n"
          ]
        },
        {
          "name": "stderr",
          "output_type": "stream",
          "text": [
            "\u001b[32m[I 2022-02-19 13:10:53,306]\u001b[0m Trial 134 finished with value: 0.5138815177119831 and parameters: {'n_estimators': 246, 'criterion': 'gini', 'max_depth': 25, 'min_samples_split': 32, 'min_samples_leaf': 5, 'max_features': 'sqrt', 'bootstrap': 'False'}. Best is trial 126 with value: 0.5147467446293231.\u001b[0m\n",
            "\u001b[32m[I 2022-02-19 13:18:17,705]\u001b[0m Trial 135 finished with value: 0.5138354318565754 and parameters: {'n_estimators': 241, 'criterion': 'gini', 'max_depth': 30, 'min_samples_split': 36, 'min_samples_leaf': 5, 'max_features': 'sqrt', 'bootstrap': 'False'}. Best is trial 126 with value: 0.5147467446293231.\u001b[0m\n",
            "\u001b[32m[I 2022-02-19 13:25:10,194]\u001b[0m Trial 136 finished with value: 0.5143899504694444 and parameters: {'n_estimators': 227, 'criterion': 'gini', 'max_depth': 19, 'min_samples_split': 31, 'min_samples_leaf': 6, 'max_features': 'sqrt', 'bootstrap': 'False'}. Best is trial 126 with value: 0.5147467446293231.\u001b[0m\n",
            "\u001b[32m[I 2022-02-19 13:32:52,644]\u001b[0m Trial 137 finished with value: 0.5143958958497417 and parameters: {'n_estimators': 252, 'criterion': 'gini', 'max_depth': 22, 'min_samples_split': 42, 'min_samples_leaf': 5, 'max_features': 'sqrt', 'bootstrap': 'False'}. Best is trial 126 with value: 0.5147467446293231.\u001b[0m\n",
            "\u001b[32m[I 2022-02-19 13:39:11,179]\u001b[0m Trial 138 finished with value: 0.513637708033464 and parameters: {'n_estimators': 210, 'criterion': 'gini', 'max_depth': 36, 'min_samples_split': 35, 'min_samples_leaf': 4, 'max_features': 'sqrt', 'bootstrap': 'False'}. Best is trial 126 with value: 0.5147467446293231.\u001b[0m\n",
            "\u001b[32m[I 2022-02-19 13:45:13,585]\u001b[0m Trial 139 finished with value: 0.45247578020317436 and parameters: {'n_estimators': 224, 'criterion': 'gini', 'max_depth': 10, 'min_samples_split': 29, 'min_samples_leaf': 5, 'max_features': 'sqrt', 'bootstrap': 'False'}. Best is trial 126 with value: 0.5147467446293231.\u001b[0m\n",
            "\u001b[32m[I 2022-02-19 13:52:33,506]\u001b[0m Trial 140 finished with value: 0.5136852813859607 and parameters: {'n_estimators': 239, 'criterion': 'gini', 'max_depth': 28, 'min_samples_split': 32, 'min_samples_leaf': 6, 'max_features': 'sqrt', 'bootstrap': 'False'}. Best is trial 126 with value: 0.5147467446293231.\u001b[0m\n",
            "\u001b[32m[I 2022-02-19 14:00:01,875]\u001b[0m Trial 141 finished with value: 0.5145847011217104 and parameters: {'n_estimators': 253, 'criterion': 'gini', 'max_depth': 19, 'min_samples_split': 33, 'min_samples_leaf': 5, 'max_features': 'sqrt', 'bootstrap': 'False'}. Best is trial 126 with value: 0.5147467446293231.\u001b[0m\n",
            "\u001b[32m[I 2022-02-19 14:07:37,780]\u001b[0m Trial 142 finished with value: 0.5078665659153457 and parameters: {'n_estimators': 260, 'criterion': 'gini', 'max_depth': 15, 'min_samples_split': 33, 'min_samples_leaf': 5, 'max_features': 'sqrt', 'bootstrap': 'False'}. Best is trial 126 with value: 0.5147467446293231.\u001b[0m\n",
            "\u001b[32m[I 2022-02-19 14:15:04,810]\u001b[0m Trial 143 finished with value: 0.5146233526742168 and parameters: {'n_estimators': 248, 'criterion': 'gini', 'max_depth': 21, 'min_samples_split': 35, 'min_samples_leaf': 5, 'max_features': 'sqrt', 'bootstrap': 'False'}. Best is trial 126 with value: 0.5147467446293231.\u001b[0m\n",
            "\u001b[32m[I 2022-02-19 14:22:23,279]\u001b[0m Trial 144 finished with value: 0.51405545483122 and parameters: {'n_estimators': 249, 'criterion': 'gini', 'max_depth': 24, 'min_samples_split': 30, 'min_samples_leaf': 5, 'max_features': 'sqrt', 'bootstrap': 'False'}. Best is trial 126 with value: 0.5147467446293231.\u001b[0m\n",
            "\u001b[32m[I 2022-02-19 14:30:14,784]\u001b[0m Trial 145 finished with value: 0.5137105542829653 and parameters: {'n_estimators': 254, 'criterion': 'gini', 'max_depth': 80, 'min_samples_split': 36, 'min_samples_leaf': 5, 'max_features': 'sqrt', 'bootstrap': 'False'}. Best is trial 126 with value: 0.5147467446293231.\u001b[0m\n",
            "\u001b[32m[I 2022-02-19 14:38:19,550]\u001b[0m Trial 146 finished with value: 0.514404816831995 and parameters: {'n_estimators': 270, 'criterion': 'gini', 'max_depth': 19, 'min_samples_split': 44, 'min_samples_leaf': 5, 'max_features': 'sqrt', 'bootstrap': 'False'}. Best is trial 126 with value: 0.5147467446293231.\u001b[0m\n",
            "\u001b[32m[I 2022-02-19 14:45:16,936]\u001b[0m Trial 147 finished with value: 0.4949967067325642 and parameters: {'n_estimators': 243, 'criterion': 'gini', 'max_depth': 13, 'min_samples_split': 34, 'min_samples_leaf': 4, 'max_features': 'sqrt', 'bootstrap': 'False'}. Best is trial 126 with value: 0.5147467446293231.\u001b[0m\n",
            "\u001b[32m[I 2022-02-19 14:53:05,776]\u001b[0m Trial 148 finished with value: 0.5137031204994378 and parameters: {'n_estimators': 260, 'criterion': 'gini', 'max_depth': 33, 'min_samples_split': 31, 'min_samples_leaf': 5, 'max_features': 'sqrt', 'bootstrap': 'False'}. Best is trial 126 with value: 0.5147467446293231.\u001b[0m\n",
            "\u001b[32m[I 2022-02-19 15:00:04,715]\u001b[0m Trial 149 finished with value: 0.5129479076883889 and parameters: {'n_estimators': 232, 'criterion': 'gini', 'max_depth': 17, 'min_samples_split': 32, 'min_samples_leaf': 5, 'max_features': 'sqrt', 'bootstrap': 'False'}. Best is trial 126 with value: 0.5147467446293231.\u001b[0m\n",
            "\u001b[32m[I 2022-02-19 15:07:36,260]\u001b[0m Trial 150 finished with value: 0.5142130387648978 and parameters: {'n_estimators': 247, 'criterion': 'gini', 'max_depth': 23, 'min_samples_split': 37, 'min_samples_leaf': 4, 'max_features': 'sqrt', 'bootstrap': 'False'}. Best is trial 126 with value: 0.5147467446293231.\u001b[0m\n",
            "\u001b[32m[I 2022-02-19 15:14:30,769]\u001b[0m Trial 151 finished with value: 0.5145267209032445 and parameters: {'n_estimators': 237, 'criterion': 'gini', 'max_depth': 21, 'min_samples_split': 35, 'min_samples_leaf': 5, 'max_features': 'sqrt', 'bootstrap': 'False'}. Best is trial 126 with value: 0.5147467446293231.\u001b[0m\n",
            "\u001b[32m[I 2022-02-19 15:21:51,300]\u001b[0m Trial 152 finished with value: 0.513872597790578 and parameters: {'n_estimators': 235, 'criterion': 'gini', 'max_depth': 28, 'min_samples_split': 33, 'min_samples_leaf': 5, 'max_features': 'sqrt', 'bootstrap': 'False'}. Best is trial 126 with value: 0.5147467446293231.\u001b[0m\n",
            "\u001b[32m[I 2022-02-19 15:26:52,229]\u001b[0m Trial 153 finished with value: 0.5145549677446297 and parameters: {'n_estimators': 165, 'criterion': 'gini', 'max_depth': 20, 'min_samples_split': 35, 'min_samples_leaf': 6, 'max_features': 'sqrt', 'bootstrap': 'False'}. Best is trial 126 with value: 0.5147467446293231.\u001b[0m\n",
            "\u001b[32m[I 2022-02-19 15:31:49,625]\u001b[0m Trial 154 finished with value: 0.5108011966415871 and parameters: {'n_estimators': 167, 'criterion': 'gini', 'max_depth': 16, 'min_samples_split': 38, 'min_samples_leaf': 6, 'max_features': 'sqrt', 'bootstrap': 'False'}. Best is trial 126 with value: 0.5147467446293231.\u001b[0m\n",
            "\u001b[32m[I 2022-02-19 15:36:20,876]\u001b[0m Trial 155 finished with value: 0.5137031210409123 and parameters: {'n_estimators': 153, 'criterion': 'gini', 'max_depth': 26, 'min_samples_split': 36, 'min_samples_leaf': 6, 'max_features': 'sqrt', 'bootstrap': 'False'}. Best is trial 126 with value: 0.5147467446293231.\u001b[0m\n",
            "\u001b[32m[I 2022-02-19 15:41:43,113]\u001b[0m Trial 156 finished with value: 0.49513496352525166 and parameters: {'n_estimators': 185, 'criterion': 'gini', 'max_depth': 13, 'min_samples_split': 34, 'min_samples_leaf': 6, 'max_features': 'sqrt', 'bootstrap': 'False'}. Best is trial 126 with value: 0.5147467446293231.\u001b[0m\n",
            "\u001b[32m[I 2022-02-19 15:46:00,887]\u001b[0m Trial 157 finished with value: 0.5146055134612852 and parameters: {'n_estimators': 171, 'criterion': 'gini', 'max_depth': 20, 'min_samples_split': 37, 'min_samples_leaf': 5, 'max_features': 'log2', 'bootstrap': 'False'}. Best is trial 126 with value: 0.5147467446293231.\u001b[0m\n",
            "\u001b[32m[I 2022-02-19 15:49:26,716]\u001b[0m Trial 158 finished with value: 0.5135767560475665 and parameters: {'n_estimators': 138, 'criterion': 'gini', 'max_depth': 30, 'min_samples_split': 39, 'min_samples_leaf': 5, 'max_features': 'log2', 'bootstrap': 'False'}. Best is trial 126 with value: 0.5147467446293231.\u001b[0m\n",
            "\u001b[32m[I 2022-02-19 15:54:11,329]\u001b[0m Trial 159 finished with value: 0.5128170826017345 and parameters: {'n_estimators': 189, 'criterion': 'gini', 'max_depth': 17, 'min_samples_split': 37, 'min_samples_leaf': 5, 'max_features': 'log2', 'bootstrap': 'False'}. Best is trial 126 with value: 0.5147467446293231.\u001b[0m\n",
            "\u001b[32m[I 2022-02-19 15:58:05,139]\u001b[0m Trial 160 finished with value: 0.44869822218629746 and parameters: {'n_estimators': 171, 'criterion': 'gini', 'max_depth': 10, 'min_samples_split': 31, 'min_samples_leaf': 4, 'max_features': 'log2', 'bootstrap': 'False'}. Best is trial 126 with value: 0.5147467446293231.\u001b[0m\n"
          ]
        },
        {
          "name": "stderr",
          "output_type": "stream",
          "text": [
            "\u001b[32m[I 2022-02-19 16:01:58,862]\u001b[0m Trial 161 finished with value: 0.5145430744534701 and parameters: {'n_estimators': 152, 'criterion': 'gini', 'max_depth': 20, 'min_samples_split': 35, 'min_samples_leaf': 5, 'max_features': 'log2', 'bootstrap': 'False'}. Best is trial 126 with value: 0.5147467446293231.\u001b[0m\n",
            "\u001b[32m[I 2022-02-19 16:06:06,920]\u001b[0m Trial 162 finished with value: 0.5138235388416785 and parameters: {'n_estimators': 161, 'criterion': 'gini', 'max_depth': 24, 'min_samples_split': 34, 'min_samples_leaf': 5, 'max_features': 'log2', 'bootstrap': 'False'}. Best is trial 126 with value: 0.5147467446293231.\u001b[0m\n",
            "\u001b[32m[I 2022-02-19 16:11:26,253]\u001b[0m Trial 163 finished with value: 0.5143825169732298 and parameters: {'n_estimators': 177, 'criterion': 'gini', 'max_depth': 21, 'min_samples_split': 37, 'min_samples_leaf': 5, 'max_features': 'sqrt', 'bootstrap': 'False'}. Best is trial 126 with value: 0.5147467446293231.\u001b[0m\n",
            "\u001b[32m[I 2022-02-19 16:16:23,609]\u001b[0m Trial 164 finished with value: 0.5078635926560964 and parameters: {'n_estimators': 167, 'criterion': 'gini', 'max_depth': 15, 'min_samples_split': 33, 'min_samples_leaf': 5, 'max_features': 'sqrt', 'bootstrap': 'False'}. Best is trial 126 with value: 0.5147467446293231.\u001b[0m\n",
            "\u001b[32m[I 2022-02-19 16:23:45,642]\u001b[0m Trial 165 finished with value: 0.5139008441346907 and parameters: {'n_estimators': 251, 'criterion': 'gini', 'max_depth': 25, 'min_samples_split': 32, 'min_samples_leaf': 6, 'max_features': 'sqrt', 'bootstrap': 'False'}. Best is trial 126 with value: 0.5147467446293231.\u001b[0m\n",
            "\u001b[32m[I 2022-02-19 16:31:27,086]\u001b[0m Trial 166 finished with value: 0.5146129470238028 and parameters: {'n_estimators': 257, 'criterion': 'gini', 'max_depth': 19, 'min_samples_split': 35, 'min_samples_leaf': 5, 'max_features': 'sqrt', 'bootstrap': 'True'}. Best is trial 126 with value: 0.5147467446293231.\u001b[0m\n",
            "\u001b[32m[I 2022-02-19 16:39:32,531]\u001b[0m Trial 167 finished with value: 0.5136837941540835 and parameters: {'n_estimators': 263, 'criterion': 'gini', 'max_depth': 31, 'min_samples_split': 36, 'min_samples_leaf': 5, 'max_features': 'sqrt', 'bootstrap': 'True'}. Best is trial 126 with value: 0.5147467446293231.\u001b[0m\n",
            "\u001b[32m[I 2022-02-19 16:46:45,705]\u001b[0m Trial 168 finished with value: 0.5028000901733379 and parameters: {'n_estimators': 255, 'criterion': 'gini', 'max_depth': 14, 'min_samples_split': 39, 'min_samples_leaf': 5, 'max_features': 'sqrt', 'bootstrap': 'True'}. Best is trial 126 with value: 0.5147467446293231.\u001b[0m\n",
            "\u001b[32m[I 2022-02-19 16:54:07,935]\u001b[0m Trial 169 finished with value: 0.5137283937611088 and parameters: {'n_estimators': 241, 'criterion': 'gini', 'max_depth': 28, 'min_samples_split': 38, 'min_samples_leaf': 2, 'max_features': 'sqrt', 'bootstrap': 'True'}. Best is trial 126 with value: 0.5147467446293231.\u001b[0m\n",
            "\u001b[32m[I 2022-02-19 17:01:32,342]\u001b[0m Trial 170 finished with value: 0.5145341552171963 and parameters: {'n_estimators': 247, 'criterion': 'gini', 'max_depth': 19, 'min_samples_split': 34, 'min_samples_leaf': 5, 'max_features': 'sqrt', 'bootstrap': 'True'}. Best is trial 126 with value: 0.5147467446293231.\u001b[0m\n",
            "\u001b[32m[I 2022-02-19 17:04:36,002]\u001b[0m Trial 171 finished with value: 0.5142546649137644 and parameters: {'n_estimators': 101, 'criterion': 'gini', 'max_depth': 22, 'min_samples_split': 35, 'min_samples_leaf': 5, 'max_features': 'sqrt', 'bootstrap': 'False'}. Best is trial 126 with value: 0.5147467446293231.\u001b[0m\n",
            "\u001b[32m[I 2022-02-19 17:12:01,908]\u001b[0m Trial 172 finished with value: 0.513998962607116 and parameters: {'n_estimators': 256, 'criterion': 'gini', 'max_depth': 18, 'min_samples_split': 35, 'min_samples_leaf': 5, 'max_features': 'sqrt', 'bootstrap': 'True'}. Best is trial 126 with value: 0.5147467446293231.\u001b[0m\n",
            "\u001b[32m[I 2022-02-19 17:19:01,774]\u001b[0m Trial 173 finished with value: 0.5139870694375118 and parameters: {'n_estimators': 230, 'criterion': 'gini', 'max_depth': 24, 'min_samples_split': 36, 'min_samples_leaf': 4, 'max_features': 'sqrt', 'bootstrap': 'False'}. Best is trial 126 with value: 0.5147467446293231.\u001b[0m\n",
            "\u001b[32m[I 2022-02-19 17:23:55,021]\u001b[0m Trial 174 finished with value: 0.5145742941894383 and parameters: {'n_estimators': 162, 'criterion': 'gini', 'max_depth': 20, 'min_samples_split': 33, 'min_samples_leaf': 6, 'max_features': 'sqrt', 'bootstrap': 'False'}. Best is trial 126 with value: 0.5147467446293231.\u001b[0m\n",
            "\u001b[32m[I 2022-02-19 17:30:27,954]\u001b[0m Trial 175 finished with value: 0.4834217132520788 and parameters: {'n_estimators': 243, 'criterion': 'gini', 'max_depth': 12, 'min_samples_split': 33, 'min_samples_leaf': 5, 'max_features': 'sqrt', 'bootstrap': 'False'}. Best is trial 126 with value: 0.5147467446293231.\u001b[0m\n",
            "\u001b[32m[I 2022-02-19 17:37:16,157]\u001b[0m Trial 176 finished with value: 0.5138830045791936 and parameters: {'n_estimators': 268, 'criterion': 'entropy', 'max_depth': 26, 'min_samples_split': 30, 'min_samples_leaf': 5, 'max_features': 'log2', 'bootstrap': 'False'}. Best is trial 126 with value: 0.5147467446293231.\u001b[0m\n",
            "\u001b[32m[I 2022-02-19 17:43:36,814]\u001b[0m Trial 177 finished with value: 0.511114877243914 and parameters: {'n_estimators': 222, 'criterion': 'gini', 'max_depth': 16, 'min_samples_split': 33, 'min_samples_leaf': 5, 'max_features': 'sqrt', 'bootstrap': 'False'}. Best is trial 126 with value: 0.5147467446293231.\u001b[0m\n",
            "\u001b[32m[I 2022-02-19 17:51:08,433]\u001b[0m Trial 178 finished with value: 0.5145638872350652 and parameters: {'n_estimators': 252, 'criterion': 'gini', 'max_depth': 21, 'min_samples_split': 18, 'min_samples_leaf': 4, 'max_features': 'auto', 'bootstrap': 'True'}. Best is trial 126 with value: 0.5147467446293231.\u001b[0m\n",
            "\u001b[32m[I 2022-02-19 17:52:10,383]\u001b[0m Trial 179 finished with value: 0.5132095566019406 and parameters: {'n_estimators': 33, 'criterion': 'gini', 'max_depth': 37, 'min_samples_split': 11, 'min_samples_leaf': 4, 'max_features': 'auto', 'bootstrap': 'True'}. Best is trial 126 with value: 0.5147467446293231.\u001b[0m\n",
            "\u001b[32m[I 2022-02-19 17:57:50,658]\u001b[0m Trial 180 finished with value: 0.5132541556785415 and parameters: {'n_estimators': 200, 'criterion': 'gini', 'max_depth': 17, 'min_samples_split': 18, 'min_samples_leaf': 3, 'max_features': 'auto', 'bootstrap': 'True'}. Best is trial 126 with value: 0.5147467446293231.\u001b[0m\n",
            "\u001b[32m[I 2022-02-19 18:05:29,621]\u001b[0m Trial 181 finished with value: 0.5143527835629976 and parameters: {'n_estimators': 251, 'criterion': 'gini', 'max_depth': 21, 'min_samples_split': 9, 'min_samples_leaf': 5, 'max_features': 'auto', 'bootstrap': 'True'}. Best is trial 126 with value: 0.5147467446293231.\u001b[0m\n",
            "\u001b[32m[I 2022-02-19 18:13:20,507]\u001b[0m Trial 182 finished with value: 0.514134246560473 and parameters: {'n_estimators': 259, 'criterion': 'gini', 'max_depth': 23, 'min_samples_split': 22, 'min_samples_leaf': 5, 'max_features': 'auto', 'bootstrap': 'True'}. Best is trial 126 with value: 0.5147467446293231.\u001b[0m\n",
            "\u001b[32m[I 2022-02-19 18:20:38,648]\u001b[0m Trial 183 finished with value: 0.5136436553475991 and parameters: {'n_estimators': 238, 'criterion': 'gini', 'max_depth': 90, 'min_samples_split': 32, 'min_samples_leaf': 4, 'max_features': 'auto', 'bootstrap': 'True'}. Best is trial 126 with value: 0.5147467446293231.\u001b[0m\n",
            "\u001b[32m[I 2022-02-19 18:28:12,364]\u001b[0m Trial 184 finished with value: 0.5134697180847058 and parameters: {'n_estimators': 245, 'criterion': 'gini', 'max_depth': 28, 'min_samples_split': 14, 'min_samples_leaf': 5, 'max_features': 'sqrt', 'bootstrap': 'False'}. Best is trial 126 with value: 0.5147467446293231.\u001b[0m\n",
            "\u001b[32m[I 2022-02-19 18:35:04,275]\u001b[0m Trial 185 finished with value: 0.45219331839752275 and parameters: {'n_estimators': 251, 'criterion': 'gini', 'max_depth': 10, 'min_samples_split': 5, 'min_samples_leaf': 5, 'max_features': 'sqrt', 'bootstrap': 'False'}. Best is trial 126 with value: 0.5147467446293231.\u001b[0m\n",
            "\u001b[32m[I 2022-02-19 18:42:58,926]\u001b[0m Trial 186 finished with value: 0.5140911353345773 and parameters: {'n_estimators': 266, 'criterion': 'gini', 'max_depth': 18, 'min_samples_split': 31, 'min_samples_leaf': 6, 'max_features': 'sqrt', 'bootstrap': 'False'}. Best is trial 126 with value: 0.5147467446293231.\u001b[0m\n",
            "\u001b[32m[I 2022-02-19 18:48:10,556]\u001b[0m Trial 187 finished with value: 0.5027331902986791 and parameters: {'n_estimators': 181, 'criterion': 'gini', 'max_depth': 14, 'min_samples_split': 37, 'min_samples_leaf': 5, 'max_features': 'sqrt', 'bootstrap': 'False'}. Best is trial 126 with value: 0.5147467446293231.\u001b[0m\n"
          ]
        },
        {
          "name": "stderr",
          "output_type": "stream",
          "text": [
            "\u001b[32m[I 2022-02-19 18:55:25,662]\u001b[0m Trial 188 finished with value: 0.5141327604004946 and parameters: {'n_estimators': 238, 'criterion': 'gini', 'max_depth': 24, 'min_samples_split': 34, 'min_samples_leaf': 1, 'max_features': 'sqrt', 'bootstrap': 'False'}. Best is trial 126 with value: 0.5147467446293231.\u001b[0m\n",
            "\u001b[32m[I 2022-02-19 19:03:02,502]\u001b[0m Trial 189 finished with value: 0.5135068843391728 and parameters: {'n_estimators': 246, 'criterion': 'entropy', 'max_depth': 32, 'min_samples_split': 17, 'min_samples_leaf': 2, 'max_features': 'auto', 'bootstrap': 'True'}. Best is trial 126 with value: 0.5147467446293231.\u001b[0m\n",
            "\u001b[32m[I 2022-02-19 19:10:00,533]\u001b[0m Trial 190 finished with value: 0.5145742935706101 and parameters: {'n_estimators': 230, 'criterion': 'gini', 'max_depth': 20, 'min_samples_split': 29, 'min_samples_leaf': 4, 'max_features': 'sqrt', 'bootstrap': 'False'}. Best is trial 126 with value: 0.5147467446293231.\u001b[0m\n",
            "\u001b[32m[I 2022-02-19 19:16:58,765]\u001b[0m Trial 191 finished with value: 0.5145891604856858 and parameters: {'n_estimators': 230, 'criterion': 'gini', 'max_depth': 20, 'min_samples_split': 26, 'min_samples_leaf': 4, 'max_features': 'sqrt', 'bootstrap': 'False'}. Best is trial 126 with value: 0.5147467446293231.\u001b[0m\n",
            "\u001b[32m[I 2022-02-19 19:23:46,072]\u001b[0m Trial 192 finished with value: 0.5144390098714146 and parameters: {'n_estimators': 228, 'criterion': 'gini', 'max_depth': 19, 'min_samples_split': 29, 'min_samples_leaf': 4, 'max_features': 'sqrt', 'bootstrap': 'False'}. Best is trial 126 with value: 0.5147467446293231.\u001b[0m\n",
            "\u001b[32m[I 2022-02-19 19:30:03,922]\u001b[0m Trial 193 finished with value: 0.5031509363228999 and parameters: {'n_estimators': 220, 'criterion': 'gini', 'max_depth': 14, 'min_samples_split': 20, 'min_samples_leaf': 4, 'max_features': 'sqrt', 'bootstrap': 'False'}. Best is trial 126 with value: 0.5147467446293231.\u001b[0m\n",
            "\u001b[32m[I 2022-02-19 19:37:05,908]\u001b[0m Trial 194 finished with value: 0.5136421686682472 and parameters: {'n_estimators': 233, 'criterion': 'gini', 'max_depth': 26, 'min_samples_split': 28, 'min_samples_leaf': 4, 'max_features': 'sqrt', 'bootstrap': 'False'}. Best is trial 126 with value: 0.5147467446293231.\u001b[0m\n",
            "\u001b[32m[I 2022-02-19 19:44:05,288]\u001b[0m Trial 195 finished with value: 0.5143587309655369 and parameters: {'n_estimators': 229, 'criterion': 'gini', 'max_depth': 21, 'min_samples_split': 24, 'min_samples_leaf': 4, 'max_features': 'sqrt', 'bootstrap': 'False'}. Best is trial 126 with value: 0.5147467446293231.\u001b[0m\n",
            "\u001b[32m[I 2022-02-19 19:51:02,978]\u001b[0m Trial 196 finished with value: 0.5129583135487623 and parameters: {'n_estimators': 241, 'criterion': 'gini', 'max_depth': 17, 'min_samples_split': 30, 'min_samples_leaf': 4, 'max_features': 'sqrt', 'bootstrap': 'False'}. Best is trial 126 with value: 0.5147467446293231.\u001b[0m\n",
            "\u001b[32m[I 2022-02-19 19:57:32,785]\u001b[0m Trial 197 finished with value: 0.5141015406866275 and parameters: {'n_estimators': 216, 'criterion': 'gini', 'max_depth': 24, 'min_samples_split': 36, 'min_samples_leaf': 3, 'max_features': 'sqrt', 'bootstrap': 'False'}. Best is trial 126 with value: 0.5147467446293231.\u001b[0m\n",
            "\u001b[32m[I 2022-02-19 20:04:29,977]\u001b[0m Trial 198 finished with value: 0.5135053971846494 and parameters: {'n_estimators': 226, 'criterion': 'gini', 'max_depth': 28, 'min_samples_split': 26, 'min_samples_leaf': 4, 'max_features': 'sqrt', 'bootstrap': 'False'}. Best is trial 126 with value: 0.5147467446293231.\u001b[0m\n",
            "\u001b[32m[I 2022-02-19 20:10:08,743]\u001b[0m Trial 199 finished with value: 0.49418351372515057 and parameters: {'n_estimators': 237, 'criterion': 'gini', 'max_depth': 13, 'min_samples_split': 27, 'min_samples_leaf': 4, 'max_features': 'log2', 'bootstrap': 'False'}. Best is trial 126 with value: 0.5147467446293231.\u001b[0m\n"
          ]
        },
        {
          "name": "stdout",
          "output_type": "stream",
          "text": [
            "\n",
            "\n",
            "Melhor seleção de parâmetros : \n",
            "{'n_estimators': 247, 'criterion': 'gini', 'max_depth': 20, 'min_samples_split': 32, 'min_samples_leaf': 4, 'max_features': 'sqrt', 'bootstrap': 'False'}\n",
            "\n",
            "\n",
            "Acurácia : 0.515\n",
            "Pronto em:  81335.443\n"
          ]
        }
      ],
      "source": [
        "t0 = time.time()\n",
        "study, rfc_params = tune(randomforestclassfier_objective)  \n",
        "print(\"Pronto em:  %0.3f\" %(time.time()-t0))"
      ]
    },
    {
      "cell_type": "code",
      "execution_count": null,
      "metadata": {
        "id": "k6wyaTYHF7Is",
        "outputId": "b05445e2-492e-4c27-8433-ae66f1cfd939"
      },
      "outputs": [
        {
          "data": {
            "text/plain": [
              "{'n_estimators': 247,\n",
              " 'criterion': 'gini',\n",
              " 'max_depth': 20,\n",
              " 'min_samples_split': 32,\n",
              " 'min_samples_leaf': 4,\n",
              " 'max_features': 'sqrt',\n",
              " 'bootstrap': 'False'}"
            ]
          },
          "execution_count": 16,
          "metadata": {},
          "output_type": "execute_result"
        }
      ],
      "source": [
        "rfc_params"
      ]
    },
    {
      "cell_type": "markdown",
      "metadata": {
        "id": "89sNP2-6F7Iv"
      },
      "source": [
        "## Analisando a importância de cada variável"
      ]
    },
    {
      "cell_type": "code",
      "execution_count": null,
      "metadata": {
        "id": "9ZKVdGQ2F7Iv"
      },
      "outputs": [],
      "source": [
        "nomes_caracteristicas = []\n",
        "for i in X.columns:\n",
        "    nomes_caracteristicas.append(i)"
      ]
    },
    {
      "cell_type": "code",
      "execution_count": null,
      "metadata": {
        "id": "wbxcinw2F7Iw"
      },
      "outputs": [],
      "source": [
        "importancia = model_rfc.feature_importances_\n",
        "# Importâncias de características são fornecidas pelo atributo ajustado feature_importances_ \n",
        "# e são calculadas como a média e o desvio padrão de acumulação da diminuição de impurezas dentro de cada árvore.\n",
        "std = np.std([tree.feature_importances_ for tree in model_rfc.estimators_], axis=0)"
      ]
    },
    {
      "cell_type": "code",
      "execution_count": null,
      "metadata": {
        "id": "TUkNaQ8XF7Ix"
      },
      "outputs": [],
      "source": [
        "forest_importances = pd.Series(importancia, index=nomes_caracteristicas)\n",
        "forest_importances.sort_values(ascending=False, inplace=True)\n",
        "fig, ax = plt.subplots(figsize=(20,10))\n",
        "forest_importances.plot.bar(yerr=std, ax=ax)\n",
        "ax.set_title(\"Feature importances using MDI\")\n",
        "ax.set_ylabel(\"Mean decrease in impurity\")\n",
        "fig.tight_layout()"
      ]
    }
  ],
  "metadata": {
    "colab": {
      "collapsed_sections": [],
      "history_visible": true,
      "machine_shape": "hm",
      "name": "Otimização - Classificação RFC.ipynb",
      "provenance": [],
      "include_colab_link": true
    },
    "kernelspec": {
      "display_name": "Python 3 (ipykernel)",
      "language": "python",
      "name": "python3"
    },
    "language_info": {
      "codemirror_mode": {
        "name": "ipython",
        "version": 3
      },
      "file_extension": ".py",
      "mimetype": "text/x-python",
      "name": "python",
      "nbconvert_exporter": "python",
      "pygments_lexer": "ipython3",
      "version": "3.8.12"
    }
  },
  "nbformat": 4,
  "nbformat_minor": 0
}
