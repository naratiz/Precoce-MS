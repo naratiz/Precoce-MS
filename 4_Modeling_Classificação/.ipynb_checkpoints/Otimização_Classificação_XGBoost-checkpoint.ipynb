{
 "cells": [
  {
   "cell_type": "markdown",
   "metadata": {
    "colab_type": "text",
    "id": "view-in-github"
   },
   "source": [
    "<a href=\"https://colab.research.google.com/github/naratiz/Precoce-MS/blob/main/4_Modeling_Classifica%C3%A7%C3%A3o/Otimiza%C3%A7%C3%A3o_Classifica%C3%A7%C3%A3o_XGBoost.ipynb\" target=\"_parent\"><img src=\"https://colab.research.google.com/assets/colab-badge.svg\" alt=\"Open In Colab\"/></a>"
   ]
  },
  {
   "cell_type": "code",
   "execution_count": 1,
   "metadata": {
    "colab": {
     "base_uri": "https://localhost:8080/"
    },
    "id": "cxMc9pd239AS",
    "outputId": "a7008671-de23-45ff-e09b-aed76e5966fd"
   },
   "outputs": [
    {
     "name": "stdout",
     "output_type": "stream",
     "text": [
      "Requirement already satisfied: optuna in /home/inara/anaconda3/lib/python3.7/site-packages (2.10.0)\n",
      "Requirement already satisfied: cliff in /home/inara/anaconda3/lib/python3.7/site-packages (from optuna) (3.10.0)\n",
      "Requirement already satisfied: cmaes>=0.8.2 in /home/inara/anaconda3/lib/python3.7/site-packages (from optuna) (0.8.2)\n",
      "Requirement already satisfied: tqdm in /home/inara/anaconda3/lib/python3.7/site-packages (from optuna) (4.42.1)\n",
      "Requirement already satisfied: alembic in /home/inara/anaconda3/lib/python3.7/site-packages (from optuna) (1.7.6)\n",
      "Requirement already satisfied: packaging>=20.0 in /home/inara/anaconda3/lib/python3.7/site-packages (from optuna) (21.3)\n",
      "Requirement already satisfied: numpy in /home/inara/anaconda3/lib/python3.7/site-packages (from optuna) (1.18.1)\n",
      "Requirement already satisfied: colorlog in /home/inara/anaconda3/lib/python3.7/site-packages (from optuna) (6.6.0)\n",
      "Requirement already satisfied: PyYAML in /home/inara/anaconda3/lib/python3.7/site-packages (from optuna) (5.3)\n",
      "Requirement already satisfied: sqlalchemy>=1.1.0 in /home/inara/anaconda3/lib/python3.7/site-packages (from optuna) (1.3.13)\n",
      "Requirement already satisfied: scipy!=1.4.0 in /home/inara/anaconda3/lib/python3.7/site-packages (from optuna) (1.4.1)\n",
      "Requirement already satisfied: stevedore>=2.0.1 in /home/inara/anaconda3/lib/python3.7/site-packages (from cliff->optuna) (3.5.0)\n",
      "Requirement already satisfied: pyparsing>=2.1.0 in /home/inara/anaconda3/lib/python3.7/site-packages (from cliff->optuna) (2.4.6)\n",
      "Requirement already satisfied: cmd2>=1.0.0 in /home/inara/anaconda3/lib/python3.7/site-packages (from cliff->optuna) (2.3.3)\n",
      "Requirement already satisfied: PrettyTable>=0.7.2 in /home/inara/anaconda3/lib/python3.7/site-packages (from cliff->optuna) (3.0.0)\n",
      "Requirement already satisfied: autopage>=0.4.0 in /home/inara/anaconda3/lib/python3.7/site-packages (from cliff->optuna) (0.5.0)\n",
      "Requirement already satisfied: pbr!=2.1.0,>=2.0.0 in /home/inara/anaconda3/lib/python3.7/site-packages (from cliff->optuna) (5.8.0)\n",
      "Requirement already satisfied: Mako in /home/inara/anaconda3/lib/python3.7/site-packages (from alembic->optuna) (1.1.6)\n",
      "Requirement already satisfied: importlib-resources; python_version < \"3.9\" in /home/inara/anaconda3/lib/python3.7/site-packages (from alembic->optuna) (5.4.0)\n",
      "Requirement already satisfied: importlib-metadata; python_version < \"3.9\" in /home/inara/anaconda3/lib/python3.7/site-packages (from alembic->optuna) (1.5.0)\n",
      "Requirement already satisfied: wcwidth>=0.1.7 in /home/inara/anaconda3/lib/python3.7/site-packages (from cmd2>=1.0.0->cliff->optuna) (0.1.8)\n",
      "Requirement already satisfied: attrs>=16.3.0 in /home/inara/anaconda3/lib/python3.7/site-packages (from cmd2>=1.0.0->cliff->optuna) (19.3.0)\n",
      "Requirement already satisfied: pyperclip>=1.6 in /home/inara/anaconda3/lib/python3.7/site-packages (from cmd2>=1.0.0->cliff->optuna) (1.8.2)\n",
      "Requirement already satisfied: typing-extensions; python_version < \"3.8\" in /home/inara/anaconda3/lib/python3.7/site-packages (from cmd2>=1.0.0->cliff->optuna) (4.0.1)\n",
      "Requirement already satisfied: MarkupSafe>=0.9.2 in /home/inara/anaconda3/lib/python3.7/site-packages (from Mako->alembic->optuna) (1.1.1)\n",
      "Requirement already satisfied: zipp>=3.1.0; python_version < \"3.10\" in /home/inara/anaconda3/lib/python3.7/site-packages (from importlib-resources; python_version < \"3.9\"->alembic->optuna) (3.7.0)\n"
     ]
    }
   ],
   "source": [
    "!pip install optuna"
   ]
  },
  {
   "cell_type": "code",
   "execution_count": 2,
   "metadata": {
    "id": "_kCbTntnv8Ow"
   },
   "outputs": [],
   "source": [
    "import pandas as pd\n",
    "import optuna\n",
    "import numpy as np\n",
    "import seaborn as sns\n",
    "import time\n",
    "import matplotlib.pyplot as plt\n",
    "import concurrent.futures\n",
    "import itertools\n",
    "import logging\n",
    "import sys\n",
    "\n",
    "from sklearn.model_selection import cross_val_score,train_test_split, StratifiedKFold, learning_curve\n",
    "from sklearn.preprocessing import StandardScaler\n",
    "from sklearn.decomposition import PCA\n",
    "from sklearn.metrics import accuracy_score, confusion_matrix, classification_report\n",
    "from xgboost import XGBClassifier\n",
    "from imblearn.combine import SMOTEENN "
   ]
  },
  {
   "cell_type": "code",
   "execution_count": 3,
   "metadata": {
    "colab": {
     "base_uri": "https://localhost:8080/"
    },
    "id": "Y8Mt7ZWERcaN",
    "outputId": "1b77dcef-d9c7-4486-9d17-29f637ab96b0"
   },
   "outputs": [
    {
     "name": "stdout",
     "output_type": "stream",
     "text": [
      "Number of CPUs in the system: 4\n"
     ]
    }
   ],
   "source": [
    "import os \n",
    "n_cpu = os.cpu_count()\n",
    "print(\"Number of CPUs in the system:\", n_cpu)"
   ]
  },
  {
   "cell_type": "markdown",
   "metadata": {
    "id": "pUgoZt0eRhlW"
   },
   "source": [
    "# Base de Dados"
   ]
  },
  {
   "cell_type": "code",
   "execution_count": null,
   "metadata": {
    "colab": {
     "base_uri": "https://localhost:8080/"
    },
    "id": "rQKh1k3kwDkh",
    "outputId": "be895e7d-7558-4a22-82c3-6451bf171538"
   },
   "outputs": [
    {
     "name": "stdout",
     "output_type": "stream",
     "text": [
      "Drive already mounted at /content/drive; to attempt to forcibly remount, call drive.mount(\"/content/drive\", force_remount=True).\n"
     ]
    }
   ],
   "source": [
    "from google.colab import drive\n",
    "drive.mount('/content/drive')"
   ]
  },
  {
   "cell_type": "code",
   "execution_count": null,
   "metadata": {
    "id": "E1gwV0WcwKor"
   },
   "outputs": [],
   "source": [
    "#path = \"/content/drive/MyDrive/Dissertação/dados/procucao_gado_MS_train.csv\"\n",
    "path = 'dados/procucao_gado_MS_train.csv'\n",
    "df = pd.read_csv(path, sep=';')"
   ]
  },
  {
   "cell_type": "code",
   "execution_count": null,
   "metadata": {
    "colab": {
     "base_uri": "https://localhost:8080/"
    },
    "id": "pBCYSIWr_0pQ",
    "outputId": "1aaa9cdb-646e-45d0-87ce-af4e3f426436"
   },
   "outputs": [
    {
     "name": "stdout",
     "output_type": "stream",
     "text": [
      "A base de dados apresenta 768751 registros e 48 características.\n"
     ]
    }
   ],
   "source": [
    "print('A base de dados apresenta {} registros e {} características.'.format(df.shape[0], df.shape[1]))"
   ]
  },
  {
   "cell_type": "markdown",
   "metadata": {
    "id": "eVO3VYZGRwwT"
   },
   "source": [
    "### Separando as características preditoras do atributo alvo"
   ]
  },
  {
   "cell_type": "code",
   "execution_count": null,
   "metadata": {
    "id": "SEKAWYGCSw2H"
   },
   "outputs": [],
   "source": [
    "SEED = 42"
   ]
  },
  {
   "cell_type": "code",
   "execution_count": null,
   "metadata": {
    "id": "ieqPxiv5wEBx"
   },
   "outputs": [],
   "source": [
    "y = df['categoria']\n",
    "# Retirar a variável alvo e as variáveis obtidas após o abate \n",
    "X = df.drop(['categoria'],axis=1)"
   ]
  },
  {
   "cell_type": "code",
   "execution_count": null,
   "metadata": {
    "id": "9Z2cwn0FbJEi"
   },
   "outputs": [],
   "source": [
    "# Para remover UserWarning do XGBClassifier: Use o parêmetro use_label_encoder=False \n",
    "# e codifique as classes no inervalo[0 ... n]\n",
    "y=y.replace(6, 0)"
   ]
  },
  {
   "cell_type": "markdown",
   "metadata": {
    "id": "MDtnrvqORl71"
   },
   "source": [
    "### StandardScaler"
   ]
  },
  {
   "cell_type": "code",
   "execution_count": null,
   "metadata": {
    "id": "BcQqqaxMwVRi"
   },
   "outputs": [],
   "source": [
    "scaler = StandardScaler()\n",
    "X_scaled = scaler.fit_transform(X)"
   ]
  },
  {
   "cell_type": "markdown",
   "metadata": {
    "id": "ZzDLuuydS4IR"
   },
   "source": [
    "## PCA"
   ]
  },
  {
   "cell_type": "code",
   "execution_count": null,
   "metadata": {
    "id": "eLlIibVMTu7q"
   },
   "outputs": [],
   "source": [
    "pca = PCA(n_components=30)\n",
    "pca.fit(X_scaled)\n",
    "X_scaled_pca = pca.transform(X_scaled)"
   ]
  },
  {
   "cell_type": "markdown",
   "metadata": {
    "id": "5GJFjZhVT1vw"
   },
   "source": [
    "## Baseline"
   ]
  },
  {
   "cell_type": "code",
   "execution_count": null,
   "metadata": {
    "id": "pfVl0LrtEWEv"
   },
   "outputs": [],
   "source": [
    "skfolds = StratifiedKFold(n_splits=10, shuffle=True, random_state=SEED)"
   ]
  },
  {
   "cell_type": "code",
   "execution_count": null,
   "metadata": {
    "colab": {
     "background_save": true
    },
    "id": "0lRHma8qQy3E",
    "outputId": "89ed109d-49f6-4317-c6d1-a55e64417251"
   },
   "outputs": [
    {
     "name": "stdout",
     "output_type": "stream",
     "text": [
      "Acurácia média da validação cruzada : 0.400\"\n",
      "Pronto em:  1195.628\n"
     ]
    }
   ],
   "source": [
    "xgb_baseline = XGBClassifier(objective=\"multi:softmax\", num_class= 6, eval_metric='mlogloss', random_state=SEED, nthread=-1,  use_label_encoder=False)\n",
    "t0 = time.time()\n",
    "score = cross_val_score(xgb_baseline, X_scaled, y, cv = skfolds)\n",
    "print('Acurácia média da validação cruzada : %0.3f\"' % score.mean())\n",
    "print(\"Pronto em:  %0.3f\" %(time.time()-t0))"
   ]
  },
  {
   "cell_type": "markdown",
   "metadata": {
    "id": "6Q_kKQ1U44r3"
   },
   "source": [
    "## Otimização dos hiperparâmetros"
   ]
  },
  {
   "cell_type": "code",
   "execution_count": null,
   "metadata": {
    "id": "ExYdslwYbJEq"
   },
   "outputs": [],
   "source": [
    "skfolds = StratifiedKFold(n_splits=5, shuffle=True, random_state=SEED)"
   ]
  },
  {
   "cell_type": "code",
   "execution_count": null,
   "metadata": {
    "id": "AJib_a_t8bbF"
   },
   "outputs": [],
   "source": [
    "# Add stream handler of stdout to show the messages\n",
    "optuna.logging.get_logger(\"optuna\").addHandler(logging.StreamHandler(sys.stdout))\n",
    "study_name = \"xgb-study\"  # Unique identifier of the study.\n",
    "storage_name = \"sqlite:///sample_data/{}.db\".format(study_name)"
   ]
  },
  {
   "cell_type": "code",
   "execution_count": null,
   "metadata": {
    "id": "hIgA5wan8TQT"
   },
   "outputs": [],
   "source": [
    "# função de otimização baseada em uma função objetivo\n",
    "def tune (objective):\n",
    "    study = optuna.create_study(study_name=study_name, storage=storage_name, load_if_exists=True, direction=\"maximize\")\n",
    "    study.optimize(objective, timeout=61200, n_trials=100)\n",
    "\n",
    "    params = study.best_params\n",
    "    print(f\"Trial: {study.best_trial.number}\")\n",
    "    params = study.best_params\n",
    "    print(\"\\n\")\n",
    "    print(f\"Melhor seleção de parâmetros : \\n{params}\")\n",
    "    print(\"\\n\")\n",
    "    print(f\"Acurácia : {study.best_value:.3f}\")\n",
    "    \n",
    "    return study, params"
   ]
  },
  {
   "cell_type": "markdown",
   "metadata": {
    "id": "Ajxr7PwTbJEs"
   },
   "source": [
    "# XGBClassifier"
   ]
  },
  {
   "cell_type": "code",
   "execution_count": null,
   "metadata": {
    "id": "EeZc_zgNbJEs"
   },
   "outputs": [],
   "source": [
    "X_train, X_test, y_train, y_test = train_test_split(X_scaled, y, test_size=0.3, random_state=SEED)"
   ]
  },
  {
   "cell_type": "code",
   "execution_count": null,
   "metadata": {
    "id": "rEyOBE0QBOmG"
   },
   "outputs": [],
   "source": [
    "def xgb_objective(trial: optuna.Trial): \n",
    "    xgb_params = {\n",
    "        'nthread' : -1,\n",
    "        'objective':'multi:softmax',\n",
    "        'num_class': 6,\n",
    "        'eval_metric': 'mlogloss',\n",
    "        'random_state': SEED,       \n",
    "        'gamma' : trial.suggest_loguniform('gamma', 1e-8, 1.0),\n",
    "        'reg_alpha': trial.suggest_loguniform('reg_alpha', 1e-8, 5),\n",
    "        'lambda': trial.suggest_loguniform('lambda', 1e-8, 10.0),\n",
    "        'max_depth': trial.suggest_int('max_depth', 2, 30),\n",
    "        'min_child_weight': trial.suggest_int('min_child_weight', 1, 300),\n",
    "        'colsample_bytree': trial.suggest_loguniform('colsample_bytree', 0.2, 0.9), \n",
    "        'subsample': trial.suggest_categorical('subsample', [0.4,0.5,0.6,0.7,0.8,1.0]),\n",
    "        'eta': trial.suggest_categorical('eta', [0.008,0.009,0.01,0.012,0.014,0.016,0.018, 0.02,0.5,1.0]),\n",
    "    }\n",
    "    model = XGBClassifier(**xgb_params, use_label_encoder=False) \n",
    "    scores = cross_val_score(model, X_train, y_train, n_jobs=-1, cv=skfolds)\n",
    "    return scores.mean()"
   ]
  },
  {
   "cell_type": "code",
   "execution_count": null,
   "metadata": {
    "colab": {
     "base_uri": "https://localhost:8080/"
    },
    "id": "fSHzuFgFFCRH",
    "outputId": "cfb11693-027a-4b93-b4f7-22ddd760f698"
   },
   "outputs": [
    {
     "metadata": {
      "tags": null
     },
     "name": "stderr",
     "output_type": "stream",
     "text": [
      "\u001b[32m[I 2022-03-11 01:39:49,704]\u001b[0m A new study created in RDB with name: xgb-study\u001b[0m\n"
     ]
    },
    {
     "metadata": {
      "tags": null
     },
     "name": "stdout",
     "output_type": "stream",
     "text": [
      "A new study created in RDB with name: xgb-study\n"
     ]
    },
    {
     "metadata": {
      "tags": null
     },
     "name": "stderr",
     "output_type": "stream",
     "text": [
      "\u001b[32m[I 2022-03-11 01:53:00,592]\u001b[0m Trial 0 finished with value: 0.4167804878048781 and parameters: {'gamma': 0.9985575588098449, 'reg_alpha': 0.013317932234302585, 'lambda': 0.06782073475264933, 'max_depth': 4, 'min_child_weight': 212, 'colsample_bytree': 0.8698830426290681, 'subsample': 0.7, 'eta': 0.014}. Best is trial 0 with value: 0.4167804878048781.\u001b[0m\n"
     ]
    },
    {
     "metadata": {
      "tags": null
     },
     "name": "stdout",
     "output_type": "stream",
     "text": [
      "Trial 0 finished with value: 0.4167804878048781 and parameters: {'gamma': 0.9985575588098449, 'reg_alpha': 0.013317932234302585, 'lambda': 0.06782073475264933, 'max_depth': 4, 'min_child_weight': 212, 'colsample_bytree': 0.8698830426290681, 'subsample': 0.7, 'eta': 0.014}. Best is trial 0 with value: 0.4167804878048781.\n"
     ]
    },
    {
     "metadata": {
      "tags": null
     },
     "name": "stderr",
     "output_type": "stream",
     "text": [
      "\u001b[32m[I 2022-03-11 02:46:50,760]\u001b[0m Trial 1 finished with value: 0.5035317073170731 and parameters: {'gamma': 0.0070540395017744464, 'reg_alpha': 0.00012122022278417511, 'lambda': 1.3907206514463681, 'max_depth': 20, 'min_child_weight': 201, 'colsample_bytree': 0.716059402094255, 'subsample': 1.0, 'eta': 0.01}. Best is trial 1 with value: 0.5035317073170731.\u001b[0m\n"
     ]
    },
    {
     "metadata": {
      "tags": null
     },
     "name": "stdout",
     "output_type": "stream",
     "text": [
      "Trial 1 finished with value: 0.5035317073170731 and parameters: {'gamma': 0.0070540395017744464, 'reg_alpha': 0.00012122022278417511, 'lambda': 1.3907206514463681, 'max_depth': 20, 'min_child_weight': 201, 'colsample_bytree': 0.716059402094255, 'subsample': 1.0, 'eta': 0.01}. Best is trial 1 with value: 0.5035317073170731.\n"
     ]
    },
    {
     "metadata": {
      "tags": null
     },
     "name": "stderr",
     "output_type": "stream",
     "text": [
      "\u001b[32m[I 2022-03-11 03:28:02,772]\u001b[0m Trial 2 finished with value: 0.4885853658536585 and parameters: {'gamma': 9.512240907353282e-08, 'reg_alpha': 5.1765496729584186e-05, 'lambda': 1.7421503863313042e-08, 'max_depth': 22, 'min_child_weight': 286, 'colsample_bytree': 0.5561940721678884, 'subsample': 0.5, 'eta': 0.016}. Best is trial 1 with value: 0.5035317073170731.\u001b[0m\n"
     ]
    },
    {
     "metadata": {
      "tags": null
     },
     "name": "stdout",
     "output_type": "stream",
     "text": [
      "Trial 2 finished with value: 0.4885853658536585 and parameters: {'gamma': 9.512240907353282e-08, 'reg_alpha': 5.1765496729584186e-05, 'lambda': 1.7421503863313042e-08, 'max_depth': 22, 'min_child_weight': 286, 'colsample_bytree': 0.5561940721678884, 'subsample': 0.5, 'eta': 0.016}. Best is trial 1 with value: 0.5035317073170731.\n"
     ]
    },
    {
     "metadata": {
      "tags": null
     },
     "name": "stderr",
     "output_type": "stream",
     "text": [
      "\u001b[32m[I 2022-03-11 04:08:42,135]\u001b[0m Trial 3 finished with value: 0.5052153310104529 and parameters: {'gamma': 0.007812329264234884, 'reg_alpha': 0.0004116855856097491, 'lambda': 1.9248163216700373e-08, 'max_depth': 16, 'min_child_weight': 71, 'colsample_bytree': 0.48526692936135574, 'subsample': 0.5, 'eta': 0.009}. Best is trial 3 with value: 0.5052153310104529.\u001b[0m\n"
     ]
    },
    {
     "metadata": {
      "tags": null
     },
     "name": "stdout",
     "output_type": "stream",
     "text": [
      "Trial 3 finished with value: 0.5052153310104529 and parameters: {'gamma': 0.007812329264234884, 'reg_alpha': 0.0004116855856097491, 'lambda': 1.9248163216700373e-08, 'max_depth': 16, 'min_child_weight': 71, 'colsample_bytree': 0.48526692936135574, 'subsample': 0.5, 'eta': 0.009}. Best is trial 3 with value: 0.5052153310104529.\n"
     ]
    },
    {
     "metadata": {
      "tags": null
     },
     "name": "stderr",
     "output_type": "stream",
     "text": [
      "\u001b[32m[I 2022-03-11 04:42:44,152]\u001b[0m Trial 4 finished with value: 0.49942299651567945 and parameters: {'gamma': 6.958667220721727e-07, 'reg_alpha': 5.6452387457634156e-06, 'lambda': 9.859894442011205e-06, 'max_depth': 12, 'min_child_weight': 100, 'colsample_bytree': 0.5261863353038864, 'subsample': 0.6, 'eta': 0.009}. Best is trial 3 with value: 0.5052153310104529.\u001b[0m\n"
     ]
    },
    {
     "metadata": {
      "tags": null
     },
     "name": "stdout",
     "output_type": "stream",
     "text": [
      "Trial 4 finished with value: 0.49942299651567945 and parameters: {'gamma': 6.958667220721727e-07, 'reg_alpha': 5.6452387457634156e-06, 'lambda': 9.859894442011205e-06, 'max_depth': 12, 'min_child_weight': 100, 'colsample_bytree': 0.5261863353038864, 'subsample': 0.6, 'eta': 0.009}. Best is trial 3 with value: 0.5052153310104529.\n"
     ]
    },
    {
     "metadata": {
      "tags": null
     },
     "name": "stderr",
     "output_type": "stream",
     "text": [
      "\u001b[32m[I 2022-03-11 05:37:34,044]\u001b[0m Trial 5 finished with value: 0.5097774680603948 and parameters: {'gamma': 6.788420616185796e-05, 'reg_alpha': 0.8972960306417035, 'lambda': 2.003475415943912, 'max_depth': 24, 'min_child_weight': 23, 'colsample_bytree': 0.43301852473526403, 'subsample': 0.4, 'eta': 0.008}. Best is trial 5 with value: 0.5097774680603948.\u001b[0m\n"
     ]
    },
    {
     "metadata": {
      "tags": null
     },
     "name": "stdout",
     "output_type": "stream",
     "text": [
      "Trial 5 finished with value: 0.5097774680603948 and parameters: {'gamma': 6.788420616185796e-05, 'reg_alpha': 0.8972960306417035, 'lambda': 2.003475415943912, 'max_depth': 24, 'min_child_weight': 23, 'colsample_bytree': 0.43301852473526403, 'subsample': 0.4, 'eta': 0.008}. Best is trial 5 with value: 0.5097774680603948.\n"
     ]
    },
    {
     "metadata": {
      "tags": null
     },
     "name": "stderr",
     "output_type": "stream",
     "text": [
      "\u001b[32m[I 2022-03-11 06:04:44,017]\u001b[0m Trial 6 finished with value: 0.5009412311265969 and parameters: {'gamma': 0.04005090027196393, 'reg_alpha': 1.9542552282778625e-08, 'lambda': 2.484099437586695, 'max_depth': 16, 'min_child_weight': 102, 'colsample_bytree': 0.2785887562700205, 'subsample': 0.5, 'eta': 0.5}. Best is trial 5 with value: 0.5097774680603948.\u001b[0m\n"
     ]
    },
    {
     "metadata": {
      "tags": null
     },
     "name": "stdout",
     "output_type": "stream",
     "text": [
      "Trial 6 finished with value: 0.5009412311265969 and parameters: {'gamma': 0.04005090027196393, 'reg_alpha': 1.9542552282778625e-08, 'lambda': 2.484099437586695, 'max_depth': 16, 'min_child_weight': 102, 'colsample_bytree': 0.2785887562700205, 'subsample': 0.5, 'eta': 0.5}. Best is trial 5 with value: 0.5097774680603948.\n"
     ]
    },
    {
     "metadata": {
      "tags": null
     },
     "name": "stderr",
     "output_type": "stream",
     "text": [
      "\u001b[32m[I 2022-03-11 07:10:30,492]\u001b[0m Trial 7 finished with value: 0.5089505226480837 and parameters: {'gamma': 6.314673017035413e-08, 'reg_alpha': 0.2085403741262413, 'lambda': 0.007599546201003035, 'max_depth': 26, 'min_child_weight': 90, 'colsample_bytree': 0.5398489013160496, 'subsample': 0.8, 'eta': 0.008}. Best is trial 5 with value: 0.5097774680603948.\u001b[0m\n"
     ]
    },
    {
     "metadata": {
      "tags": null
     },
     "name": "stdout",
     "output_type": "stream",
     "text": [
      "Trial 7 finished with value: 0.5089505226480837 and parameters: {'gamma': 6.314673017035413e-08, 'reg_alpha': 0.2085403741262413, 'lambda': 0.007599546201003035, 'max_depth': 26, 'min_child_weight': 90, 'colsample_bytree': 0.5398489013160496, 'subsample': 0.8, 'eta': 0.008}. Best is trial 5 with value: 0.5097774680603948.\n"
     ]
    },
    {
     "metadata": {
      "tags": null
     },
     "name": "stderr",
     "output_type": "stream",
     "text": [
      "\u001b[32m[I 2022-03-11 07:45:14,370]\u001b[0m Trial 8 finished with value: 0.5031396051103367 and parameters: {'gamma': 8.499311582491439e-05, 'reg_alpha': 7.903635753527577e-07, 'lambda': 4.4952081616360084, 'max_depth': 30, 'min_child_weight': 71, 'colsample_bytree': 0.23747619492145683, 'subsample': 0.4, 'eta': 0.008}. Best is trial 5 with value: 0.5097774680603948.\u001b[0m\n"
     ]
    },
    {
     "metadata": {
      "tags": null
     },
     "name": "stdout",
     "output_type": "stream",
     "text": [
      "Trial 8 finished with value: 0.5031396051103367 and parameters: {'gamma': 8.499311582491439e-05, 'reg_alpha': 7.903635753527577e-07, 'lambda': 4.4952081616360084, 'max_depth': 30, 'min_child_weight': 71, 'colsample_bytree': 0.23747619492145683, 'subsample': 0.4, 'eta': 0.008}. Best is trial 5 with value: 0.5097774680603948.\n"
     ]
    },
    {
     "metadata": {
      "tags": null
     },
     "name": "stderr",
     "output_type": "stream",
     "text": [
      "\u001b[32m[I 2022-03-11 09:29:02,018]\u001b[0m Trial 9 finished with value: 0.5107809523809524 and parameters: {'gamma': 0.004218402383318941, 'reg_alpha': 0.00028485416878455173, 'lambda': 1.7231404136777924, 'max_depth': 28, 'min_child_weight': 45, 'colsample_bytree': 0.8208846850808985, 'subsample': 0.8, 'eta': 0.008}. Best is trial 9 with value: 0.5107809523809524.\u001b[0m\n"
     ]
    },
    {
     "metadata": {
      "tags": null
     },
     "name": "stdout",
     "output_type": "stream",
     "text": [
      "Trial 9 finished with value: 0.5107809523809524 and parameters: {'gamma': 0.004218402383318941, 'reg_alpha': 0.00028485416878455173, 'lambda': 1.7231404136777924, 'max_depth': 28, 'min_child_weight': 45, 'colsample_bytree': 0.8208846850808985, 'subsample': 0.8, 'eta': 0.008}. Best is trial 9 with value: 0.5107809523809524.\n"
     ]
    },
    {
     "metadata": {
      "tags": null
     },
     "name": "stderr",
     "output_type": "stream",
     "text": [
      "\u001b[32m[I 2022-03-11 09:41:52,398]\u001b[0m Trial 10 finished with value: 0.4786694541231126 and parameters: {'gamma': 6.192198401039996e-06, 'reg_alpha': 0.02382144536028097, 'lambda': 2.4896472241684224e-05, 'max_depth': 7, 'min_child_weight': 6, 'colsample_bytree': 0.3280723015869995, 'subsample': 0.8, 'eta': 1.0}. Best is trial 9 with value: 0.5107809523809524.\u001b[0m\n"
     ]
    },
    {
     "metadata": {
      "tags": null
     },
     "name": "stdout",
     "output_type": "stream",
     "text": [
      "Trial 10 finished with value: 0.4786694541231126 and parameters: {'gamma': 6.192198401039996e-06, 'reg_alpha': 0.02382144536028097, 'lambda': 2.4896472241684224e-05, 'max_depth': 7, 'min_child_weight': 6, 'colsample_bytree': 0.3280723015869995, 'subsample': 0.8, 'eta': 1.0}. Best is trial 9 with value: 0.5107809523809524.\n"
     ]
    },
    {
     "metadata": {
      "tags": null
     },
     "name": "stderr",
     "output_type": "stream",
     "text": [
      "\u001b[32m[I 2022-03-11 10:43:59,287]\u001b[0m Trial 11 finished with value: 0.5105969802555169 and parameters: {'gamma': 0.00015849344249077848, 'reg_alpha': 2.3008615775102044, 'lambda': 0.01333704666534248, 'max_depth': 30, 'min_child_weight': 2, 'colsample_bytree': 0.39340187736332494, 'subsample': 0.4, 'eta': 0.008}. Best is trial 9 with value: 0.5107809523809524.\u001b[0m\n"
     ]
    },
    {
     "metadata": {
      "tags": null
     },
     "name": "stdout",
     "output_type": "stream",
     "text": [
      "Trial 11 finished with value: 0.5105969802555169 and parameters: {'gamma': 0.00015849344249077848, 'reg_alpha': 2.3008615775102044, 'lambda': 0.01333704666534248, 'max_depth': 30, 'min_child_weight': 2, 'colsample_bytree': 0.39340187736332494, 'subsample': 0.4, 'eta': 0.008}. Best is trial 9 with value: 0.5107809523809524.\n"
     ]
    },
    {
     "metadata": {
      "tags": null
     },
     "name": "stderr",
     "output_type": "stream",
     "text": [
      "\u001b[32m[I 2022-03-11 11:35:10,342]\u001b[0m Trial 12 finished with value: 0.5109481997677119 and parameters: {'gamma': 0.0007620035768085428, 'reg_alpha': 4.231947333822255, 'lambda': 0.0030063161988855788, 'max_depth': 30, 'min_child_weight': 3, 'colsample_bytree': 0.33728210969119804, 'subsample': 0.8, 'eta': 0.02}. Best is trial 12 with value: 0.5109481997677119.\u001b[0m\n"
     ]
    },
    {
     "metadata": {
      "tags": null
     },
     "name": "stdout",
     "output_type": "stream",
     "text": [
      "Trial 12 finished with value: 0.5109481997677119 and parameters: {'gamma': 0.0007620035768085428, 'reg_alpha': 4.231947333822255, 'lambda': 0.0030063161988855788, 'max_depth': 30, 'min_child_weight': 3, 'colsample_bytree': 0.33728210969119804, 'subsample': 0.8, 'eta': 0.02}. Best is trial 12 with value: 0.5109481997677119.\n"
     ]
    },
    {
     "metadata": {
      "tags": null
     },
     "name": "stderr",
     "output_type": "stream",
     "text": [
      "\u001b[32m[I 2022-03-11 12:25:08,661]\u001b[0m Trial 13 finished with value: 0.5103108013937282 and parameters: {'gamma': 0.0010214987692136579, 'reg_alpha': 0.001966899793367531, 'lambda': 0.00029388255487745564, 'max_depth': 27, 'min_child_weight': 46, 'colsample_bytree': 0.3397721802714088, 'subsample': 0.8, 'eta': 0.02}. Best is trial 12 with value: 0.5109481997677119.\u001b[0m\n"
     ]
    },
    {
     "metadata": {
      "tags": null
     },
     "name": "stdout",
     "output_type": "stream",
     "text": [
      "Trial 13 finished with value: 0.5103108013937282 and parameters: {'gamma': 0.0010214987692136579, 'reg_alpha': 0.001966899793367531, 'lambda': 0.00029388255487745564, 'max_depth': 27, 'min_child_weight': 46, 'colsample_bytree': 0.3397721802714088, 'subsample': 0.8, 'eta': 0.02}. Best is trial 12 with value: 0.5109481997677119.\n"
     ]
    },
    {
     "metadata": {
      "tags": null
     },
     "name": "stderr",
     "output_type": "stream",
     "text": [
      "\u001b[32m[I 2022-03-11 13:36:52,211]\u001b[0m Trial 14 finished with value: 0.5056483159117307 and parameters: {'gamma': 0.22080561056660816, 'reg_alpha': 6.81084598003547e-08, 'lambda': 0.09999895449603487, 'max_depth': 20, 'min_child_weight': 139, 'colsample_bytree': 0.876989576925909, 'subsample': 0.8, 'eta': 0.018}. Best is trial 12 with value: 0.5109481997677119.\u001b[0m\n"
     ]
    },
    {
     "metadata": {
      "tags": null
     },
     "name": "stdout",
     "output_type": "stream",
     "text": [
      "Trial 14 finished with value: 0.5056483159117307 and parameters: {'gamma': 0.22080561056660816, 'reg_alpha': 6.81084598003547e-08, 'lambda': 0.09999895449603487, 'max_depth': 20, 'min_child_weight': 139, 'colsample_bytree': 0.876989576925909, 'subsample': 0.8, 'eta': 0.018}. Best is trial 12 with value: 0.5109481997677119.\n"
     ]
    },
    {
     "name": "stderr",
     "output_type": "stream",
     "text": [
      "\u001b[32m[I 2022-03-11 14:10:58,229]\u001b[0m Trial 15 finished with value: 0.5090192799070848 and parameters: {'gamma': 0.0012395582193859029, 'reg_alpha': 0.038303770461738905, 'lambda': 0.000721862343773218, 'max_depth': 30, 'min_child_weight': 48, 'colsample_bytree': 0.2049077576272659, 'subsample': 0.8, 'eta': 0.012}. Best is trial 12 with value: 0.5109481997677119.\u001b[0m\n"
     ]
    },
    {
     "name": "stdout",
     "output_type": "stream",
     "text": [
      "Trial 15 finished with value: 0.5090192799070848 and parameters: {'gamma': 0.0012395582193859029, 'reg_alpha': 0.038303770461738905, 'lambda': 0.000721862343773218, 'max_depth': 30, 'min_child_weight': 48, 'colsample_bytree': 0.2049077576272659, 'subsample': 0.8, 'eta': 0.012}. Best is trial 12 with value: 0.5109481997677119.\n"
     ]
    },
    {
     "name": "stderr",
     "output_type": "stream",
     "text": [
      "\u001b[32m[I 2022-03-11 15:07:29,680]\u001b[0m Trial 16 finished with value: 0.5020915214866435 and parameters: {'gamma': 9.450283775175754e-06, 'reg_alpha': 1.2762301200809446e-05, 'lambda': 7.845264531487801e-07, 'max_depth': 25, 'min_child_weight': 161, 'colsample_bytree': 0.6161983283256188, 'subsample': 0.6, 'eta': 0.02}. Best is trial 12 with value: 0.5109481997677119.\u001b[0m\n"
     ]
    },
    {
     "name": "stdout",
     "output_type": "stream",
     "text": [
      "Trial 16 finished with value: 0.5020915214866435 and parameters: {'gamma': 9.450283775175754e-06, 'reg_alpha': 1.2762301200809446e-05, 'lambda': 7.845264531487801e-07, 'max_depth': 25, 'min_child_weight': 161, 'colsample_bytree': 0.6161983283256188, 'subsample': 0.6, 'eta': 0.02}. Best is trial 12 with value: 0.5109481997677119.\n"
     ]
    },
    {
     "name": "stderr",
     "output_type": "stream",
     "text": [
      "\u001b[32m[I 2022-03-11 15:46:36,131]\u001b[0m Trial 17 finished with value: 0.5022624854819977 and parameters: {'gamma': 0.0009906137161997145, 'reg_alpha': 0.0016567479062341546, 'lambda': 0.174528542982102, 'max_depth': 13, 'min_child_weight': 137, 'colsample_bytree': 0.6825334184599319, 'subsample': 1.0, 'eta': 0.02}. Best is trial 12 with value: 0.5109481997677119.\u001b[0m\n"
     ]
    },
    {
     "name": "stdout",
     "output_type": "stream",
     "text": [
      "Trial 17 finished with value: 0.5022624854819977 and parameters: {'gamma': 0.0009906137161997145, 'reg_alpha': 0.0016567479062341546, 'lambda': 0.174528542982102, 'max_depth': 13, 'min_child_weight': 137, 'colsample_bytree': 0.6825334184599319, 'subsample': 1.0, 'eta': 0.02}. Best is trial 12 with value: 0.5109481997677119.\n"
     ]
    },
    {
     "name": "stderr",
     "output_type": "stream",
     "text": [
      "\u001b[32m[I 2022-03-11 16:35:07,732]\u001b[0m Trial 18 finished with value: 0.509455981416957 and parameters: {'gamma': 0.018172719892315125, 'reg_alpha': 4.490307543479659, 'lambda': 0.0015290726289886546, 'max_depth': 27, 'min_child_weight': 33, 'colsample_bytree': 0.35228620570697733, 'subsample': 0.7, 'eta': 0.014}. Best is trial 12 with value: 0.5109481997677119.\u001b[0m\n"
     ]
    },
    {
     "name": "stdout",
     "output_type": "stream",
     "text": [
      "Trial 18 finished with value: 0.509455981416957 and parameters: {'gamma': 0.018172719892315125, 'reg_alpha': 4.490307543479659, 'lambda': 0.0015290726289886546, 'max_depth': 27, 'min_child_weight': 33, 'colsample_bytree': 0.35228620570697733, 'subsample': 0.7, 'eta': 0.014}. Best is trial 12 with value: 0.5109481997677119.\n"
     ]
    },
    {
     "name": "stderr",
     "output_type": "stream",
     "text": [
      "\u001b[32m[I 2022-03-11 17:02:56,077]\u001b[0m Trial 19 finished with value: 0.49489802555168405 and parameters: {'gamma': 0.0933861480629163, 'reg_alpha': 5.414505908899733e-07, 'lambda': 3.9945967827880465e-05, 'max_depth': 22, 'min_child_weight': 290, 'colsample_bytree': 0.27958804656824526, 'subsample': 0.8, 'eta': 0.5}. Best is trial 12 with value: 0.5109481997677119.\u001b[0m\n"
     ]
    },
    {
     "name": "stdout",
     "output_type": "stream",
     "text": [
      "Trial 19 finished with value: 0.49489802555168405 and parameters: {'gamma': 0.0933861480629163, 'reg_alpha': 5.414505908899733e-07, 'lambda': 3.9945967827880465e-05, 'max_depth': 22, 'min_child_weight': 290, 'colsample_bytree': 0.27958804656824526, 'subsample': 0.8, 'eta': 0.5}. Best is trial 12 with value: 0.5109481997677119.\n"
     ]
    },
    {
     "name": "stderr",
     "output_type": "stream",
     "text": [
      "\u001b[32m[I 2022-03-11 17:49:02,925]\u001b[0m Trial 20 finished with value: 0.5093537746806038 and parameters: {'gamma': 1.3130739915836166e-05, 'reg_alpha': 0.17500384123382326, 'lambda': 8.864972513642898e-07, 'max_depth': 19, 'min_child_weight': 61, 'colsample_bytree': 0.4360269477141852, 'subsample': 0.8, 'eta': 0.016}. Best is trial 12 with value: 0.5109481997677119.\u001b[0m\n"
     ]
    },
    {
     "name": "stdout",
     "output_type": "stream",
     "text": [
      "Trial 20 finished with value: 0.5093537746806038 and parameters: {'gamma': 1.3130739915836166e-05, 'reg_alpha': 0.17500384123382326, 'lambda': 8.864972513642898e-07, 'max_depth': 19, 'min_child_weight': 61, 'colsample_bytree': 0.4360269477141852, 'subsample': 0.8, 'eta': 0.016}. Best is trial 12 with value: 0.5109481997677119.\n"
     ]
    },
    {
     "name": "stderr",
     "output_type": "stream",
     "text": [
      "\u001b[32m[I 2022-03-11 18:41:06,337]\u001b[0m Trial 21 finished with value: 0.5088390243902439 and parameters: {'gamma': 0.00036584053501678015, 'reg_alpha': 4.780646600857952, 'lambda': 0.012509725080775106, 'max_depth': 30, 'min_child_weight': 6, 'colsample_bytree': 0.37928813180688103, 'subsample': 0.4, 'eta': 0.008}. Best is trial 12 with value: 0.5109481997677119.\u001b[0m\n"
     ]
    },
    {
     "name": "stdout",
     "output_type": "stream",
     "text": [
      "Trial 21 finished with value: 0.5088390243902439 and parameters: {'gamma': 0.00036584053501678015, 'reg_alpha': 4.780646600857952, 'lambda': 0.012509725080775106, 'max_depth': 30, 'min_child_weight': 6, 'colsample_bytree': 0.37928813180688103, 'subsample': 0.4, 'eta': 0.008}. Best is trial 12 with value: 0.5109481997677119.\n",
      "Trial: 12\n",
      "\n",
      "\n",
      "Melhor seleção de parâmetros : \n",
      "{'colsample_bytree': 0.33728210969119804, 'eta': 0.02, 'gamma': 0.0007620035768085428, 'lambda': 0.0030063161988855788, 'max_depth': 30, 'min_child_weight': 3, 'reg_alpha': 4.231947333822255, 'subsample': 0.8}\n",
      "\n",
      "\n",
      "Acurácia : 0.511\n",
      "Pronto em:  61276.978\n"
     ]
    }
   ],
   "source": [
    "t0 = time.time()\n",
    "study, best_params = tune(xgb_objective)  \n",
    "print(\"Pronto em:  %0.3f\" %(time.time()-t0))"
   ]
  },
  {
   "cell_type": "code",
   "execution_count": null,
   "metadata": {
    "colab": {
     "base_uri": "https://localhost:8080/"
    },
    "id": "O7AyZeunTMrB",
    "outputId": "f1c4a28a-191f-49ca-b214-358bcbb66513"
   },
   "outputs": [
    {
     "name": "stderr",
     "output_type": "stream",
     "text": [
      "\u001b[32m[I 2022-03-11 23:25:11,978]\u001b[0m Using an existing study with name 'xgb-study' instead of creating a new one.\u001b[0m\n"
     ]
    },
    {
     "name": "stdout",
     "output_type": "stream",
     "text": [
      "Using an existing study with name 'xgb-study' instead of creating a new one.\n"
     ]
    },
    {
     "name": "stderr",
     "output_type": "stream",
     "text": [
      "\u001b[32m[I 2022-03-12 00:18:29,368]\u001b[0m Trial 22 finished with value: 0.5104780487804879 and parameters: {'gamma': 0.0037944252127624905, 'reg_alpha': 0.4447623879164949, 'lambda': 0.012409848997665548, 'max_depth': 28, 'min_child_weight': 2, 'colsample_bytree': 0.2992571440769517, 'subsample': 0.4, 'eta': 0.008}. Best is trial 12 with value: 0.5109481997677119.\u001b[0m\n"
     ]
    },
    {
     "name": "stdout",
     "output_type": "stream",
     "text": [
      "Trial 22 finished with value: 0.5104780487804879 and parameters: {'gamma': 0.0037944252127624905, 'reg_alpha': 0.4447623879164949, 'lambda': 0.012409848997665548, 'max_depth': 28, 'min_child_weight': 2, 'colsample_bytree': 0.2992571440769517, 'subsample': 0.4, 'eta': 0.008}. Best is trial 12 with value: 0.5109481997677119.\n"
     ]
    }
   ],
   "source": [
    "t0 = time.time()\n",
    "study, best_params = tune(xgb_objective)  \n",
    "print(\"Pronto em:  %0.3f\" %(time.time()-t0))"
   ]
  },
  {
   "cell_type": "code",
   "execution_count": null,
   "metadata": {
    "id": "mEnV-k7k6L4d"
   },
   "outputs": [],
   "source": [
    "# Determina quais parâmetros tiveram o impacto mais significativo no desempenho geral do modelo.\n",
    "optuna.visualization.plot_param_importances(study)"
   ]
  },
  {
   "cell_type": "code",
   "execution_count": 1,
   "metadata": {
    "id": "9M4cSLQdEGoq"
   },
   "outputs": [],
   "source": [
    "#teste"
   ]
  },
  {
   "cell_type": "code",
   "execution_count": null,
   "metadata": {
    "id": "DAqyhWBlEIGx"
   },
   "outputs": [],
   "source": []
  }
 ],
 "metadata": {
  "colab": {
   "collapsed_sections": [],
   "include_colab_link": true,
   "machine_shape": "hm",
   "name": "Otimização -  Classificação XGBoost.ipynb",
   "provenance": []
  },
  "kernelspec": {
   "display_name": "Python 3",
   "language": "python",
   "name": "python3"
  },
  "language_info": {
   "codemirror_mode": {
    "name": "ipython",
    "version": 3
   },
   "file_extension": ".py",
   "mimetype": "text/x-python",
   "name": "python",
   "nbconvert_exporter": "python",
   "pygments_lexer": "ipython3",
   "version": "3.7.6"
  }
 },
 "nbformat": 4,
 "nbformat_minor": 1
}
