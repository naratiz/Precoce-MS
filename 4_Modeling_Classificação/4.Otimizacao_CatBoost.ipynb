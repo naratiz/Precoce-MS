{
 "cells": [
  {
   "cell_type": "markdown",
   "metadata": {
    "colab_type": "text",
    "id": "view-in-github"
   },
   "source": [
    "<a href=\"https://colab.research.google.com/github/naratiz/Precoce-MS/blob/main/4_Modeling_Classifica%C3%A7%C3%A3o/Otimiza%C3%A7%C3%A3o_Classifica%C3%A7%C3%A3o_XGBoost.ipynb\" target=\"_parent\"><img src=\"https://colab.research.google.com/assets/colab-badge.svg\" alt=\"Open In Colab\"/></a>"
   ]
  },
  {
   "cell_type": "code",
   "execution_count": null,
   "metadata": {
    "id": "cxMc9pd239AS"
   },
   "outputs": [],
   "source": [
    "#!pip install optuna"
   ]
  },
  {
   "cell_type": "code",
   "execution_count": 1,
   "metadata": {},
   "outputs": [],
   "source": [
    "import optuna\n",
    "import pandas as pd\n",
    "import numpy as np\n",
    "import logging\n",
    "import sys\n",
    "import time\n",
    "import pickle\n",
    "\n",
    "from sklearn.preprocessing import StandardScaler\n",
    "from sklearn.decomposition import PCA\n",
    "from sklearn.utils import class_weight\n",
    "from sklearn.model_selection import cross_val_score,train_test_split, StratifiedKFold\n",
    "\n",
    "from catboost import CatBoostClassifier"
   ]
  },
  {
   "cell_type": "code",
   "execution_count": 2,
   "metadata": {
    "colab": {
     "base_uri": "https://localhost:8080/"
    },
    "id": "Y8Mt7ZWERcaN",
    "outputId": "1b77dcef-d9c7-4486-9d17-29f637ab96b0"
   },
   "outputs": [
    {
     "name": "stdout",
     "output_type": "stream",
     "text": [
      "Number of CPUs in the system: 12\n"
     ]
    }
   ],
   "source": [
    "import os \n",
    "n_cpu = os.cpu_count()\n",
    "print(\"Number of CPUs in the system:\", n_cpu)"
   ]
  },
  {
   "cell_type": "markdown",
   "metadata": {
    "id": "pUgoZt0eRhlW"
   },
   "source": [
    "# Base de Dados"
   ]
  },
  {
   "cell_type": "code",
   "execution_count": 2,
   "metadata": {
    "id": "E1gwV0WcwKor"
   },
   "outputs": [],
   "source": [
    "path = '../../dados/df_train_class.csv'\n",
    "df = pd.read_csv(path, sep=';')"
   ]
  },
  {
   "cell_type": "code",
   "execution_count": 4,
   "metadata": {
    "colab": {
     "base_uri": "https://localhost:8080/"
    },
    "id": "pBCYSIWr_0pQ",
    "outputId": "1aaa9cdb-646e-45d0-87ce-af4e3f426436"
   },
   "outputs": [
    {
     "name": "stdout",
     "output_type": "stream",
     "text": [
      "A base de dados apresenta 672657 registros e 48 características.\n"
     ]
    }
   ],
   "source": [
    "print('A base de dados apresenta {} registros e {} características.'.format(df.shape[0], df.shape[1]))"
   ]
  },
  {
   "cell_type": "markdown",
   "metadata": {
    "id": "eVO3VYZGRwwT"
   },
   "source": [
    "### Separando as características preditoras do atributo alvo"
   ]
  },
  {
   "cell_type": "code",
   "execution_count": 3,
   "metadata": {
    "id": "SEKAWYGCSw2H"
   },
   "outputs": [],
   "source": [
    "SEED = 42"
   ]
  },
  {
   "cell_type": "code",
   "execution_count": 4,
   "metadata": {
    "id": "ieqPxiv5wEBx"
   },
   "outputs": [],
   "source": [
    "y = df['categoria']\n",
    "# Retirar a variável alvo e as variáveis obtidas após o abate \n",
    "X = df.drop(['categoria'],axis=1)"
   ]
  },
  {
   "cell_type": "code",
   "execution_count": 5,
   "metadata": {
    "id": "9Z2cwn0FbJEi"
   },
   "outputs": [],
   "source": [
    "# Para remover UserWarning do XGBClassifier: Use o parêmetro use_label_encoder=False \n",
    "# e codifique as classes no inervalo[0 ... n]\n",
    "y=y.replace(6, 0)"
   ]
  },
  {
   "cell_type": "markdown",
   "metadata": {
    "id": "MDtnrvqORl71"
   },
   "source": [
    "### StandardScaler"
   ]
  },
  {
   "cell_type": "code",
   "execution_count": 6,
   "metadata": {
    "id": "BcQqqaxMwVRi"
   },
   "outputs": [],
   "source": [
    "scaler = StandardScaler()\n",
    "X_scaled = scaler.fit_transform(X)"
   ]
  },
  {
   "cell_type": "markdown",
   "metadata": {
    "id": "ZzDLuuydS4IR"
   },
   "source": [
    "## PCA - Não compilado"
   ]
  },
  {
   "cell_type": "code",
   "execution_count": 15,
   "metadata": {
    "id": "eLlIibVMTu7q"
   },
   "outputs": [],
   "source": [
    "pca = PCA(n_components=30)\n",
    "pca.fit(X_scaled)\n",
    "X_scaled_pca = pca.transform(X_scaled)"
   ]
  },
  {
   "cell_type": "markdown",
   "metadata": {
    "id": "5GJFjZhVT1vw"
   },
   "source": [
    "## Baseline"
   ]
  },
  {
   "cell_type": "code",
   "execution_count": 7,
   "metadata": {},
   "outputs": [],
   "source": [
    "class_weight = class_weight.compute_class_weight(class_weight = \"balanced\",\n",
    "                                                 classes = np.unique(y),\n",
    "                                                 y = y)"
   ]
  },
  {
   "cell_type": "code",
   "execution_count": 16,
   "metadata": {
    "id": "pfVl0LrtEWEv"
   },
   "outputs": [],
   "source": [
    "skfolds = StratifiedKFold(n_splits=10, shuffle=True, random_state=SEED)"
   ]
  },
  {
   "cell_type": "code",
   "execution_count": 17,
   "metadata": {},
   "outputs": [
    {
     "name": "stdout",
     "output_type": "stream",
     "text": [
      "Acurácia média da validação cruzada : 0.375\"\n"
     ]
    }
   ],
   "source": [
    "cbc_baseline = CatBoostClassifier(loss_function='MultiClass', class_weights= class_weight,\n",
    "                                  iterations=10, depth=10, random_state=SEED, verbose=False)\n",
    "score = cross_val_score(cbc_baseline, X_scaled, y, cv = skfolds)\n",
    "\n",
    "print('Acurácia média da validação cruzada : %0.3f\"' % score.mean())"
   ]
  },
  {
   "cell_type": "markdown",
   "metadata": {
    "id": "6Q_kKQ1U44r3"
   },
   "source": [
    "## Otimização dos hiperparâmetros"
   ]
  },
  {
   "cell_type": "code",
   "execution_count": 8,
   "metadata": {
    "id": "ExYdslwYbJEq"
   },
   "outputs": [],
   "source": [
    "skfolds = StratifiedKFold(n_splits=5, shuffle=True, random_state=SEED)"
   ]
  },
  {
   "cell_type": "code",
   "execution_count": 9,
   "metadata": {},
   "outputs": [],
   "source": [
    "# Manipulador de fluxo para mostrar as mensagens\n",
    "optuna.logging.get_logger(\"optuna\").addHandler(logging.StreamHandler(sys.stdout))\n",
    "study_name = \"cbc-study\"  # Unique identifier of the study.\n",
    "storage_name = \"sqlite:///{}.db\".format(study_name)\n",
    "# storage_name = \"sqlite:///content/drive/MyDrive/Dissertação/dados/{}.db\".format(study_name)"
   ]
  },
  {
   "cell_type": "code",
   "execution_count": 10,
   "metadata": {
    "id": "hIgA5wan8TQT"
   },
   "outputs": [],
   "source": [
    "# função de otimização baseada em uma função objetivo\n",
    "def tune (objective):\n",
    "    study = optuna.create_study(study_name=study_name, storage=storage_name, load_if_exists=True, direction=\"maximize\")\n",
    "    study.optimize(objective, timeout=86400, n_trials=300)\n",
    "\n",
    "    params = study.best_params\n",
    "    print(f\"Trial: {study.best_trial.number}\")\n",
    "    params = study.best_params\n",
    "    print(\"\\n\")\n",
    "    print(f\"Melhor seleção de parâmetros : \\n{params}\")\n",
    "    print(\"\\n\")\n",
    "    print(f\"Acurácia : {study.best_value:.3f}\")\n",
    "    \n",
    "    return study, params"
   ]
  },
  {
   "cell_type": "markdown",
   "metadata": {
    "id": "Ajxr7PwTbJEs"
   },
   "source": [
    "# CatBoostClassifier"
   ]
  },
  {
   "cell_type": "code",
   "execution_count": 11,
   "metadata": {
    "id": "EeZc_zgNbJEs"
   },
   "outputs": [],
   "source": [
    "X_train, X_test, y_train, y_test = train_test_split(X_scaled, y, test_size=0.3, random_state=SEED)"
   ]
  },
  {
   "cell_type": "code",
   "execution_count": 12,
   "metadata": {
    "id": "rEyOBE0QBOmG"
   },
   "outputs": [],
   "source": [
    "def cbc_objective(trial: optuna.Trial): \n",
    "    cbc_params = {\n",
    "        'loss_function':'MultiClass',\n",
    "        'iterations': trial.suggest_int('iterations', 1, 12),\n",
    "        'depth': trial.suggest_int('depth', 1, 12),\n",
    "        'learning_rate': trial.suggest_loguniform(\"learning_rate\", 1e-5, 1e0),\n",
    "        'l2_leaf_reg': trial.suggest_loguniform(\"l2_leaf_reg\", 1e-2, 1e0),\n",
    "        'random_state': SEED\n",
    "    }\n",
    "    model = CatBoostClassifier(**cbc_params, class_weights= class_weight, verbose=False) \n",
    "    scores = cross_val_score(model, X_train, y_train, n_jobs=-1, cv=skfolds)\n",
    "    return scores.mean()"
   ]
  },
  {
   "cell_type": "code",
   "execution_count": 13,
   "metadata": {
    "colab": {
     "background_save": true,
     "base_uri": "https://localhost:8080/"
    },
    "id": "fSHzuFgFFCRH",
    "outputId": "603ee685-2fe4-4075-82fe-791d09c70c7e",
    "scrolled": false
   },
   "outputs": [
    {
     "name": "stderr",
     "output_type": "stream",
     "text": [
      "\u001b[32m[I 2022-07-13 23:33:43,150]\u001b[0m Using an existing study with name 'cbc-study' instead of creating a new one.\u001b[0m\n"
     ]
    },
    {
     "name": "stdout",
     "output_type": "stream",
     "text": [
      "Using an existing study with name 'cbc-study' instead of creating a new one.\n"
     ]
    },
    {
     "name": "stderr",
     "output_type": "stream",
     "text": [
      "\u001b[32m[I 2022-07-13 23:33:56,094]\u001b[0m Trial 1 finished with value: 0.23673965933869864 and parameters: {'iterations': 10, 'depth': 6, 'learning_rate': 1.4873900082708847e-05, 'l2_leaf_reg': 0.0316106290926731}. Best is trial 1 with value: 0.23673965933869864.\u001b[0m\n"
     ]
    },
    {
     "name": "stdout",
     "output_type": "stream",
     "text": [
      "Trial 1 finished with value: 0.23673965933869864 and parameters: {'iterations': 10, 'depth': 6, 'learning_rate': 1.4873900082708847e-05, 'l2_leaf_reg': 0.0316106290926731}. Best is trial 1 with value: 0.23673965933869864.\n"
     ]
    },
    {
     "name": "stderr",
     "output_type": "stream",
     "text": [
      "\u001b[32m[I 2022-07-13 23:34:04,169]\u001b[0m Trial 2 finished with value: 0.22538806756583285 and parameters: {'iterations': 3, 'depth': 3, 'learning_rate': 1.557221451776181e-05, 'l2_leaf_reg': 0.23414166480444998}. Best is trial 1 with value: 0.23673965933869864.\u001b[0m\n"
     ]
    },
    {
     "name": "stdout",
     "output_type": "stream",
     "text": [
      "Trial 2 finished with value: 0.22538806756583285 and parameters: {'iterations': 3, 'depth': 3, 'learning_rate': 1.557221451776181e-05, 'l2_leaf_reg': 0.23414166480444998}. Best is trial 1 with value: 0.23673965933869864.\n"
     ]
    },
    {
     "name": "stderr",
     "output_type": "stream",
     "text": [
      "\u001b[32m[I 2022-07-13 23:34:22,087]\u001b[0m Trial 3 finished with value: 0.2742795741353433 and parameters: {'iterations': 8, 'depth': 8, 'learning_rate': 0.07487168226307446, 'l2_leaf_reg': 0.033583347262528214}. Best is trial 3 with value: 0.2742795741353433.\u001b[0m\n"
     ]
    },
    {
     "name": "stdout",
     "output_type": "stream",
     "text": [
      "Trial 3 finished with value: 0.2742795741353433 and parameters: {'iterations': 8, 'depth': 8, 'learning_rate': 0.07487168226307446, 'l2_leaf_reg': 0.033583347262528214}. Best is trial 3 with value: 0.2742795741353433.\n"
     ]
    },
    {
     "name": "stderr",
     "output_type": "stream",
     "text": [
      "\u001b[32m[I 2022-07-13 23:34:34,223]\u001b[0m Trial 4 finished with value: 0.31557641206301856 and parameters: {'iterations': 4, 'depth': 8, 'learning_rate': 0.9525906347671135, 'l2_leaf_reg': 0.2652617177336375}. Best is trial 4 with value: 0.31557641206301856.\u001b[0m\n"
     ]
    },
    {
     "name": "stdout",
     "output_type": "stream",
     "text": [
      "Trial 4 finished with value: 0.31557641206301856 and parameters: {'iterations': 4, 'depth': 8, 'learning_rate': 0.9525906347671135, 'l2_leaf_reg': 0.2652617177336375}. Best is trial 4 with value: 0.31557641206301856.\n"
     ]
    },
    {
     "name": "stderr",
     "output_type": "stream",
     "text": [
      "\u001b[32m[I 2022-07-13 23:34:43,070]\u001b[0m Trial 5 finished with value: 0.2260549339849185 and parameters: {'iterations': 6, 'depth': 4, 'learning_rate': 0.0017803997208643927, 'l2_leaf_reg': 0.018254325219091965}. Best is trial 4 with value: 0.31557641206301856.\u001b[0m\n"
     ]
    },
    {
     "name": "stdout",
     "output_type": "stream",
     "text": [
      "Trial 5 finished with value: 0.2260549339849185 and parameters: {'iterations': 6, 'depth': 4, 'learning_rate': 0.0017803997208643927, 'l2_leaf_reg': 0.018254325219091965}. Best is trial 4 with value: 0.31557641206301856.\n"
     ]
    },
    {
     "name": "stderr",
     "output_type": "stream",
     "text": [
      "\u001b[32m[I 2022-07-13 23:34:53,919]\u001b[0m Trial 6 finished with value: 0.26501563709696707 and parameters: {'iterations': 8, 'depth': 5, 'learning_rate': 0.4172094340711421, 'l2_leaf_reg': 0.03074355002593056}. Best is trial 4 with value: 0.31557641206301856.\u001b[0m\n"
     ]
    },
    {
     "name": "stdout",
     "output_type": "stream",
     "text": [
      "Trial 6 finished with value: 0.26501563709696707 and parameters: {'iterations': 8, 'depth': 5, 'learning_rate': 0.4172094340711421, 'l2_leaf_reg': 0.03074355002593056}. Best is trial 4 with value: 0.31557641206301856.\n"
     ]
    },
    {
     "name": "stderr",
     "output_type": "stream",
     "text": [
      "\u001b[32m[I 2022-07-13 23:35:02,086]\u001b[0m Trial 7 finished with value: 0.22437714918236198 and parameters: {'iterations': 4, 'depth': 4, 'learning_rate': 0.05754734511588499, 'l2_leaf_reg': 0.7070626614579293}. Best is trial 4 with value: 0.31557641206301856.\u001b[0m\n"
     ]
    },
    {
     "name": "stdout",
     "output_type": "stream",
     "text": [
      "Trial 7 finished with value: 0.22437714918236198 and parameters: {'iterations': 4, 'depth': 4, 'learning_rate': 0.05754734511588499, 'l2_leaf_reg': 0.7070626614579293}. Best is trial 4 with value: 0.31557641206301856.\n"
     ]
    },
    {
     "name": "stderr",
     "output_type": "stream",
     "text": [
      "\u001b[32m[I 2022-07-13 23:35:10,774]\u001b[0m Trial 8 finished with value: 0.17671107542778483 and parameters: {'iterations': 8, 'depth': 1, 'learning_rate': 0.13900173444766714, 'l2_leaf_reg': 0.07408316922939788}. Best is trial 4 with value: 0.31557641206301856.\u001b[0m\n"
     ]
    },
    {
     "name": "stdout",
     "output_type": "stream",
     "text": [
      "Trial 8 finished with value: 0.17671107542778483 and parameters: {'iterations': 8, 'depth': 1, 'learning_rate': 0.13900173444766714, 'l2_leaf_reg': 0.07408316922939788}. Best is trial 4 with value: 0.31557641206301856.\n"
     ]
    },
    {
     "name": "stderr",
     "output_type": "stream",
     "text": [
      "\u001b[32m[I 2022-07-13 23:35:38,837]\u001b[0m Trial 9 finished with value: 0.35031717809134644 and parameters: {'iterations': 11, 'depth': 9, 'learning_rate': 0.417924481677315, 'l2_leaf_reg': 0.023436180152357954}. Best is trial 9 with value: 0.35031717809134644.\u001b[0m\n"
     ]
    },
    {
     "name": "stdout",
     "output_type": "stream",
     "text": [
      "Trial 9 finished with value: 0.35031717809134644 and parameters: {'iterations': 11, 'depth': 9, 'learning_rate': 0.417924481677315, 'l2_leaf_reg': 0.023436180152357954}. Best is trial 9 with value: 0.35031717809134644.\n"
     ]
    },
    {
     "name": "stderr",
     "output_type": "stream",
     "text": [
      "\u001b[32m[I 2022-07-13 23:35:48,821]\u001b[0m Trial 10 finished with value: 0.22621846531279796 and parameters: {'iterations': 8, 'depth': 4, 'learning_rate': 0.0006659678442138058, 'l2_leaf_reg': 0.1379053671369822}. Best is trial 9 with value: 0.35031717809134644.\u001b[0m\n"
     ]
    },
    {
     "name": "stdout",
     "output_type": "stream",
     "text": [
      "Trial 10 finished with value: 0.22621846531279796 and parameters: {'iterations': 8, 'depth': 4, 'learning_rate': 0.0006659678442138058, 'l2_leaf_reg': 0.1379053671369822}. Best is trial 9 with value: 0.35031717809134644.\n"
     ]
    },
    {
     "name": "stderr",
     "output_type": "stream",
     "text": [
      "\u001b[32m[I 2022-07-13 23:37:13,749]\u001b[0m Trial 11 finished with value: 0.3491023755103809 and parameters: {'iterations': 11, 'depth': 12, 'learning_rate': 0.010237678098801103, 'l2_leaf_reg': 0.010571687887781936}. Best is trial 9 with value: 0.35031717809134644.\u001b[0m\n"
     ]
    },
    {
     "name": "stdout",
     "output_type": "stream",
     "text": [
      "Trial 11 finished with value: 0.3491023755103809 and parameters: {'iterations': 11, 'depth': 12, 'learning_rate': 0.010237678098801103, 'l2_leaf_reg': 0.010571687887781936}. Best is trial 9 with value: 0.35031717809134644.\n"
     ]
    },
    {
     "name": "stderr",
     "output_type": "stream",
     "text": [
      "\u001b[32m[I 2022-07-13 23:38:42,497]\u001b[0m Trial 12 finished with value: 0.3475350291861365 and parameters: {'iterations': 12, 'depth': 12, 'learning_rate': 0.005988520256482004, 'l2_leaf_reg': 0.010223538356112585}. Best is trial 9 with value: 0.35031717809134644.\u001b[0m\n"
     ]
    },
    {
     "name": "stdout",
     "output_type": "stream",
     "text": [
      "Trial 12 finished with value: 0.3475350291861365 and parameters: {'iterations': 12, 'depth': 12, 'learning_rate': 0.005988520256482004, 'l2_leaf_reg': 0.010223538356112585}. Best is trial 9 with value: 0.35031717809134644.\n"
     ]
    },
    {
     "name": "stderr",
     "output_type": "stream",
     "text": [
      "\u001b[32m[I 2022-07-13 23:40:15,442]\u001b[0m Trial 13 finished with value: 0.3498478219331251 and parameters: {'iterations': 12, 'depth': 12, 'learning_rate': 0.011930505382182292, 'l2_leaf_reg': 0.01208655175834609}. Best is trial 9 with value: 0.35031717809134644.\u001b[0m\n"
     ]
    },
    {
     "name": "stdout",
     "output_type": "stream",
     "text": [
      "Trial 13 finished with value: 0.3498478219331251 and parameters: {'iterations': 12, 'depth': 12, 'learning_rate': 0.011930505382182292, 'l2_leaf_reg': 0.01208655175834609}. Best is trial 9 with value: 0.35031717809134644.\n"
     ]
    },
    {
     "name": "stderr",
     "output_type": "stream",
     "text": [
      "\u001b[32m[I 2022-07-13 23:41:01,331]\u001b[0m Trial 14 finished with value: 0.3013301134857057 and parameters: {'iterations': 12, 'depth': 10, 'learning_rate': 0.00022480552168885584, 'l2_leaf_reg': 0.062135779149988905}. Best is trial 9 with value: 0.35031717809134644.\u001b[0m\n"
     ]
    },
    {
     "name": "stdout",
     "output_type": "stream",
     "text": [
      "Trial 14 finished with value: 0.3013301134857057 and parameters: {'iterations': 12, 'depth': 10, 'learning_rate': 0.00022480552168885584, 'l2_leaf_reg': 0.062135779149988905}. Best is trial 9 with value: 0.35031717809134644.\n"
     ]
    },
    {
     "name": "stderr",
     "output_type": "stream",
     "text": [
      "\u001b[32m[I 2022-07-13 23:41:41,537]\u001b[0m Trial 15 finished with value: 0.3053037095522759 and parameters: {'iterations': 10, 'depth': 10, 'learning_rate': 0.025020827326418728, 'l2_leaf_reg': 0.017859300274716466}. Best is trial 9 with value: 0.35031717809134644.\u001b[0m\n"
     ]
    },
    {
     "name": "stdout",
     "output_type": "stream",
     "text": [
      "Trial 15 finished with value: 0.3053037095522759 and parameters: {'iterations': 10, 'depth': 10, 'learning_rate': 0.025020827326418728, 'l2_leaf_reg': 0.017859300274716466}. Best is trial 9 with value: 0.35031717809134644.\n"
     ]
    },
    {
     "name": "stderr",
     "output_type": "stream",
     "text": [
      "\u001b[32m[I 2022-07-13 23:42:17,650]\u001b[0m Trial 16 finished with value: 0.3558666209662461 and parameters: {'iterations': 10, 'depth': 10, 'learning_rate': 0.27496414390578683, 'l2_leaf_reg': 0.020444863782524234}. Best is trial 16 with value: 0.3558666209662461.\u001b[0m\n"
     ]
    },
    {
     "name": "stdout",
     "output_type": "stream",
     "text": [
      "Trial 16 finished with value: 0.3558666209662461 and parameters: {'iterations': 10, 'depth': 10, 'learning_rate': 0.27496414390578683, 'l2_leaf_reg': 0.020444863782524234}. Best is trial 16 with value: 0.3558666209662461.\n"
     ]
    },
    {
     "name": "stderr",
     "output_type": "stream",
     "text": [
      "\u001b[32m[I 2022-07-13 23:42:48,033]\u001b[0m Trial 17 finished with value: 0.3135949380661558 and parameters: {'iterations': 10, 'depth': 9, 'learning_rate': 0.17615932666071504, 'l2_leaf_reg': 0.05384435876089054}. Best is trial 16 with value: 0.3558666209662461.\u001b[0m\n"
     ]
    },
    {
     "name": "stdout",
     "output_type": "stream",
     "text": [
      "Trial 17 finished with value: 0.3135949380661558 and parameters: {'iterations': 10, 'depth': 9, 'learning_rate': 0.17615932666071504, 'l2_leaf_reg': 0.05384435876089054}. Best is trial 16 with value: 0.3558666209662461.\n"
     ]
    },
    {
     "name": "stderr",
     "output_type": "stream",
     "text": [
      "\u001b[32m[I 2022-07-13 23:42:56,010]\u001b[0m Trial 18 finished with value: 0.24561706693511826 and parameters: {'iterations': 1, 'depth': 7, 'learning_rate': 0.5799494274196434, 'l2_leaf_reg': 0.1408253542596578}. Best is trial 16 with value: 0.3558666209662461.\u001b[0m\n"
     ]
    },
    {
     "name": "stdout",
     "output_type": "stream",
     "text": [
      "Trial 18 finished with value: 0.24561706693511826 and parameters: {'iterations': 1, 'depth': 7, 'learning_rate': 0.5799494274196434, 'l2_leaf_reg': 0.1408253542596578}. Best is trial 16 with value: 0.3558666209662461.\n"
     ]
    },
    {
     "name": "stderr",
     "output_type": "stream",
     "text": [
      "\u001b[32m[I 2022-07-13 23:43:30,643]\u001b[0m Trial 19 finished with value: 0.3478536007170187 and parameters: {'iterations': 9, 'depth': 10, 'learning_rate': 0.23436454841192145, 'l2_leaf_reg': 0.021865927440952077}. Best is trial 16 with value: 0.3558666209662461.\u001b[0m\n"
     ]
    },
    {
     "name": "stdout",
     "output_type": "stream",
     "text": [
      "Trial 19 finished with value: 0.3478536007170187 and parameters: {'iterations': 9, 'depth': 10, 'learning_rate': 0.23436454841192145, 'l2_leaf_reg': 0.021865927440952077}. Best is trial 16 with value: 0.3558666209662461.\n"
     ]
    },
    {
     "name": "stderr",
     "output_type": "stream",
     "text": [
      "\u001b[32m[I 2022-07-13 23:44:05,473]\u001b[0m Trial 20 finished with value: 0.3297441361619887 and parameters: {'iterations': 6, 'depth': 11, 'learning_rate': 0.03507250511769794, 'l2_leaf_reg': 0.04453870595188136}. Best is trial 16 with value: 0.3558666209662461.\u001b[0m\n"
     ]
    },
    {
     "name": "stdout",
     "output_type": "stream",
     "text": [
      "Trial 20 finished with value: 0.3297441361619887 and parameters: {'iterations': 6, 'depth': 11, 'learning_rate': 0.03507250511769794, 'l2_leaf_reg': 0.04453870595188136}. Best is trial 16 with value: 0.3558666209662461.\n"
     ]
    },
    {
     "name": "stderr",
     "output_type": "stream",
     "text": [
      "\u001b[32m[I 2022-07-13 23:44:32,813]\u001b[0m Trial 21 finished with value: 0.2613053942467678 and parameters: {'iterations': 11, 'depth': 8, 'learning_rate': 0.00014843432584717769, 'l2_leaf_reg': 0.8980388580113237}. Best is trial 16 with value: 0.3558666209662461.\u001b[0m\n"
     ]
    },
    {
     "name": "stdout",
     "output_type": "stream",
     "text": [
      "Trial 21 finished with value: 0.2613053942467678 and parameters: {'iterations': 11, 'depth': 8, 'learning_rate': 0.00014843432584717769, 'l2_leaf_reg': 0.8980388580113237}. Best is trial 16 with value: 0.3558666209662461.\n"
     ]
    },
    {
     "name": "stderr",
     "output_type": "stream",
     "text": [
      "\u001b[32m[I 2022-07-13 23:45:36,778]\u001b[0m Trial 22 finished with value: 0.33101203427624637 and parameters: {'iterations': 12, 'depth': 11, 'learning_rate': 0.013726621225389785, 'l2_leaf_reg': 0.014994135208164368}. Best is trial 16 with value: 0.3558666209662461.\u001b[0m\n"
     ]
    },
    {
     "name": "stdout",
     "output_type": "stream",
     "text": [
      "Trial 22 finished with value: 0.33101203427624637 and parameters: {'iterations': 12, 'depth': 11, 'learning_rate': 0.013726621225389785, 'l2_leaf_reg': 0.014994135208164368}. Best is trial 16 with value: 0.3558666209662461.\n"
     ]
    },
    {
     "name": "stderr",
     "output_type": "stream",
     "text": [
      "\u001b[32m[I 2022-07-13 23:46:35,428]\u001b[0m Trial 23 finished with value: 0.3281895299079058 and parameters: {'iterations': 11, 'depth': 11, 'learning_rate': 0.0031988786323200466, 'l2_leaf_reg': 0.024007490377975393}. Best is trial 16 with value: 0.3558666209662461.\u001b[0m\n"
     ]
    },
    {
     "name": "stdout",
     "output_type": "stream",
     "text": [
      "Trial 23 finished with value: 0.3281895299079058 and parameters: {'iterations': 11, 'depth': 11, 'learning_rate': 0.0031988786323200466, 'l2_leaf_reg': 0.024007490377975393}. Best is trial 16 with value: 0.3558666209662461.\n"
     ]
    },
    {
     "name": "stderr",
     "output_type": "stream",
     "text": [
      "\u001b[32m[I 2022-07-13 23:47:03,836]\u001b[0m Trial 24 finished with value: 0.2965388743562284 and parameters: {'iterations': 9, 'depth': 9, 'learning_rate': 0.0996912492247622, 'l2_leaf_reg': 0.012799502437255675}. Best is trial 16 with value: 0.3558666209662461.\u001b[0m\n"
     ]
    },
    {
     "name": "stdout",
     "output_type": "stream",
     "text": [
      "Trial 24 finished with value: 0.2965388743562284 and parameters: {'iterations': 9, 'depth': 9, 'learning_rate': 0.0996912492247622, 'l2_leaf_reg': 0.012799502437255675}. Best is trial 16 with value: 0.3558666209662461.\n"
     ]
    },
    {
     "name": "stderr",
     "output_type": "stream",
     "text": [
      "\u001b[32m[I 2022-07-13 23:48:29,791]\u001b[0m Trial 25 finished with value: 0.4060960900820928 and parameters: {'iterations': 12, 'depth': 12, 'learning_rate': 0.41085570070383, 'l2_leaf_reg': 0.02413352484796294}. Best is trial 25 with value: 0.4060960900820928.\u001b[0m\n"
     ]
    },
    {
     "name": "stdout",
     "output_type": "stream",
     "text": [
      "Trial 25 finished with value: 0.4060960900820928 and parameters: {'iterations': 12, 'depth': 12, 'learning_rate': 0.41085570070383, 'l2_leaf_reg': 0.02413352484796294}. Best is trial 25 with value: 0.4060960900820928.\n"
     ]
    },
    {
     "name": "stderr",
     "output_type": "stream",
     "text": [
      "\u001b[32m[I 2022-07-13 23:49:03,089]\u001b[0m Trial 26 finished with value: 0.35137482553629357 and parameters: {'iterations': 11, 'depth': 9, 'learning_rate': 0.3938704891499927, 'l2_leaf_reg': 0.0433453432953729}. Best is trial 25 with value: 0.4060960900820928.\u001b[0m\n"
     ]
    },
    {
     "name": "stdout",
     "output_type": "stream",
     "text": [
      "Trial 26 finished with value: 0.35137482553629357 and parameters: {'iterations': 11, 'depth': 9, 'learning_rate': 0.3938704891499927, 'l2_leaf_reg': 0.0433453432953729}. Best is trial 25 with value: 0.4060960900820928.\n"
     ]
    },
    {
     "name": "stderr",
     "output_type": "stream",
     "text": [
      "\u001b[32m[I 2022-07-13 23:49:23,920]\u001b[0m Trial 27 finished with value: 0.32515253501355057 and parameters: {'iterations': 9, 'depth': 7, 'learning_rate': 0.9940671797418645, 'l2_leaf_reg': 0.09069442443069875}. Best is trial 25 with value: 0.4060960900820928.\u001b[0m\n"
     ]
    },
    {
     "name": "stdout",
     "output_type": "stream",
     "text": [
      "Trial 27 finished with value: 0.32515253501355057 and parameters: {'iterations': 9, 'depth': 7, 'learning_rate': 0.9940671797418645, 'l2_leaf_reg': 0.09069442443069875}. Best is trial 25 with value: 0.4060960900820928.\n"
     ]
    },
    {
     "name": "stderr",
     "output_type": "stream",
     "text": [
      "\u001b[32m[I 2022-07-13 23:50:01,775]\u001b[0m Trial 28 finished with value: 0.35651436798853803 and parameters: {'iterations': 7, 'depth': 11, 'learning_rate': 0.2845143773263329, 'l2_leaf_reg': 0.04057947131863157}. Best is trial 25 with value: 0.4060960900820928.\u001b[0m\n"
     ]
    },
    {
     "name": "stdout",
     "output_type": "stream",
     "text": [
      "Trial 28 finished with value: 0.35651436798853803 and parameters: {'iterations': 7, 'depth': 11, 'learning_rate': 0.2845143773263329, 'l2_leaf_reg': 0.04057947131863157}. Best is trial 25 with value: 0.4060960900820928.\n"
     ]
    },
    {
     "name": "stderr",
     "output_type": "stream",
     "text": [
      "\u001b[32m[I 2022-07-13 23:50:40,058]\u001b[0m Trial 29 finished with value: 0.33171500687489336 and parameters: {'iterations': 7, 'depth': 11, 'learning_rate': 0.04209763764903385, 'l2_leaf_reg': 0.03902760574334914}. Best is trial 25 with value: 0.4060960900820928.\u001b[0m\n"
     ]
    },
    {
     "name": "stdout",
     "output_type": "stream",
     "text": [
      "Trial 29 finished with value: 0.33171500687489336 and parameters: {'iterations': 7, 'depth': 11, 'learning_rate': 0.04209763764903385, 'l2_leaf_reg': 0.03902760574334914}. Best is trial 25 with value: 0.4060960900820928.\n"
     ]
    },
    {
     "name": "stderr",
     "output_type": "stream",
     "text": [
      "\u001b[32m[I 2022-07-13 23:51:20,408]\u001b[0m Trial 30 finished with value: 0.362841097425808 and parameters: {'iterations': 5, 'depth': 12, 'learning_rate': 0.2316692562616984, 'l2_leaf_reg': 0.028620926154909365}. Best is trial 25 with value: 0.4060960900820928.\u001b[0m\n"
     ]
    },
    {
     "name": "stdout",
     "output_type": "stream",
     "text": [
      "Trial 30 finished with value: 0.362841097425808 and parameters: {'iterations': 5, 'depth': 12, 'learning_rate': 0.2316692562616984, 'l2_leaf_reg': 0.028620926154909365}. Best is trial 25 with value: 0.4060960900820928.\n"
     ]
    },
    {
     "name": "stderr",
     "output_type": "stream",
     "text": [
      "\u001b[32m[I 2022-07-13 23:52:03,153]\u001b[0m Trial 31 finished with value: 0.35194823834288846 and parameters: {'iterations': 5, 'depth': 12, 'learning_rate': 0.13444247813332716, 'l2_leaf_reg': 0.02913586425360919}. Best is trial 25 with value: 0.4060960900820928.\u001b[0m\n"
     ]
    },
    {
     "name": "stdout",
     "output_type": "stream",
     "text": [
      "Trial 31 finished with value: 0.35194823834288846 and parameters: {'iterations': 5, 'depth': 12, 'learning_rate': 0.13444247813332716, 'l2_leaf_reg': 0.02913586425360919}. Best is trial 25 with value: 0.4060960900820928.\n"
     ]
    },
    {
     "name": "stderr",
     "output_type": "stream",
     "text": [
      "\u001b[32m[I 2022-07-13 23:52:44,663]\u001b[0m Trial 32 finished with value: 0.36312780861019506 and parameters: {'iterations': 5, 'depth': 12, 'learning_rate': 0.27131463062142386, 'l2_leaf_reg': 0.018082916555176232}. Best is trial 25 with value: 0.4060960900820928.\u001b[0m\n"
     ]
    },
    {
     "name": "stdout",
     "output_type": "stream",
     "text": [
      "Trial 32 finished with value: 0.36312780861019506 and parameters: {'iterations': 5, 'depth': 12, 'learning_rate': 0.27131463062142386, 'l2_leaf_reg': 0.018082916555176232}. Best is trial 25 with value: 0.4060960900820928.\n"
     ]
    },
    {
     "name": "stderr",
     "output_type": "stream",
     "text": [
      "\u001b[32m[I 2022-07-13 23:53:04,779]\u001b[0m Trial 33 finished with value: 0.3313242372830526 and parameters: {'iterations': 2, 'depth': 12, 'learning_rate': 0.08994635707839795, 'l2_leaf_reg': 0.02908105200673096}. Best is trial 25 with value: 0.4060960900820928.\u001b[0m\n"
     ]
    },
    {
     "name": "stdout",
     "output_type": "stream",
     "text": [
      "Trial 33 finished with value: 0.3313242372830526 and parameters: {'iterations': 2, 'depth': 12, 'learning_rate': 0.08994635707839795, 'l2_leaf_reg': 0.02908105200673096}. Best is trial 25 with value: 0.4060960900820928.\n"
     ]
    },
    {
     "name": "stderr",
     "output_type": "stream",
     "text": [
      "\u001b[32m[I 2022-07-13 23:53:34,028]\u001b[0m Trial 34 finished with value: 0.3405499386851648 and parameters: {'iterations': 5, 'depth': 11, 'learning_rate': 0.2369433234841297, 'l2_leaf_reg': 0.05381405538772149}. Best is trial 25 with value: 0.4060960900820928.\u001b[0m\n"
     ]
    },
    {
     "name": "stdout",
     "output_type": "stream",
     "text": [
      "Trial 34 finished with value: 0.3405499386851648 and parameters: {'iterations': 5, 'depth': 11, 'learning_rate': 0.2369433234841297, 'l2_leaf_reg': 0.05381405538772149}. Best is trial 25 with value: 0.4060960900820928.\n"
     ]
    },
    {
     "name": "stderr",
     "output_type": "stream",
     "text": [
      "\u001b[32m[I 2022-07-13 23:54:09,354]\u001b[0m Trial 35 finished with value: 0.33985969359504303 and parameters: {'iterations': 4, 'depth': 12, 'learning_rate': 1.072374898747192e-05, 'l2_leaf_reg': 0.01548039801231135}. Best is trial 25 with value: 0.4060960900820928.\u001b[0m\n"
     ]
    },
    {
     "name": "stdout",
     "output_type": "stream",
     "text": [
      "Trial 35 finished with value: 0.33985969359504303 and parameters: {'iterations': 4, 'depth': 12, 'learning_rate': 1.072374898747192e-05, 'l2_leaf_reg': 0.01548039801231135}. Best is trial 25 with value: 0.4060960900820928.\n"
     ]
    },
    {
     "name": "stderr",
     "output_type": "stream",
     "text": [
      "\u001b[32m[I 2022-07-13 23:54:29,345]\u001b[0m Trial 36 finished with value: 0.3417626111328583 and parameters: {'iterations': 3, 'depth': 11, 'learning_rate': 0.5923492352230975, 'l2_leaf_reg': 0.03084930851959323}. Best is trial 25 with value: 0.4060960900820928.\u001b[0m\n"
     ]
    },
    {
     "name": "stdout",
     "output_type": "stream",
     "text": [
      "Trial 36 finished with value: 0.3417626111328583 and parameters: {'iterations': 3, 'depth': 11, 'learning_rate': 0.5923492352230975, 'l2_leaf_reg': 0.03084930851959323}. Best is trial 25 with value: 0.4060960900820928.\n"
     ]
    },
    {
     "name": "stderr",
     "output_type": "stream",
     "text": [
      "\u001b[32m[I 2022-07-13 23:54:50,906]\u001b[0m Trial 37 finished with value: 0.3644466841448537 and parameters: {'iterations': 5, 'depth': 10, 'learning_rate': 0.9508352026064864, 'l2_leaf_reg': 0.3388619627823746}. Best is trial 25 with value: 0.4060960900820928.\u001b[0m\n"
     ]
    },
    {
     "name": "stdout",
     "output_type": "stream",
     "text": [
      "Trial 37 finished with value: 0.3644466841448537 and parameters: {'iterations': 5, 'depth': 10, 'learning_rate': 0.9508352026064864, 'l2_leaf_reg': 0.3388619627823746}. Best is trial 25 with value: 0.4060960900820928.\n"
     ]
    },
    {
     "name": "stderr",
     "output_type": "stream",
     "text": [
      "\u001b[32m[I 2022-07-13 23:55:13,059]\u001b[0m Trial 38 finished with value: 0.3595322310823294 and parameters: {'iterations': 5, 'depth': 10, 'learning_rate': 0.9234080579176516, 'l2_leaf_reg': 0.4099581605492096}. Best is trial 25 with value: 0.4060960900820928.\u001b[0m\n"
     ]
    },
    {
     "name": "stdout",
     "output_type": "stream",
     "text": [
      "Trial 38 finished with value: 0.3595322310823294 and parameters: {'iterations': 5, 'depth': 10, 'learning_rate': 0.9234080579176516, 'l2_leaf_reg': 0.4099581605492096}. Best is trial 25 with value: 0.4060960900820928.\n"
     ]
    },
    {
     "name": "stderr",
     "output_type": "stream",
     "text": [
      "\u001b[32m[I 2022-07-13 23:55:21,025]\u001b[0m Trial 39 finished with value: 0.17671107542778483 and parameters: {'iterations': 3, 'depth': 2, 'learning_rate': 0.0803457366378009, 'l2_leaf_reg': 0.26338016387489366}. Best is trial 25 with value: 0.4060960900820928.\u001b[0m\n"
     ]
    },
    {
     "name": "stdout",
     "output_type": "stream",
     "text": [
      "Trial 39 finished with value: 0.17671107542778483 and parameters: {'iterations': 3, 'depth': 2, 'learning_rate': 0.0803457366378009, 'l2_leaf_reg': 0.26338016387489366}. Best is trial 25 with value: 0.4060960900820928.\n"
     ]
    },
    {
     "name": "stderr",
     "output_type": "stream",
     "text": [
      "\u001b[32m[I 2022-07-13 23:55:31,712]\u001b[0m Trial 40 finished with value: 0.2365931191010779 and parameters: {'iterations': 6, 'depth': 6, 'learning_rate': 5.9065773103116353e-05, 'l2_leaf_reg': 0.45927662716027023}. Best is trial 25 with value: 0.4060960900820928.\u001b[0m\n"
     ]
    },
    {
     "name": "stdout",
     "output_type": "stream",
     "text": [
      "Trial 40 finished with value: 0.2365931191010779 and parameters: {'iterations': 6, 'depth': 6, 'learning_rate': 5.9065773103116353e-05, 'l2_leaf_reg': 0.45927662716027023}. Best is trial 25 with value: 0.4060960900820928.\n"
     ]
    },
    {
     "name": "stderr",
     "output_type": "stream",
     "text": [
      "\u001b[32m[I 2022-07-13 23:56:06,240]\u001b[0m Trial 41 finished with value: 0.36741996804371146 and parameters: {'iterations': 4, 'depth': 12, 'learning_rate': 0.6026972151066153, 'l2_leaf_reg': 0.17165881276624795}. Best is trial 25 with value: 0.4060960900820928.\u001b[0m\n"
     ]
    },
    {
     "name": "stdout",
     "output_type": "stream",
     "text": [
      "Trial 41 finished with value: 0.36741996804371146 and parameters: {'iterations': 4, 'depth': 12, 'learning_rate': 0.6026972151066153, 'l2_leaf_reg': 0.17165881276624795}. Best is trial 25 with value: 0.4060960900820928.\n"
     ]
    },
    {
     "name": "stderr",
     "output_type": "stream",
     "text": [
      "\u001b[32m[I 2022-07-13 23:56:41,056]\u001b[0m Trial 42 finished with value: 0.3690106843338006 and parameters: {'iterations': 4, 'depth': 12, 'learning_rate': 0.6218516478655796, 'l2_leaf_reg': 0.14153194605436384}. Best is trial 25 with value: 0.4060960900820928.\u001b[0m\n"
     ]
    },
    {
     "name": "stdout",
     "output_type": "stream",
     "text": [
      "Trial 42 finished with value: 0.3690106843338006 and parameters: {'iterations': 4, 'depth': 12, 'learning_rate': 0.6218516478655796, 'l2_leaf_reg': 0.14153194605436384}. Best is trial 25 with value: 0.4060960900820928.\n"
     ]
    },
    {
     "name": "stderr",
     "output_type": "stream",
     "text": [
      "\u001b[32m[I 2022-07-13 23:57:15,077]\u001b[0m Trial 43 finished with value: 0.3677003156429782 and parameters: {'iterations': 4, 'depth': 12, 'learning_rate': 0.6089036455240548, 'l2_leaf_reg': 0.1659658611399636}. Best is trial 25 with value: 0.4060960900820928.\u001b[0m\n"
     ]
    },
    {
     "name": "stdout",
     "output_type": "stream",
     "text": [
      "Trial 43 finished with value: 0.3677003156429782 and parameters: {'iterations': 4, 'depth': 12, 'learning_rate': 0.6089036455240548, 'l2_leaf_reg': 0.1659658611399636}. Best is trial 25 with value: 0.4060960900820928.\n"
     ]
    },
    {
     "name": "stderr",
     "output_type": "stream",
     "text": [
      "\u001b[32m[I 2022-07-13 23:57:30,460]\u001b[0m Trial 44 finished with value: 0.3268812961765496 and parameters: {'iterations': 2, 'depth': 11, 'learning_rate': 0.5624035300790208, 'l2_leaf_reg': 0.1903723611165471}. Best is trial 25 with value: 0.4060960900820928.\u001b[0m\n"
     ]
    },
    {
     "name": "stdout",
     "output_type": "stream",
     "text": [
      "Trial 44 finished with value: 0.3268812961765496 and parameters: {'iterations': 2, 'depth': 11, 'learning_rate': 0.5624035300790208, 'l2_leaf_reg': 0.1903723611165471}. Best is trial 25 with value: 0.4060960900820928.\n"
     ]
    },
    {
     "name": "stderr",
     "output_type": "stream",
     "text": [
      "\u001b[32m[I 2022-07-13 23:58:05,246]\u001b[0m Trial 45 finished with value: 0.37562198731226654 and parameters: {'iterations': 4, 'depth': 12, 'learning_rate': 0.9097735987688572, 'l2_leaf_reg': 0.18993645034794318}. Best is trial 25 with value: 0.4060960900820928.\u001b[0m\n"
     ]
    },
    {
     "name": "stdout",
     "output_type": "stream",
     "text": [
      "Trial 45 finished with value: 0.37562198731226654 and parameters: {'iterations': 4, 'depth': 12, 'learning_rate': 0.9097735987688572, 'l2_leaf_reg': 0.18993645034794318}. Best is trial 25 with value: 0.4060960900820928.\n"
     ]
    },
    {
     "name": "stderr",
     "output_type": "stream",
     "text": [
      "\u001b[32m[I 2022-07-13 23:58:39,581]\u001b[0m Trial 46 finished with value: 0.35686053977978993 and parameters: {'iterations': 4, 'depth': 12, 'learning_rate': 0.4501101285161518, 'l2_leaf_reg': 0.17874019523012644}. Best is trial 25 with value: 0.4060960900820928.\u001b[0m\n"
     ]
    },
    {
     "name": "stdout",
     "output_type": "stream",
     "text": [
      "Trial 46 finished with value: 0.35686053977978993 and parameters: {'iterations': 4, 'depth': 12, 'learning_rate': 0.4501101285161518, 'l2_leaf_reg': 0.17874019523012644}. Best is trial 25 with value: 0.4060960900820928.\n"
     ]
    },
    {
     "name": "stderr",
     "output_type": "stream",
     "text": [
      "\u001b[32m[I 2022-07-13 23:58:47,902]\u001b[0m Trial 47 finished with value: 0.24787674572357798 and parameters: {'iterations': 3, 'depth': 5, 'learning_rate': 0.722425667175817, 'l2_leaf_reg': 0.12000986190547469}. Best is trial 25 with value: 0.4060960900820928.\u001b[0m\n"
     ]
    },
    {
     "name": "stdout",
     "output_type": "stream",
     "text": [
      "Trial 47 finished with value: 0.24787674572357798 and parameters: {'iterations': 3, 'depth': 5, 'learning_rate': 0.722425667175817, 'l2_leaf_reg': 0.12000986190547469}. Best is trial 25 with value: 0.4060960900820928.\n"
     ]
    },
    {
     "name": "stderr",
     "output_type": "stream",
     "text": [
      "\u001b[32m[I 2022-07-13 23:59:08,825]\u001b[0m Trial 48 finished with value: 0.333685880948092 and parameters: {'iterations': 2, 'depth': 12, 'learning_rate': 0.40327541854786325, 'l2_leaf_reg': 0.19755709824991322}. Best is trial 25 with value: 0.4060960900820928.\u001b[0m\n"
     ]
    },
    {
     "name": "stdout",
     "output_type": "stream",
     "text": [
      "Trial 48 finished with value: 0.333685880948092 and parameters: {'iterations': 2, 'depth': 12, 'learning_rate': 0.40327541854786325, 'l2_leaf_reg': 0.19755709824991322}. Best is trial 25 with value: 0.4060960900820928.\n"
     ]
    },
    {
     "name": "stderr",
     "output_type": "stream",
     "text": [
      "\u001b[32m[I 2022-07-13 23:59:33,663]\u001b[0m Trial 49 finished with value: 0.3296443257751751 and parameters: {'iterations': 4, 'depth': 11, 'learning_rate': 0.1373847759919444, 'l2_leaf_reg': 0.10328956431492665}. Best is trial 25 with value: 0.4060960900820928.\u001b[0m\n"
     ]
    },
    {
     "name": "stdout",
     "output_type": "stream",
     "text": [
      "Trial 49 finished with value: 0.3296443257751751 and parameters: {'iterations': 4, 'depth': 11, 'learning_rate': 0.1373847759919444, 'l2_leaf_reg': 0.10328956431492665}. Best is trial 25 with value: 0.4060960900820928.\n"
     ]
    },
    {
     "name": "stderr",
     "output_type": "stream",
     "text": [
      "\u001b[32m[I 2022-07-13 23:59:47,772]\u001b[0m Trial 50 finished with value: 0.3161901881809478 and parameters: {'iterations': 1, 'depth': 12, 'learning_rate': 0.000903127390820836, 'l2_leaf_reg': 0.15788796718714057}. Best is trial 25 with value: 0.4060960900820928.\u001b[0m\n"
     ]
    },
    {
     "name": "stdout",
     "output_type": "stream",
     "text": [
      "Trial 50 finished with value: 0.3161901881809478 and parameters: {'iterations': 1, 'depth': 12, 'learning_rate': 0.000903127390820836, 'l2_leaf_reg': 0.15788796718714057}. Best is trial 25 with value: 0.4060960900820928.\n"
     ]
    },
    {
     "name": "stderr",
     "output_type": "stream",
     "text": [
      "\u001b[32m[I 2022-07-14 00:00:07,030]\u001b[0m Trial 51 finished with value: 0.3059047336473197 and parameters: {'iterations': 4, 'depth': 10, 'learning_rate': 0.05492889780949384, 'l2_leaf_reg': 0.08107564577777819}. Best is trial 25 with value: 0.4060960900820928.\u001b[0m\n"
     ]
    },
    {
     "name": "stdout",
     "output_type": "stream",
     "text": [
      "Trial 51 finished with value: 0.3059047336473197 and parameters: {'iterations': 4, 'depth': 10, 'learning_rate': 0.05492889780949384, 'l2_leaf_reg': 0.08107564577777819}. Best is trial 25 with value: 0.4060960900820928.\n"
     ]
    },
    {
     "name": "stderr",
     "output_type": "stream",
     "text": [
      "\u001b[32m[I 2022-07-14 00:00:23,169]\u001b[0m Trial 52 finished with value: 0.3394498100415152 and parameters: {'iterations': 3, 'depth': 10, 'learning_rate': 0.8424105059833783, 'l2_leaf_reg': 0.33747982585688546}. Best is trial 25 with value: 0.4060960900820928.\u001b[0m\n"
     ]
    },
    {
     "name": "stdout",
     "output_type": "stream",
     "text": [
      "Trial 52 finished with value: 0.3394498100415152 and parameters: {'iterations': 3, 'depth': 10, 'learning_rate': 0.8424105059833783, 'l2_leaf_reg': 0.33747982585688546}. Best is trial 25 with value: 0.4060960900820928.\n"
     ]
    },
    {
     "name": "stderr",
     "output_type": "stream",
     "text": [
      "\u001b[32m[I 2022-07-14 00:01:12,299]\u001b[0m Trial 53 finished with value: 0.3744687792151213 and parameters: {'iterations': 6, 'depth': 12, 'learning_rate': 0.3509896415255912, 'l2_leaf_reg': 0.24739095529644628}. Best is trial 25 with value: 0.4060960900820928.\u001b[0m\n"
     ]
    },
    {
     "name": "stdout",
     "output_type": "stream",
     "text": [
      "Trial 53 finished with value: 0.3744687792151213 and parameters: {'iterations': 6, 'depth': 12, 'learning_rate': 0.3509896415255912, 'l2_leaf_reg': 0.24739095529644628}. Best is trial 25 with value: 0.4060960900820928.\n"
     ]
    },
    {
     "name": "stderr",
     "output_type": "stream",
     "text": [
      "\u001b[32m[I 2022-07-14 00:02:01,472]\u001b[0m Trial 54 finished with value: 0.3775631218806906 and parameters: {'iterations': 6, 'depth': 12, 'learning_rate': 0.3886301067200261, 'l2_leaf_reg': 0.11479699276868766}. Best is trial 25 with value: 0.4060960900820928.\u001b[0m\n"
     ]
    },
    {
     "name": "stdout",
     "output_type": "stream",
     "text": [
      "Trial 54 finished with value: 0.3775631218806906 and parameters: {'iterations': 6, 'depth': 12, 'learning_rate': 0.3886301067200261, 'l2_leaf_reg': 0.11479699276868766}. Best is trial 25 with value: 0.4060960900820928.\n"
     ]
    },
    {
     "name": "stderr",
     "output_type": "stream",
     "text": [
      "/home/ygobrito/anaconda3/lib/python3.8/site-packages/joblib/externals/loky/process_executor.py:702: UserWarning: A worker stopped while some jobs were given to the executor. This can be caused by a too short worker timeout or by a memory leak.\n",
      "  warnings.warn(\n",
      "\u001b[32m[I 2022-07-14 00:02:34,522]\u001b[0m Trial 55 finished with value: 0.34657083138447364 and parameters: {'iterations': 6, 'depth': 11, 'learning_rate': 0.17259309544888723, 'l2_leaf_reg': 0.2283382635794987}. Best is trial 25 with value: 0.4060960900820928.\u001b[0m\n"
     ]
    },
    {
     "name": "stdout",
     "output_type": "stream",
     "text": [
      "Trial 55 finished with value: 0.34657083138447364 and parameters: {'iterations': 6, 'depth': 11, 'learning_rate': 0.17259309544888723, 'l2_leaf_reg': 0.2283382635794987}. Best is trial 25 with value: 0.4060960900820928.\n"
     ]
    },
    {
     "name": "stderr",
     "output_type": "stream",
     "text": [
      "\u001b[32m[I 2022-07-14 00:03:25,357]\u001b[0m Trial 56 finished with value: 0.3756772171284557 and parameters: {'iterations': 6, 'depth': 12, 'learning_rate': 0.3632948185058599, 'l2_leaf_reg': 0.12294829948923171}. Best is trial 25 with value: 0.4060960900820928.\u001b[0m\n"
     ]
    },
    {
     "name": "stdout",
     "output_type": "stream",
     "text": [
      "Trial 56 finished with value: 0.3756772171284557 and parameters: {'iterations': 6, 'depth': 12, 'learning_rate': 0.3632948185058599, 'l2_leaf_reg': 0.12294829948923171}. Best is trial 25 with value: 0.4060960900820928.\n"
     ]
    },
    {
     "name": "stderr",
     "output_type": "stream",
     "text": [
      "\u001b[32m[I 2022-07-14 00:04:04,021]\u001b[0m Trial 57 finished with value: 0.3676790767576025 and parameters: {'iterations': 7, 'depth': 11, 'learning_rate': 0.40080353384552597, 'l2_leaf_reg': 0.11738116367927127}. Best is trial 25 with value: 0.4060960900820928.\u001b[0m\n"
     ]
    },
    {
     "name": "stdout",
     "output_type": "stream",
     "text": [
      "Trial 57 finished with value: 0.3676790767576025 and parameters: {'iterations': 7, 'depth': 11, 'learning_rate': 0.40080353384552597, 'l2_leaf_reg': 0.11738116367927127}. Best is trial 25 with value: 0.4060960900820928.\n"
     ]
    },
    {
     "name": "stderr",
     "output_type": "stream",
     "text": [
      "\u001b[32m[I 2022-07-14 00:04:24,589]\u001b[0m Trial 58 finished with value: 0.2825622881150494 and parameters: {'iterations': 6, 'depth': 9, 'learning_rate': 0.022365383740607776, 'l2_leaf_reg': 0.13271106982828448}. Best is trial 25 with value: 0.4060960900820928.\u001b[0m\n"
     ]
    },
    {
     "name": "stdout",
     "output_type": "stream",
     "text": [
      "Trial 58 finished with value: 0.2825622881150494 and parameters: {'iterations': 6, 'depth': 9, 'learning_rate': 0.022365383740607776, 'l2_leaf_reg': 0.13271106982828448}. Best is trial 25 with value: 0.4060960900820928.\n"
     ]
    },
    {
     "name": "stderr",
     "output_type": "stream",
     "text": [
      "\u001b[32m[I 2022-07-14 00:04:34,692]\u001b[0m Trial 59 finished with value: 0.22873301043258598 and parameters: {'iterations': 8, 'depth': 3, 'learning_rate': 0.11727373462794215, 'l2_leaf_reg': 0.070569138806191}. Best is trial 25 with value: 0.4060960900820928.\u001b[0m\n"
     ]
    },
    {
     "name": "stdout",
     "output_type": "stream",
     "text": [
      "Trial 59 finished with value: 0.22873301043258598 and parameters: {'iterations': 8, 'depth': 3, 'learning_rate': 0.11727373462794215, 'l2_leaf_reg': 0.070569138806191}. Best is trial 25 with value: 0.4060960900820928.\n"
     ]
    },
    {
     "name": "stderr",
     "output_type": "stream",
     "text": [
      "\u001b[32m[I 2022-07-14 00:05:31,571]\u001b[0m Trial 60 finished with value: 0.3710049015807005 and parameters: {'iterations': 7, 'depth': 12, 'learning_rate': 0.19167308798584692, 'l2_leaf_reg': 0.2196271627327124}. Best is trial 25 with value: 0.4060960900820928.\u001b[0m\n"
     ]
    },
    {
     "name": "stdout",
     "output_type": "stream",
     "text": [
      "Trial 60 finished with value: 0.3710049015807005 and parameters: {'iterations': 7, 'depth': 12, 'learning_rate': 0.19167308798584692, 'l2_leaf_reg': 0.2196271627327124}. Best is trial 25 with value: 0.4060960900820928.\n"
     ]
    },
    {
     "name": "stderr",
     "output_type": "stream",
     "text": [
      "\u001b[32m[I 2022-07-14 00:05:51,591]\u001b[0m Trial 61 finished with value: 0.27268247750376806 and parameters: {'iterations': 7, 'depth': 8, 'learning_rate': 0.06384054212474627, 'l2_leaf_reg': 0.2241734225979877}. Best is trial 25 with value: 0.4060960900820928.\u001b[0m\n"
     ]
    },
    {
     "name": "stdout",
     "output_type": "stream",
     "text": [
      "Trial 61 finished with value: 0.27268247750376806 and parameters: {'iterations': 7, 'depth': 8, 'learning_rate': 0.06384054212474627, 'l2_leaf_reg': 0.2241734225979877}. Best is trial 25 with value: 0.4060960900820928.\n"
     ]
    },
    {
     "name": "stderr",
     "output_type": "stream",
     "text": [
      "\u001b[32m[I 2022-07-14 00:06:42,119]\u001b[0m Trial 62 finished with value: 0.37213051072551007 and parameters: {'iterations': 6, 'depth': 12, 'learning_rate': 0.32650230597322133, 'l2_leaf_reg': 0.2969491188130195}. Best is trial 25 with value: 0.4060960900820928.\u001b[0m\n"
     ]
    },
    {
     "name": "stdout",
     "output_type": "stream",
     "text": [
      "Trial 62 finished with value: 0.37213051072551007 and parameters: {'iterations': 6, 'depth': 12, 'learning_rate': 0.32650230597322133, 'l2_leaf_reg': 0.2969491188130195}. Best is trial 25 with value: 0.4060960900820928.\n"
     ]
    },
    {
     "name": "stderr",
     "output_type": "stream",
     "text": [
      "\u001b[32m[I 2022-07-14 00:07:46,203]\u001b[0m Trial 63 finished with value: 0.3861007095888824 and parameters: {'iterations': 8, 'depth': 12, 'learning_rate': 0.31424827831357444, 'l2_leaf_reg': 0.3191530376427664}. Best is trial 25 with value: 0.4060960900820928.\u001b[0m\n"
     ]
    },
    {
     "name": "stdout",
     "output_type": "stream",
     "text": [
      "Trial 63 finished with value: 0.3861007095888824 and parameters: {'iterations': 8, 'depth': 12, 'learning_rate': 0.31424827831357444, 'l2_leaf_reg': 0.3191530376427664}. Best is trial 25 with value: 0.4060960900820928.\n"
     ]
    },
    {
     "name": "stderr",
     "output_type": "stream",
     "text": [
      "\u001b[32m[I 2022-07-14 00:08:29,172]\u001b[0m Trial 64 finished with value: 0.36897669543269507 and parameters: {'iterations': 8, 'depth': 11, 'learning_rate': 0.34446859319533846, 'l2_leaf_reg': 0.29286224324534854}. Best is trial 25 with value: 0.4060960900820928.\u001b[0m\n"
     ]
    },
    {
     "name": "stdout",
     "output_type": "stream",
     "text": [
      "Trial 64 finished with value: 0.36897669543269507 and parameters: {'iterations': 8, 'depth': 11, 'learning_rate': 0.34446859319533846, 'l2_leaf_reg': 0.29286224324534854}. Best is trial 25 with value: 0.4060960900820928.\n"
     ]
    },
    {
     "name": "stderr",
     "output_type": "stream",
     "text": [
      "\u001b[32m[I 2022-07-14 00:09:17,745]\u001b[0m Trial 65 finished with value: 0.35941332166345746 and parameters: {'iterations': 6, 'depth': 12, 'learning_rate': 0.16499310317443863, 'l2_leaf_reg': 0.536163493821946}. Best is trial 25 with value: 0.4060960900820928.\u001b[0m\n"
     ]
    },
    {
     "name": "stdout",
     "output_type": "stream",
     "text": [
      "Trial 65 finished with value: 0.35941332166345746 and parameters: {'iterations': 6, 'depth': 12, 'learning_rate': 0.16499310317443863, 'l2_leaf_reg': 0.536163493821946}. Best is trial 25 with value: 0.4060960900820928.\n"
     ]
    },
    {
     "name": "stderr",
     "output_type": "stream",
     "text": [
      "\u001b[32m[I 2022-07-14 00:09:51,748]\u001b[0m Trial 66 finished with value: 0.3527043062944091 and parameters: {'iterations': 6, 'depth': 11, 'learning_rate': 0.30722518256074255, 'l2_leaf_reg': 0.2805555035937054}. Best is trial 25 with value: 0.4060960900820928.\u001b[0m\n"
     ]
    },
    {
     "name": "stdout",
     "output_type": "stream",
     "text": [
      "Trial 66 finished with value: 0.3527043062944091 and parameters: {'iterations': 6, 'depth': 11, 'learning_rate': 0.30722518256074255, 'l2_leaf_reg': 0.2805555035937054}. Best is trial 25 with value: 0.4060960900820928.\n"
     ]
    },
    {
     "name": "stderr",
     "output_type": "stream",
     "text": [
      "\u001b[32m[I 2022-07-14 00:11:01,884]\u001b[0m Trial 67 finished with value: 0.3448951709643503 and parameters: {'iterations': 9, 'depth': 12, 'learning_rate': 0.007031802904273415, 'l2_leaf_reg': 0.5239586055836299}. Best is trial 25 with value: 0.4060960900820928.\u001b[0m\n"
     ]
    },
    {
     "name": "stdout",
     "output_type": "stream",
     "text": [
      "Trial 67 finished with value: 0.3448951709643503 and parameters: {'iterations': 9, 'depth': 12, 'learning_rate': 0.007031802904273415, 'l2_leaf_reg': 0.5239586055836299}. Best is trial 25 with value: 0.4060960900820928.\n"
     ]
    },
    {
     "name": "stderr",
     "output_type": "stream",
     "text": [
      "\u001b[32m[I 2022-07-14 00:11:39,596]\u001b[0m Trial 68 finished with value: 0.3724405821331441 and parameters: {'iterations': 7, 'depth': 11, 'learning_rate': 0.446631724973011, 'l2_leaf_reg': 0.35001102895145403}. Best is trial 25 with value: 0.4060960900820928.\u001b[0m\n"
     ]
    },
    {
     "name": "stdout",
     "output_type": "stream",
     "text": [
      "Trial 68 finished with value: 0.3724405821331441 and parameters: {'iterations': 7, 'depth': 11, 'learning_rate': 0.446631724973011, 'l2_leaf_reg': 0.35001102895145403}. Best is trial 25 with value: 0.4060960900820928.\n"
     ]
    },
    {
     "name": "stderr",
     "output_type": "stream",
     "text": [
      "\u001b[32m[I 2022-07-14 00:12:18,558]\u001b[0m Trial 69 finished with value: 0.3739378325648385 and parameters: {'iterations': 7, 'depth': 11, 'learning_rate': 0.4910295076578382, 'l2_leaf_reg': 0.7294865429846814}. Best is trial 25 with value: 0.4060960900820928.\u001b[0m\n"
     ]
    },
    {
     "name": "stdout",
     "output_type": "stream",
     "text": [
      "Trial 69 finished with value: 0.3739378325648385 and parameters: {'iterations': 7, 'depth': 11, 'learning_rate': 0.4910295076578382, 'l2_leaf_reg': 0.7294865429846814}. Best is trial 25 with value: 0.4060960900820928.\n"
     ]
    },
    {
     "name": "stderr",
     "output_type": "stream",
     "text": [
      "\u001b[32m[I 2022-07-14 00:12:47,709]\u001b[0m Trial 70 finished with value: 0.33486244897530437 and parameters: {'iterations': 7, 'depth': 10, 'learning_rate': 0.21261872538716595, 'l2_leaf_reg': 0.9035214762670262}. Best is trial 25 with value: 0.4060960900820928.\u001b[0m\n"
     ]
    },
    {
     "name": "stdout",
     "output_type": "stream",
     "text": [
      "Trial 70 finished with value: 0.33486244897530437 and parameters: {'iterations': 7, 'depth': 10, 'learning_rate': 0.21261872538716595, 'l2_leaf_reg': 0.9035214762670262}. Best is trial 25 with value: 0.4060960900820928.\n"
     ]
    },
    {
     "name": "stderr",
     "output_type": "stream",
     "text": [
      "\u001b[32m[I 2022-07-14 00:13:32,234]\u001b[0m Trial 71 finished with value: 0.33989580552544324 and parameters: {'iterations': 8, 'depth': 11, 'learning_rate': 0.11183182175859904, 'l2_leaf_reg': 0.6809154442642165}. Best is trial 25 with value: 0.4060960900820928.\u001b[0m\n"
     ]
    },
    {
     "name": "stdout",
     "output_type": "stream",
     "text": [
      "Trial 71 finished with value: 0.33989580552544324 and parameters: {'iterations': 8, 'depth': 11, 'learning_rate': 0.11183182175859904, 'l2_leaf_reg': 0.6809154442642165}. Best is trial 25 with value: 0.4060960900820928.\n"
     ]
    },
    {
     "name": "stderr",
     "output_type": "stream",
     "text": [
      "\u001b[32m[I 2022-07-14 00:14:10,640]\u001b[0m Trial 72 finished with value: 0.3754754587792943 and parameters: {'iterations': 7, 'depth': 11, 'learning_rate': 0.48299506491351585, 'l2_leaf_reg': 0.3882515953912949}. Best is trial 25 with value: 0.4060960900820928.\u001b[0m\n"
     ]
    },
    {
     "name": "stdout",
     "output_type": "stream",
     "text": [
      "Trial 72 finished with value: 0.3754754587792943 and parameters: {'iterations': 7, 'depth': 11, 'learning_rate': 0.48299506491351585, 'l2_leaf_reg': 0.3882515953912949}. Best is trial 25 with value: 0.4060960900820928.\n"
     ]
    },
    {
     "name": "stderr",
     "output_type": "stream",
     "text": [
      "\u001b[32m[I 2022-07-14 00:15:21,871]\u001b[0m Trial 73 finished with value: 0.39611646743767925 and parameters: {'iterations': 9, 'depth': 12, 'learning_rate': 0.486519543438948, 'l2_leaf_reg': 0.5803208381765247}. Best is trial 25 with value: 0.4060960900820928.\u001b[0m\n"
     ]
    },
    {
     "name": "stdout",
     "output_type": "stream",
     "text": [
      "Trial 73 finished with value: 0.39611646743767925 and parameters: {'iterations': 9, 'depth': 12, 'learning_rate': 0.486519543438948, 'l2_leaf_reg': 0.5803208381765247}. Best is trial 25 with value: 0.4060960900820928.\n"
     ]
    },
    {
     "name": "stderr",
     "output_type": "stream",
     "text": [
      "\u001b[32m[I 2022-07-14 00:16:36,514]\u001b[0m Trial 74 finished with value: 0.4095472329912494 and parameters: {'iterations': 10, 'depth': 12, 'learning_rate': 0.7516122977557711, 'l2_leaf_reg': 0.4066199013354722}. Best is trial 74 with value: 0.4095472329912494.\u001b[0m\n"
     ]
    },
    {
     "name": "stdout",
     "output_type": "stream",
     "text": [
      "Trial 74 finished with value: 0.4095472329912494 and parameters: {'iterations': 10, 'depth': 12, 'learning_rate': 0.7516122977557711, 'l2_leaf_reg': 0.4066199013354722}. Best is trial 74 with value: 0.4095472329912494.\n"
     ]
    },
    {
     "name": "stderr",
     "output_type": "stream",
     "text": [
      "\u001b[32m[I 2022-07-14 00:17:55,625]\u001b[0m Trial 75 finished with value: 0.4098934053688613 and parameters: {'iterations': 10, 'depth': 12, 'learning_rate': 0.7551862001753825, 'l2_leaf_reg': 0.38303797119109345}. Best is trial 75 with value: 0.4098934053688613.\u001b[0m\n"
     ]
    },
    {
     "name": "stdout",
     "output_type": "stream",
     "text": [
      "Trial 75 finished with value: 0.4098934053688613 and parameters: {'iterations': 10, 'depth': 12, 'learning_rate': 0.7551862001753825, 'l2_leaf_reg': 0.38303797119109345}. Best is trial 75 with value: 0.4098934053688613.\n"
     ]
    },
    {
     "name": "stderr",
     "output_type": "stream",
     "text": [
      "\u001b[32m[I 2022-07-14 00:19:12,456]\u001b[0m Trial 76 finished with value: 0.41243982305849614 and parameters: {'iterations': 10, 'depth': 12, 'learning_rate': 0.8072565513403439, 'l2_leaf_reg': 0.5918198639163518}. Best is trial 76 with value: 0.41243982305849614.\u001b[0m\n"
     ]
    },
    {
     "name": "stdout",
     "output_type": "stream",
     "text": [
      "Trial 76 finished with value: 0.41243982305849614 and parameters: {'iterations': 10, 'depth': 12, 'learning_rate': 0.8072565513403439, 'l2_leaf_reg': 0.5918198639163518}. Best is trial 76 with value: 0.41243982305849614.\n"
     ]
    },
    {
     "name": "stderr",
     "output_type": "stream",
     "text": [
      "\u001b[32m[I 2022-07-14 00:20:27,268]\u001b[0m Trial 77 finished with value: 0.4076782961229468 and parameters: {'iterations': 10, 'depth': 12, 'learning_rate': 0.7125889805889895, 'l2_leaf_reg': 0.6718389911245723}. Best is trial 76 with value: 0.41243982305849614.\u001b[0m\n"
     ]
    },
    {
     "name": "stdout",
     "output_type": "stream",
     "text": [
      "Trial 77 finished with value: 0.4076782961229468 and parameters: {'iterations': 10, 'depth': 12, 'learning_rate': 0.7125889805889895, 'l2_leaf_reg': 0.6718389911245723}. Best is trial 76 with value: 0.41243982305849614.\n"
     ]
    },
    {
     "name": "stderr",
     "output_type": "stream",
     "text": [
      "\u001b[32m[I 2022-07-14 00:21:44,885]\u001b[0m Trial 78 finished with value: 0.41058575919011353 and parameters: {'iterations': 10, 'depth': 12, 'learning_rate': 0.7640393097650127, 'l2_leaf_reg': 0.6264065779417423}. Best is trial 76 with value: 0.41243982305849614.\u001b[0m\n"
     ]
    },
    {
     "name": "stdout",
     "output_type": "stream",
     "text": [
      "Trial 78 finished with value: 0.41058575919011353 and parameters: {'iterations': 10, 'depth': 12, 'learning_rate': 0.7640393097650127, 'l2_leaf_reg': 0.6264065779417423}. Best is trial 76 with value: 0.41243982305849614.\n"
     ]
    },
    {
     "name": "stderr",
     "output_type": "stream",
     "text": [
      "\u001b[32m[I 2022-07-14 00:23:00,836]\u001b[0m Trial 79 finished with value: 0.4098551770846501 and parameters: {'iterations': 10, 'depth': 12, 'learning_rate': 0.7454644756383918, 'l2_leaf_reg': 0.6237908318562491}. Best is trial 76 with value: 0.41243982305849614.\u001b[0m\n"
     ]
    },
    {
     "name": "stdout",
     "output_type": "stream",
     "text": [
      "Trial 79 finished with value: 0.4098551770846501 and parameters: {'iterations': 10, 'depth': 12, 'learning_rate': 0.7454644756383918, 'l2_leaf_reg': 0.6237908318562491}. Best is trial 76 with value: 0.41243982305849614.\n"
     ]
    },
    {
     "name": "stderr",
     "output_type": "stream",
     "text": [
      "\u001b[32m[I 2022-07-14 00:23:51,156]\u001b[0m Trial 80 finished with value: 0.39760948168869603 and parameters: {'iterations': 10, 'depth': 11, 'learning_rate': 0.7385059712778654, 'l2_leaf_reg': 0.6388430672278925}. Best is trial 76 with value: 0.41243982305849614.\u001b[0m\n"
     ]
    },
    {
     "name": "stdout",
     "output_type": "stream",
     "text": [
      "Trial 80 finished with value: 0.39760948168869603 and parameters: {'iterations': 10, 'depth': 11, 'learning_rate': 0.7385059712778654, 'l2_leaf_reg': 0.6388430672278925}. Best is trial 76 with value: 0.41243982305849614.\n"
     ]
    },
    {
     "name": "stderr",
     "output_type": "stream",
     "text": [
      "\u001b[32m[I 2022-07-14 00:24:43,243]\u001b[0m Trial 81 finished with value: 0.39520536277876384 and parameters: {'iterations': 10, 'depth': 11, 'learning_rate': 0.7520908463144917, 'l2_leaf_reg': 0.7892396762313861}. Best is trial 76 with value: 0.41243982305849614.\u001b[0m\n"
     ]
    },
    {
     "name": "stdout",
     "output_type": "stream",
     "text": [
      "Trial 81 finished with value: 0.39520536277876384 and parameters: {'iterations': 10, 'depth': 11, 'learning_rate': 0.7520908463144917, 'l2_leaf_reg': 0.7892396762313861}. Best is trial 76 with value: 0.41243982305849614.\n"
     ]
    },
    {
     "name": "stderr",
     "output_type": "stream",
     "text": [
      "\u001b[32m[I 2022-07-14 00:26:06,125]\u001b[0m Trial 82 finished with value: 0.4114543830788205 and parameters: {'iterations': 11, 'depth': 12, 'learning_rate': 0.7045173542253722, 'l2_leaf_reg': 0.6013181765847153}. Best is trial 76 with value: 0.41243982305849614.\u001b[0m\n"
     ]
    },
    {
     "name": "stdout",
     "output_type": "stream",
     "text": [
      "Trial 82 finished with value: 0.4114543830788205 and parameters: {'iterations': 11, 'depth': 12, 'learning_rate': 0.7045173542253722, 'l2_leaf_reg': 0.6013181765847153}. Best is trial 76 with value: 0.41243982305849614.\n"
     ]
    },
    {
     "name": "stderr",
     "output_type": "stream",
     "text": [
      "\u001b[32m[I 2022-07-14 00:27:28,782]\u001b[0m Trial 83 finished with value: 0.41293041641067 and parameters: {'iterations': 11, 'depth': 12, 'learning_rate': 0.7168472039774425, 'l2_leaf_reg': 0.46184584816342356}. Best is trial 83 with value: 0.41293041641067.\u001b[0m\n"
     ]
    },
    {
     "name": "stdout",
     "output_type": "stream",
     "text": [
      "Trial 83 finished with value: 0.41293041641067 and parameters: {'iterations': 11, 'depth': 12, 'learning_rate': 0.7168472039774425, 'l2_leaf_reg': 0.46184584816342356}. Best is trial 83 with value: 0.41293041641067.\n"
     ]
    },
    {
     "name": "stderr",
     "output_type": "stream",
     "text": [
      "\u001b[32m[I 2022-07-14 00:28:44,167]\u001b[0m Trial 84 finished with value: 0.4097957098023016 and parameters: {'iterations': 10, 'depth': 12, 'learning_rate': 0.7378771504942785, 'l2_leaf_reg': 0.4567975770495227}. Best is trial 83 with value: 0.41293041641067.\u001b[0m\n"
     ]
    },
    {
     "name": "stdout",
     "output_type": "stream",
     "text": [
      "Trial 84 finished with value: 0.4097957098023016 and parameters: {'iterations': 10, 'depth': 12, 'learning_rate': 0.7378771504942785, 'l2_leaf_reg': 0.4567975770495227}. Best is trial 83 with value: 0.41293041641067.\n"
     ]
    },
    {
     "name": "stderr",
     "output_type": "stream",
     "text": [
      "\u001b[32m[I 2022-07-14 00:28:54,282]\u001b[0m Trial 85 finished with value: 0.236418970551913 and parameters: {'iterations': 11, 'depth': 1, 'learning_rate': 0.7413604899791685, 'l2_leaf_reg': 0.46024730686092463}. Best is trial 83 with value: 0.41293041641067.\u001b[0m\n"
     ]
    },
    {
     "name": "stdout",
     "output_type": "stream",
     "text": [
      "Trial 85 finished with value: 0.236418970551913 and parameters: {'iterations': 11, 'depth': 1, 'learning_rate': 0.7413604899791685, 'l2_leaf_reg': 0.46024730686092463}. Best is trial 83 with value: 0.41293041641067.\n"
     ]
    },
    {
     "name": "stderr",
     "output_type": "stream",
     "text": [
      "\u001b[32m[I 2022-07-14 00:30:17,376]\u001b[0m Trial 86 finished with value: 0.4154024831733466 and parameters: {'iterations': 11, 'depth': 12, 'learning_rate': 0.936585845261518, 'l2_leaf_reg': 0.9890024968630068}. Best is trial 86 with value: 0.4154024831733466.\u001b[0m\n"
     ]
    },
    {
     "name": "stdout",
     "output_type": "stream",
     "text": [
      "Trial 86 finished with value: 0.4154024831733466 and parameters: {'iterations': 11, 'depth': 12, 'learning_rate': 0.936585845261518, 'l2_leaf_reg': 0.9890024968630068}. Best is trial 86 with value: 0.4154024831733466.\n"
     ]
    },
    {
     "name": "stderr",
     "output_type": "stream",
     "text": [
      "\u001b[32m[I 2022-07-14 00:31:39,036]\u001b[0m Trial 87 finished with value: 0.4142811423011509 and parameters: {'iterations': 11, 'depth': 12, 'learning_rate': 0.9932028456559987, 'l2_leaf_reg': 0.9669918956459597}. Best is trial 86 with value: 0.4154024831733466.\u001b[0m\n"
     ]
    },
    {
     "name": "stdout",
     "output_type": "stream",
     "text": [
      "Trial 87 finished with value: 0.4142811423011509 and parameters: {'iterations': 11, 'depth': 12, 'learning_rate': 0.9932028456559987, 'l2_leaf_reg': 0.9669918956459597}. Best is trial 86 with value: 0.4154024831733466.\n"
     ]
    },
    {
     "name": "stderr",
     "output_type": "stream",
     "text": [
      "\u001b[32m[I 2022-07-14 00:33:03,050]\u001b[0m Trial 88 finished with value: 0.4118770251954034 and parameters: {'iterations': 11, 'depth': 12, 'learning_rate': 0.8802834050476647, 'l2_leaf_reg': 0.9963756423396717}. Best is trial 86 with value: 0.4154024831733466.\u001b[0m\n"
     ]
    },
    {
     "name": "stdout",
     "output_type": "stream",
     "text": [
      "Trial 88 finished with value: 0.4118770251954034 and parameters: {'iterations': 11, 'depth': 12, 'learning_rate': 0.8802834050476647, 'l2_leaf_reg': 0.9963756423396717}. Best is trial 86 with value: 0.4154024831733466.\n"
     ]
    },
    {
     "name": "stderr",
     "output_type": "stream",
     "text": [
      "\u001b[32m[I 2022-07-14 00:33:46,178]\u001b[0m Trial 89 finished with value: 0.3947338834108295 and parameters: {'iterations': 12, 'depth': 10, 'learning_rate': 0.955214980305687, 'l2_leaf_reg': 0.8036225416151733}. Best is trial 86 with value: 0.4154024831733466.\u001b[0m\n"
     ]
    },
    {
     "name": "stdout",
     "output_type": "stream",
     "text": [
      "Trial 89 finished with value: 0.3947338834108295 and parameters: {'iterations': 12, 'depth': 10, 'learning_rate': 0.955214980305687, 'l2_leaf_reg': 0.8036225416151733}. Best is trial 86 with value: 0.4154024831733466.\n"
     ]
    },
    {
     "name": "stderr",
     "output_type": "stream",
     "text": [
      "\u001b[32m[I 2022-07-14 00:34:10,424]\u001b[0m Trial 90 finished with value: 0.3134717588636652 and parameters: {'iterations': 11, 'depth': 7, 'learning_rate': 0.52385965457964, 'l2_leaf_reg': 0.9143894470390362}. Best is trial 86 with value: 0.4154024831733466.\u001b[0m\n"
     ]
    },
    {
     "name": "stdout",
     "output_type": "stream",
     "text": [
      "Trial 90 finished with value: 0.3134717588636652 and parameters: {'iterations': 11, 'depth': 7, 'learning_rate': 0.52385965457964, 'l2_leaf_reg': 0.9143894470390362}. Best is trial 86 with value: 0.4154024831733466.\n"
     ]
    },
    {
     "name": "stderr",
     "output_type": "stream",
     "text": [
      "\u001b[32m[I 2022-07-14 00:34:23,670]\u001b[0m Trial 91 finished with value: 0.26072134872545105 and parameters: {'iterations': 11, 'depth': 5, 'learning_rate': 0.24209308907343183, 'l2_leaf_reg': 0.9564101739804893}. Best is trial 86 with value: 0.4154024831733466.\u001b[0m\n"
     ]
    },
    {
     "name": "stdout",
     "output_type": "stream",
     "text": [
      "Trial 91 finished with value: 0.26072134872545105 and parameters: {'iterations': 11, 'depth': 5, 'learning_rate': 0.24209308907343183, 'l2_leaf_reg': 0.9564101739804893}. Best is trial 86 with value: 0.4154024831733466.\n"
     ]
    },
    {
     "name": "stderr",
     "output_type": "stream",
     "text": [
      "\u001b[32m[I 2022-07-14 00:35:49,032]\u001b[0m Trial 92 finished with value: 0.41560636680703344 and parameters: {'iterations': 11, 'depth': 12, 'learning_rate': 0.9421702012261038, 'l2_leaf_reg': 0.8054161983739472}. Best is trial 92 with value: 0.41560636680703344.\u001b[0m\n"
     ]
    },
    {
     "name": "stdout",
     "output_type": "stream",
     "text": [
      "Trial 92 finished with value: 0.41560636680703344 and parameters: {'iterations': 11, 'depth': 12, 'learning_rate': 0.9421702012261038, 'l2_leaf_reg': 0.8054161983739472}. Best is trial 92 with value: 0.41560636680703344.\n"
     ]
    },
    {
     "name": "stderr",
     "output_type": "stream",
     "text": [
      "\u001b[32m[I 2022-07-14 00:37:20,278]\u001b[0m Trial 93 finished with value: 0.4162838637307146 and parameters: {'iterations': 12, 'depth': 12, 'learning_rate': 0.9554895372298969, 'l2_leaf_reg': 0.6053108726821882}. Best is trial 93 with value: 0.4162838637307146.\u001b[0m\n"
     ]
    },
    {
     "name": "stdout",
     "output_type": "stream",
     "text": [
      "Trial 93 finished with value: 0.4162838637307146 and parameters: {'iterations': 12, 'depth': 12, 'learning_rate': 0.9554895372298969, 'l2_leaf_reg': 0.6053108726821882}. Best is trial 93 with value: 0.4162838637307146.\n"
     ]
    },
    {
     "name": "stderr",
     "output_type": "stream",
     "text": [
      "\u001b[32m[I 2022-07-14 00:38:52,420]\u001b[0m Trial 94 finished with value: 0.34475076135615235 and parameters: {'iterations': 12, 'depth': 12, 'learning_rate': 4.3498742428068136e-05, 'l2_leaf_reg': 0.8133230157461105}. Best is trial 93 with value: 0.4162838637307146.\u001b[0m\n"
     ]
    },
    {
     "name": "stdout",
     "output_type": "stream",
     "text": [
      "Trial 94 finished with value: 0.34475076135615235 and parameters: {'iterations': 12, 'depth': 12, 'learning_rate': 4.3498742428068136e-05, 'l2_leaf_reg': 0.8133230157461105}. Best is trial 93 with value: 0.4162838637307146.\n"
     ]
    },
    {
     "name": "stderr",
     "output_type": "stream",
     "text": [
      "\u001b[32m[I 2022-07-14 00:39:51,645]\u001b[0m Trial 95 finished with value: 0.39607398281102585 and parameters: {'iterations': 12, 'depth': 11, 'learning_rate': 0.5745743051495832, 'l2_leaf_reg': 0.99659857337136}. Best is trial 93 with value: 0.4162838637307146.\u001b[0m\n"
     ]
    },
    {
     "name": "stdout",
     "output_type": "stream",
     "text": [
      "Trial 95 finished with value: 0.39607398281102585 and parameters: {'iterations': 12, 'depth': 11, 'learning_rate': 0.5745743051495832, 'l2_leaf_reg': 0.99659857337136}. Best is trial 93 with value: 0.4162838637307146.\n"
     ]
    },
    {
     "name": "stderr",
     "output_type": "stream",
     "text": [
      "\u001b[32m[I 2022-07-14 00:41:16,324]\u001b[0m Trial 96 finished with value: 0.4150053388104401 and parameters: {'iterations': 11, 'depth': 12, 'learning_rate': 0.937362133953608, 'l2_leaf_reg': 0.7405571081588359}. Best is trial 93 with value: 0.4162838637307146.\u001b[0m\n"
     ]
    },
    {
     "name": "stdout",
     "output_type": "stream",
     "text": [
      "Trial 96 finished with value: 0.4150053388104401 and parameters: {'iterations': 11, 'depth': 12, 'learning_rate': 0.937362133953608, 'l2_leaf_reg': 0.7405571081588359}. Best is trial 93 with value: 0.4162838637307146.\n"
     ]
    },
    {
     "name": "stderr",
     "output_type": "stream",
     "text": [
      "\u001b[32m[I 2022-07-14 00:42:12,545]\u001b[0m Trial 97 finished with value: 0.3936358806380654 and parameters: {'iterations': 11, 'depth': 11, 'learning_rate': 0.5701823942699246, 'l2_leaf_reg': 0.7473202219301219}. Best is trial 93 with value: 0.4162838637307146.\u001b[0m\n"
     ]
    },
    {
     "name": "stdout",
     "output_type": "stream",
     "text": [
      "Trial 97 finished with value: 0.3936358806380654 and parameters: {'iterations': 11, 'depth': 11, 'learning_rate': 0.5701823942699246, 'l2_leaf_reg': 0.7473202219301219}. Best is trial 93 with value: 0.4162838637307146.\n"
     ]
    },
    {
     "name": "stderr",
     "output_type": "stream",
     "text": [
      "\u001b[32m[I 2022-07-14 00:43:35,300]\u001b[0m Trial 98 finished with value: 0.41287943793031034 and parameters: {'iterations': 11, 'depth': 12, 'learning_rate': 0.9227184025018043, 'l2_leaf_reg': 0.5614794795921155}. Best is trial 93 with value: 0.4162838637307146.\u001b[0m\n"
     ]
    },
    {
     "name": "stdout",
     "output_type": "stream",
     "text": [
      "Trial 98 finished with value: 0.41287943793031034 and parameters: {'iterations': 11, 'depth': 12, 'learning_rate': 0.9227184025018043, 'l2_leaf_reg': 0.5614794795921155}. Best is trial 93 with value: 0.4162838637307146.\n"
     ]
    },
    {
     "name": "stderr",
     "output_type": "stream",
     "text": [
      "\u001b[32m[I 2022-07-14 00:44:31,097]\u001b[0m Trial 99 finished with value: 0.40158305680417083 and parameters: {'iterations': 11, 'depth': 11, 'learning_rate': 0.9734792467441645, 'l2_leaf_reg': 0.8512413705956373}. Best is trial 93 with value: 0.4162838637307146.\u001b[0m\n"
     ]
    },
    {
     "name": "stdout",
     "output_type": "stream",
     "text": [
      "Trial 99 finished with value: 0.40158305680417083 and parameters: {'iterations': 11, 'depth': 11, 'learning_rate': 0.9734792467441645, 'l2_leaf_reg': 0.8512413705956373}. Best is trial 93 with value: 0.4162838637307146.\n"
     ]
    },
    {
     "name": "stderr",
     "output_type": "stream",
     "text": [
      "\u001b[32m[I 2022-07-14 00:46:01,323]\u001b[0m Trial 100 finished with value: 0.41447652432313714 and parameters: {'iterations': 12, 'depth': 12, 'learning_rate': 0.9774680312799925, 'l2_leaf_reg': 0.547110521485284}. Best is trial 93 with value: 0.4162838637307146.\u001b[0m\n"
     ]
    },
    {
     "name": "stdout",
     "output_type": "stream",
     "text": [
      "Trial 100 finished with value: 0.41447652432313714 and parameters: {'iterations': 12, 'depth': 12, 'learning_rate': 0.9774680312799925, 'l2_leaf_reg': 0.547110521485284}. Best is trial 93 with value: 0.4162838637307146.\n"
     ]
    },
    {
     "name": "stderr",
     "output_type": "stream",
     "text": [
      "\u001b[32m[I 2022-07-14 00:47:31,724]\u001b[0m Trial 101 finished with value: 0.4160205222189923 and parameters: {'iterations': 12, 'depth': 12, 'learning_rate': 0.983958798379518, 'l2_leaf_reg': 0.528860758766757}. Best is trial 93 with value: 0.4162838637307146.\u001b[0m\n"
     ]
    },
    {
     "name": "stdout",
     "output_type": "stream",
     "text": [
      "Trial 101 finished with value: 0.4160205222189923 and parameters: {'iterations': 12, 'depth': 12, 'learning_rate': 0.983958798379518, 'l2_leaf_reg': 0.528860758766757}. Best is trial 93 with value: 0.4162838637307146.\n"
     ]
    },
    {
     "name": "stderr",
     "output_type": "stream",
     "text": [
      "\u001b[32m[I 2022-07-14 00:49:02,402]\u001b[0m Trial 102 finished with value: 0.41561273972880974 and parameters: {'iterations': 12, 'depth': 12, 'learning_rate': 0.9247675580545751, 'l2_leaf_reg': 0.527099555422588}. Best is trial 93 with value: 0.4162838637307146.\u001b[0m\n"
     ]
    },
    {
     "name": "stdout",
     "output_type": "stream",
     "text": [
      "Trial 102 finished with value: 0.41561273972880974 and parameters: {'iterations': 12, 'depth': 12, 'learning_rate': 0.9247675580545751, 'l2_leaf_reg': 0.527099555422588}. Best is trial 93 with value: 0.4162838637307146.\n"
     ]
    },
    {
     "name": "stderr",
     "output_type": "stream",
     "text": [
      "/home/ygobrito/anaconda3/lib/python3.8/site-packages/joblib/externals/loky/process_executor.py:702: UserWarning: A worker stopped while some jobs were given to the executor. This can be caused by a too short worker timeout or by a memory leak.\n",
      "  warnings.warn(\n",
      "\u001b[32m[I 2022-07-14 00:50:32,701]\u001b[0m Trial 103 finished with value: 0.41647500264846427 and parameters: {'iterations': 12, 'depth': 12, 'learning_rate': 0.9473189909709719, 'l2_leaf_reg': 0.5274030039750599}. Best is trial 103 with value: 0.41647500264846427.\u001b[0m\n"
     ]
    },
    {
     "name": "stdout",
     "output_type": "stream",
     "text": [
      "Trial 103 finished with value: 0.41647500264846427 and parameters: {'iterations': 12, 'depth': 12, 'learning_rate': 0.9473189909709719, 'l2_leaf_reg': 0.5274030039750599}. Best is trial 103 with value: 0.41647500264846427.\n"
     ]
    },
    {
     "name": "stderr",
     "output_type": "stream",
     "text": [
      "\u001b[32m[I 2022-07-14 00:52:03,264]\u001b[0m Trial 104 finished with value: 0.41720134216839416 and parameters: {'iterations': 12, 'depth': 12, 'learning_rate': 0.9829314919177342, 'l2_leaf_reg': 0.4544590828026306}. Best is trial 104 with value: 0.41720134216839416.\u001b[0m\n"
     ]
    },
    {
     "name": "stdout",
     "output_type": "stream",
     "text": [
      "Trial 104 finished with value: 0.41720134216839416 and parameters: {'iterations': 12, 'depth': 12, 'learning_rate': 0.9829314919177342, 'l2_leaf_reg': 0.4544590828026306}. Best is trial 104 with value: 0.41720134216839416.\n"
     ]
    },
    {
     "name": "stderr",
     "output_type": "stream",
     "text": [
      "\u001b[32m[I 2022-07-14 00:53:06,835]\u001b[0m Trial 105 finished with value: 0.3965773115875854 and parameters: {'iterations': 12, 'depth': 11, 'learning_rate': 0.5811385359601394, 'l2_leaf_reg': 0.49725151779076926}. Best is trial 104 with value: 0.41720134216839416.\u001b[0m\n"
     ]
    },
    {
     "name": "stdout",
     "output_type": "stream",
     "text": [
      "Trial 105 finished with value: 0.3965773115875854 and parameters: {'iterations': 12, 'depth': 11, 'learning_rate': 0.5811385359601394, 'l2_leaf_reg': 0.49725151779076926}. Best is trial 104 with value: 0.41720134216839416.\n"
     ]
    },
    {
     "name": "stderr",
     "output_type": "stream",
     "text": [
      "\u001b[32m[I 2022-07-14 00:54:48,865]\u001b[0m Trial 106 finished with value: 0.4169953366555805 and parameters: {'iterations': 12, 'depth': 12, 'learning_rate': 0.989162226277157, 'l2_leaf_reg': 0.4815302929391628}. Best is trial 104 with value: 0.41720134216839416.\u001b[0m\n"
     ]
    },
    {
     "name": "stdout",
     "output_type": "stream",
     "text": [
      "Trial 106 finished with value: 0.4169953366555805 and parameters: {'iterations': 12, 'depth': 12, 'learning_rate': 0.989162226277157, 'l2_leaf_reg': 0.4815302929391628}. Best is trial 104 with value: 0.41720134216839416.\n"
     ]
    },
    {
     "name": "stderr",
     "output_type": "stream",
     "text": [
      "\u001b[32m[I 2022-07-14 00:56:28,144]\u001b[0m Trial 107 finished with value: 0.3452243635278581 and parameters: {'iterations': 12, 'depth': 12, 'learning_rate': 0.002737237200740862, 'l2_leaf_reg': 0.7154473985358021}. Best is trial 104 with value: 0.41720134216839416.\u001b[0m\n"
     ]
    },
    {
     "name": "stdout",
     "output_type": "stream",
     "text": [
      "Trial 107 finished with value: 0.3452243635278581 and parameters: {'iterations': 12, 'depth': 12, 'learning_rate': 0.002737237200740862, 'l2_leaf_reg': 0.7154473985358021}. Best is trial 104 with value: 0.41720134216839416.\n"
     ]
    },
    {
     "name": "stderr",
     "output_type": "stream",
     "text": [
      "\u001b[32m[I 2022-07-14 00:58:01,902]\u001b[0m Trial 108 finished with value: 0.4070071876595831 and parameters: {'iterations': 12, 'depth': 12, 'learning_rate': 0.47271767230835904, 'l2_leaf_reg': 0.4983577191592893}. Best is trial 104 with value: 0.41720134216839416.\u001b[0m\n"
     ]
    },
    {
     "name": "stdout",
     "output_type": "stream",
     "text": [
      "Trial 108 finished with value: 0.4070071876595831 and parameters: {'iterations': 12, 'depth': 12, 'learning_rate': 0.47271767230835904, 'l2_leaf_reg': 0.4983577191592893}. Best is trial 104 with value: 0.41720134216839416.\n"
     ]
    },
    {
     "name": "stderr",
     "output_type": "stream",
     "text": [
      "/home/ygobrito/anaconda3/lib/python3.8/site-packages/joblib/externals/loky/process_executor.py:702: UserWarning: A worker stopped while some jobs were given to the executor. This can be caused by a too short worker timeout or by a memory leak.\n",
      "  warnings.warn(\n",
      "\u001b[32m[I 2022-07-14 00:59:06,653]\u001b[0m Trial 109 finished with value: 0.37978884940784896 and parameters: {'iterations': 12, 'depth': 11, 'learning_rate': 0.27747554472099795, 'l2_leaf_reg': 0.7562654667852124}. Best is trial 104 with value: 0.41720134216839416.\u001b[0m\n"
     ]
    },
    {
     "name": "stdout",
     "output_type": "stream",
     "text": [
      "Trial 109 finished with value: 0.37978884940784896 and parameters: {'iterations': 12, 'depth': 11, 'learning_rate': 0.27747554472099795, 'l2_leaf_reg': 0.7562654667852124}. Best is trial 104 with value: 0.41720134216839416.\n"
     ]
    },
    {
     "name": "stderr",
     "output_type": "stream",
     "text": [
      "\u001b[32m[I 2022-07-14 01:00:43,914]\u001b[0m Trial 110 finished with value: 0.41683604319980194 and parameters: {'iterations': 12, 'depth': 12, 'learning_rate': 0.9976241645821222, 'l2_leaf_reg': 0.8445434075002175}. Best is trial 104 with value: 0.41720134216839416.\u001b[0m\n"
     ]
    },
    {
     "name": "stdout",
     "output_type": "stream",
     "text": [
      "Trial 110 finished with value: 0.41683604319980194 and parameters: {'iterations': 12, 'depth': 12, 'learning_rate': 0.9976241645821222, 'l2_leaf_reg': 0.8445434075002175}. Best is trial 104 with value: 0.41720134216839416.\n"
     ]
    },
    {
     "name": "stderr",
     "output_type": "stream",
     "text": [
      "\u001b[32m[I 2022-07-14 01:01:53,179]\u001b[0m Trial 111 finished with value: 0.40506819472610883 and parameters: {'iterations': 12, 'depth': 11, 'learning_rate': 0.9989433355677944, 'l2_leaf_reg': 0.8700748816438798}. Best is trial 104 with value: 0.41720134216839416.\u001b[0m\n"
     ]
    },
    {
     "name": "stdout",
     "output_type": "stream",
     "text": [
      "Trial 111 finished with value: 0.40506819472610883 and parameters: {'iterations': 12, 'depth': 11, 'learning_rate': 0.9989433355677944, 'l2_leaf_reg': 0.8700748816438798}. Best is trial 104 with value: 0.41720134216839416.\n"
     ]
    },
    {
     "name": "stderr",
     "output_type": "stream",
     "text": [
      "\u001b[32m[I 2022-07-14 01:03:30,394]\u001b[0m Trial 112 finished with value: 0.4113205816484319 and parameters: {'iterations': 12, 'depth': 12, 'learning_rate': 0.5451620690864358, 'l2_leaf_reg': 0.6726930346880091}. Best is trial 104 with value: 0.41720134216839416.\u001b[0m\n"
     ]
    },
    {
     "name": "stdout",
     "output_type": "stream",
     "text": [
      "Trial 112 finished with value: 0.4113205816484319 and parameters: {'iterations': 12, 'depth': 12, 'learning_rate': 0.5451620690864358, 'l2_leaf_reg': 0.6726930346880091}. Best is trial 104 with value: 0.41720134216839416.\n"
     ]
    },
    {
     "name": "stderr",
     "output_type": "stream",
     "text": [
      "\u001b[32m[I 2022-07-14 01:05:05,125]\u001b[0m Trial 113 finished with value: 0.4163858108586268 and parameters: {'iterations': 12, 'depth': 12, 'learning_rate': 0.9903233706581908, 'l2_leaf_reg': 0.510704410229068}. Best is trial 104 with value: 0.41720134216839416.\u001b[0m\n"
     ]
    },
    {
     "name": "stdout",
     "output_type": "stream",
     "text": [
      "Trial 113 finished with value: 0.4163858108586268 and parameters: {'iterations': 12, 'depth': 12, 'learning_rate': 0.9903233706581908, 'l2_leaf_reg': 0.510704410229068}. Best is trial 104 with value: 0.41720134216839416.\n"
     ]
    },
    {
     "name": "stderr",
     "output_type": "stream",
     "text": [
      "\u001b[32m[I 2022-07-14 01:06:47,192]\u001b[0m Trial 114 finished with value: 0.3452540962894923 and parameters: {'iterations': 12, 'depth': 12, 'learning_rate': 0.0004679125794567747, 'l2_leaf_reg': 0.5192039332523093}. Best is trial 104 with value: 0.41720134216839416.\u001b[0m\n"
     ]
    },
    {
     "name": "stdout",
     "output_type": "stream",
     "text": [
      "Trial 114 finished with value: 0.3452540962894923 and parameters: {'iterations': 12, 'depth': 12, 'learning_rate': 0.0004679125794567747, 'l2_leaf_reg': 0.5192039332523093}. Best is trial 104 with value: 0.41720134216839416.\n"
     ]
    },
    {
     "name": "stderr",
     "output_type": "stream",
     "text": [
      "\u001b[32m[I 2022-07-14 01:08:18,914]\u001b[0m Trial 115 finished with value: 0.4050108405951435 and parameters: {'iterations': 12, 'depth': 12, 'learning_rate': 0.4194660576711303, 'l2_leaf_reg': 0.439707428237954}. Best is trial 104 with value: 0.41720134216839416.\u001b[0m\n"
     ]
    },
    {
     "name": "stdout",
     "output_type": "stream",
     "text": [
      "Trial 115 finished with value: 0.4050108405951435 and parameters: {'iterations': 12, 'depth': 12, 'learning_rate': 0.4194660576711303, 'l2_leaf_reg': 0.439707428237954}. Best is trial 104 with value: 0.41720134216839416.\n"
     ]
    },
    {
     "name": "stderr",
     "output_type": "stream",
     "text": [
      "\u001b[32m[I 2022-07-14 01:09:58,218]\u001b[0m Trial 116 finished with value: 0.411114586622442 and parameters: {'iterations': 12, 'depth': 12, 'learning_rate': 0.5912975741233547, 'l2_leaf_reg': 0.5562831571184492}. Best is trial 104 with value: 0.41720134216839416.\u001b[0m\n"
     ]
    },
    {
     "name": "stdout",
     "output_type": "stream",
     "text": [
      "Trial 116 finished with value: 0.411114586622442 and parameters: {'iterations': 12, 'depth': 12, 'learning_rate': 0.5912975741233547, 'l2_leaf_reg': 0.5562831571184492}. Best is trial 104 with value: 0.41720134216839416.\n"
     ]
    },
    {
     "name": "stderr",
     "output_type": "stream",
     "text": [
      "\u001b[32m[I 2022-07-14 01:11:00,719]\u001b[0m Trial 117 finished with value: 0.403672851933233 and parameters: {'iterations': 12, 'depth': 11, 'learning_rate': 0.9934575182041623, 'l2_leaf_reg': 0.42746687519965476}. Best is trial 104 with value: 0.41720134216839416.\u001b[0m\n"
     ]
    },
    {
     "name": "stdout",
     "output_type": "stream",
     "text": [
      "Trial 117 finished with value: 0.403672851933233 and parameters: {'iterations': 12, 'depth': 11, 'learning_rate': 0.9934575182041623, 'l2_leaf_reg': 0.42746687519965476}. Best is trial 104 with value: 0.41720134216839416.\n"
     ]
    },
    {
     "name": "stderr",
     "output_type": "stream",
     "text": [
      "\u001b[32m[I 2022-07-14 01:12:37,961]\u001b[0m Trial 118 finished with value: 0.40151722199004797 and parameters: {'iterations': 12, 'depth': 12, 'learning_rate': 0.3485160247099739, 'l2_leaf_reg': 0.3783047151480152}. Best is trial 104 with value: 0.41720134216839416.\u001b[0m\n"
     ]
    },
    {
     "name": "stdout",
     "output_type": "stream",
     "text": [
      "Trial 118 finished with value: 0.40151722199004797 and parameters: {'iterations': 12, 'depth': 12, 'learning_rate': 0.3485160247099739, 'l2_leaf_reg': 0.3783047151480152}. Best is trial 104 with value: 0.41720134216839416.\n"
     ]
    },
    {
     "name": "stderr",
     "output_type": "stream",
     "text": [
      "\u001b[32m[I 2022-07-14 01:13:43,176]\u001b[0m Trial 119 finished with value: 0.39882001232102116 and parameters: {'iterations': 12, 'depth': 11, 'learning_rate': 0.6099937362929071, 'l2_leaf_reg': 0.7000281157873902}. Best is trial 104 with value: 0.41720134216839416.\u001b[0m\n"
     ]
    },
    {
     "name": "stdout",
     "output_type": "stream",
     "text": [
      "Trial 119 finished with value: 0.39882001232102116 and parameters: {'iterations': 12, 'depth': 11, 'learning_rate': 0.6099937362929071, 'l2_leaf_reg': 0.7000281157873902}. Best is trial 104 with value: 0.41720134216839416.\n"
     ]
    },
    {
     "name": "stderr",
     "output_type": "stream",
     "text": [
      "\u001b[32m[I 2022-07-14 01:13:54,022]\u001b[0m Trial 120 finished with value: 0.2443937585251704 and parameters: {'iterations': 12, 'depth': 2, 'learning_rate': 0.4493462747404224, 'l2_leaf_reg': 0.6428006051441001}. Best is trial 104 with value: 0.41720134216839416.\u001b[0m\n"
     ]
    },
    {
     "name": "stdout",
     "output_type": "stream",
     "text": [
      "Trial 120 finished with value: 0.2443937585251704 and parameters: {'iterations': 12, 'depth': 2, 'learning_rate': 0.4493462747404224, 'l2_leaf_reg': 0.6428006051441001}. Best is trial 104 with value: 0.41720134216839416.\n"
     ]
    },
    {
     "name": "stderr",
     "output_type": "stream",
     "text": [
      "\u001b[32m[I 2022-07-14 01:15:22,416]\u001b[0m Trial 121 finished with value: 0.4102756960140724 and parameters: {'iterations': 11, 'depth': 12, 'learning_rate': 0.6398019015183155, 'l2_leaf_reg': 0.4838957310805863}. Best is trial 104 with value: 0.41720134216839416.\u001b[0m\n"
     ]
    },
    {
     "name": "stdout",
     "output_type": "stream",
     "text": [
      "Trial 121 finished with value: 0.4102756960140724 and parameters: {'iterations': 11, 'depth': 12, 'learning_rate': 0.6398019015183155, 'l2_leaf_reg': 0.4838957310805863}. Best is trial 104 with value: 0.41720134216839416.\n"
     ]
    },
    {
     "name": "stderr",
     "output_type": "stream",
     "text": [
      "\u001b[32m[I 2022-07-14 01:16:48,621]\u001b[0m Trial 122 finished with value: 0.41296226065481634 and parameters: {'iterations': 11, 'depth': 12, 'learning_rate': 0.8457465125878971, 'l2_leaf_reg': 0.8327342336575054}. Best is trial 104 with value: 0.41720134216839416.\u001b[0m\n"
     ]
    },
    {
     "name": "stdout",
     "output_type": "stream",
     "text": [
      "Trial 122 finished with value: 0.41296226065481634 and parameters: {'iterations': 11, 'depth': 12, 'learning_rate': 0.8457465125878971, 'l2_leaf_reg': 0.8327342336575054}. Best is trial 104 with value: 0.41720134216839416.\n"
     ]
    },
    {
     "name": "stderr",
     "output_type": "stream",
     "text": [
      "\u001b[32m[I 2022-07-14 01:18:15,992]\u001b[0m Trial 123 finished with value: 0.4125778695100677 and parameters: {'iterations': 11, 'depth': 12, 'learning_rate': 0.9796498737751393, 'l2_leaf_reg': 0.5378512726205806}. Best is trial 104 with value: 0.41720134216839416.\u001b[0m\n"
     ]
    },
    {
     "name": "stdout",
     "output_type": "stream",
     "text": [
      "Trial 123 finished with value: 0.4125778695100677 and parameters: {'iterations': 11, 'depth': 12, 'learning_rate': 0.9796498737751393, 'l2_leaf_reg': 0.5378512726205806}. Best is trial 104 with value: 0.41720134216839416.\n"
     ]
    },
    {
     "name": "stderr",
     "output_type": "stream",
     "text": [
      "\u001b[32m[I 2022-07-14 01:19:49,208]\u001b[0m Trial 124 finished with value: 0.40905876253305634 and parameters: {'iterations': 12, 'depth': 12, 'learning_rate': 0.5097488220030467, 'l2_leaf_reg': 0.7563518906830048}. Best is trial 104 with value: 0.41720134216839416.\u001b[0m\n"
     ]
    },
    {
     "name": "stdout",
     "output_type": "stream",
     "text": [
      "Trial 124 finished with value: 0.40905876253305634 and parameters: {'iterations': 12, 'depth': 12, 'learning_rate': 0.5097488220030467, 'l2_leaf_reg': 0.7563518906830048}. Best is trial 104 with value: 0.41720134216839416.\n"
     ]
    },
    {
     "name": "stderr",
     "output_type": "stream",
     "text": [
      "\u001b[32m[I 2022-07-14 01:21:25,584]\u001b[0m Trial 125 finished with value: 0.4146655466390004 and parameters: {'iterations': 12, 'depth': 12, 'learning_rate': 0.9992989842656056, 'l2_leaf_reg': 0.8837514500087575}. Best is trial 104 with value: 0.41720134216839416.\u001b[0m\n"
     ]
    },
    {
     "name": "stdout",
     "output_type": "stream",
     "text": [
      "Trial 125 finished with value: 0.4146655466390004 and parameters: {'iterations': 12, 'depth': 12, 'learning_rate': 0.9992989842656056, 'l2_leaf_reg': 0.8837514500087575}. Best is trial 104 with value: 0.41720134216839416.\n"
     ]
    },
    {
     "name": "stderr",
     "output_type": "stream",
     "text": [
      "\u001b[32m[I 2022-07-14 01:22:59,805]\u001b[0m Trial 126 finished with value: 0.4122380511328446 and parameters: {'iterations': 12, 'depth': 12, 'learning_rate': 0.6277002497189428, 'l2_leaf_reg': 0.5942875215553444}. Best is trial 104 with value: 0.41720134216839416.\u001b[0m\n"
     ]
    },
    {
     "name": "stdout",
     "output_type": "stream",
     "text": [
      "Trial 126 finished with value: 0.4122380511328446 and parameters: {'iterations': 12, 'depth': 12, 'learning_rate': 0.6277002497189428, 'l2_leaf_reg': 0.5942875215553444}. Best is trial 104 with value: 0.41720134216839416.\n"
     ]
    },
    {
     "name": "stderr",
     "output_type": "stream",
     "text": [
      "\u001b[32m[I 2022-07-14 01:24:36,007]\u001b[0m Trial 127 finished with value: 0.4040636377176319 and parameters: {'iterations': 12, 'depth': 12, 'learning_rate': 0.3967090731963539, 'l2_leaf_reg': 0.8551837867102683}. Best is trial 104 with value: 0.41720134216839416.\u001b[0m\n"
     ]
    },
    {
     "name": "stdout",
     "output_type": "stream",
     "text": [
      "Trial 127 finished with value: 0.4040636377176319 and parameters: {'iterations': 12, 'depth': 12, 'learning_rate': 0.3967090731963539, 'l2_leaf_reg': 0.8551837867102683}. Best is trial 104 with value: 0.41720134216839416.\n"
     ]
    },
    {
     "name": "stderr",
     "output_type": "stream",
     "text": [
      "\u001b[32m[I 2022-07-14 01:25:39,691]\u001b[0m Trial 128 finished with value: 0.3801180331082993 and parameters: {'iterations': 12, 'depth': 11, 'learning_rate': 0.27344600412116987, 'l2_leaf_reg': 0.6801641259527548}. Best is trial 104 with value: 0.41720134216839416.\u001b[0m\n"
     ]
    },
    {
     "name": "stdout",
     "output_type": "stream",
     "text": [
      "Trial 128 finished with value: 0.3801180331082993 and parameters: {'iterations': 12, 'depth': 11, 'learning_rate': 0.27344600412116987, 'l2_leaf_reg': 0.6801641259527548}. Best is trial 104 with value: 0.41720134216839416.\n"
     ]
    },
    {
     "name": "stderr",
     "output_type": "stream",
     "text": [
      "\u001b[32m[I 2022-07-14 01:27:17,157]\u001b[0m Trial 129 finished with value: 0.41637942167663555 and parameters: {'iterations': 12, 'depth': 12, 'learning_rate': 0.8228725179494585, 'l2_leaf_reg': 0.36806644979475645}. Best is trial 104 with value: 0.41720134216839416.\u001b[0m\n"
     ]
    },
    {
     "name": "stdout",
     "output_type": "stream",
     "text": [
      "Trial 129 finished with value: 0.41637942167663555 and parameters: {'iterations': 12, 'depth': 12, 'learning_rate': 0.8228725179494585, 'l2_leaf_reg': 0.36806644979475645}. Best is trial 104 with value: 0.41720134216839416.\n"
     ]
    },
    {
     "name": "stderr",
     "output_type": "stream",
     "text": [
      "\u001b[32m[I 2022-07-14 01:28:19,658]\u001b[0m Trial 130 finished with value: 0.4022669204026387 and parameters: {'iterations': 12, 'depth': 11, 'learning_rate': 0.6810881977166078, 'l2_leaf_reg': 0.405749132850356}. Best is trial 104 with value: 0.41720134216839416.\u001b[0m\n"
     ]
    },
    {
     "name": "stdout",
     "output_type": "stream",
     "text": [
      "Trial 130 finished with value: 0.4022669204026387 and parameters: {'iterations': 12, 'depth': 11, 'learning_rate': 0.6810881977166078, 'l2_leaf_reg': 0.405749132850356}. Best is trial 104 with value: 0.41720134216839416.\n"
     ]
    },
    {
     "name": "stderr",
     "output_type": "stream",
     "text": [
      "\u001b[32m[I 2022-07-14 01:29:46,190]\u001b[0m Trial 131 finished with value: 0.40548444082735075 and parameters: {'iterations': 11, 'depth': 12, 'learning_rate': 0.4735777015181528, 'l2_leaf_reg': 0.3617460789928769}. Best is trial 104 with value: 0.41720134216839416.\u001b[0m\n"
     ]
    },
    {
     "name": "stdout",
     "output_type": "stream",
     "text": [
      "Trial 131 finished with value: 0.40548444082735075 and parameters: {'iterations': 11, 'depth': 12, 'learning_rate': 0.4735777015181528, 'l2_leaf_reg': 0.3617460789928769}. Best is trial 104 with value: 0.41720134216839416.\n"
     ]
    },
    {
     "name": "stderr",
     "output_type": "stream",
     "text": [
      "\u001b[32m[I 2022-07-14 01:31:21,135]\u001b[0m Trial 132 finished with value: 0.41455509895934617 and parameters: {'iterations': 12, 'depth': 12, 'learning_rate': 0.7589596504833696, 'l2_leaf_reg': 0.5180179745928455}. Best is trial 104 with value: 0.41720134216839416.\u001b[0m\n"
     ]
    },
    {
     "name": "stdout",
     "output_type": "stream",
     "text": [
      "Trial 132 finished with value: 0.41455509895934617 and parameters: {'iterations': 12, 'depth': 12, 'learning_rate': 0.7589596504833696, 'l2_leaf_reg': 0.5180179745928455}. Best is trial 104 with value: 0.41720134216839416.\n"
     ]
    },
    {
     "name": "stderr",
     "output_type": "stream",
     "text": [
      "\u001b[32m[I 2022-07-14 01:32:54,731]\u001b[0m Trial 133 finished with value: 0.4175623644523612 and parameters: {'iterations': 12, 'depth': 12, 'learning_rate': 0.7939504990699797, 'l2_leaf_reg': 0.47929973968272116}. Best is trial 133 with value: 0.4175623644523612.\u001b[0m\n"
     ]
    },
    {
     "name": "stdout",
     "output_type": "stream",
     "text": [
      "Trial 133 finished with value: 0.4175623644523612 and parameters: {'iterations': 12, 'depth': 12, 'learning_rate': 0.7939504990699797, 'l2_leaf_reg': 0.47929973968272116}. Best is trial 133 with value: 0.4175623644523612.\n"
     ]
    },
    {
     "name": "stderr",
     "output_type": "stream",
     "text": [
      "\u001b[32m[I 2022-07-14 01:34:28,346]\u001b[0m Trial 134 finished with value: 0.4172820266407967 and parameters: {'iterations': 12, 'depth': 12, 'learning_rate': 0.7883172330382796, 'l2_leaf_reg': 0.3174878075543364}. Best is trial 133 with value: 0.4175623644523612.\u001b[0m\n"
     ]
    },
    {
     "name": "stdout",
     "output_type": "stream",
     "text": [
      "Trial 134 finished with value: 0.4172820266407967 and parameters: {'iterations': 12, 'depth': 12, 'learning_rate': 0.7883172330382796, 'l2_leaf_reg': 0.3174878075543364}. Best is trial 133 with value: 0.4175623644523612.\n"
     ]
    },
    {
     "name": "stderr",
     "output_type": "stream",
     "text": [
      "\u001b[32m[I 2022-07-14 01:36:03,950]\u001b[0m Trial 135 finished with value: 0.41294102815174416 and parameters: {'iterations': 12, 'depth': 12, 'learning_rate': 0.5885183977050724, 'l2_leaf_reg': 0.4358566702960598}. Best is trial 133 with value: 0.4175623644523612.\u001b[0m\n"
     ]
    },
    {
     "name": "stdout",
     "output_type": "stream",
     "text": [
      "Trial 135 finished with value: 0.41294102815174416 and parameters: {'iterations': 12, 'depth': 12, 'learning_rate': 0.5885183977050724, 'l2_leaf_reg': 0.4358566702960598}. Best is trial 133 with value: 0.4175623644523612.\n"
     ]
    },
    {
     "name": "stderr",
     "output_type": "stream",
     "text": [
      "\u001b[32m[I 2022-07-14 01:36:32,215]\u001b[0m Trial 136 finished with value: 0.3441327357065783 and parameters: {'iterations': 11, 'depth': 8, 'learning_rate': 0.7883023897361011, 'l2_leaf_reg': 0.34524163765667054}. Best is trial 133 with value: 0.4175623644523612.\u001b[0m\n"
     ]
    },
    {
     "name": "stdout",
     "output_type": "stream",
     "text": [
      "Trial 136 finished with value: 0.3441327357065783 and parameters: {'iterations': 11, 'depth': 8, 'learning_rate': 0.7883023897361011, 'l2_leaf_reg': 0.34524163765667054}. Best is trial 133 with value: 0.4175623644523612.\n"
     ]
    },
    {
     "name": "stderr",
     "output_type": "stream",
     "text": [
      "\u001b[32m[I 2022-07-14 01:38:02,099]\u001b[0m Trial 137 finished with value: 0.39980545527760175 and parameters: {'iterations': 11, 'depth': 12, 'learning_rate': 0.3727058471055472, 'l2_leaf_reg': 0.30087818811995576}. Best is trial 133 with value: 0.4175623644523612.\u001b[0m\n"
     ]
    },
    {
     "name": "stdout",
     "output_type": "stream",
     "text": [
      "Trial 137 finished with value: 0.39980545527760175 and parameters: {'iterations': 11, 'depth': 12, 'learning_rate': 0.3727058471055472, 'l2_leaf_reg': 0.30087818811995576}. Best is trial 133 with value: 0.4175623644523612.\n"
     ]
    },
    {
     "name": "stderr",
     "output_type": "stream",
     "text": [
      "\u001b[32m[I 2022-07-14 01:39:05,368]\u001b[0m Trial 138 finished with value: 0.40063161165685807 and parameters: {'iterations': 12, 'depth': 11, 'learning_rate': 0.6787400806831849, 'l2_leaf_reg': 0.6045221463944505}. Best is trial 133 with value: 0.4175623644523612.\u001b[0m\n"
     ]
    },
    {
     "name": "stdout",
     "output_type": "stream",
     "text": [
      "Trial 138 finished with value: 0.40063161165685807 and parameters: {'iterations': 12, 'depth': 11, 'learning_rate': 0.6787400806831849, 'l2_leaf_reg': 0.6045221463944505}. Best is trial 133 with value: 0.4175623644523612.\n"
     ]
    },
    {
     "name": "stderr",
     "output_type": "stream",
     "text": [
      "\u001b[32m[I 2022-07-14 01:40:39,915]\u001b[0m Trial 139 finished with value: 0.40843861047134133 and parameters: {'iterations': 12, 'depth': 12, 'learning_rate': 0.4783646950059352, 'l2_leaf_reg': 0.495659743344834}. Best is trial 133 with value: 0.4175623644523612.\u001b[0m\n"
     ]
    },
    {
     "name": "stdout",
     "output_type": "stream",
     "text": [
      "Trial 139 finished with value: 0.40843861047134133 and parameters: {'iterations': 12, 'depth': 12, 'learning_rate': 0.4783646950059352, 'l2_leaf_reg': 0.495659743344834}. Best is trial 133 with value: 0.4175623644523612.\n"
     ]
    },
    {
     "name": "stderr",
     "output_type": "stream",
     "text": [
      "\u001b[32m[I 2022-07-14 01:42:05,746]\u001b[0m Trial 140 finished with value: 0.4127031614579998 and parameters: {'iterations': 11, 'depth': 12, 'learning_rate': 0.8452033773243489, 'l2_leaf_reg': 0.4049142913858039}. Best is trial 133 with value: 0.4175623644523612.\u001b[0m\n"
     ]
    },
    {
     "name": "stdout",
     "output_type": "stream",
     "text": [
      "Trial 140 finished with value: 0.4127031614579998 and parameters: {'iterations': 11, 'depth': 12, 'learning_rate': 0.8452033773243489, 'l2_leaf_reg': 0.4049142913858039}. Best is trial 133 with value: 0.4175623644523612.\n"
     ]
    },
    {
     "name": "stderr",
     "output_type": "stream",
     "text": [
      "\u001b[32m[I 2022-07-14 01:43:07,449]\u001b[0m Trial 141 finished with value: 0.3308124003320705 and parameters: {'iterations': 11, 'depth': 11, 'learning_rate': 0.019087556731588854, 'l2_leaf_reg': 0.46420160783264713}. Best is trial 133 with value: 0.4175623644523612.\u001b[0m\n"
     ]
    },
    {
     "name": "stdout",
     "output_type": "stream",
     "text": [
      "Trial 141 finished with value: 0.3308124003320705 and parameters: {'iterations': 11, 'depth': 11, 'learning_rate': 0.019087556731588854, 'l2_leaf_reg': 0.46420160783264713}. Best is trial 133 with value: 0.4175623644523612.\n"
     ]
    },
    {
     "name": "stderr",
     "output_type": "stream",
     "text": [
      "\u001b[32m[I 2022-07-14 01:44:42,812]\u001b[0m Trial 142 finished with value: 0.41691249663345326 and parameters: {'iterations': 12, 'depth': 12, 'learning_rate': 0.9983530263640609, 'l2_leaf_reg': 0.7381163323185167}. Best is trial 133 with value: 0.4175623644523612.\u001b[0m\n"
     ]
    },
    {
     "name": "stdout",
     "output_type": "stream",
     "text": [
      "Trial 142 finished with value: 0.41691249663345326 and parameters: {'iterations': 12, 'depth': 12, 'learning_rate': 0.9983530263640609, 'l2_leaf_reg': 0.7381163323185167}. Best is trial 133 with value: 0.4175623644523612.\n"
     ]
    },
    {
     "name": "stderr",
     "output_type": "stream",
     "text": [
      "\u001b[32m[I 2022-07-14 01:46:18,592]\u001b[0m Trial 143 finished with value: 0.4121509807936401 and parameters: {'iterations': 12, 'depth': 12, 'learning_rate': 0.631858485834515, 'l2_leaf_reg': 0.7314137691799738}. Best is trial 133 with value: 0.4175623644523612.\u001b[0m\n"
     ]
    },
    {
     "name": "stdout",
     "output_type": "stream",
     "text": [
      "Trial 143 finished with value: 0.4121509807936401 and parameters: {'iterations': 12, 'depth': 12, 'learning_rate': 0.631858485834515, 'l2_leaf_reg': 0.7314137691799738}. Best is trial 133 with value: 0.4175623644523612.\n"
     ]
    },
    {
     "name": "stderr",
     "output_type": "stream",
     "text": [
      "\u001b[32m[I 2022-07-14 01:47:51,695]\u001b[0m Trial 144 finished with value: 0.4148333187256764 and parameters: {'iterations': 12, 'depth': 12, 'learning_rate': 0.7813762624376683, 'l2_leaf_reg': 0.5664988882357379}. Best is trial 133 with value: 0.4175623644523612.\u001b[0m\n"
     ]
    },
    {
     "name": "stdout",
     "output_type": "stream",
     "text": [
      "Trial 144 finished with value: 0.4148333187256764 and parameters: {'iterations': 12, 'depth': 12, 'learning_rate': 0.7813762624376683, 'l2_leaf_reg': 0.5664988882357379}. Best is trial 133 with value: 0.4175623644523612.\n"
     ]
    },
    {
     "name": "stderr",
     "output_type": "stream",
     "text": [
      "\u001b[32m[I 2022-07-14 01:49:28,912]\u001b[0m Trial 145 finished with value: 0.4107981288518552 and parameters: {'iterations': 12, 'depth': 12, 'learning_rate': 0.538568317512741, 'l2_leaf_reg': 0.6435890374249196}. Best is trial 133 with value: 0.4175623644523612.\u001b[0m\n"
     ]
    },
    {
     "name": "stdout",
     "output_type": "stream",
     "text": [
      "Trial 145 finished with value: 0.4107981288518552 and parameters: {'iterations': 12, 'depth': 12, 'learning_rate': 0.538568317512741, 'l2_leaf_reg': 0.6435890374249196}. Best is trial 133 with value: 0.4175623644523612.\n"
     ]
    },
    {
     "name": "stderr",
     "output_type": "stream",
     "text": [
      "\u001b[32m[I 2022-07-14 01:51:04,711]\u001b[0m Trial 146 finished with value: 0.4167850619906129 and parameters: {'iterations': 12, 'depth': 12, 'learning_rate': 0.8208724806143094, 'l2_leaf_reg': 0.3232586532415045}. Best is trial 133 with value: 0.4175623644523612.\u001b[0m\n"
     ]
    },
    {
     "name": "stdout",
     "output_type": "stream",
     "text": [
      "Trial 146 finished with value: 0.4167850619906129 and parameters: {'iterations': 12, 'depth': 12, 'learning_rate': 0.8208724806143094, 'l2_leaf_reg': 0.3232586532415045}. Best is trial 133 with value: 0.4175623644523612.\n"
     ]
    },
    {
     "name": "stderr",
     "output_type": "stream",
     "text": [
      "\u001b[32m[I 2022-07-14 01:52:38,539]\u001b[0m Trial 147 finished with value: 0.417789606550215 and parameters: {'iterations': 12, 'depth': 12, 'learning_rate': 0.811194962817407, 'l2_leaf_reg': 0.34093031452541317}. Best is trial 147 with value: 0.417789606550215.\u001b[0m\n"
     ]
    },
    {
     "name": "stdout",
     "output_type": "stream",
     "text": [
      "Trial 147 finished with value: 0.417789606550215 and parameters: {'iterations': 12, 'depth': 12, 'learning_rate': 0.811194962817407, 'l2_leaf_reg': 0.34093031452541317}. Best is trial 147 with value: 0.417789606550215.\n"
     ]
    },
    {
     "name": "stderr",
     "output_type": "stream",
     "text": [
      "\u001b[32m[I 2022-07-14 01:53:43,939]\u001b[0m Trial 148 finished with value: 0.3859117002180447 and parameters: {'iterations': 12, 'depth': 11, 'learning_rate': 0.34484210096018675, 'l2_leaf_reg': 0.3355302411272945}. Best is trial 147 with value: 0.417789606550215.\u001b[0m\n"
     ]
    },
    {
     "name": "stdout",
     "output_type": "stream",
     "text": [
      "Trial 148 finished with value: 0.3859117002180447 and parameters: {'iterations': 12, 'depth': 11, 'learning_rate': 0.34484210096018675, 'l2_leaf_reg': 0.3355302411272945}. Best is trial 147 with value: 0.417789606550215.\n"
     ]
    },
    {
     "name": "stderr",
     "output_type": "stream",
     "text": [
      "\u001b[32m[I 2022-07-14 01:55:18,694]\u001b[0m Trial 149 finished with value: 0.41270953413170075 and parameters: {'iterations': 12, 'depth': 12, 'learning_rate': 0.6727792638983691, 'l2_leaf_reg': 0.3106226389656684}. Best is trial 147 with value: 0.417789606550215.\u001b[0m\n"
     ]
    },
    {
     "name": "stdout",
     "output_type": "stream",
     "text": [
      "Trial 149 finished with value: 0.41270953413170075 and parameters: {'iterations': 12, 'depth': 12, 'learning_rate': 0.6727792638983691, 'l2_leaf_reg': 0.3106226389656684}. Best is trial 147 with value: 0.417789606550215.\n"
     ]
    },
    {
     "name": "stderr",
     "output_type": "stream",
     "text": [
      "\u001b[32m[I 2022-07-14 01:56:53,562]\u001b[0m Trial 150 finished with value: 0.4065081055054204 and parameters: {'iterations': 12, 'depth': 12, 'learning_rate': 0.45671959019034053, 'l2_leaf_reg': 0.26009821427859264}. Best is trial 147 with value: 0.417789606550215.\u001b[0m\n"
     ]
    },
    {
     "name": "stdout",
     "output_type": "stream",
     "text": [
      "Trial 150 finished with value: 0.4065081055054204 and parameters: {'iterations': 12, 'depth': 12, 'learning_rate': 0.45671959019034053, 'l2_leaf_reg': 0.26009821427859264}. Best is trial 147 with value: 0.417789606550215.\n"
     ]
    },
    {
     "name": "stderr",
     "output_type": "stream",
     "text": [
      "\u001b[32m[I 2022-07-14 01:58:29,710]\u001b[0m Trial 151 finished with value: 0.41538762553154934 and parameters: {'iterations': 12, 'depth': 12, 'learning_rate': 0.7820262407521793, 'l2_leaf_reg': 0.41132041718505247}. Best is trial 147 with value: 0.417789606550215.\u001b[0m\n"
     ]
    },
    {
     "name": "stdout",
     "output_type": "stream",
     "text": [
      "Trial 151 finished with value: 0.41538762553154934 and parameters: {'iterations': 12, 'depth': 12, 'learning_rate': 0.7820262407521793, 'l2_leaf_reg': 0.41132041718505247}. Best is trial 147 with value: 0.417789606550215.\n"
     ]
    },
    {
     "name": "stderr",
     "output_type": "stream",
     "text": [
      "\u001b[32m[I 2022-07-14 02:00:03,457]\u001b[0m Trial 152 finished with value: 0.4155171824369058 and parameters: {'iterations': 12, 'depth': 12, 'learning_rate': 0.9912458364698123, 'l2_leaf_reg': 0.37028604920500946}. Best is trial 147 with value: 0.417789606550215.\u001b[0m\n"
     ]
    },
    {
     "name": "stdout",
     "output_type": "stream",
     "text": [
      "Trial 152 finished with value: 0.4155171824369058 and parameters: {'iterations': 12, 'depth': 12, 'learning_rate': 0.9912458364698123, 'l2_leaf_reg': 0.37028604920500946}. Best is trial 147 with value: 0.417789606550215.\n"
     ]
    },
    {
     "name": "stderr",
     "output_type": "stream",
     "text": [
      "\u001b[32m[I 2022-07-14 02:01:40,282]\u001b[0m Trial 153 finished with value: 0.41406451417704987 and parameters: {'iterations': 12, 'depth': 12, 'learning_rate': 0.6759625589631058, 'l2_leaf_reg': 0.3695638875554969}. Best is trial 147 with value: 0.417789606550215.\u001b[0m\n"
     ]
    },
    {
     "name": "stdout",
     "output_type": "stream",
     "text": [
      "Trial 153 finished with value: 0.41406451417704987 and parameters: {'iterations': 12, 'depth': 12, 'learning_rate': 0.6759625589631058, 'l2_leaf_reg': 0.3695638875554969}. Best is trial 147 with value: 0.417789606550215.\n"
     ]
    },
    {
     "name": "stderr",
     "output_type": "stream",
     "text": [
      "\u001b[32m[I 2022-07-14 02:03:13,161]\u001b[0m Trial 154 finished with value: 0.41204693093351163 and parameters: {'iterations': 12, 'depth': 12, 'learning_rate': 0.9983532751840126, 'l2_leaf_reg': 0.28112222748777}. Best is trial 147 with value: 0.417789606550215.\u001b[0m\n"
     ]
    },
    {
     "name": "stdout",
     "output_type": "stream",
     "text": [
      "Trial 154 finished with value: 0.41204693093351163 and parameters: {'iterations': 12, 'depth': 12, 'learning_rate': 0.9983532751840126, 'l2_leaf_reg': 0.28112222748777}. Best is trial 147 with value: 0.417789606550215.\n"
     ]
    },
    {
     "name": "stderr",
     "output_type": "stream",
     "text": [
      "\u001b[32m[I 2022-07-14 02:04:48,601]\u001b[0m Trial 155 finished with value: 0.4133891424702372 and parameters: {'iterations': 12, 'depth': 12, 'learning_rate': 0.5440285687593988, 'l2_leaf_reg': 0.3380959554021829}. Best is trial 147 with value: 0.417789606550215.\u001b[0m\n"
     ]
    },
    {
     "name": "stdout",
     "output_type": "stream",
     "text": [
      "Trial 155 finished with value: 0.4133891424702372 and parameters: {'iterations': 12, 'depth': 12, 'learning_rate': 0.5440285687593988, 'l2_leaf_reg': 0.3380959554021829}. Best is trial 147 with value: 0.417789606550215.\n"
     ]
    },
    {
     "name": "stderr",
     "output_type": "stream",
     "text": [
      "\u001b[32m[I 2022-07-14 02:06:22,538]\u001b[0m Trial 156 finished with value: 0.4150308313996378 and parameters: {'iterations': 12, 'depth': 12, 'learning_rate': 0.7853603276486342, 'l2_leaf_reg': 0.4376037189012838}. Best is trial 147 with value: 0.417789606550215.\u001b[0m\n"
     ]
    },
    {
     "name": "stdout",
     "output_type": "stream",
     "text": [
      "Trial 156 finished with value: 0.4150308313996378 and parameters: {'iterations': 12, 'depth': 12, 'learning_rate': 0.7853603276486342, 'l2_leaf_reg': 0.4376037189012838}. Best is trial 147 with value: 0.417789606550215.\n"
     ]
    },
    {
     "name": "stderr",
     "output_type": "stream",
     "text": [
      "\u001b[32m[I 2022-07-14 02:07:25,205]\u001b[0m Trial 157 finished with value: 0.4018315404936774 and parameters: {'iterations': 12, 'depth': 11, 'learning_rate': 0.7787661113633358, 'l2_leaf_reg': 0.5029982015184864}. Best is trial 147 with value: 0.417789606550215.\u001b[0m\n"
     ]
    },
    {
     "name": "stdout",
     "output_type": "stream",
     "text": [
      "Trial 157 finished with value: 0.4018315404936774 and parameters: {'iterations': 12, 'depth': 11, 'learning_rate': 0.7787661113633358, 'l2_leaf_reg': 0.5029982015184864}. Best is trial 147 with value: 0.417789606550215.\n"
     ]
    },
    {
     "name": "stderr",
     "output_type": "stream",
     "text": [
      "\u001b[32m[I 2022-07-14 02:09:01,451]\u001b[0m Trial 158 finished with value: 0.4138202733437044 and parameters: {'iterations': 12, 'depth': 12, 'learning_rate': 0.5821311316298046, 'l2_leaf_reg': 0.39275724042846355}. Best is trial 147 with value: 0.417789606550215.\u001b[0m\n"
     ]
    },
    {
     "name": "stdout",
     "output_type": "stream",
     "text": [
      "Trial 158 finished with value: 0.4138202733437044 and parameters: {'iterations': 12, 'depth': 12, 'learning_rate': 0.5821311316298046, 'l2_leaf_reg': 0.39275724042846355}. Best is trial 147 with value: 0.417789606550215.\n"
     ]
    },
    {
     "name": "stderr",
     "output_type": "stream",
     "text": [
      "\u001b[32m[I 2022-07-14 02:10:34,840]\u001b[0m Trial 159 finished with value: 0.41223169041186764 and parameters: {'iterations': 12, 'depth': 12, 'learning_rate': 0.9995171109305047, 'l2_leaf_reg': 0.4709666505245389}. Best is trial 147 with value: 0.417789606550215.\u001b[0m\n"
     ]
    },
    {
     "name": "stdout",
     "output_type": "stream",
     "text": [
      "Trial 159 finished with value: 0.41223169041186764 and parameters: {'iterations': 12, 'depth': 12, 'learning_rate': 0.9995171109305047, 'l2_leaf_reg': 0.4709666505245389}. Best is trial 147 with value: 0.417789606550215.\n"
     ]
    },
    {
     "name": "stderr",
     "output_type": "stream",
     "text": [
      "\u001b[32m[I 2022-07-14 02:12:09,834]\u001b[0m Trial 160 finished with value: 0.4065633248347857 and parameters: {'iterations': 12, 'depth': 12, 'learning_rate': 0.421749416159788, 'l2_leaf_reg': 0.3631738233212368}. Best is trial 147 with value: 0.417789606550215.\u001b[0m\n"
     ]
    },
    {
     "name": "stdout",
     "output_type": "stream",
     "text": [
      "Trial 160 finished with value: 0.4065633248347857 and parameters: {'iterations': 12, 'depth': 12, 'learning_rate': 0.421749416159788, 'l2_leaf_reg': 0.3631738233212368}. Best is trial 147 with value: 0.417789606550215.\n"
     ]
    },
    {
     "name": "stderr",
     "output_type": "stream",
     "text": [
      "\u001b[32m[I 2022-07-14 02:12:25,309]\u001b[0m Trial 161 finished with value: 0.23789499231442784 and parameters: {'iterations': 12, 'depth': 6, 'learning_rate': 0.0011032547601455595, 'l2_leaf_reg': 0.24790417938292258}. Best is trial 147 with value: 0.417789606550215.\u001b[0m\n"
     ]
    },
    {
     "name": "stdout",
     "output_type": "stream",
     "text": [
      "Trial 161 finished with value: 0.23789499231442784 and parameters: {'iterations': 12, 'depth': 6, 'learning_rate': 0.0011032547601455595, 'l2_leaf_reg': 0.24790417938292258}. Best is trial 147 with value: 0.417789606550215.\n"
     ]
    },
    {
     "name": "stderr",
     "output_type": "stream",
     "text": [
      "\u001b[32m[I 2022-07-14 02:13:51,726]\u001b[0m Trial 162 finished with value: 0.4143214822031881 and parameters: {'iterations': 11, 'depth': 12, 'learning_rate': 0.8596302324858627, 'l2_leaf_reg': 0.6178257016732187}. Best is trial 147 with value: 0.417789606550215.\u001b[0m\n"
     ]
    },
    {
     "name": "stdout",
     "output_type": "stream",
     "text": [
      "Trial 162 finished with value: 0.4143214822031881 and parameters: {'iterations': 11, 'depth': 12, 'learning_rate': 0.8596302324858627, 'l2_leaf_reg': 0.6178257016732187}. Best is trial 147 with value: 0.417789606550215.\n"
     ]
    },
    {
     "name": "stderr",
     "output_type": "stream",
     "text": [
      "\u001b[32m[I 2022-07-14 02:14:04,450]\u001b[0m Trial 163 finished with value: 0.2716099660798248 and parameters: {'iterations': 12, 'depth': 4, 'learning_rate': 0.6414136919484381, 'l2_leaf_reg': 0.32093339834954676}. Best is trial 147 with value: 0.417789606550215.\u001b[0m\n"
     ]
    },
    {
     "name": "stdout",
     "output_type": "stream",
     "text": [
      "Trial 163 finished with value: 0.2716099660798248 and parameters: {'iterations': 12, 'depth': 4, 'learning_rate': 0.6414136919484381, 'l2_leaf_reg': 0.32093339834954676}. Best is trial 147 with value: 0.417789606550215.\n"
     ]
    },
    {
     "name": "stderr",
     "output_type": "stream",
     "text": [
      "\u001b[32m[I 2022-07-14 02:15:40,679]\u001b[0m Trial 164 finished with value: 0.41565522133345373 and parameters: {'iterations': 12, 'depth': 12, 'learning_rate': 0.977454581660569, 'l2_leaf_reg': 0.5371818816804821}. Best is trial 147 with value: 0.417789606550215.\u001b[0m\n"
     ]
    },
    {
     "name": "stdout",
     "output_type": "stream",
     "text": [
      "Trial 164 finished with value: 0.41565522133345373 and parameters: {'iterations': 12, 'depth': 12, 'learning_rate': 0.977454581660569, 'l2_leaf_reg': 0.5371818816804821}. Best is trial 147 with value: 0.417789606550215.\n"
     ]
    },
    {
     "name": "stderr",
     "output_type": "stream",
     "text": [
      "\u001b[32m[I 2022-07-14 02:17:13,786]\u001b[0m Trial 165 finished with value: 0.4122677954863657 and parameters: {'iterations': 12, 'depth': 12, 'learning_rate': 0.9979190513245064, 'l2_leaf_reg': 0.5404930267326498}. Best is trial 147 with value: 0.417789606550215.\u001b[0m\n"
     ]
    },
    {
     "name": "stdout",
     "output_type": "stream",
     "text": [
      "Trial 165 finished with value: 0.4122677954863657 and parameters: {'iterations': 12, 'depth': 12, 'learning_rate': 0.9979190513245064, 'l2_leaf_reg': 0.5404930267326498}. Best is trial 147 with value: 0.417789606550215.\n"
     ]
    },
    {
     "name": "stderr",
     "output_type": "stream",
     "text": [
      "\u001b[32m[I 2022-07-14 02:18:47,548]\u001b[0m Trial 166 finished with value: 0.41514763621445194 and parameters: {'iterations': 12, 'depth': 12, 'learning_rate': 0.7790402792011055, 'l2_leaf_reg': 0.4358969891159091}. Best is trial 147 with value: 0.417789606550215.\u001b[0m\n"
     ]
    },
    {
     "name": "stdout",
     "output_type": "stream",
     "text": [
      "Trial 166 finished with value: 0.41514763621445194 and parameters: {'iterations': 12, 'depth': 12, 'learning_rate': 0.7790402792011055, 'l2_leaf_reg': 0.4358969891159091}. Best is trial 147 with value: 0.417789606550215.\n"
     ]
    },
    {
     "name": "stderr",
     "output_type": "stream",
     "text": [
      "\u001b[32m[I 2022-07-14 02:19:51,358]\u001b[0m Trial 167 finished with value: 0.39527756149373927 and parameters: {'iterations': 12, 'depth': 11, 'learning_rate': 0.5258065877788254, 'l2_leaf_reg': 0.5023246943584687}. Best is trial 147 with value: 0.417789606550215.\u001b[0m\n"
     ]
    },
    {
     "name": "stdout",
     "output_type": "stream",
     "text": [
      "Trial 167 finished with value: 0.39527756149373927 and parameters: {'iterations': 12, 'depth': 11, 'learning_rate': 0.5258065877788254, 'l2_leaf_reg': 0.5023246943584687}. Best is trial 147 with value: 0.417789606550215.\n"
     ]
    },
    {
     "name": "stderr",
     "output_type": "stream",
     "text": [
      "\u001b[32m[I 2022-07-14 02:21:26,445]\u001b[0m Trial 168 finished with value: 0.41328295223808836 and parameters: {'iterations': 12, 'depth': 12, 'learning_rate': 0.6660700222783423, 'l2_leaf_reg': 0.5562167070499371}. Best is trial 147 with value: 0.417789606550215.\u001b[0m\n"
     ]
    },
    {
     "name": "stdout",
     "output_type": "stream",
     "text": [
      "Trial 168 finished with value: 0.41328295223808836 and parameters: {'iterations': 12, 'depth': 12, 'learning_rate': 0.6660700222783423, 'l2_leaf_reg': 0.5562167070499371}. Best is trial 147 with value: 0.417789606550215.\n"
     ]
    },
    {
     "name": "stderr",
     "output_type": "stream",
     "text": [
      "\u001b[32m[I 2022-07-14 02:22:59,117]\u001b[0m Trial 169 finished with value: 0.4160714798159134 and parameters: {'iterations': 12, 'depth': 12, 'learning_rate': 0.7398776194380513, 'l2_leaf_reg': 0.47873507959704265}. Best is trial 147 with value: 0.417789606550215.\u001b[0m\n"
     ]
    },
    {
     "name": "stdout",
     "output_type": "stream",
     "text": [
      "Trial 169 finished with value: 0.4160714798159134 and parameters: {'iterations': 12, 'depth': 12, 'learning_rate': 0.7398776194380513, 'l2_leaf_reg': 0.47873507959704265}. Best is trial 147 with value: 0.417789606550215.\n"
     ]
    },
    {
     "name": "stderr",
     "output_type": "stream",
     "text": [
      "\u001b[32m[I 2022-07-14 02:24:03,325]\u001b[0m Trial 170 finished with value: 0.3923361433990356 and parameters: {'iterations': 12, 'depth': 11, 'learning_rate': 0.4672946676360469, 'l2_leaf_reg': 0.47676318534880857}. Best is trial 147 with value: 0.417789606550215.\u001b[0m\n"
     ]
    },
    {
     "name": "stdout",
     "output_type": "stream",
     "text": [
      "Trial 170 finished with value: 0.3923361433990356 and parameters: {'iterations': 12, 'depth': 11, 'learning_rate': 0.4672946676360469, 'l2_leaf_reg': 0.47676318534880857}. Best is trial 147 with value: 0.417789606550215.\n"
     ]
    },
    {
     "name": "stderr",
     "output_type": "stream",
     "text": [
      "\u001b[32m[I 2022-07-14 02:25:30,546]\u001b[0m Trial 171 finished with value: 0.40823897925599484 and parameters: {'iterations': 11, 'depth': 12, 'learning_rate': 0.62768977932185, 'l2_leaf_reg': 0.6094660777546127}. Best is trial 147 with value: 0.417789606550215.\u001b[0m\n"
     ]
    },
    {
     "name": "stdout",
     "output_type": "stream",
     "text": [
      "Trial 171 finished with value: 0.40823897925599484 and parameters: {'iterations': 11, 'depth': 12, 'learning_rate': 0.62768977932185, 'l2_leaf_reg': 0.6094660777546127}. Best is trial 147 with value: 0.417789606550215.\n"
     ]
    },
    {
     "name": "stderr",
     "output_type": "stream",
     "text": [
      "\u001b[32m[I 2022-07-14 02:27:04,675]\u001b[0m Trial 172 finished with value: 0.4179850025546331 and parameters: {'iterations': 12, 'depth': 12, 'learning_rate': 0.8057141986401614, 'l2_leaf_reg': 0.3873960683061321}. Best is trial 172 with value: 0.4179850025546331.\u001b[0m\n"
     ]
    },
    {
     "name": "stdout",
     "output_type": "stream",
     "text": [
      "Trial 172 finished with value: 0.4179850025546331 and parameters: {'iterations': 12, 'depth': 12, 'learning_rate': 0.8057141986401614, 'l2_leaf_reg': 0.3873960683061321}. Best is trial 172 with value: 0.4179850025546331.\n"
     ]
    },
    {
     "name": "stderr",
     "output_type": "stream",
     "text": [
      "\u001b[32m[I 2022-07-14 02:28:38,479]\u001b[0m Trial 173 finished with value: 0.41591431809462087 and parameters: {'iterations': 12, 'depth': 12, 'learning_rate': 0.7616730862262939, 'l2_leaf_reg': 0.4102803631568794}. Best is trial 172 with value: 0.4179850025546331.\u001b[0m\n"
     ]
    },
    {
     "name": "stdout",
     "output_type": "stream",
     "text": [
      "Trial 173 finished with value: 0.41591431809462087 and parameters: {'iterations': 12, 'depth': 12, 'learning_rate': 0.7616730862262939, 'l2_leaf_reg': 0.4102803631568794}. Best is trial 172 with value: 0.4179850025546331.\n"
     ]
    },
    {
     "name": "stderr",
     "output_type": "stream",
     "text": [
      "/home/ygobrito/anaconda3/lib/python3.8/site-packages/joblib/externals/loky/process_executor.py:702: UserWarning: A worker stopped while some jobs were given to the executor. This can be caused by a too short worker timeout or by a memory leak.\n",
      "  warnings.warn(\n",
      "\u001b[32m[I 2022-07-14 02:30:13,560]\u001b[0m Trial 174 finished with value: 0.4157465430986969 and parameters: {'iterations': 12, 'depth': 12, 'learning_rate': 0.7853636370063818, 'l2_leaf_reg': 0.4307899448822024}. Best is trial 172 with value: 0.4179850025546331.\u001b[0m\n"
     ]
    },
    {
     "name": "stdout",
     "output_type": "stream",
     "text": [
      "Trial 174 finished with value: 0.4157465430986969 and parameters: {'iterations': 12, 'depth': 12, 'learning_rate': 0.7853636370063818, 'l2_leaf_reg': 0.4307899448822024}. Best is trial 172 with value: 0.4179850025546331.\n"
     ]
    },
    {
     "name": "stderr",
     "output_type": "stream",
     "text": [
      "\u001b[32m[I 2022-07-14 02:31:47,048]\u001b[0m Trial 175 finished with value: 0.4146039428410764 and parameters: {'iterations': 12, 'depth': 12, 'learning_rate': 0.7424471035065542, 'l2_leaf_reg': 0.41904934913719827}. Best is trial 172 with value: 0.4179850025546331.\u001b[0m\n"
     ]
    },
    {
     "name": "stdout",
     "output_type": "stream",
     "text": [
      "Trial 175 finished with value: 0.4146039428410764 and parameters: {'iterations': 12, 'depth': 12, 'learning_rate': 0.7424471035065542, 'l2_leaf_reg': 0.41904934913719827}. Best is trial 172 with value: 0.4179850025546331.\n"
     ]
    },
    {
     "name": "stderr",
     "output_type": "stream",
     "text": [
      "\u001b[32m[I 2022-07-14 02:33:22,192]\u001b[0m Trial 176 finished with value: 0.411014759727338 and parameters: {'iterations': 12, 'depth': 12, 'learning_rate': 0.5620207807145352, 'l2_leaf_reg': 0.44810629060490664}. Best is trial 172 with value: 0.4179850025546331.\u001b[0m\n"
     ]
    },
    {
     "name": "stdout",
     "output_type": "stream",
     "text": [
      "Trial 176 finished with value: 0.411014759727338 and parameters: {'iterations': 12, 'depth': 12, 'learning_rate': 0.5620207807145352, 'l2_leaf_reg': 0.44810629060490664}. Best is trial 172 with value: 0.4179850025546331.\n"
     ]
    },
    {
     "name": "stderr",
     "output_type": "stream",
     "text": [
      "\u001b[32m[I 2022-07-14 02:35:02,923]\u001b[0m Trial 177 finished with value: 0.3455960242322813 and parameters: {'iterations': 12, 'depth': 12, 'learning_rate': 0.00020377272947572441, 'l2_leaf_reg': 0.40932291126410114}. Best is trial 172 with value: 0.4179850025546331.\u001b[0m\n"
     ]
    },
    {
     "name": "stdout",
     "output_type": "stream",
     "text": [
      "Trial 177 finished with value: 0.3455960242322813 and parameters: {'iterations': 12, 'depth': 12, 'learning_rate': 0.00020377272947572441, 'l2_leaf_reg': 0.40932291126410114}. Best is trial 172 with value: 0.4179850025546331.\n"
     ]
    },
    {
     "name": "stderr",
     "output_type": "stream",
     "text": [
      "\u001b[32m[I 2022-07-14 02:36:36,603]\u001b[0m Trial 178 finished with value: 0.41586547324314116 and parameters: {'iterations': 12, 'depth': 12, 'learning_rate': 0.7360101188665825, 'l2_leaf_reg': 0.3843348589606817}. Best is trial 172 with value: 0.4179850025546331.\u001b[0m\n"
     ]
    },
    {
     "name": "stdout",
     "output_type": "stream",
     "text": [
      "Trial 178 finished with value: 0.41586547324314116 and parameters: {'iterations': 12, 'depth': 12, 'learning_rate': 0.7360101188665825, 'l2_leaf_reg': 0.3843348589606817}. Best is trial 172 with value: 0.4179850025546331.\n"
     ]
    },
    {
     "name": "stderr",
     "output_type": "stream",
     "text": [
      "\u001b[32m[I 2022-07-14 02:38:11,624]\u001b[0m Trial 179 finished with value: 0.40506180667173286 and parameters: {'iterations': 12, 'depth': 12, 'learning_rate': 0.37925841396313487, 'l2_leaf_reg': 0.31733452783875327}. Best is trial 172 with value: 0.4179850025546331.\u001b[0m\n"
     ]
    },
    {
     "name": "stdout",
     "output_type": "stream",
     "text": [
      "Trial 179 finished with value: 0.40506180667173286 and parameters: {'iterations': 12, 'depth': 12, 'learning_rate': 0.37925841396313487, 'l2_leaf_reg': 0.31733452783875327}. Best is trial 172 with value: 0.4179850025546331.\n"
     ]
    },
    {
     "name": "stderr",
     "output_type": "stream",
     "text": [
      "\u001b[32m[I 2022-07-14 02:39:46,369]\u001b[0m Trial 180 finished with value: 0.41471437922202375 and parameters: {'iterations': 12, 'depth': 12, 'learning_rate': 0.7405606362649312, 'l2_leaf_reg': 0.3581449511954778}. Best is trial 172 with value: 0.4179850025546331.\u001b[0m\n"
     ]
    },
    {
     "name": "stdout",
     "output_type": "stream",
     "text": [
      "Trial 180 finished with value: 0.41471437922202375 and parameters: {'iterations': 12, 'depth': 12, 'learning_rate': 0.7405606362649312, 'l2_leaf_reg': 0.3581449511954778}. Best is trial 172 with value: 0.4179850025546331.\n"
     ]
    },
    {
     "name": "stderr",
     "output_type": "stream",
     "text": [
      "\u001b[32m[I 2022-07-14 02:40:49,837]\u001b[0m Trial 181 finished with value: 0.396662266678042 and parameters: {'iterations': 12, 'depth': 11, 'learning_rate': 0.4976458032507306, 'l2_leaf_reg': 0.2791258927592946}. Best is trial 172 with value: 0.4179850025546331.\u001b[0m\n"
     ]
    },
    {
     "name": "stdout",
     "output_type": "stream",
     "text": [
      "Trial 181 finished with value: 0.396662266678042 and parameters: {'iterations': 12, 'depth': 11, 'learning_rate': 0.4976458032507306, 'l2_leaf_reg': 0.2791258927592946}. Best is trial 172 with value: 0.4179850025546331.\n"
     ]
    },
    {
     "name": "stderr",
     "output_type": "stream",
     "text": [
      "\u001b[32m[I 2022-07-14 02:42:25,736]\u001b[0m Trial 182 finished with value: 0.41638154547270856 and parameters: {'iterations': 12, 'depth': 12, 'learning_rate': 0.8253349619322171, 'l2_leaf_reg': 0.38953243814383026}. Best is trial 172 with value: 0.4179850025546331.\u001b[0m\n"
     ]
    },
    {
     "name": "stdout",
     "output_type": "stream",
     "text": [
      "Trial 182 finished with value: 0.41638154547270856 and parameters: {'iterations': 12, 'depth': 12, 'learning_rate': 0.8253349619322171, 'l2_leaf_reg': 0.38953243814383026}. Best is trial 172 with value: 0.4179850025546331.\n"
     ]
    },
    {
     "name": "stderr",
     "output_type": "stream",
     "text": [
      "\u001b[32m[I 2022-07-14 02:44:00,644]\u001b[0m Trial 183 finished with value: 0.41681480113455055 and parameters: {'iterations': 12, 'depth': 12, 'learning_rate': 0.7792139909899718, 'l2_leaf_reg': 0.387300908994494}. Best is trial 172 with value: 0.4179850025546331.\u001b[0m\n"
     ]
    },
    {
     "name": "stdout",
     "output_type": "stream",
     "text": [
      "Trial 183 finished with value: 0.41681480113455055 and parameters: {'iterations': 12, 'depth': 12, 'learning_rate': 0.7792139909899718, 'l2_leaf_reg': 0.387300908994494}. Best is trial 172 with value: 0.4179850025546331.\n"
     ]
    },
    {
     "name": "stderr",
     "output_type": "stream",
     "text": [
      "\u001b[32m[I 2022-07-14 02:45:34,563]\u001b[0m Trial 184 finished with value: 0.41316189378710905 and parameters: {'iterations': 12, 'depth': 12, 'learning_rate': 0.6502598108533628, 'l2_leaf_reg': 0.39803518415150774}. Best is trial 172 with value: 0.4179850025546331.\u001b[0m\n"
     ]
    },
    {
     "name": "stdout",
     "output_type": "stream",
     "text": [
      "Trial 184 finished with value: 0.41316189378710905 and parameters: {'iterations': 12, 'depth': 12, 'learning_rate': 0.6502598108533628, 'l2_leaf_reg': 0.39803518415150774}. Best is trial 172 with value: 0.4179850025546331.\n"
     ]
    },
    {
     "name": "stderr",
     "output_type": "stream",
     "text": [
      "\u001b[32m[I 2022-07-14 02:47:07,798]\u001b[0m Trial 185 finished with value: 0.4160120086996725 and parameters: {'iterations': 12, 'depth': 12, 'learning_rate': 0.8201101530141841, 'l2_leaf_reg': 0.3689990115379175}. Best is trial 172 with value: 0.4179850025546331.\u001b[0m\n"
     ]
    },
    {
     "name": "stdout",
     "output_type": "stream",
     "text": [
      "Trial 185 finished with value: 0.4160120086996725 and parameters: {'iterations': 12, 'depth': 12, 'learning_rate': 0.8201101530141841, 'l2_leaf_reg': 0.3689990115379175}. Best is trial 172 with value: 0.4179850025546331.\n"
     ]
    },
    {
     "name": "stderr",
     "output_type": "stream",
     "text": [
      "\u001b[32m[I 2022-07-14 02:48:43,000]\u001b[0m Trial 186 finished with value: 0.412669192448031 and parameters: {'iterations': 12, 'depth': 12, 'learning_rate': 0.5547821646686282, 'l2_leaf_reg': 0.3405827000200501}. Best is trial 172 with value: 0.4179850025546331.\u001b[0m\n"
     ]
    },
    {
     "name": "stdout",
     "output_type": "stream",
     "text": [
      "Trial 186 finished with value: 0.412669192448031 and parameters: {'iterations': 12, 'depth': 12, 'learning_rate': 0.5547821646686282, 'l2_leaf_reg': 0.3405827000200501}. Best is trial 172 with value: 0.4179850025546331.\n"
     ]
    },
    {
     "name": "stderr",
     "output_type": "stream",
     "text": [
      "\u001b[32m[I 2022-07-14 02:50:19,530]\u001b[0m Trial 187 finished with value: 0.3471357599671984 and parameters: {'iterations': 12, 'depth': 12, 'learning_rate': 0.008133630799664272, 'l2_leaf_reg': 0.4616895380494148}. Best is trial 172 with value: 0.4179850025546331.\u001b[0m\n"
     ]
    },
    {
     "name": "stdout",
     "output_type": "stream",
     "text": [
      "Trial 187 finished with value: 0.3471357599671984 and parameters: {'iterations': 12, 'depth': 12, 'learning_rate': 0.008133630799664272, 'l2_leaf_reg': 0.4616895380494148}. Best is trial 172 with value: 0.4179850025546331.\n"
     ]
    },
    {
     "name": "stderr",
     "output_type": "stream",
     "text": [
      "\u001b[32m[I 2022-07-14 02:51:49,617]\u001b[0m Trial 188 finished with value: 0.356004653954089 and parameters: {'iterations': 11, 'depth': 12, 'learning_rate': 0.037133922634722705, 'l2_leaf_reg': 0.31627477121484177}. Best is trial 172 with value: 0.4179850025546331.\u001b[0m\n"
     ]
    },
    {
     "name": "stdout",
     "output_type": "stream",
     "text": [
      "Trial 188 finished with value: 0.356004653954089 and parameters: {'iterations': 11, 'depth': 12, 'learning_rate': 0.037133922634722705, 'l2_leaf_reg': 0.31627477121484177}. Best is trial 172 with value: 0.4179850025546331.\n"
     ]
    },
    {
     "name": "stderr",
     "output_type": "stream",
     "text": [
      "\u001b[32m[I 2022-07-14 02:53:24,255]\u001b[0m Trial 189 finished with value: 0.4176749312823129 and parameters: {'iterations': 12, 'depth': 12, 'learning_rate': 0.800906476753343, 'l2_leaf_reg': 0.3732557017748543}. Best is trial 172 with value: 0.4179850025546331.\u001b[0m\n"
     ]
    },
    {
     "name": "stdout",
     "output_type": "stream",
     "text": [
      "Trial 189 finished with value: 0.4176749312823129 and parameters: {'iterations': 12, 'depth': 12, 'learning_rate': 0.800906476753343, 'l2_leaf_reg': 0.3732557017748543}. Best is trial 172 with value: 0.4179850025546331.\n"
     ]
    },
    {
     "name": "stderr",
     "output_type": "stream",
     "text": [
      "\u001b[32m[I 2022-07-14 02:54:57,782]\u001b[0m Trial 190 finished with value: 0.41466554666155275 and parameters: {'iterations': 12, 'depth': 12, 'learning_rate': 0.997831616359577, 'l2_leaf_reg': 0.3683992916466566}. Best is trial 172 with value: 0.4179850025546331.\u001b[0m\n"
     ]
    },
    {
     "name": "stdout",
     "output_type": "stream",
     "text": [
      "Trial 190 finished with value: 0.41466554666155275 and parameters: {'iterations': 12, 'depth': 12, 'learning_rate': 0.997831616359577, 'l2_leaf_reg': 0.3683992916466566}. Best is trial 172 with value: 0.4179850025546331.\n"
     ]
    },
    {
     "name": "stderr",
     "output_type": "stream",
     "text": [
      "\u001b[32m[I 2022-07-14 02:55:59,428]\u001b[0m Trial 191 finished with value: 0.32790919401328755 and parameters: {'iterations': 11, 'depth': 11, 'learning_rate': 4.997165873880062e-05, 'l2_leaf_reg': 0.29563286519087706}. Best is trial 172 with value: 0.4179850025546331.\u001b[0m\n"
     ]
    },
    {
     "name": "stdout",
     "output_type": "stream",
     "text": [
      "Trial 191 finished with value: 0.32790919401328755 and parameters: {'iterations': 11, 'depth': 11, 'learning_rate': 4.997165873880062e-05, 'l2_leaf_reg': 0.29563286519087706}. Best is trial 172 with value: 0.4179850025546331.\n"
     ]
    },
    {
     "name": "stderr",
     "output_type": "stream",
     "text": [
      "\u001b[32m[I 2022-07-14 02:57:33,716]\u001b[0m Trial 192 finished with value: 0.4162392533684895 and parameters: {'iterations': 12, 'depth': 12, 'learning_rate': 0.7910008803968033, 'l2_leaf_reg': 0.3901675756182223}. Best is trial 172 with value: 0.4179850025546331.\u001b[0m\n"
     ]
    },
    {
     "name": "stdout",
     "output_type": "stream",
     "text": [
      "Trial 192 finished with value: 0.4162392533684895 and parameters: {'iterations': 12, 'depth': 12, 'learning_rate': 0.7910008803968033, 'l2_leaf_reg': 0.3901675756182223}. Best is trial 172 with value: 0.4179850025546331.\n"
     ]
    },
    {
     "name": "stderr",
     "output_type": "stream",
     "text": [
      "\u001b[32m[I 2022-07-14 02:59:09,518]\u001b[0m Trial 193 finished with value: 0.4177067793603519 and parameters: {'iterations': 12, 'depth': 12, 'learning_rate': 0.8109075362988056, 'l2_leaf_reg': 0.34272634807672786}. Best is trial 172 with value: 0.4179850025546331.\u001b[0m\n"
     ]
    },
    {
     "name": "stdout",
     "output_type": "stream",
     "text": [
      "Trial 193 finished with value: 0.4177067793603519 and parameters: {'iterations': 12, 'depth': 12, 'learning_rate': 0.8109075362988056, 'l2_leaf_reg': 0.34272634807672786}. Best is trial 172 with value: 0.4179850025546331.\n"
     ]
    },
    {
     "name": "stderr",
     "output_type": "stream",
     "text": [
      "\u001b[32m[I 2022-07-14 03:00:43,455]\u001b[0m Trial 194 finished with value: 0.4131916381631825 and parameters: {'iterations': 12, 'depth': 12, 'learning_rate': 0.6290126755862497, 'l2_leaf_reg': 0.3277026677477305}. Best is trial 172 with value: 0.4179850025546331.\u001b[0m\n"
     ]
    },
    {
     "name": "stdout",
     "output_type": "stream",
     "text": [
      "Trial 194 finished with value: 0.4131916381631825 and parameters: {'iterations': 12, 'depth': 12, 'learning_rate': 0.6290126755862497, 'l2_leaf_reg': 0.3277026677477305}. Best is trial 172 with value: 0.4179850025546331.\n"
     ]
    },
    {
     "name": "stderr",
     "output_type": "stream",
     "text": [
      "\u001b[32m[I 2022-07-14 03:02:19,915]\u001b[0m Trial 195 finished with value: 0.41768129488998545 and parameters: {'iterations': 12, 'depth': 12, 'learning_rate': 0.8092000313674662, 'l2_leaf_reg': 0.481047752058345}. Best is trial 172 with value: 0.4179850025546331.\u001b[0m\n"
     ]
    },
    {
     "name": "stdout",
     "output_type": "stream",
     "text": [
      "Trial 195 finished with value: 0.41768129488998545 and parameters: {'iterations': 12, 'depth': 12, 'learning_rate': 0.8092000313674662, 'l2_leaf_reg': 0.481047752058345}. Best is trial 172 with value: 0.4179850025546331.\n"
     ]
    },
    {
     "name": "stderr",
     "output_type": "stream",
     "text": [
      "\u001b[32m[I 2022-07-14 03:03:53,416]\u001b[0m Trial 196 finished with value: 0.4092583995668986 and parameters: {'iterations': 12, 'depth': 12, 'learning_rate': 0.5040490812406545, 'l2_leaf_reg': 0.47768652423047037}. Best is trial 172 with value: 0.4179850025546331.\u001b[0m\n"
     ]
    },
    {
     "name": "stdout",
     "output_type": "stream",
     "text": [
      "Trial 196 finished with value: 0.4092583995668986 and parameters: {'iterations': 12, 'depth': 12, 'learning_rate': 0.5040490812406545, 'l2_leaf_reg': 0.47768652423047037}. Best is trial 172 with value: 0.4179850025546331.\n"
     ]
    },
    {
     "name": "stderr",
     "output_type": "stream",
     "text": [
      "\u001b[32m[I 2022-07-14 03:05:28,872]\u001b[0m Trial 197 finished with value: 0.41683603864423546 and parameters: {'iterations': 12, 'depth': 12, 'learning_rate': 0.7808290818972748, 'l2_leaf_reg': 0.3477968281003792}. Best is trial 172 with value: 0.4179850025546331.\u001b[0m\n"
     ]
    },
    {
     "name": "stdout",
     "output_type": "stream",
     "text": [
      "Trial 197 finished with value: 0.41683603864423546 and parameters: {'iterations': 12, 'depth': 12, 'learning_rate': 0.7808290818972748, 'l2_leaf_reg': 0.3477968281003792}. Best is trial 172 with value: 0.4179850025546331.\n"
     ]
    },
    {
     "name": "stderr",
     "output_type": "stream",
     "text": [
      "\u001b[32m[I 2022-07-14 03:07:02,687]\u001b[0m Trial 198 finished with value: 0.412167973282142 and parameters: {'iterations': 12, 'depth': 12, 'learning_rate': 0.583718650162808, 'l2_leaf_reg': 0.27787444362593544}. Best is trial 172 with value: 0.4179850025546331.\u001b[0m\n"
     ]
    },
    {
     "name": "stdout",
     "output_type": "stream",
     "text": [
      "Trial 198 finished with value: 0.412167973282142 and parameters: {'iterations': 12, 'depth': 12, 'learning_rate': 0.583718650162808, 'l2_leaf_reg': 0.27787444362593544}. Best is trial 172 with value: 0.4179850025546331.\n"
     ]
    },
    {
     "name": "stderr",
     "output_type": "stream",
     "text": [
      "\u001b[32m[I 2022-07-14 03:08:42,075]\u001b[0m Trial 199 finished with value: 0.3453348002696425 and parameters: {'iterations': 12, 'depth': 12, 'learning_rate': 3.083021678985924e-05, 'l2_leaf_reg': 0.3445875009017327}. Best is trial 172 with value: 0.4179850025546331.\u001b[0m\n"
     ]
    },
    {
     "name": "stdout",
     "output_type": "stream",
     "text": [
      "Trial 199 finished with value: 0.3453348002696425 and parameters: {'iterations': 12, 'depth': 12, 'learning_rate': 3.083021678985924e-05, 'l2_leaf_reg': 0.3445875009017327}. Best is trial 172 with value: 0.4179850025546331.\n"
     ]
    },
    {
     "name": "stderr",
     "output_type": "stream",
     "text": [
      "\u001b[32m[I 2022-07-14 03:09:48,617]\u001b[0m Trial 200 finished with value: 0.32914310744372155 and parameters: {'iterations': 12, 'depth': 11, 'learning_rate': 0.0050158001750506, 'l2_leaf_reg': 0.30408108441095166}. Best is trial 172 with value: 0.4179850025546331.\u001b[0m\n"
     ]
    },
    {
     "name": "stdout",
     "output_type": "stream",
     "text": [
      "Trial 200 finished with value: 0.32914310744372155 and parameters: {'iterations': 12, 'depth': 11, 'learning_rate': 0.0050158001750506, 'l2_leaf_reg': 0.30408108441095166}. Best is trial 172 with value: 0.4179850025546331.\n"
     ]
    },
    {
     "name": "stderr",
     "output_type": "stream",
     "text": [
      "\u001b[32m[I 2022-07-14 03:11:23,171]\u001b[0m Trial 201 finished with value: 0.404426800125544 and parameters: {'iterations': 12, 'depth': 12, 'learning_rate': 0.4179459491839004, 'l2_leaf_reg': 0.20865355326442203}. Best is trial 172 with value: 0.4179850025546331.\u001b[0m\n"
     ]
    },
    {
     "name": "stdout",
     "output_type": "stream",
     "text": [
      "Trial 201 finished with value: 0.404426800125544 and parameters: {'iterations': 12, 'depth': 12, 'learning_rate': 0.4179459491839004, 'l2_leaf_reg': 0.20865355326442203}. Best is trial 172 with value: 0.4179850025546331.\n"
     ]
    },
    {
     "name": "stderr",
     "output_type": "stream",
     "text": [
      "\u001b[32m[I 2022-07-14 03:12:56,690]\u001b[0m Trial 202 finished with value: 0.4148439330602661 and parameters: {'iterations': 12, 'depth': 12, 'learning_rate': 0.7598403774470536, 'l2_leaf_reg': 0.39611020001753905}. Best is trial 172 with value: 0.4179850025546331.\u001b[0m\n"
     ]
    },
    {
     "name": "stdout",
     "output_type": "stream",
     "text": [
      "Trial 202 finished with value: 0.4148439330602661 and parameters: {'iterations': 12, 'depth': 12, 'learning_rate': 0.7598403774470536, 'l2_leaf_reg': 0.39611020001753905}. Best is trial 172 with value: 0.4179850025546331.\n"
     ]
    },
    {
     "name": "stderr",
     "output_type": "stream",
     "text": [
      "\u001b[32m[I 2022-07-14 03:14:30,241]\u001b[0m Trial 203 finished with value: 0.4167723197328774 and parameters: {'iterations': 12, 'depth': 12, 'learning_rate': 0.8244377154430547, 'l2_leaf_reg': 0.4431690320773695}. Best is trial 172 with value: 0.4179850025546331.\u001b[0m\n"
     ]
    },
    {
     "name": "stdout",
     "output_type": "stream",
     "text": [
      "Trial 203 finished with value: 0.4167723197328774 and parameters: {'iterations': 12, 'depth': 12, 'learning_rate': 0.8244377154430547, 'l2_leaf_reg': 0.4431690320773695}. Best is trial 172 with value: 0.4179850025546331.\n"
     ]
    },
    {
     "name": "stderr",
     "output_type": "stream",
     "text": [
      "\u001b[32m[I 2022-07-14 03:16:04,791]\u001b[0m Trial 204 finished with value: 0.4165110950711169 and parameters: {'iterations': 12, 'depth': 12, 'learning_rate': 0.8165599683895706, 'l2_leaf_reg': 0.37568473577376255}. Best is trial 172 with value: 0.4179850025546331.\u001b[0m\n"
     ]
    },
    {
     "name": "stdout",
     "output_type": "stream",
     "text": [
      "Trial 204 finished with value: 0.4165110950711169 and parameters: {'iterations': 12, 'depth': 12, 'learning_rate': 0.8165599683895706, 'l2_leaf_reg': 0.37568473577376255}. Best is trial 172 with value: 0.4179850025546331.\n"
     ]
    },
    {
     "name": "stderr",
     "output_type": "stream",
     "text": [
      "\u001b[32m[I 2022-07-14 03:17:37,607]\u001b[0m Trial 205 finished with value: 0.414344851018865 and parameters: {'iterations': 12, 'depth': 12, 'learning_rate': 0.9970505278908596, 'l2_leaf_reg': 0.42891369172789445}. Best is trial 172 with value: 0.4179850025546331.\u001b[0m\n"
     ]
    },
    {
     "name": "stdout",
     "output_type": "stream",
     "text": [
      "Trial 205 finished with value: 0.414344851018865 and parameters: {'iterations': 12, 'depth': 12, 'learning_rate': 0.9970505278908596, 'l2_leaf_reg': 0.42891369172789445}. Best is trial 172 with value: 0.4179850025546331.\n"
     ]
    },
    {
     "name": "stderr",
     "output_type": "stream",
     "text": [
      "\u001b[32m[I 2022-07-14 03:19:12,171]\u001b[0m Trial 206 finished with value: 0.4135378020385739 and parameters: {'iterations': 12, 'depth': 12, 'learning_rate': 0.6535128263852237, 'l2_leaf_reg': 0.3359415256595893}. Best is trial 172 with value: 0.4179850025546331.\u001b[0m\n"
     ]
    },
    {
     "name": "stdout",
     "output_type": "stream",
     "text": [
      "Trial 206 finished with value: 0.4135378020385739 and parameters: {'iterations': 12, 'depth': 12, 'learning_rate': 0.6535128263852237, 'l2_leaf_reg': 0.3359415256595893}. Best is trial 172 with value: 0.4179850025546331.\n"
     ]
    },
    {
     "name": "stderr",
     "output_type": "stream",
     "text": [
      "\u001b[32m[I 2022-07-14 03:20:46,403]\u001b[0m Trial 207 finished with value: 0.41708026655510755 and parameters: {'iterations': 12, 'depth': 12, 'learning_rate': 0.8322714015248561, 'l2_leaf_reg': 0.37440455214745844}. Best is trial 172 with value: 0.4179850025546331.\u001b[0m\n"
     ]
    },
    {
     "name": "stdout",
     "output_type": "stream",
     "text": [
      "Trial 207 finished with value: 0.41708026655510755 and parameters: {'iterations': 12, 'depth': 12, 'learning_rate': 0.8322714015248561, 'l2_leaf_reg': 0.37440455214745844}. Best is trial 172 with value: 0.4179850025546331.\n"
     ]
    },
    {
     "name": "stderr",
     "output_type": "stream",
     "text": [
      "\u001b[32m[I 2022-07-14 03:21:22,395]\u001b[0m Trial 208 finished with value: 0.363631153241028 and parameters: {'iterations': 12, 'depth': 9, 'learning_rate': 0.5783389728603987, 'l2_leaf_reg': 0.36575888634461196}. Best is trial 172 with value: 0.4179850025546331.\u001b[0m\n"
     ]
    },
    {
     "name": "stdout",
     "output_type": "stream",
     "text": [
      "Trial 208 finished with value: 0.363631153241028 and parameters: {'iterations': 12, 'depth': 9, 'learning_rate': 0.5783389728603987, 'l2_leaf_reg': 0.36575888634461196}. Best is trial 172 with value: 0.4179850025546331.\n"
     ]
    },
    {
     "name": "stderr",
     "output_type": "stream",
     "text": [
      "\u001b[32m[I 2022-07-14 03:22:50,136]\u001b[0m Trial 209 finished with value: 0.41328083437327257 and parameters: {'iterations': 11, 'depth': 12, 'learning_rate': 0.8197360103504593, 'l2_leaf_reg': 0.3519861385041004}. Best is trial 172 with value: 0.4179850025546331.\u001b[0m\n"
     ]
    },
    {
     "name": "stdout",
     "output_type": "stream",
     "text": [
      "Trial 209 finished with value: 0.41328083437327257 and parameters: {'iterations': 11, 'depth': 12, 'learning_rate': 0.8197360103504593, 'l2_leaf_reg': 0.3519861385041004}. Best is trial 172 with value: 0.4179850025546331.\n"
     ]
    },
    {
     "name": "stderr",
     "output_type": "stream",
     "text": [
      "\u001b[32m[I 2022-07-14 03:24:25,466]\u001b[0m Trial 210 finished with value: 0.413032352510503 and parameters: {'iterations': 12, 'depth': 12, 'learning_rate': 0.6437174725955512, 'l2_leaf_reg': 0.4431557821931336}. Best is trial 172 with value: 0.4179850025546331.\u001b[0m\n"
     ]
    },
    {
     "name": "stdout",
     "output_type": "stream",
     "text": [
      "Trial 210 finished with value: 0.413032352510503 and parameters: {'iterations': 12, 'depth': 12, 'learning_rate': 0.6437174725955512, 'l2_leaf_reg': 0.4431557821931336}. Best is trial 172 with value: 0.4179850025546331.\n"
     ]
    },
    {
     "name": "stderr",
     "output_type": "stream",
     "text": [
      "\u001b[32m[I 2022-07-14 03:26:02,117]\u001b[0m Trial 211 finished with value: 0.4066758821025583 and parameters: {'iterations': 12, 'depth': 12, 'learning_rate': 0.46637490900627426, 'l2_leaf_reg': 0.3096140810834895}. Best is trial 172 with value: 0.4179850025546331.\u001b[0m\n"
     ]
    },
    {
     "name": "stdout",
     "output_type": "stream",
     "text": [
      "Trial 211 finished with value: 0.4066758821025583 and parameters: {'iterations': 12, 'depth': 12, 'learning_rate': 0.46637490900627426, 'l2_leaf_reg': 0.3096140810834895}. Best is trial 172 with value: 0.4179850025546331.\n"
     ]
    },
    {
     "name": "stderr",
     "output_type": "stream",
     "text": [
      "\u001b[32m[I 2022-07-14 03:27:33,736]\u001b[0m Trial 212 finished with value: 0.41694646882329767 and parameters: {'iterations': 12, 'depth': 12, 'learning_rate': 0.8324280618717638, 'l2_leaf_reg': 0.39285781073421333}. Best is trial 172 with value: 0.4179850025546331.\u001b[0m\n"
     ]
    },
    {
     "name": "stdout",
     "output_type": "stream",
     "text": [
      "Trial 212 finished with value: 0.41694646882329767 and parameters: {'iterations': 12, 'depth': 12, 'learning_rate': 0.8324280618717638, 'l2_leaf_reg': 0.39285781073421333}. Best is trial 172 with value: 0.4179850025546331.\n"
     ]
    },
    {
     "name": "stderr",
     "output_type": "stream",
     "text": [
      "\u001b[32m[I 2022-07-14 03:29:12,713]\u001b[0m Trial 213 finished with value: 0.41625836627021806 and parameters: {'iterations': 12, 'depth': 12, 'learning_rate': 0.8197914114468904, 'l2_leaf_reg': 0.4004952745411747}. Best is trial 172 with value: 0.4179850025546331.\u001b[0m\n"
     ]
    },
    {
     "name": "stdout",
     "output_type": "stream",
     "text": [
      "Trial 213 finished with value: 0.41625836627021806 and parameters: {'iterations': 12, 'depth': 12, 'learning_rate': 0.8197914114468904, 'l2_leaf_reg': 0.4004952745411747}. Best is trial 172 with value: 0.4179850025546331.\n"
     ]
    },
    {
     "name": "stderr",
     "output_type": "stream",
     "text": [
      "\u001b[32m[I 2022-07-14 03:30:46,069]\u001b[0m Trial 214 finished with value: 0.4167340910652769 and parameters: {'iterations': 12, 'depth': 12, 'learning_rate': 0.8333549121631189, 'l2_leaf_reg': 0.3615335676516182}. Best is trial 172 with value: 0.4179850025546331.\u001b[0m\n"
     ]
    },
    {
     "name": "stdout",
     "output_type": "stream",
     "text": [
      "Trial 214 finished with value: 0.4167340910652769 and parameters: {'iterations': 12, 'depth': 12, 'learning_rate': 0.8333549121631189, 'l2_leaf_reg': 0.3615335676516182}. Best is trial 172 with value: 0.4179850025546331.\n"
     ]
    },
    {
     "name": "stderr",
     "output_type": "stream",
     "text": [
      "\u001b[32m[I 2022-07-14 03:32:21,386]\u001b[0m Trial 215 finished with value: 0.41490976640848887 and parameters: {'iterations': 12, 'depth': 12, 'learning_rate': 0.6697424845441348, 'l2_leaf_reg': 0.26027546017024605}. Best is trial 172 with value: 0.4179850025546331.\u001b[0m\n"
     ]
    },
    {
     "name": "stdout",
     "output_type": "stream",
     "text": [
      "Trial 215 finished with value: 0.41490976640848887 and parameters: {'iterations': 12, 'depth': 12, 'learning_rate': 0.6697424845441348, 'l2_leaf_reg': 0.26027546017024605}. Best is trial 172 with value: 0.4179850025546331.\n"
     ]
    },
    {
     "name": "stderr",
     "output_type": "stream",
     "text": [
      "\u001b[32m[I 2022-07-14 03:33:56,314]\u001b[0m Trial 216 finished with value: 0.41675533540831144 and parameters: {'iterations': 12, 'depth': 12, 'learning_rate': 0.8355688575058605, 'l2_leaf_reg': 0.43550043177700765}. Best is trial 172 with value: 0.4179850025546331.\u001b[0m\n"
     ]
    },
    {
     "name": "stdout",
     "output_type": "stream",
     "text": [
      "Trial 216 finished with value: 0.41675533540831144 and parameters: {'iterations': 12, 'depth': 12, 'learning_rate': 0.8355688575058605, 'l2_leaf_reg': 0.43550043177700765}. Best is trial 172 with value: 0.4179850025546331.\n"
     ]
    },
    {
     "name": "stderr",
     "output_type": "stream",
     "text": [
      "\u001b[32m[I 2022-07-14 03:35:32,387]\u001b[0m Trial 217 finished with value: 0.4125651227418704 and parameters: {'iterations': 12, 'depth': 12, 'learning_rate': 0.9984431950120349, 'l2_leaf_reg': 0.44520708449547675}. Best is trial 172 with value: 0.4179850025546331.\u001b[0m\n"
     ]
    },
    {
     "name": "stdout",
     "output_type": "stream",
     "text": [
      "Trial 217 finished with value: 0.4125651227418704 and parameters: {'iterations': 12, 'depth': 12, 'learning_rate': 0.9984431950120349, 'l2_leaf_reg': 0.44520708449547675}. Best is trial 172 with value: 0.4179850025546331.\n"
     ]
    },
    {
     "name": "stderr",
     "output_type": "stream",
     "text": [
      "\u001b[32m[I 2022-07-14 03:37:07,367]\u001b[0m Trial 218 finished with value: 0.4118132978945863 and parameters: {'iterations': 12, 'depth': 12, 'learning_rate': 0.540152557804059, 'l2_leaf_reg': 0.336996641950275}. Best is trial 172 with value: 0.4179850025546331.\u001b[0m\n"
     ]
    },
    {
     "name": "stdout",
     "output_type": "stream",
     "text": [
      "Trial 218 finished with value: 0.4118132978945863 and parameters: {'iterations': 12, 'depth': 12, 'learning_rate': 0.540152557804059, 'l2_leaf_reg': 0.336996641950275}. Best is trial 172 with value: 0.4179850025546331.\n"
     ]
    },
    {
     "name": "stderr",
     "output_type": "stream",
     "text": [
      "\u001b[32m[I 2022-07-14 03:38:41,534]\u001b[0m Trial 219 finished with value: 0.41415582996593114 and parameters: {'iterations': 12, 'depth': 12, 'learning_rate': 0.6716309780968591, 'l2_leaf_reg': 0.4241287335861853}. Best is trial 172 with value: 0.4179850025546331.\u001b[0m\n"
     ]
    },
    {
     "name": "stdout",
     "output_type": "stream",
     "text": [
      "Trial 219 finished with value: 0.41415582996593114 and parameters: {'iterations': 12, 'depth': 12, 'learning_rate': 0.6716309780968591, 'l2_leaf_reg': 0.4241287335861853}. Best is trial 172 with value: 0.4179850025546331.\n"
     ]
    },
    {
     "name": "stderr",
     "output_type": "stream",
     "text": [
      "\u001b[32m[I 2022-07-14 03:40:18,073]\u001b[0m Trial 220 finished with value: 0.41608423601097605 and parameters: {'iterations': 12, 'depth': 12, 'learning_rate': 0.9828123103638863, 'l2_leaf_reg': 0.5070038852767702}. Best is trial 172 with value: 0.4179850025546331.\u001b[0m\n"
     ]
    },
    {
     "name": "stdout",
     "output_type": "stream",
     "text": [
      "Trial 220 finished with value: 0.41608423601097605 and parameters: {'iterations': 12, 'depth': 12, 'learning_rate': 0.9828123103638863, 'l2_leaf_reg': 0.5070038852767702}. Best is trial 172 with value: 0.4179850025546331.\n"
     ]
    },
    {
     "name": "stderr",
     "output_type": "stream",
     "text": [
      "\u001b[32m[I 2022-07-14 03:41:43,988]\u001b[0m Trial 221 finished with value: 0.41565946024296074 and parameters: {'iterations': 11, 'depth': 12, 'learning_rate': 0.8097901380250171, 'l2_leaf_reg': 0.4763878369319265}. Best is trial 172 with value: 0.4179850025546331.\u001b[0m\n"
     ]
    },
    {
     "name": "stdout",
     "output_type": "stream",
     "text": [
      "Trial 221 finished with value: 0.41565946024296074 and parameters: {'iterations': 11, 'depth': 12, 'learning_rate': 0.8097901380250171, 'l2_leaf_reg': 0.4763878369319265}. Best is trial 172 with value: 0.4179850025546331.\n"
     ]
    },
    {
     "name": "stderr",
     "output_type": "stream",
     "text": [
      "\u001b[32m[I 2022-07-14 03:43:20,079]\u001b[0m Trial 222 finished with value: 0.4156955699406823 and parameters: {'iterations': 12, 'depth': 12, 'learning_rate': 0.7572186319750209, 'l2_leaf_reg': 0.3800620304165708}. Best is trial 172 with value: 0.4179850025546331.\u001b[0m\n"
     ]
    },
    {
     "name": "stdout",
     "output_type": "stream",
     "text": [
      "Trial 222 finished with value: 0.4156955699406823 and parameters: {'iterations': 12, 'depth': 12, 'learning_rate': 0.7572186319750209, 'l2_leaf_reg': 0.3800620304165708}. Best is trial 172 with value: 0.4179850025546331.\n"
     ]
    },
    {
     "name": "stderr",
     "output_type": "stream",
     "text": [
      "\u001b[32m[I 2022-07-14 03:44:55,976]\u001b[0m Trial 223 finished with value: 0.4163475651189283 and parameters: {'iterations': 12, 'depth': 12, 'learning_rate': 0.8242225650000958, 'l2_leaf_reg': 0.3864359486936722}. Best is trial 172 with value: 0.4179850025546331.\u001b[0m\n"
     ]
    },
    {
     "name": "stdout",
     "output_type": "stream",
     "text": [
      "Trial 223 finished with value: 0.4163475651189283 and parameters: {'iterations': 12, 'depth': 12, 'learning_rate': 0.8242225650000958, 'l2_leaf_reg': 0.3864359486936722}. Best is trial 172 with value: 0.4179850025546331.\n"
     ]
    },
    {
     "name": "stderr",
     "output_type": "stream",
     "text": [
      "\u001b[32m[I 2022-07-14 03:46:28,772]\u001b[0m Trial 224 finished with value: 0.41453598725288987 and parameters: {'iterations': 12, 'depth': 12, 'learning_rate': 0.9981907865102019, 'l2_leaf_reg': 0.4167266766297051}. Best is trial 172 with value: 0.4179850025546331.\u001b[0m\n"
     ]
    },
    {
     "name": "stdout",
     "output_type": "stream",
     "text": [
      "Trial 224 finished with value: 0.41453598725288987 and parameters: {'iterations': 12, 'depth': 12, 'learning_rate': 0.9981907865102019, 'l2_leaf_reg': 0.4167266766297051}. Best is trial 172 with value: 0.4179850025546331.\n"
     ]
    },
    {
     "name": "stderr",
     "output_type": "stream",
     "text": [
      "\u001b[32m[I 2022-07-14 03:48:04,619]\u001b[0m Trial 225 finished with value: 0.4115159787579131 and parameters: {'iterations': 12, 'depth': 12, 'learning_rate': 0.6193474935264004, 'l2_leaf_reg': 0.33288980213783065}. Best is trial 172 with value: 0.4179850025546331.\u001b[0m\n"
     ]
    },
    {
     "name": "stdout",
     "output_type": "stream",
     "text": [
      "Trial 225 finished with value: 0.4115159787579131 and parameters: {'iterations': 12, 'depth': 12, 'learning_rate': 0.6193474935264004, 'l2_leaf_reg': 0.33288980213783065}. Best is trial 172 with value: 0.4179850025546331.\n"
     ]
    },
    {
     "name": "stderr",
     "output_type": "stream",
     "text": [
      "\u001b[32m[I 2022-07-14 03:49:37,532]\u001b[0m Trial 226 finished with value: 0.4186561147842326 and parameters: {'iterations': 12, 'depth': 12, 'learning_rate': 0.802149821813751, 'l2_leaf_reg': 0.2982072500524196}. Best is trial 226 with value: 0.4186561147842326.\u001b[0m\n"
     ]
    },
    {
     "name": "stdout",
     "output_type": "stream",
     "text": [
      "Trial 226 finished with value: 0.4186561147842326 and parameters: {'iterations': 12, 'depth': 12, 'learning_rate': 0.802149821813751, 'l2_leaf_reg': 0.2982072500524196}. Best is trial 226 with value: 0.4186561147842326.\n"
     ]
    },
    {
     "name": "stderr",
     "output_type": "stream",
     "text": [
      "\u001b[32m[I 2022-07-14 03:51:12,513]\u001b[0m Trial 227 finished with value: 0.41376292708349505 and parameters: {'iterations': 12, 'depth': 12, 'learning_rate': 0.5432851892387163, 'l2_leaf_reg': 0.29077954575566506}. Best is trial 226 with value: 0.4186561147842326.\u001b[0m\n"
     ]
    },
    {
     "name": "stdout",
     "output_type": "stream",
     "text": [
      "Trial 227 finished with value: 0.41376292708349505 and parameters: {'iterations': 12, 'depth': 12, 'learning_rate': 0.5432851892387163, 'l2_leaf_reg': 0.29077954575566506}. Best is trial 226 with value: 0.4186561147842326.\n"
     ]
    },
    {
     "name": "stderr",
     "output_type": "stream",
     "text": [
      "\u001b[32m[I 2022-07-14 03:52:46,670]\u001b[0m Trial 228 finished with value: 0.4147844654621854 and parameters: {'iterations': 12, 'depth': 12, 'learning_rate': 0.6932225788399934, 'l2_leaf_reg': 0.35437274444124117}. Best is trial 226 with value: 0.4186561147842326.\u001b[0m\n"
     ]
    },
    {
     "name": "stdout",
     "output_type": "stream",
     "text": [
      "Trial 228 finished with value: 0.4147844654621854 and parameters: {'iterations': 12, 'depth': 12, 'learning_rate': 0.6932225788399934, 'l2_leaf_reg': 0.35437274444124117}. Best is trial 226 with value: 0.4186561147842326.\n"
     ]
    },
    {
     "name": "stderr",
     "output_type": "stream",
     "text": [
      "\u001b[32m[I 2022-07-14 03:54:19,420]\u001b[0m Trial 229 finished with value: 0.41798500235166236 and parameters: {'iterations': 12, 'depth': 12, 'learning_rate': 0.8033124182564563, 'l2_leaf_reg': 0.2980578507930768}. Best is trial 226 with value: 0.4186561147842326.\u001b[0m\n"
     ]
    },
    {
     "name": "stdout",
     "output_type": "stream",
     "text": [
      "Trial 229 finished with value: 0.41798500235166236 and parameters: {'iterations': 12, 'depth': 12, 'learning_rate': 0.8033124182564563, 'l2_leaf_reg': 0.2980578507930768}. Best is trial 226 with value: 0.4186561147842326.\n"
     ]
    },
    {
     "name": "stderr",
     "output_type": "stream",
     "text": [
      "\u001b[32m[I 2022-07-14 03:55:24,648]\u001b[0m Trial 230 finished with value: 0.3924189540129514 and parameters: {'iterations': 12, 'depth': 11, 'learning_rate': 0.42525300808328714, 'l2_leaf_reg': 0.2365398398072125}. Best is trial 226 with value: 0.4186561147842326.\u001b[0m\n"
     ]
    },
    {
     "name": "stdout",
     "output_type": "stream",
     "text": [
      "Trial 230 finished with value: 0.3924189540129514 and parameters: {'iterations': 12, 'depth': 11, 'learning_rate': 0.42525300808328714, 'l2_leaf_reg': 0.2365398398072125}. Best is trial 226 with value: 0.4186561147842326.\n"
     ]
    },
    {
     "name": "stderr",
     "output_type": "stream",
     "text": [
      "\u001b[32m[I 2022-07-14 03:56:58,918]\u001b[0m Trial 231 finished with value: 0.41355268254841276 and parameters: {'iterations': 12, 'depth': 12, 'learning_rate': 0.6363876709408296, 'l2_leaf_reg': 0.3056826070114224}. Best is trial 226 with value: 0.4186561147842326.\u001b[0m\n"
     ]
    },
    {
     "name": "stdout",
     "output_type": "stream",
     "text": [
      "Trial 231 finished with value: 0.41355268254841276 and parameters: {'iterations': 12, 'depth': 12, 'learning_rate': 0.6363876709408296, 'l2_leaf_reg': 0.3056826070114224}. Best is trial 226 with value: 0.4186561147842326.\n"
     ]
    },
    {
     "name": "stderr",
     "output_type": "stream",
     "text": [
      "\u001b[32m[I 2022-07-14 03:58:32,125]\u001b[0m Trial 232 finished with value: 0.4173521115052675 and parameters: {'iterations': 12, 'depth': 12, 'learning_rate': 0.7902431164614214, 'l2_leaf_reg': 0.323369163394311}. Best is trial 226 with value: 0.4186561147842326.\u001b[0m\n"
     ]
    },
    {
     "name": "stdout",
     "output_type": "stream",
     "text": [
      "Trial 232 finished with value: 0.4173521115052675 and parameters: {'iterations': 12, 'depth': 12, 'learning_rate': 0.7902431164614214, 'l2_leaf_reg': 0.323369163394311}. Best is trial 226 with value: 0.4186561147842326.\n"
     ]
    },
    {
     "name": "stderr",
     "output_type": "stream",
     "text": [
      "\u001b[32m[I 2022-07-14 04:00:06,531]\u001b[0m Trial 233 finished with value: 0.416704353725524 and parameters: {'iterations': 12, 'depth': 12, 'learning_rate': 0.8076802326133741, 'l2_leaf_reg': 0.27360554071969356}. Best is trial 226 with value: 0.4186561147842326.\u001b[0m\n"
     ]
    },
    {
     "name": "stdout",
     "output_type": "stream",
     "text": [
      "Trial 233 finished with value: 0.416704353725524 and parameters: {'iterations': 12, 'depth': 12, 'learning_rate': 0.8076802326133741, 'l2_leaf_reg': 0.27360554071969356}. Best is trial 226 with value: 0.4186561147842326.\n"
     ]
    },
    {
     "name": "stderr",
     "output_type": "stream",
     "text": [
      "\u001b[32m[I 2022-07-14 04:01:41,378]\u001b[0m Trial 234 finished with value: 0.41610758622099775 and parameters: {'iterations': 12, 'depth': 12, 'learning_rate': 0.793345870073358, 'l2_leaf_reg': 0.2781315404478938}. Best is trial 226 with value: 0.4186561147842326.\u001b[0m\n"
     ]
    },
    {
     "name": "stdout",
     "output_type": "stream",
     "text": [
      "Trial 234 finished with value: 0.41610758622099775 and parameters: {'iterations': 12, 'depth': 12, 'learning_rate': 0.793345870073358, 'l2_leaf_reg': 0.2781315404478938}. Best is trial 226 with value: 0.4186561147842326.\n"
     ]
    },
    {
     "name": "stderr",
     "output_type": "stream",
     "text": [
      "\u001b[32m[I 2022-07-14 04:03:15,395]\u001b[0m Trial 235 finished with value: 0.41248441472485686 and parameters: {'iterations': 12, 'depth': 12, 'learning_rate': 0.5320878995210845, 'l2_leaf_reg': 0.24823530197106797}. Best is trial 226 with value: 0.4186561147842326.\u001b[0m\n"
     ]
    },
    {
     "name": "stdout",
     "output_type": "stream",
     "text": [
      "Trial 235 finished with value: 0.41248441472485686 and parameters: {'iterations': 12, 'depth': 12, 'learning_rate': 0.5320878995210845, 'l2_leaf_reg': 0.24823530197106797}. Best is trial 226 with value: 0.4186561147842326.\n"
     ]
    },
    {
     "name": "stderr",
     "output_type": "stream",
     "text": [
      "\u001b[32m[I 2022-07-14 04:04:49,769]\u001b[0m Trial 236 finished with value: 0.41302811222530506 and parameters: {'iterations': 12, 'depth': 12, 'learning_rate': 0.6862278370381407, 'l2_leaf_reg': 0.31430274823407944}. Best is trial 226 with value: 0.4186561147842326.\u001b[0m\n"
     ]
    },
    {
     "name": "stdout",
     "output_type": "stream",
     "text": [
      "Trial 236 finished with value: 0.41302811222530506 and parameters: {'iterations': 12, 'depth': 12, 'learning_rate': 0.6862278370381407, 'l2_leaf_reg': 0.31430274823407944}. Best is trial 226 with value: 0.4186561147842326.\n"
     ]
    },
    {
     "name": "stderr",
     "output_type": "stream",
     "text": [
      "\u001b[32m[I 2022-07-14 04:06:22,684]\u001b[0m Trial 237 finished with value: 0.41629871731309614 and parameters: {'iterations': 12, 'depth': 12, 'learning_rate': 0.8127972758676144, 'l2_leaf_reg': 0.2721249548664889}. Best is trial 226 with value: 0.4186561147842326.\u001b[0m\n"
     ]
    },
    {
     "name": "stdout",
     "output_type": "stream",
     "text": [
      "Trial 237 finished with value: 0.41629871731309614 and parameters: {'iterations': 12, 'depth': 12, 'learning_rate': 0.8127972758676144, 'l2_leaf_reg': 0.2721249548664889}. Best is trial 226 with value: 0.4186561147842326.\n"
     ]
    },
    {
     "name": "stderr",
     "output_type": "stream",
     "text": [
      "\u001b[32m[I 2022-07-14 04:07:55,242]\u001b[0m Trial 238 finished with value: 0.4141027361466144 and parameters: {'iterations': 12, 'depth': 12, 'learning_rate': 0.9998434262655975, 'l2_leaf_reg': 0.3284314629459343}. Best is trial 226 with value: 0.4186561147842326.\u001b[0m\n"
     ]
    },
    {
     "name": "stdout",
     "output_type": "stream",
     "text": [
      "Trial 238 finished with value: 0.4141027361466144 and parameters: {'iterations': 12, 'depth': 12, 'learning_rate': 0.9998434262655975, 'l2_leaf_reg': 0.3284314629459343}. Best is trial 226 with value: 0.4186561147842326.\n"
     ]
    },
    {
     "name": "stderr",
     "output_type": "stream",
     "text": [
      "\u001b[32m[I 2022-07-14 04:09:29,028]\u001b[0m Trial 239 finished with value: 0.4126352103577228 and parameters: {'iterations': 12, 'depth': 12, 'learning_rate': 0.6338034160176411, 'l2_leaf_reg': 0.30250989774270076}. Best is trial 226 with value: 0.4186561147842326.\u001b[0m\n"
     ]
    },
    {
     "name": "stdout",
     "output_type": "stream",
     "text": [
      "Trial 239 finished with value: 0.4126352103577228 and parameters: {'iterations': 12, 'depth': 12, 'learning_rate': 0.6338034160176411, 'l2_leaf_reg': 0.30250989774270076}. Best is trial 226 with value: 0.4186561147842326.\n"
     ]
    },
    {
     "name": "stderr",
     "output_type": "stream",
     "text": [
      "\u001b[32m[I 2022-07-14 04:11:02,944]\u001b[0m Trial 240 finished with value: 0.41727990279961896 and parameters: {'iterations': 12, 'depth': 12, 'learning_rate': 0.7920411453474436, 'l2_leaf_reg': 0.34840495455199594}. Best is trial 226 with value: 0.4186561147842326.\u001b[0m\n"
     ]
    },
    {
     "name": "stdout",
     "output_type": "stream",
     "text": [
      "Trial 240 finished with value: 0.41727990279961896 and parameters: {'iterations': 12, 'depth': 12, 'learning_rate': 0.7920411453474436, 'l2_leaf_reg': 0.34840495455199594}. Best is trial 226 with value: 0.4186561147842326.\n"
     ]
    },
    {
     "name": "stderr",
     "output_type": "stream",
     "text": [
      "\u001b[32m[I 2022-07-14 04:12:30,268]\u001b[0m Trial 241 finished with value: 0.4049556193939365 and parameters: {'iterations': 11, 'depth': 12, 'learning_rate': 0.4805568133662794, 'l2_leaf_reg': 0.35308100285854566}. Best is trial 226 with value: 0.4186561147842326.\u001b[0m\n"
     ]
    },
    {
     "name": "stdout",
     "output_type": "stream",
     "text": [
      "Trial 241 finished with value: 0.4049556193939365 and parameters: {'iterations': 11, 'depth': 12, 'learning_rate': 0.4805568133662794, 'l2_leaf_reg': 0.35308100285854566}. Best is trial 226 with value: 0.4186561147842326.\n"
     ]
    },
    {
     "name": "stderr",
     "output_type": "stream",
     "text": [
      "\u001b[32m[I 2022-07-14 04:14:07,045]\u001b[0m Trial 242 finished with value: 0.41696345871828394 and parameters: {'iterations': 12, 'depth': 12, 'learning_rate': 0.8081693782551996, 'l2_leaf_reg': 0.33359645689627876}. Best is trial 226 with value: 0.4186561147842326.\u001b[0m\n"
     ]
    },
    {
     "name": "stdout",
     "output_type": "stream",
     "text": [
      "Trial 242 finished with value: 0.41696345871828394 and parameters: {'iterations': 12, 'depth': 12, 'learning_rate': 0.8081693782551996, 'l2_leaf_reg': 0.33359645689627876}. Best is trial 226 with value: 0.4186561147842326.\n"
     ]
    },
    {
     "name": "stderr",
     "output_type": "stream",
     "text": [
      "\u001b[32m[I 2022-07-14 04:15:41,515]\u001b[0m Trial 243 finished with value: 0.4185839064845256 and parameters: {'iterations': 12, 'depth': 12, 'learning_rate': 0.800592814756754, 'l2_leaf_reg': 0.31856689743565697}. Best is trial 226 with value: 0.4186561147842326.\u001b[0m\n"
     ]
    },
    {
     "name": "stdout",
     "output_type": "stream",
     "text": [
      "Trial 243 finished with value: 0.4185839064845256 and parameters: {'iterations': 12, 'depth': 12, 'learning_rate': 0.800592814756754, 'l2_leaf_reg': 0.31856689743565697}. Best is trial 226 with value: 0.4186561147842326.\n"
     ]
    },
    {
     "name": "stderr",
     "output_type": "stream",
     "text": [
      "\u001b[32m[I 2022-07-14 04:17:15,219]\u001b[0m Trial 244 finished with value: 0.41539399123658666 and parameters: {'iterations': 12, 'depth': 12, 'learning_rate': 0.6646095496261342, 'l2_leaf_reg': 0.32429340834564657}. Best is trial 226 with value: 0.4186561147842326.\u001b[0m\n"
     ]
    },
    {
     "name": "stdout",
     "output_type": "stream",
     "text": [
      "Trial 244 finished with value: 0.41539399123658666 and parameters: {'iterations': 12, 'depth': 12, 'learning_rate': 0.6646095496261342, 'l2_leaf_reg': 0.32429340834564657}. Best is trial 226 with value: 0.4186561147842326.\n"
     ]
    },
    {
     "name": "stderr",
     "output_type": "stream",
     "text": [
      "\u001b[32m[I 2022-07-14 04:18:51,506]\u001b[0m Trial 245 finished with value: 0.4171227414617157 and parameters: {'iterations': 12, 'depth': 12, 'learning_rate': 0.8095207001261215, 'l2_leaf_reg': 0.2978560881216995}. Best is trial 226 with value: 0.4186561147842326.\u001b[0m\n"
     ]
    },
    {
     "name": "stdout",
     "output_type": "stream",
     "text": [
      "Trial 245 finished with value: 0.4171227414617157 and parameters: {'iterations': 12, 'depth': 12, 'learning_rate': 0.8095207001261215, 'l2_leaf_reg': 0.2978560881216995}. Best is trial 226 with value: 0.4186561147842326.\n"
     ]
    },
    {
     "name": "stderr",
     "output_type": "stream",
     "text": [
      "\u001b[32m[I 2022-07-14 04:20:26,003]\u001b[0m Trial 246 finished with value: 0.4121743408590211 and parameters: {'iterations': 12, 'depth': 12, 'learning_rate': 0.581379902929746, 'l2_leaf_reg': 0.293324436642306}. Best is trial 226 with value: 0.4186561147842326.\u001b[0m\n"
     ]
    },
    {
     "name": "stdout",
     "output_type": "stream",
     "text": [
      "Trial 246 finished with value: 0.4121743408590211 and parameters: {'iterations': 12, 'depth': 12, 'learning_rate': 0.581379902929746, 'l2_leaf_reg': 0.293324436642306}. Best is trial 226 with value: 0.4186561147842326.\n"
     ]
    },
    {
     "name": "stderr",
     "output_type": "stream",
     "text": [
      "\u001b[32m[I 2022-07-14 04:21:58,656]\u001b[0m Trial 247 finished with value: 0.415684945502658 and parameters: {'iterations': 12, 'depth': 12, 'learning_rate': 0.6942406683382074, 'l2_leaf_reg': 0.3195360704213621}. Best is trial 226 with value: 0.4186561147842326.\u001b[0m\n"
     ]
    },
    {
     "name": "stdout",
     "output_type": "stream",
     "text": [
      "Trial 247 finished with value: 0.415684945502658 and parameters: {'iterations': 12, 'depth': 12, 'learning_rate': 0.6942406683382074, 'l2_leaf_reg': 0.3195360704213621}. Best is trial 226 with value: 0.4186561147842326.\n"
     ]
    },
    {
     "name": "stderr",
     "output_type": "stream",
     "text": [
      "\u001b[32m[I 2022-07-14 04:23:34,405]\u001b[0m Trial 248 finished with value: 0.41566584078741775 and parameters: {'iterations': 12, 'depth': 12, 'learning_rate': 0.9859675490463143, 'l2_leaf_reg': 0.2921253401582958}. Best is trial 226 with value: 0.4186561147842326.\u001b[0m\n"
     ]
    },
    {
     "name": "stdout",
     "output_type": "stream",
     "text": [
      "Trial 248 finished with value: 0.41566584078741775 and parameters: {'iterations': 12, 'depth': 12, 'learning_rate': 0.9859675490463143, 'l2_leaf_reg': 0.2921253401582958}. Best is trial 226 with value: 0.4186561147842326.\n"
     ]
    },
    {
     "name": "stderr",
     "output_type": "stream",
     "text": [
      "\u001b[32m[I 2022-07-14 04:25:09,612]\u001b[0m Trial 249 finished with value: 0.41594617345705565 and parameters: {'iterations': 12, 'depth': 12, 'learning_rate': 0.793092740691658, 'l2_leaf_reg': 0.3443645030668873}. Best is trial 226 with value: 0.4186561147842326.\u001b[0m\n"
     ]
    },
    {
     "name": "stdout",
     "output_type": "stream",
     "text": [
      "Trial 249 finished with value: 0.41594617345705565 and parameters: {'iterations': 12, 'depth': 12, 'learning_rate': 0.793092740691658, 'l2_leaf_reg': 0.3443645030668873}. Best is trial 226 with value: 0.4186561147842326.\n"
     ]
    },
    {
     "name": "stderr",
     "output_type": "stream",
     "text": [
      "\u001b[32m[I 2022-07-14 04:26:43,805]\u001b[0m Trial 250 finished with value: 0.41247379594746214 and parameters: {'iterations': 12, 'depth': 12, 'learning_rate': 0.5318890133000088, 'l2_leaf_reg': 0.2609892578950555}. Best is trial 226 with value: 0.4186561147842326.\u001b[0m\n"
     ]
    },
    {
     "name": "stdout",
     "output_type": "stream",
     "text": [
      "Trial 250 finished with value: 0.41247379594746214 and parameters: {'iterations': 12, 'depth': 12, 'learning_rate': 0.5318890133000088, 'l2_leaf_reg': 0.2609892578950555}. Best is trial 226 with value: 0.4186561147842326.\n"
     ]
    },
    {
     "name": "stderr",
     "output_type": "stream",
     "text": [
      "\u001b[32m[I 2022-07-14 04:27:14,032]\u001b[0m Trial 251 finished with value: 0.34228928811228404 and parameters: {'iterations': 12, 'depth': 8, 'learning_rate': 0.6548673627588284, 'l2_leaf_reg': 0.321504934816688}. Best is trial 226 with value: 0.4186561147842326.\u001b[0m\n"
     ]
    },
    {
     "name": "stdout",
     "output_type": "stream",
     "text": [
      "Trial 251 finished with value: 0.34228928811228404 and parameters: {'iterations': 12, 'depth': 8, 'learning_rate': 0.6548673627588284, 'l2_leaf_reg': 0.321504934816688}. Best is trial 226 with value: 0.4186561147842326.\n"
     ]
    },
    {
     "name": "stderr",
     "output_type": "stream",
     "text": [
      "\u001b[32m[I 2022-07-14 04:28:47,526]\u001b[0m Trial 252 finished with value: 0.4152262159700351 and parameters: {'iterations': 12, 'depth': 12, 'learning_rate': 0.779266031249354, 'l2_leaf_reg': 0.035717177404943214}. Best is trial 226 with value: 0.4186561147842326.\u001b[0m\n"
     ]
    },
    {
     "name": "stdout",
     "output_type": "stream",
     "text": [
      "Trial 252 finished with value: 0.4152262159700351 and parameters: {'iterations': 12, 'depth': 12, 'learning_rate': 0.779266031249354, 'l2_leaf_reg': 0.035717177404943214}. Best is trial 226 with value: 0.4186561147842326.\n"
     ]
    },
    {
     "name": "stderr",
     "output_type": "stream",
     "text": [
      "\u001b[32m[I 2022-07-14 04:30:22,373]\u001b[0m Trial 253 finished with value: 0.4155171752878237 and parameters: {'iterations': 12, 'depth': 12, 'learning_rate': 0.979291620717825, 'l2_leaf_reg': 0.35840337611646716}. Best is trial 226 with value: 0.4186561147842326.\u001b[0m\n"
     ]
    },
    {
     "name": "stdout",
     "output_type": "stream",
     "text": [
      "Trial 253 finished with value: 0.4155171752878237 and parameters: {'iterations': 12, 'depth': 12, 'learning_rate': 0.979291620717825, 'l2_leaf_reg': 0.35840337611646716}. Best is trial 226 with value: 0.4186561147842326.\n"
     ]
    },
    {
     "name": "stderr",
     "output_type": "stream",
     "text": [
      "\u001b[32m[I 2022-07-14 04:31:58,372]\u001b[0m Trial 254 finished with value: 0.4129686422141271 and parameters: {'iterations': 12, 'depth': 12, 'learning_rate': 0.544496309189251, 'l2_leaf_reg': 0.38837015584193707}. Best is trial 226 with value: 0.4186561147842326.\u001b[0m\n"
     ]
    },
    {
     "name": "stdout",
     "output_type": "stream",
     "text": [
      "Trial 254 finished with value: 0.4129686422141271 and parameters: {'iterations': 12, 'depth': 12, 'learning_rate': 0.544496309189251, 'l2_leaf_reg': 0.38837015584193707}. Best is trial 226 with value: 0.4186561147842326.\n"
     ]
    },
    {
     "name": "stderr",
     "output_type": "stream",
     "text": [
      "\u001b[32m[I 2022-07-14 04:32:09,532]\u001b[0m Trial 255 finished with value: 0.3005018441129325 and parameters: {'iterations': 1, 'depth': 11, 'learning_rate': 0.8048457493857756, 'l2_leaf_reg': 0.296584344738447}. Best is trial 226 with value: 0.4186561147842326.\u001b[0m\n"
     ]
    },
    {
     "name": "stdout",
     "output_type": "stream",
     "text": [
      "Trial 255 finished with value: 0.3005018441129325 and parameters: {'iterations': 1, 'depth': 11, 'learning_rate': 0.8048457493857756, 'l2_leaf_reg': 0.296584344738447}. Best is trial 226 with value: 0.4186561147842326.\n"
     ]
    },
    {
     "name": "stderr",
     "output_type": "stream",
     "text": [
      "\u001b[32m[I 2022-07-14 04:33:40,008]\u001b[0m Trial 256 finished with value: 0.410194992823253 and parameters: {'iterations': 11, 'depth': 12, 'learning_rate': 0.6288830237374854, 'l2_leaf_reg': 0.42236870138430477}. Best is trial 226 with value: 0.4186561147842326.\u001b[0m\n"
     ]
    },
    {
     "name": "stdout",
     "output_type": "stream",
     "text": [
      "Trial 256 finished with value: 0.410194992823253 and parameters: {'iterations': 11, 'depth': 12, 'learning_rate': 0.6288830237374854, 'l2_leaf_reg': 0.42236870138430477}. Best is trial 226 with value: 0.4186561147842326.\n"
     ]
    },
    {
     "name": "stderr",
     "output_type": "stream",
     "text": [
      "\u001b[32m[I 2022-07-14 04:35:17,585]\u001b[0m Trial 257 finished with value: 0.40457334176140797 and parameters: {'iterations': 12, 'depth': 12, 'learning_rate': 0.45220532734334007, 'l2_leaf_reg': 0.34606909293038646}. Best is trial 226 with value: 0.4186561147842326.\u001b[0m\n"
     ]
    },
    {
     "name": "stdout",
     "output_type": "stream",
     "text": [
      "Trial 257 finished with value: 0.40457334176140797 and parameters: {'iterations': 12, 'depth': 12, 'learning_rate': 0.45220532734334007, 'l2_leaf_reg': 0.34606909293038646}. Best is trial 226 with value: 0.4186561147842326.\n"
     ]
    },
    {
     "name": "stderr",
     "output_type": "stream",
     "text": [
      "\u001b[32m[I 2022-07-14 04:36:54,143]\u001b[0m Trial 258 finished with value: 0.41426415035390435 and parameters: {'iterations': 12, 'depth': 12, 'learning_rate': 0.9854979542639974, 'l2_leaf_reg': 0.3953358102785372}. Best is trial 226 with value: 0.4186561147842326.\u001b[0m\n"
     ]
    },
    {
     "name": "stdout",
     "output_type": "stream",
     "text": [
      "Trial 258 finished with value: 0.41426415035390435 and parameters: {'iterations': 12, 'depth': 12, 'learning_rate': 0.9854979542639974, 'l2_leaf_reg': 0.3953358102785372}. Best is trial 226 with value: 0.4186561147842326.\n"
     ]
    },
    {
     "name": "stderr",
     "output_type": "stream",
     "text": [
      "\u001b[32m[I 2022-07-14 04:38:28,005]\u001b[0m Trial 259 finished with value: 0.4133126913143691 and parameters: {'iterations': 12, 'depth': 12, 'learning_rate': 0.6785250978776872, 'l2_leaf_reg': 0.06036882486180698}. Best is trial 226 with value: 0.4186561147842326.\u001b[0m\n"
     ]
    },
    {
     "name": "stdout",
     "output_type": "stream",
     "text": [
      "Trial 259 finished with value: 0.4133126913143691 and parameters: {'iterations': 12, 'depth': 12, 'learning_rate': 0.6785250978776872, 'l2_leaf_reg': 0.06036882486180698}. Best is trial 226 with value: 0.4186561147842326.\n"
     ]
    },
    {
     "name": "stderr",
     "output_type": "stream",
     "text": [
      "\u001b[32m[I 2022-07-14 04:38:55,092]\u001b[0m Trial 260 finished with value: 0.33116493906873673 and parameters: {'iterations': 12, 'depth': 7, 'learning_rate': 0.8211371026705145, 'l2_leaf_reg': 0.34120548873469225}. Best is trial 226 with value: 0.4186561147842326.\u001b[0m\n"
     ]
    },
    {
     "name": "stdout",
     "output_type": "stream",
     "text": [
      "Trial 260 finished with value: 0.33116493906873673 and parameters: {'iterations': 12, 'depth': 7, 'learning_rate': 0.8211371026705145, 'l2_leaf_reg': 0.34120548873469225}. Best is trial 226 with value: 0.4186561147842326.\n"
     ]
    },
    {
     "name": "stderr",
     "output_type": "stream",
     "text": [
      "\u001b[32m[I 2022-07-14 04:40:31,812]\u001b[0m Trial 261 finished with value: 0.411086962862566 and parameters: {'iterations': 12, 'depth': 12, 'learning_rate': 0.5381152233718802, 'l2_leaf_reg': 0.44593846391584263}. Best is trial 226 with value: 0.4186561147842326.\u001b[0m\n"
     ]
    },
    {
     "name": "stdout",
     "output_type": "stream",
     "text": [
      "Trial 261 finished with value: 0.411086962862566 and parameters: {'iterations': 12, 'depth': 12, 'learning_rate': 0.5381152233718802, 'l2_leaf_reg': 0.44593846391584263}. Best is trial 226 with value: 0.4186561147842326.\n"
     ]
    },
    {
     "name": "stderr",
     "output_type": "stream",
     "text": [
      "\u001b[32m[I 2022-07-14 04:42:05,058]\u001b[0m Trial 262 finished with value: 0.401738098427969 and parameters: {'iterations': 12, 'depth': 12, 'learning_rate': 0.3525815996444292, 'l2_leaf_reg': 0.2307596871558512}. Best is trial 226 with value: 0.4186561147842326.\u001b[0m\n"
     ]
    },
    {
     "name": "stdout",
     "output_type": "stream",
     "text": [
      "Trial 262 finished with value: 0.401738098427969 and parameters: {'iterations': 12, 'depth': 12, 'learning_rate': 0.3525815996444292, 'l2_leaf_reg': 0.2307596871558512}. Best is trial 226 with value: 0.4186561147842326.\n"
     ]
    },
    {
     "name": "stderr",
     "output_type": "stream",
     "text": [
      "/home/ygobrito/anaconda3/lib/python3.8/site-packages/joblib/externals/loky/process_executor.py:702: UserWarning: A worker stopped while some jobs were given to the executor. This can be caused by a too short worker timeout or by a memory leak.\n",
      "  warnings.warn(\n",
      "\u001b[32m[I 2022-07-14 04:43:03,399]\u001b[0m Trial 263 finished with value: 0.4005912471502513 and parameters: {'iterations': 11, 'depth': 11, 'learning_rate': 0.8184382006905752, 'l2_leaf_reg': 0.3117813451628656}. Best is trial 226 with value: 0.4186561147842326.\u001b[0m\n"
     ]
    },
    {
     "name": "stdout",
     "output_type": "stream",
     "text": [
      "Trial 263 finished with value: 0.4005912471502513 and parameters: {'iterations': 11, 'depth': 11, 'learning_rate': 0.8184382006905752, 'l2_leaf_reg': 0.3117813451628656}. Best is trial 226 with value: 0.4186561147842326.\n"
     ]
    },
    {
     "name": "stderr",
     "output_type": "stream",
     "text": [
      "\u001b[32m[I 2022-07-14 04:44:37,653]\u001b[0m Trial 264 finished with value: 0.41352931062051707 and parameters: {'iterations': 12, 'depth': 12, 'learning_rate': 0.6734214442261193, 'l2_leaf_reg': 0.36867795410022974}. Best is trial 226 with value: 0.4186561147842326.\u001b[0m\n"
     ]
    },
    {
     "name": "stdout",
     "output_type": "stream",
     "text": [
      "Trial 264 finished with value: 0.41352931062051707 and parameters: {'iterations': 12, 'depth': 12, 'learning_rate': 0.6734214442261193, 'l2_leaf_reg': 0.36867795410022974}. Best is trial 226 with value: 0.4186561147842326.\n"
     ]
    },
    {
     "name": "stderr",
     "output_type": "stream",
     "text": [
      "\u001b[32m[I 2022-07-14 04:46:15,756]\u001b[0m Trial 265 finished with value: 0.413191635569667 and parameters: {'iterations': 12, 'depth': 12, 'learning_rate': 0.9881833994154479, 'l2_leaf_reg': 0.26294201473219564}. Best is trial 226 with value: 0.4186561147842326.\u001b[0m\n"
     ]
    },
    {
     "name": "stdout",
     "output_type": "stream",
     "text": [
      "Trial 265 finished with value: 0.413191635569667 and parameters: {'iterations': 12, 'depth': 12, 'learning_rate': 0.9881833994154479, 'l2_leaf_reg': 0.26294201473219564}. Best is trial 226 with value: 0.4186561147842326.\n"
     ]
    },
    {
     "name": "stderr",
     "output_type": "stream",
     "text": [
      "\u001b[32m[I 2022-07-14 04:47:49,719]\u001b[0m Trial 266 finished with value: 0.4140326503800513 and parameters: {'iterations': 12, 'depth': 12, 'learning_rate': 0.6696085395468268, 'l2_leaf_reg': 0.4163697770631589}. Best is trial 226 with value: 0.4186561147842326.\u001b[0m\n"
     ]
    },
    {
     "name": "stdout",
     "output_type": "stream",
     "text": [
      "Trial 266 finished with value: 0.4140326503800513 and parameters: {'iterations': 12, 'depth': 12, 'learning_rate': 0.6696085395468268, 'l2_leaf_reg': 0.4163697770631589}. Best is trial 226 with value: 0.4186561147842326.\n"
     ]
    },
    {
     "name": "stderr",
     "output_type": "stream",
     "text": [
      "\u001b[32m[I 2022-07-14 04:49:24,192]\u001b[0m Trial 267 finished with value: 0.4060557329275388 and parameters: {'iterations': 12, 'depth': 12, 'learning_rate': 0.43444584153018134, 'l2_leaf_reg': 0.28862306654826564}. Best is trial 226 with value: 0.4186561147842326.\u001b[0m\n"
     ]
    },
    {
     "name": "stdout",
     "output_type": "stream",
     "text": [
      "Trial 267 finished with value: 0.4060557329275388 and parameters: {'iterations': 12, 'depth': 12, 'learning_rate': 0.43444584153018134, 'l2_leaf_reg': 0.28862306654826564}. Best is trial 226 with value: 0.4186561147842326.\n"
     ]
    },
    {
     "name": "stderr",
     "output_type": "stream",
     "text": [
      "\u001b[32m[I 2022-07-14 04:50:25,528]\u001b[0m Trial 268 finished with value: 0.3995952036836466 and parameters: {'iterations': 11, 'depth': 11, 'learning_rate': 0.8070087781544341, 'l2_leaf_reg': 0.3322394899264131}. Best is trial 226 with value: 0.4186561147842326.\u001b[0m\n"
     ]
    },
    {
     "name": "stdout",
     "output_type": "stream",
     "text": [
      "Trial 268 finished with value: 0.3995952036836466 and parameters: {'iterations': 11, 'depth': 11, 'learning_rate': 0.8070087781544341, 'l2_leaf_reg': 0.3322394899264131}. Best is trial 226 with value: 0.4186561147842326.\n"
     ]
    },
    {
     "name": "stderr",
     "output_type": "stream",
     "text": [
      "\u001b[32m[I 2022-07-14 04:51:58,116]\u001b[0m Trial 269 finished with value: 0.4132001337083119 and parameters: {'iterations': 12, 'depth': 12, 'learning_rate': 0.5447702724420288, 'l2_leaf_reg': 0.384476099640242}. Best is trial 226 with value: 0.4186561147842326.\u001b[0m\n"
     ]
    },
    {
     "name": "stdout",
     "output_type": "stream",
     "text": [
      "Trial 269 finished with value: 0.4132001337083119 and parameters: {'iterations': 12, 'depth': 12, 'learning_rate': 0.5447702724420288, 'l2_leaf_reg': 0.384476099640242}. Best is trial 226 with value: 0.4186561147842326.\n"
     ]
    },
    {
     "name": "stderr",
     "output_type": "stream",
     "text": [
      "\u001b[32m[I 2022-07-14 04:53:30,994]\u001b[0m Trial 270 finished with value: 0.4128985500652605 and parameters: {'iterations': 12, 'depth': 12, 'learning_rate': 0.7480321721871187, 'l2_leaf_reg': 0.4652863924132725}. Best is trial 226 with value: 0.4186561147842326.\u001b[0m\n"
     ]
    },
    {
     "name": "stdout",
     "output_type": "stream",
     "text": [
      "Trial 270 finished with value: 0.4128985500652605 and parameters: {'iterations': 12, 'depth': 12, 'learning_rate': 0.7480321721871187, 'l2_leaf_reg': 0.4652863924132725}. Best is trial 226 with value: 0.4186561147842326.\n"
     ]
    },
    {
     "name": "stderr",
     "output_type": "stream",
     "text": [
      "\u001b[32m[I 2022-07-14 04:53:43,458]\u001b[0m Trial 271 finished with value: 0.285578056527799 and parameters: {'iterations': 12, 'depth': 4, 'learning_rate': 0.9756810521188655, 'l2_leaf_reg': 0.3658429004878403}. Best is trial 226 with value: 0.4186561147842326.\u001b[0m\n"
     ]
    },
    {
     "name": "stdout",
     "output_type": "stream",
     "text": [
      "Trial 271 finished with value: 0.285578056527799 and parameters: {'iterations': 12, 'depth': 4, 'learning_rate': 0.9756810521188655, 'l2_leaf_reg': 0.3658429004878403}. Best is trial 226 with value: 0.4186561147842326.\n"
     ]
    },
    {
     "name": "stderr",
     "output_type": "stream",
     "text": [
      "\u001b[32m[I 2022-07-14 04:55:18,052]\u001b[0m Trial 272 finished with value: 0.4114734891697516 and parameters: {'iterations': 12, 'depth': 12, 'learning_rate': 0.6071261644929474, 'l2_leaf_reg': 0.3158461531044625}. Best is trial 226 with value: 0.4186561147842326.\u001b[0m\n"
     ]
    },
    {
     "name": "stdout",
     "output_type": "stream",
     "text": [
      "Trial 272 finished with value: 0.4114734891697516 and parameters: {'iterations': 12, 'depth': 12, 'learning_rate': 0.6071261644929474, 'l2_leaf_reg': 0.3158461531044625}. Best is trial 226 with value: 0.4186561147842326.\n"
     ]
    },
    {
     "name": "stderr",
     "output_type": "stream",
     "text": [
      "\u001b[32m[I 2022-07-14 04:56:55,952]\u001b[0m Trial 273 finished with value: 0.34548771194058714 and parameters: {'iterations': 12, 'depth': 12, 'learning_rate': 0.0005061047171544036, 'l2_leaf_reg': 0.3985284179676315}. Best is trial 226 with value: 0.4186561147842326.\u001b[0m\n"
     ]
    },
    {
     "name": "stdout",
     "output_type": "stream",
     "text": [
      "Trial 273 finished with value: 0.34548771194058714 and parameters: {'iterations': 12, 'depth': 12, 'learning_rate': 0.0005061047171544036, 'l2_leaf_reg': 0.3985284179676315}. Best is trial 226 with value: 0.4186561147842326.\n"
     ]
    },
    {
     "name": "stderr",
     "output_type": "stream",
     "text": [
      "\u001b[32m[I 2022-07-14 04:58:31,066]\u001b[0m Trial 274 finished with value: 0.4164792389644559 and parameters: {'iterations': 12, 'depth': 12, 'learning_rate': 0.8127852795821047, 'l2_leaf_reg': 0.44402081579552094}. Best is trial 226 with value: 0.4186561147842326.\u001b[0m\n"
     ]
    },
    {
     "name": "stdout",
     "output_type": "stream",
     "text": [
      "Trial 274 finished with value: 0.4164792389644559 and parameters: {'iterations': 12, 'depth': 12, 'learning_rate': 0.8127852795821047, 'l2_leaf_reg': 0.44402081579552094}. Best is trial 226 with value: 0.4186561147842326.\n"
     ]
    },
    {
     "name": "stderr",
     "output_type": "stream",
     "text": [
      "\u001b[32m[I 2022-07-14 04:59:56,908]\u001b[0m Trial 275 finished with value: 0.40309094678393687 and parameters: {'iterations': 11, 'depth': 12, 'learning_rate': 0.45902495252416786, 'l2_leaf_reg': 0.08697032337435963}. Best is trial 226 with value: 0.4186561147842326.\u001b[0m\n"
     ]
    },
    {
     "name": "stdout",
     "output_type": "stream",
     "text": [
      "Trial 275 finished with value: 0.40309094678393687 and parameters: {'iterations': 11, 'depth': 12, 'learning_rate': 0.45902495252416786, 'l2_leaf_reg': 0.08697032337435963}. Best is trial 226 with value: 0.4186561147842326.\n"
     ]
    },
    {
     "name": "stderr",
     "output_type": "stream",
     "text": [
      "\u001b[32m[I 2022-07-14 05:00:58,926]\u001b[0m Trial 276 finished with value: 0.40387674585077293 and parameters: {'iterations': 12, 'depth': 11, 'learning_rate': 0.9849033182722763, 'l2_leaf_reg': 0.2828699690461505}. Best is trial 226 with value: 0.4186561147842326.\u001b[0m\n"
     ]
    },
    {
     "name": "stdout",
     "output_type": "stream",
     "text": [
      "Trial 276 finished with value: 0.40387674585077293 and parameters: {'iterations': 12, 'depth': 11, 'learning_rate': 0.9849033182722763, 'l2_leaf_reg': 0.2828699690461505}. Best is trial 226 with value: 0.4186561147842326.\n"
     ]
    },
    {
     "name": "stderr",
     "output_type": "stream",
     "text": [
      "\u001b[32m[I 2022-07-14 05:02:36,463]\u001b[0m Trial 277 finished with value: 0.359719145163213 and parameters: {'iterations': 12, 'depth': 12, 'learning_rate': 0.04969066952940769, 'l2_leaf_reg': 0.343257512912049}. Best is trial 226 with value: 0.4186561147842326.\u001b[0m\n"
     ]
    },
    {
     "name": "stdout",
     "output_type": "stream",
     "text": [
      "Trial 277 finished with value: 0.359719145163213 and parameters: {'iterations': 12, 'depth': 12, 'learning_rate': 0.04969066952940769, 'l2_leaf_reg': 0.343257512912049}. Best is trial 226 with value: 0.4186561147842326.\n"
     ]
    },
    {
     "name": "stderr",
     "output_type": "stream",
     "text": [
      "\u001b[32m[I 2022-07-14 05:04:11,717]\u001b[0m Trial 278 finished with value: 0.41309180964431225 and parameters: {'iterations': 12, 'depth': 12, 'learning_rate': 0.648859014985343, 'l2_leaf_reg': 0.3023569648953135}. Best is trial 226 with value: 0.4186561147842326.\u001b[0m\n"
     ]
    },
    {
     "name": "stdout",
     "output_type": "stream",
     "text": [
      "Trial 278 finished with value: 0.41309180964431225 and parameters: {'iterations': 12, 'depth': 12, 'learning_rate': 0.648859014985343, 'l2_leaf_reg': 0.3023569648953135}. Best is trial 226 with value: 0.4186561147842326.\n"
     ]
    },
    {
     "name": "stderr",
     "output_type": "stream",
     "text": [
      "\u001b[32m[I 2022-07-14 05:05:45,926]\u001b[0m Trial 279 finished with value: 0.41585697420240386 and parameters: {'iterations': 12, 'depth': 12, 'learning_rate': 0.7880570982780238, 'l2_leaf_reg': 0.4134692626180023}. Best is trial 226 with value: 0.4186561147842326.\u001b[0m\n"
     ]
    },
    {
     "name": "stdout",
     "output_type": "stream",
     "text": [
      "Trial 279 finished with value: 0.41585697420240386 and parameters: {'iterations': 12, 'depth': 12, 'learning_rate': 0.7880570982780238, 'l2_leaf_reg': 0.4134692626180023}. Best is trial 226 with value: 0.4186561147842326.\n"
     ]
    },
    {
     "name": "stderr",
     "output_type": "stream",
     "text": [
      "\u001b[32m[I 2022-07-14 05:07:20,779]\u001b[0m Trial 280 finished with value: 0.41216796786958787 and parameters: {'iterations': 12, 'depth': 12, 'learning_rate': 0.5409015724783728, 'l2_leaf_reg': 0.3674217466872657}. Best is trial 226 with value: 0.4186561147842326.\u001b[0m\n"
     ]
    },
    {
     "name": "stdout",
     "output_type": "stream",
     "text": [
      "Trial 280 finished with value: 0.41216796786958787 and parameters: {'iterations': 12, 'depth': 12, 'learning_rate': 0.5409015724783728, 'l2_leaf_reg': 0.3674217466872657}. Best is trial 226 with value: 0.4186561147842326.\n"
     ]
    },
    {
     "name": "stderr",
     "output_type": "stream",
     "text": [
      "\u001b[32m[I 2022-07-14 05:08:25,351]\u001b[0m Trial 281 finished with value: 0.3305575450062691 and parameters: {'iterations': 12, 'depth': 11, 'learning_rate': 0.013049136017466182, 'l2_leaf_reg': 0.4809187625731863}. Best is trial 226 with value: 0.4186561147842326.\u001b[0m\n"
     ]
    },
    {
     "name": "stdout",
     "output_type": "stream",
     "text": [
      "Trial 281 finished with value: 0.3305575450062691 and parameters: {'iterations': 12, 'depth': 11, 'learning_rate': 0.013049136017466182, 'l2_leaf_reg': 0.4809187625731863}. Best is trial 226 with value: 0.4186561147842326.\n"
     ]
    },
    {
     "name": "stderr",
     "output_type": "stream",
     "text": [
      "\u001b[32m[I 2022-07-14 05:09:52,923]\u001b[0m Trial 282 finished with value: 0.41129297653931574 and parameters: {'iterations': 11, 'depth': 12, 'learning_rate': 0.6927829064187617, 'l2_leaf_reg': 0.3289840662010564}. Best is trial 226 with value: 0.4186561147842326.\u001b[0m\n"
     ]
    },
    {
     "name": "stdout",
     "output_type": "stream",
     "text": [
      "Trial 282 finished with value: 0.41129297653931574 and parameters: {'iterations': 11, 'depth': 12, 'learning_rate': 0.6927829064187617, 'l2_leaf_reg': 0.3289840662010564}. Best is trial 226 with value: 0.4186561147842326.\n"
     ]
    },
    {
     "name": "stderr",
     "output_type": "stream",
     "text": [
      "\u001b[32m[I 2022-07-14 05:11:26,458]\u001b[0m Trial 283 finished with value: 0.41311093296520773 and parameters: {'iterations': 12, 'depth': 12, 'learning_rate': 0.9873518620916532, 'l2_leaf_reg': 0.26799961067541905}. Best is trial 226 with value: 0.4186561147842326.\u001b[0m\n"
     ]
    },
    {
     "name": "stdout",
     "output_type": "stream",
     "text": [
      "Trial 283 finished with value: 0.41311093296520773 and parameters: {'iterations': 12, 'depth': 12, 'learning_rate': 0.9873518620916532, 'l2_leaf_reg': 0.26799961067541905}. Best is trial 226 with value: 0.4186561147842326.\n"
     ]
    },
    {
     "name": "stderr",
     "output_type": "stream",
     "text": [
      "\u001b[32m[I 2022-07-14 05:13:01,229]\u001b[0m Trial 284 finished with value: 0.4154067336972929 and parameters: {'iterations': 12, 'depth': 12, 'learning_rate': 0.7799177373008939, 'l2_leaf_reg': 0.10449368252296147}. Best is trial 226 with value: 0.4186561147842326.\u001b[0m\n"
     ]
    },
    {
     "name": "stdout",
     "output_type": "stream",
     "text": [
      "Trial 284 finished with value: 0.4154067336972929 and parameters: {'iterations': 12, 'depth': 12, 'learning_rate': 0.7799177373008939, 'l2_leaf_reg': 0.10449368252296147}. Best is trial 226 with value: 0.4186561147842326.\n"
     ]
    },
    {
     "name": "stderr",
     "output_type": "stream",
     "text": [
      "\u001b[32m[I 2022-07-14 05:14:06,575]\u001b[0m Trial 285 finished with value: 0.32820015161710075 and parameters: {'iterations': 12, 'depth': 11, 'learning_rate': 9.166629680687088e-05, 'l2_leaf_reg': 0.24430764030956387}. Best is trial 226 with value: 0.4186561147842326.\u001b[0m\n"
     ]
    },
    {
     "name": "stdout",
     "output_type": "stream",
     "text": [
      "Trial 285 finished with value: 0.32820015161710075 and parameters: {'iterations': 12, 'depth': 11, 'learning_rate': 9.166629680687088e-05, 'l2_leaf_reg': 0.24430764030956387}. Best is trial 226 with value: 0.4186561147842326.\n"
     ]
    },
    {
     "name": "stderr",
     "output_type": "stream",
     "text": [
      "\u001b[32m[I 2022-07-14 05:15:44,767]\u001b[0m Trial 286 finished with value: 0.3457107082053749 and parameters: {'iterations': 12, 'depth': 12, 'learning_rate': 0.001641042003913465, 'l2_leaf_reg': 0.4315116833869204}. Best is trial 226 with value: 0.4186561147842326.\u001b[0m\n"
     ]
    },
    {
     "name": "stdout",
     "output_type": "stream",
     "text": [
      "Trial 286 finished with value: 0.3457107082053749 and parameters: {'iterations': 12, 'depth': 12, 'learning_rate': 0.001641042003913465, 'l2_leaf_reg': 0.4315116833869204}. Best is trial 226 with value: 0.4186561147842326.\n"
     ]
    },
    {
     "name": "stderr",
     "output_type": "stream",
     "text": [
      "\u001b[32m[I 2022-07-14 05:17:12,016]\u001b[0m Trial 287 finished with value: 0.40170624094561713 and parameters: {'iterations': 11, 'depth': 12, 'learning_rate': 0.3949254637917789, 'l2_leaf_reg': 0.3802916839660966}. Best is trial 226 with value: 0.4186561147842326.\u001b[0m\n"
     ]
    },
    {
     "name": "stdout",
     "output_type": "stream",
     "text": [
      "Trial 287 finished with value: 0.40170624094561713 and parameters: {'iterations': 11, 'depth': 12, 'learning_rate': 0.3949254637917789, 'l2_leaf_reg': 0.3802916839660966}. Best is trial 226 with value: 0.4186561147842326.\n"
     ]
    },
    {
     "name": "stderr",
     "output_type": "stream",
     "text": [
      "\u001b[32m[I 2022-07-14 05:18:45,813]\u001b[0m Trial 288 finished with value: 0.4142280513910821 and parameters: {'iterations': 12, 'depth': 12, 'learning_rate': 0.9975772960958083, 'l2_leaf_reg': 0.33717752355996905}. Best is trial 226 with value: 0.4186561147842326.\u001b[0m\n"
     ]
    },
    {
     "name": "stdout",
     "output_type": "stream",
     "text": [
      "Trial 288 finished with value: 0.4142280513910821 and parameters: {'iterations': 12, 'depth': 12, 'learning_rate': 0.9975772960958083, 'l2_leaf_reg': 0.33717752355996905}. Best is trial 226 with value: 0.4186561147842326.\n"
     ]
    },
    {
     "name": "stderr",
     "output_type": "stream",
     "text": [
      "\u001b[32m[I 2022-07-14 05:19:07,048]\u001b[0m Trial 289 finished with value: 0.3407686748863793 and parameters: {'iterations': 2, 'depth': 12, 'learning_rate': 0.5606851915414042, 'l2_leaf_reg': 0.30348477491255393}. Best is trial 226 with value: 0.4186561147842326.\u001b[0m\n"
     ]
    },
    {
     "name": "stdout",
     "output_type": "stream",
     "text": [
      "Trial 289 finished with value: 0.3407686748863793 and parameters: {'iterations': 2, 'depth': 12, 'learning_rate': 0.5606851915414042, 'l2_leaf_reg': 0.30348477491255393}. Best is trial 226 with value: 0.4186561147842326.\n"
     ]
    },
    {
     "name": "stderr",
     "output_type": "stream",
     "text": [
      "\u001b[32m[I 2022-07-14 05:20:41,384]\u001b[0m Trial 290 finished with value: 0.41213823679937694 and parameters: {'iterations': 12, 'depth': 12, 'learning_rate': 0.6731291686043942, 'l2_leaf_reg': 0.15320817908036177}. Best is trial 226 with value: 0.4186561147842326.\u001b[0m\n"
     ]
    },
    {
     "name": "stdout",
     "output_type": "stream",
     "text": [
      "Trial 290 finished with value: 0.41213823679937694 and parameters: {'iterations': 12, 'depth': 12, 'learning_rate': 0.6731291686043942, 'l2_leaf_reg': 0.15320817908036177}. Best is trial 226 with value: 0.4186561147842326.\n"
     ]
    },
    {
     "name": "stderr",
     "output_type": "stream",
     "text": [
      "\u001b[32m[I 2022-07-14 05:22:15,183]\u001b[0m Trial 291 finished with value: 0.41848833676629915 and parameters: {'iterations': 12, 'depth': 12, 'learning_rate': 0.8066094352129161, 'l2_leaf_reg': 0.36182562406925184}. Best is trial 226 with value: 0.4186561147842326.\u001b[0m\n"
     ]
    },
    {
     "name": "stdout",
     "output_type": "stream",
     "text": [
      "Trial 291 finished with value: 0.41848833676629915 and parameters: {'iterations': 12, 'depth': 12, 'learning_rate': 0.8066094352129161, 'l2_leaf_reg': 0.36182562406925184}. Best is trial 226 with value: 0.4186561147842326.\n"
     ]
    },
    {
     "name": "stderr",
     "output_type": "stream",
     "text": [
      "\u001b[32m[I 2022-07-14 05:23:20,348]\u001b[0m Trial 292 finished with value: 0.381657773263469 and parameters: {'iterations': 12, 'depth': 11, 'learning_rate': 0.3067495967622698, 'l2_leaf_reg': 0.36258539169429643}. Best is trial 226 with value: 0.4186561147842326.\u001b[0m\n"
     ]
    },
    {
     "name": "stdout",
     "output_type": "stream",
     "text": [
      "Trial 292 finished with value: 0.381657773263469 and parameters: {'iterations': 12, 'depth': 11, 'learning_rate': 0.3067495967622698, 'l2_leaf_reg': 0.36258539169429643}. Best is trial 226 with value: 0.4186561147842326.\n"
     ]
    },
    {
     "name": "stderr",
     "output_type": "stream",
     "text": [
      "\u001b[32m[I 2022-07-14 05:23:32,243]\u001b[0m Trial 293 finished with value: 0.2734597801459349 and parameters: {'iterations': 9, 'depth': 5, 'learning_rate': 0.4937948832737358, 'l2_leaf_reg': 0.32138763230728534}. Best is trial 226 with value: 0.4186561147842326.\u001b[0m\n"
     ]
    },
    {
     "name": "stdout",
     "output_type": "stream",
     "text": [
      "Trial 293 finished with value: 0.2734597801459349 and parameters: {'iterations': 9, 'depth': 5, 'learning_rate': 0.4937948832737358, 'l2_leaf_reg': 0.32138763230728534}. Best is trial 226 with value: 0.4186561147842326.\n"
     ]
    },
    {
     "name": "stderr",
     "output_type": "stream",
     "text": [
      "\u001b[32m[I 2022-07-14 05:25:08,101]\u001b[0m Trial 294 finished with value: 0.4129261550841674 and parameters: {'iterations': 12, 'depth': 12, 'learning_rate': 0.6553623799848988, 'l2_leaf_reg': 0.3517324738111138}. Best is trial 226 with value: 0.4186561147842326.\u001b[0m\n"
     ]
    },
    {
     "name": "stdout",
     "output_type": "stream",
     "text": [
      "Trial 294 finished with value: 0.4129261550841674 and parameters: {'iterations': 12, 'depth': 12, 'learning_rate': 0.6553623799848988, 'l2_leaf_reg': 0.3517324738111138}. Best is trial 226 with value: 0.4186561147842326.\n"
     ]
    },
    {
     "name": "stderr",
     "output_type": "stream",
     "text": [
      "\u001b[32m[I 2022-07-14 05:26:45,836]\u001b[0m Trial 295 finished with value: 0.3548875453159169 and parameters: {'iterations': 12, 'depth': 12, 'learning_rate': 0.028106489041233675, 'l2_leaf_reg': 0.013799999987432738}. Best is trial 226 with value: 0.4186561147842326.\u001b[0m\n"
     ]
    },
    {
     "name": "stdout",
     "output_type": "stream",
     "text": [
      "Trial 295 finished with value: 0.3548875453159169 and parameters: {'iterations': 12, 'depth': 12, 'learning_rate': 0.028106489041233675, 'l2_leaf_reg': 0.013799999987432738}. Best is trial 226 with value: 0.4186561147842326.\n"
     ]
    },
    {
     "name": "stderr",
     "output_type": "stream",
     "text": [
      "\u001b[32m[I 2022-07-14 05:26:57,240]\u001b[0m Trial 296 finished with value: 0.2615241546240578 and parameters: {'iterations': 11, 'depth': 3, 'learning_rate': 0.7869085577244046, 'l2_leaf_reg': 0.2883638983124556}. Best is trial 226 with value: 0.4186561147842326.\u001b[0m\n"
     ]
    },
    {
     "name": "stdout",
     "output_type": "stream",
     "text": [
      "Trial 296 finished with value: 0.2615241546240578 and parameters: {'iterations': 11, 'depth': 3, 'learning_rate': 0.7869085577244046, 'l2_leaf_reg': 0.2883638983124556}. Best is trial 226 with value: 0.4186561147842326.\n"
     ]
    },
    {
     "name": "stderr",
     "output_type": "stream",
     "text": [
      "\u001b[32m[I 2022-07-14 05:28:32,286]\u001b[0m Trial 297 finished with value: 0.412885809995099 and parameters: {'iterations': 12, 'depth': 12, 'learning_rate': 0.5867062764660718, 'l2_leaf_reg': 0.39640667286209413}. Best is trial 226 with value: 0.4186561147842326.\u001b[0m\n"
     ]
    },
    {
     "name": "stdout",
     "output_type": "stream",
     "text": [
      "Trial 297 finished with value: 0.412885809995099 and parameters: {'iterations': 12, 'depth': 12, 'learning_rate': 0.5867062764660718, 'l2_leaf_reg': 0.39640667286209413}. Best is trial 226 with value: 0.4186561147842326.\n"
     ]
    },
    {
     "name": "stderr",
     "output_type": "stream",
     "text": [
      "\u001b[32m[I 2022-07-14 05:30:06,992]\u001b[0m Trial 298 finished with value: 0.41711212254900715 and parameters: {'iterations': 12, 'depth': 12, 'learning_rate': 0.8297182508335615, 'l2_leaf_reg': 0.3151830342775885}. Best is trial 226 with value: 0.4186561147842326.\u001b[0m\n"
     ]
    },
    {
     "name": "stdout",
     "output_type": "stream",
     "text": [
      "Trial 298 finished with value: 0.41711212254900715 and parameters: {'iterations': 12, 'depth': 12, 'learning_rate': 0.8297182508335615, 'l2_leaf_reg': 0.3151830342775885}. Best is trial 226 with value: 0.4186561147842326.\n"
     ]
    },
    {
     "name": "stderr",
     "output_type": "stream",
     "text": [
      "\u001b[32m[I 2022-07-14 05:31:40,737]\u001b[0m Trial 299 finished with value: 0.4121913424135514 and parameters: {'iterations': 12, 'depth': 12, 'learning_rate': 0.9975310859291643, 'l2_leaf_reg': 0.26014994793396395}. Best is trial 226 with value: 0.4186561147842326.\u001b[0m\n"
     ]
    },
    {
     "name": "stdout",
     "output_type": "stream",
     "text": [
      "Trial 299 finished with value: 0.4121913424135514 and parameters: {'iterations': 12, 'depth': 12, 'learning_rate': 0.9975310859291643, 'l2_leaf_reg': 0.26014994793396395}. Best is trial 226 with value: 0.4186561147842326.\n"
     ]
    },
    {
     "name": "stderr",
     "output_type": "stream",
     "text": [
      "\u001b[32m[I 2022-07-14 05:31:51,830]\u001b[0m Trial 300 finished with value: 0.24800418135872002 and parameters: {'iterations': 12, 'depth': 2, 'learning_rate': 0.4820705946554799, 'l2_leaf_reg': 0.3138199923968319}. Best is trial 226 with value: 0.4186561147842326.\u001b[0m\n"
     ]
    },
    {
     "name": "stdout",
     "output_type": "stream",
     "text": [
      "Trial 300 finished with value: 0.24800418135872002 and parameters: {'iterations': 12, 'depth': 2, 'learning_rate': 0.4820705946554799, 'l2_leaf_reg': 0.3138199923968319}. Best is trial 226 with value: 0.4186561147842326.\n",
      "Trial: 226\n",
      "\n",
      "\n",
      "Melhor seleção de parâmetros : \n",
      "{'depth': 12, 'iterations': 12, 'l2_leaf_reg': 0.2982072500524196, 'learning_rate': 0.802149821813751}\n",
      "\n",
      "\n",
      "Acurácia : 0.419\n",
      "Pronto em:  21488.882\n"
     ]
    }
   ],
   "source": [
    "t0 = time.time()\n",
    "study, best_params = tune(cbc_objective)  \n",
    "print(\"Pronto em:  %0.3f\" %(time.time()-t0))"
   ]
  },
  {
   "cell_type": "code",
   "execution_count": null,
   "metadata": {
    "id": "mEnV-k7k6L4d"
   },
   "outputs": [],
   "source": [
    "# Determina quais parâmetros tiveram o impacto mais significativo no desempenho geral do modelo.\n",
    "optuna.visualization.plot_param_importances(study)"
   ]
  }
 ],
 "metadata": {
  "colab": {
   "collapsed_sections": [],
   "include_colab_link": true,
   "machine_shape": "hm",
   "name": "Otimização -  Classificação XGBoost.ipynb",
   "provenance": []
  },
  "kernelspec": {
   "display_name": "Python 3 (ipykernel)",
   "language": "python",
   "name": "python3"
  },
  "language_info": {
   "codemirror_mode": {
    "name": "ipython",
    "version": 3
   },
   "file_extension": ".py",
   "mimetype": "text/x-python",
   "name": "python",
   "nbconvert_exporter": "python",
   "pygments_lexer": "ipython3",
   "version": "3.8.12"
  }
 },
 "nbformat": 4,
 "nbformat_minor": 1
}
