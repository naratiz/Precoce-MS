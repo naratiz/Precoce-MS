{
 "cells": [
  {
   "cell_type": "markdown",
   "metadata": {
    "id": "d0f6f2d3"
   },
   "source": [
    "# Regressão Linear - Predição do Peso da Carcaça"
   ]
  },
  {
   "cell_type": "code",
   "execution_count": 38,
   "metadata": {
    "executionInfo": {
     "elapsed": 394,
     "status": "ok",
     "timestamp": 1644982400628,
     "user": {
      "displayName": "Inara Santana Ortiz",
      "photoUrl": "https://lh3.googleusercontent.com/a-/AOh14GiiIA2mH7NX3gcUv6FChCpTqiH5LAcmLjP4xmgD3g=s64",
      "userId": "07948853797805552432"
     },
     "user_tz": 240
    },
    "id": "49b294bb"
   },
   "outputs": [],
   "source": [
    "#!pip install yellowbrick\n",
    "import pandas as pd\n",
    "import numpy as np\n",
    "import matplotlib.pyplot as plt\n",
    "import seaborn as sns\n",
    "\n",
    "from sklearn.model_selection import train_test_split, KFold, cross_validate\n",
    "from sklearn.linear_model import LinearRegression\n",
    "from sklearn.preprocessing import PolynomialFeatures\n",
    "from sklearn import metrics as mt\n",
    "from sklearn.feature_selection import RFE\n",
    "\n",
    "from yellowbrick.datasets import load_concrete\n",
    "from yellowbrick.regressor import PredictionError"
   ]
  },
  {
   "cell_type": "markdown",
   "metadata": {
    "id": "UzBRpP3pyyJI"
   },
   "source": [
    "## Base de dados"
   ]
  },
  {
   "cell_type": "code",
   "execution_count": 2,
   "metadata": {
    "colab": {
     "base_uri": "https://localhost:8080/"
    },
    "executionInfo": {
     "elapsed": 29239,
     "status": "ok",
     "timestamp": 1644970238601,
     "user": {
      "displayName": "Inara Santana Ortiz",
      "photoUrl": "https://lh3.googleusercontent.com/a-/AOh14GiiIA2mH7NX3gcUv6FChCpTqiH5LAcmLjP4xmgD3g=s64",
      "userId": "07948853797805552432"
     },
     "user_tz": 240
    },
    "id": "fe89f04b",
    "outputId": "35372984-d92f-408a-c7bc-305c2623d28d"
   },
   "outputs": [
    {
     "name": "stdout",
     "output_type": "stream",
     "text": [
      "Mounted at /content/drive\n"
     ]
    }
   ],
   "source": [
    "from google.colab import drive\n",
    "drive.mount('/content/drive')"
   ]
  },
  {
   "cell_type": "code",
   "execution_count": 3,
   "metadata": {
    "executionInfo": {
     "elapsed": 7312,
     "status": "ok",
     "timestamp": 1644970245906,
     "user": {
      "displayName": "Inara Santana Ortiz",
      "photoUrl": "https://lh3.googleusercontent.com/a-/AOh14GiiIA2mH7NX3gcUv6FChCpTqiH5LAcmLjP4xmgD3g=s64",
      "userId": "07948853797805552432"
     },
     "user_tz": 240
    },
    "id": "D2YNFN__JktO"
   },
   "outputs": [],
   "source": [
    "path = \"/content/drive/MyDrive/Dissertação/dados/procucao_gado_MS.csv\"\n",
    "df = pd.read_csv(path, sep=';')"
   ]
  },
  {
   "cell_type": "code",
   "execution_count": null,
   "metadata": {
    "colab": {
     "base_uri": "https://localhost:8080/"
    },
    "executionInfo": {
     "elapsed": 319,
     "status": "ok",
     "timestamp": 1642620272472,
     "user": {
      "displayName": "Inara Santana Ortiz",
      "photoUrl": "https://lh3.googleusercontent.com/a-/AOh14GiiIA2mH7NX3gcUv6FChCpTqiH5LAcmLjP4xmgD3g=s64",
      "userId": "07948853797805552432"
     },
     "user_tz": 240
    },
    "id": "d4ed5114",
    "outputId": "7ac5cb25-3d21-4f8d-f908-b9a00a358e33",
    "scrolled": true
   },
   "outputs": [
    {
     "name": "stdout",
     "output_type": "stream",
     "text": [
      "A base de dados apresenta 960939 registros e 53 características.\n"
     ]
    }
   ],
   "source": [
    "print('A base de dados apresenta {} registros e {} características.'.format(df.shape[0], df.shape[1]))"
   ]
  },
  {
   "cell_type": "code",
   "execution_count": null,
   "metadata": {
    "colab": {
     "base_uri": "https://localhost:8080/",
     "height": 270
    },
    "executionInfo": {
     "elapsed": 24,
     "status": "ok",
     "timestamp": 1644812364195,
     "user": {
      "displayName": "Inara Santana Ortiz",
      "photoUrl": "https://lh3.googleusercontent.com/a-/AOh14GiiIA2mH7NX3gcUv6FChCpTqiH5LAcmLjP4xmgD3g=s64",
      "userId": "07948853797805552432"
     },
     "user_tz": 240
    },
    "id": "56d6603d",
    "outputId": "1d727db3-b7df-4c8c-cfd6-010a00fa3388",
    "scrolled": true
   },
   "outputs": [
    {
     "data": {
      "text/html": [
       "\n",
       "  <div id=\"df-f9003a5c-f980-4d8e-9ac2-4e73bb627419\">\n",
       "    <div class=\"colab-df-container\">\n",
       "      <div>\n",
       "<style scoped>\n",
       "    .dataframe tbody tr th:only-of-type {\n",
       "        vertical-align: middle;\n",
       "    }\n",
       "\n",
       "    .dataframe tbody tr th {\n",
       "        vertical-align: top;\n",
       "    }\n",
       "\n",
       "    .dataframe thead th {\n",
       "        text-align: right;\n",
       "    }\n",
       "</style>\n",
       "<table border=\"1\" class=\"dataframe\">\n",
       "  <thead>\n",
       "    <tr style=\"text-align: right;\">\n",
       "      <th></th>\n",
       "      <th>tipificacao_1</th>\n",
       "      <th>tipificacao_2</th>\n",
       "      <th>tipificacao_3</th>\n",
       "      <th>maturidade</th>\n",
       "      <th>acabamento</th>\n",
       "      <th>peso</th>\n",
       "      <th>classificacao_estabelecimento</th>\n",
       "      <th>outros_incentivos</th>\n",
       "      <th>pratica_recuperacao_pastagem</th>\n",
       "      <th>fertiirrigacao</th>\n",
       "      <th>ilp</th>\n",
       "      <th>ilpf</th>\n",
       "      <th>ifp</th>\n",
       "      <th>fabrica_racao</th>\n",
       "      <th>identificacao_individual</th>\n",
       "      <th>regua_de_manejo</th>\n",
       "      <th>bpa</th>\n",
       "      <th>participa_aliancas_mercadologicas</th>\n",
       "      <th>rastreamento_sisbov</th>\n",
       "      <th>tot1m_chuva</th>\n",
       "      <th>med1m_formituinst</th>\n",
       "      <th>med1m_ndvi</th>\n",
       "      <th>med1m_prer_soja</th>\n",
       "      <th>med1m_prer_milho</th>\n",
       "      <th>med1m_prer_boi</th>\n",
       "      <th>tot3m_chuva</th>\n",
       "      <th>med3m_formituinst</th>\n",
       "      <th>med3m_ndvi</th>\n",
       "      <th>med3m_prer_soja</th>\n",
       "      <th>med3m_prer_milho</th>\n",
       "      <th>med3m_prer_boi</th>\n",
       "      <th>tot6m_chuva</th>\n",
       "      <th>med6m_formituinst</th>\n",
       "      <th>med6m_ndvi</th>\n",
       "      <th>med6m_prer_soja</th>\n",
       "      <th>med6m_prer_milho</th>\n",
       "      <th>med6m_prer_boi</th>\n",
       "      <th>tot12m_chuva</th>\n",
       "      <th>med12m_formituinst</th>\n",
       "      <th>med12m_ndvi</th>\n",
       "      <th>med12m_prer_soja</th>\n",
       "      <th>med12m_prer_milho</th>\n",
       "      <th>med12m_prer_boi</th>\n",
       "      <th>cnt1m_cl_ituinst</th>\n",
       "      <th>cnt3m_cl_ituinst</th>\n",
       "      <th>cnt6m_cl_ituinst</th>\n",
       "      <th>cnt12m_cl_ituinst</th>\n",
       "      <th>ano</th>\n",
       "      <th>categoria</th>\n",
       "      <th>classificacao</th>\n",
       "      <th>longitude</th>\n",
       "      <th>latitude</th>\n",
       "      <th>mes</th>\n",
       "    </tr>\n",
       "  </thead>\n",
       "  <tbody>\n",
       "    <tr>\n",
       "      <th>538581</th>\n",
       "      <td>0</td>\n",
       "      <td>1</td>\n",
       "      <td>0</td>\n",
       "      <td>4</td>\n",
       "      <td>2</td>\n",
       "      <td>248.4</td>\n",
       "      <td>21.0</td>\n",
       "      <td>0</td>\n",
       "      <td>0</td>\n",
       "      <td>0</td>\n",
       "      <td>0</td>\n",
       "      <td>0</td>\n",
       "      <td>0</td>\n",
       "      <td>0</td>\n",
       "      <td>0</td>\n",
       "      <td>0</td>\n",
       "      <td>0</td>\n",
       "      <td>0</td>\n",
       "      <td>0</td>\n",
       "      <td>27.48</td>\n",
       "      <td>69.22</td>\n",
       "      <td>0.45</td>\n",
       "      <td>85.11</td>\n",
       "      <td>39.38</td>\n",
       "      <td>138.64</td>\n",
       "      <td>79.93</td>\n",
       "      <td>70.27</td>\n",
       "      <td>0.51</td>\n",
       "      <td>85.73</td>\n",
       "      <td>40.79</td>\n",
       "      <td>140.60</td>\n",
       "      <td>263.95</td>\n",
       "      <td>72.29</td>\n",
       "      <td>0.57</td>\n",
       "      <td>80.83</td>\n",
       "      <td>38.71</td>\n",
       "      <td>142.94</td>\n",
       "      <td>1183.21</td>\n",
       "      <td>72.24</td>\n",
       "      <td>0.54</td>\n",
       "      <td>76.42</td>\n",
       "      <td>34.19</td>\n",
       "      <td>140.59</td>\n",
       "      <td>0.8710</td>\n",
       "      <td>0.7742</td>\n",
       "      <td>0.5847</td>\n",
       "      <td>0.6066</td>\n",
       "      <td>2018</td>\n",
       "      <td>5</td>\n",
       "      <td>1</td>\n",
       "      <td>-52.82807</td>\n",
       "      <td>-21.305380</td>\n",
       "      <td>7</td>\n",
       "    </tr>\n",
       "    <tr>\n",
       "      <th>322957</th>\n",
       "      <td>1</td>\n",
       "      <td>0</td>\n",
       "      <td>0</td>\n",
       "      <td>2</td>\n",
       "      <td>2</td>\n",
       "      <td>290.0</td>\n",
       "      <td>21.0</td>\n",
       "      <td>0</td>\n",
       "      <td>1</td>\n",
       "      <td>0</td>\n",
       "      <td>1</td>\n",
       "      <td>0</td>\n",
       "      <td>0</td>\n",
       "      <td>1</td>\n",
       "      <td>1</td>\n",
       "      <td>0</td>\n",
       "      <td>0</td>\n",
       "      <td>0</td>\n",
       "      <td>1</td>\n",
       "      <td>312.97</td>\n",
       "      <td>72.92</td>\n",
       "      <td>0.67</td>\n",
       "      <td>72.42</td>\n",
       "      <td>33.05</td>\n",
       "      <td>146.70</td>\n",
       "      <td>733.82</td>\n",
       "      <td>72.40</td>\n",
       "      <td>0.65</td>\n",
       "      <td>73.29</td>\n",
       "      <td>32.18</td>\n",
       "      <td>143.22</td>\n",
       "      <td>1012.83</td>\n",
       "      <td>71.17</td>\n",
       "      <td>0.55</td>\n",
       "      <td>71.88</td>\n",
       "      <td>30.08</td>\n",
       "      <td>140.01</td>\n",
       "      <td>1905.18</td>\n",
       "      <td>70.54</td>\n",
       "      <td>0.60</td>\n",
       "      <td>71.15</td>\n",
       "      <td>30.35</td>\n",
       "      <td>138.71</td>\n",
       "      <td>0.6129</td>\n",
       "      <td>0.6774</td>\n",
       "      <td>0.7322</td>\n",
       "      <td>0.7213</td>\n",
       "      <td>2018</td>\n",
       "      <td>4</td>\n",
       "      <td>1</td>\n",
       "      <td>-54.19884</td>\n",
       "      <td>-23.060000</td>\n",
       "      <td>1</td>\n",
       "    </tr>\n",
       "    <tr>\n",
       "      <th>145496</th>\n",
       "      <td>1</td>\n",
       "      <td>0</td>\n",
       "      <td>0</td>\n",
       "      <td>1</td>\n",
       "      <td>2</td>\n",
       "      <td>281.5</td>\n",
       "      <td>21.0</td>\n",
       "      <td>0</td>\n",
       "      <td>0</td>\n",
       "      <td>0</td>\n",
       "      <td>0</td>\n",
       "      <td>0</td>\n",
       "      <td>0</td>\n",
       "      <td>1</td>\n",
       "      <td>1</td>\n",
       "      <td>1</td>\n",
       "      <td>0</td>\n",
       "      <td>1</td>\n",
       "      <td>1</td>\n",
       "      <td>51.87</td>\n",
       "      <td>71.68</td>\n",
       "      <td>0.45</td>\n",
       "      <td>70.44</td>\n",
       "      <td>29.28</td>\n",
       "      <td>143.23</td>\n",
       "      <td>147.79</td>\n",
       "      <td>69.69</td>\n",
       "      <td>0.45</td>\n",
       "      <td>70.79</td>\n",
       "      <td>27.40</td>\n",
       "      <td>133.98</td>\n",
       "      <td>278.80</td>\n",
       "      <td>69.88</td>\n",
       "      <td>0.54</td>\n",
       "      <td>69.49</td>\n",
       "      <td>27.47</td>\n",
       "      <td>133.86</td>\n",
       "      <td>648.55</td>\n",
       "      <td>70.33</td>\n",
       "      <td>0.59</td>\n",
       "      <td>70.70</td>\n",
       "      <td>30.05</td>\n",
       "      <td>137.74</td>\n",
       "      <td>0.8387</td>\n",
       "      <td>0.8495</td>\n",
       "      <td>0.8619</td>\n",
       "      <td>0.8321</td>\n",
       "      <td>2017</td>\n",
       "      <td>2</td>\n",
       "      <td>1</td>\n",
       "      <td>-54.98750</td>\n",
       "      <td>-19.447430</td>\n",
       "      <td>10</td>\n",
       "    </tr>\n",
       "    <tr>\n",
       "      <th>855211</th>\n",
       "      <td>1</td>\n",
       "      <td>0</td>\n",
       "      <td>0</td>\n",
       "      <td>1</td>\n",
       "      <td>3</td>\n",
       "      <td>267.0</td>\n",
       "      <td>21.0</td>\n",
       "      <td>0</td>\n",
       "      <td>1</td>\n",
       "      <td>0</td>\n",
       "      <td>1</td>\n",
       "      <td>0</td>\n",
       "      <td>0</td>\n",
       "      <td>1</td>\n",
       "      <td>1</td>\n",
       "      <td>0</td>\n",
       "      <td>0</td>\n",
       "      <td>0</td>\n",
       "      <td>1</td>\n",
       "      <td>113.03</td>\n",
       "      <td>73.11</td>\n",
       "      <td>0.60</td>\n",
       "      <td>86.52</td>\n",
       "      <td>35.30</td>\n",
       "      <td>146.18</td>\n",
       "      <td>145.82</td>\n",
       "      <td>71.26</td>\n",
       "      <td>0.54</td>\n",
       "      <td>91.33</td>\n",
       "      <td>38.34</td>\n",
       "      <td>147.84</td>\n",
       "      <td>169.27</td>\n",
       "      <td>69.76</td>\n",
       "      <td>0.51</td>\n",
       "      <td>89.15</td>\n",
       "      <td>39.18</td>\n",
       "      <td>144.42</td>\n",
       "      <td>840.40</td>\n",
       "      <td>71.21</td>\n",
       "      <td>0.57</td>\n",
       "      <td>83.57</td>\n",
       "      <td>37.84</td>\n",
       "      <td>144.37</td>\n",
       "      <td>0.5161</td>\n",
       "      <td>0.6237</td>\n",
       "      <td>0.7432</td>\n",
       "      <td>0.6603</td>\n",
       "      <td>2018</td>\n",
       "      <td>1</td>\n",
       "      <td>1</td>\n",
       "      <td>-54.96603</td>\n",
       "      <td>-20.931054</td>\n",
       "      <td>11</td>\n",
       "    </tr>\n",
       "    <tr>\n",
       "      <th>719040</th>\n",
       "      <td>0</td>\n",
       "      <td>0</td>\n",
       "      <td>1</td>\n",
       "      <td>2</td>\n",
       "      <td>3</td>\n",
       "      <td>322.2</td>\n",
       "      <td>21.0</td>\n",
       "      <td>0</td>\n",
       "      <td>0</td>\n",
       "      <td>0</td>\n",
       "      <td>0</td>\n",
       "      <td>0</td>\n",
       "      <td>0</td>\n",
       "      <td>1</td>\n",
       "      <td>0</td>\n",
       "      <td>1</td>\n",
       "      <td>0</td>\n",
       "      <td>1</td>\n",
       "      <td>0</td>\n",
       "      <td>68.52</td>\n",
       "      <td>71.70</td>\n",
       "      <td>0.53</td>\n",
       "      <td>95.53</td>\n",
       "      <td>40.26</td>\n",
       "      <td>149.79</td>\n",
       "      <td>142.45</td>\n",
       "      <td>70.14</td>\n",
       "      <td>0.46</td>\n",
       "      <td>91.09</td>\n",
       "      <td>39.55</td>\n",
       "      <td>145.35</td>\n",
       "      <td>334.96</td>\n",
       "      <td>69.87</td>\n",
       "      <td>0.52</td>\n",
       "      <td>88.34</td>\n",
       "      <td>40.29</td>\n",
       "      <td>143.07</td>\n",
       "      <td>1666.40</td>\n",
       "      <td>71.20</td>\n",
       "      <td>0.58</td>\n",
       "      <td>81.48</td>\n",
       "      <td>37.26</td>\n",
       "      <td>143.48</td>\n",
       "      <td>0.6452</td>\n",
       "      <td>0.7957</td>\n",
       "      <td>0.8306</td>\n",
       "      <td>0.6858</td>\n",
       "      <td>2018</td>\n",
       "      <td>2</td>\n",
       "      <td>1</td>\n",
       "      <td>-54.86556</td>\n",
       "      <td>-20.442310</td>\n",
       "      <td>10</td>\n",
       "    </tr>\n",
       "  </tbody>\n",
       "</table>\n",
       "</div>\n",
       "      <button class=\"colab-df-convert\" onclick=\"convertToInteractive('df-f9003a5c-f980-4d8e-9ac2-4e73bb627419')\"\n",
       "              title=\"Convert this dataframe to an interactive table.\"\n",
       "              style=\"display:none;\">\n",
       "        \n",
       "  <svg xmlns=\"http://www.w3.org/2000/svg\" height=\"24px\"viewBox=\"0 0 24 24\"\n",
       "       width=\"24px\">\n",
       "    <path d=\"M0 0h24v24H0V0z\" fill=\"none\"/>\n",
       "    <path d=\"M18.56 5.44l.94 2.06.94-2.06 2.06-.94-2.06-.94-.94-2.06-.94 2.06-2.06.94zm-11 1L8.5 8.5l.94-2.06 2.06-.94-2.06-.94L8.5 2.5l-.94 2.06-2.06.94zm10 10l.94 2.06.94-2.06 2.06-.94-2.06-.94-.94-2.06-.94 2.06-2.06.94z\"/><path d=\"M17.41 7.96l-1.37-1.37c-.4-.4-.92-.59-1.43-.59-.52 0-1.04.2-1.43.59L10.3 9.45l-7.72 7.72c-.78.78-.78 2.05 0 2.83L4 21.41c.39.39.9.59 1.41.59.51 0 1.02-.2 1.41-.59l7.78-7.78 2.81-2.81c.8-.78.8-2.07 0-2.86zM5.41 20L4 18.59l7.72-7.72 1.47 1.35L5.41 20z\"/>\n",
       "  </svg>\n",
       "      </button>\n",
       "      \n",
       "  <style>\n",
       "    .colab-df-container {\n",
       "      display:flex;\n",
       "      flex-wrap:wrap;\n",
       "      gap: 12px;\n",
       "    }\n",
       "\n",
       "    .colab-df-convert {\n",
       "      background-color: #E8F0FE;\n",
       "      border: none;\n",
       "      border-radius: 50%;\n",
       "      cursor: pointer;\n",
       "      display: none;\n",
       "      fill: #1967D2;\n",
       "      height: 32px;\n",
       "      padding: 0 0 0 0;\n",
       "      width: 32px;\n",
       "    }\n",
       "\n",
       "    .colab-df-convert:hover {\n",
       "      background-color: #E2EBFA;\n",
       "      box-shadow: 0px 1px 2px rgba(60, 64, 67, 0.3), 0px 1px 3px 1px rgba(60, 64, 67, 0.15);\n",
       "      fill: #174EA6;\n",
       "    }\n",
       "\n",
       "    [theme=dark] .colab-df-convert {\n",
       "      background-color: #3B4455;\n",
       "      fill: #D2E3FC;\n",
       "    }\n",
       "\n",
       "    [theme=dark] .colab-df-convert:hover {\n",
       "      background-color: #434B5C;\n",
       "      box-shadow: 0px 1px 3px 1px rgba(0, 0, 0, 0.15);\n",
       "      filter: drop-shadow(0px 1px 2px rgba(0, 0, 0, 0.3));\n",
       "      fill: #FFFFFF;\n",
       "    }\n",
       "  </style>\n",
       "\n",
       "      <script>\n",
       "        const buttonEl =\n",
       "          document.querySelector('#df-f9003a5c-f980-4d8e-9ac2-4e73bb627419 button.colab-df-convert');\n",
       "        buttonEl.style.display =\n",
       "          google.colab.kernel.accessAllowed ? 'block' : 'none';\n",
       "\n",
       "        async function convertToInteractive(key) {\n",
       "          const element = document.querySelector('#df-f9003a5c-f980-4d8e-9ac2-4e73bb627419');\n",
       "          const dataTable =\n",
       "            await google.colab.kernel.invokeFunction('convertToInteractive',\n",
       "                                                     [key], {});\n",
       "          if (!dataTable) return;\n",
       "\n",
       "          const docLinkHtml = 'Like what you see? Visit the ' +\n",
       "            '<a target=\"_blank\" href=https://colab.research.google.com/notebooks/data_table.ipynb>data table notebook</a>'\n",
       "            + ' to learn more about interactive tables.';\n",
       "          element.innerHTML = '';\n",
       "          dataTable['output_type'] = 'display_data';\n",
       "          await google.colab.output.renderOutput(dataTable, element);\n",
       "          const docLink = document.createElement('div');\n",
       "          docLink.innerHTML = docLinkHtml;\n",
       "          element.appendChild(docLink);\n",
       "        }\n",
       "      </script>\n",
       "    </div>\n",
       "  </div>\n",
       "  "
      ],
      "text/plain": [
       "        tipificacao_1  tipificacao_2  tipificacao_3  ...  longitude   latitude  mes\n",
       "538581              0              1              0  ...  -52.82807 -21.305380    7\n",
       "322957              1              0              0  ...  -54.19884 -23.060000    1\n",
       "145496              1              0              0  ...  -54.98750 -19.447430   10\n",
       "855211              1              0              0  ...  -54.96603 -20.931054   11\n",
       "719040              0              0              1  ...  -54.86556 -20.442310   10\n",
       "\n",
       "[5 rows x 53 columns]"
      ]
     },
     "execution_count": 5,
     "metadata": {},
     "output_type": "execute_result"
    }
   ],
   "source": [
    "df.sample(5)"
   ]
  },
  {
   "cell_type": "markdown",
   "metadata": {
    "id": "6B-QyRPU041e"
   },
   "source": [
    "Resumo breve das estatísticas dos dados"
   ]
  },
  {
   "cell_type": "code",
   "execution_count": 4,
   "metadata": {
    "executionInfo": {
     "elapsed": 403,
     "status": "ok",
     "timestamp": 1644970258922,
     "user": {
      "displayName": "Inara Santana Ortiz",
      "photoUrl": "https://lh3.googleusercontent.com/a-/AOh14GiiIA2mH7NX3gcUv6FChCpTqiH5LAcmLjP4xmgD3g=s64",
      "userId": "07948853797805552432"
     },
     "user_tz": 240
    },
    "id": "XWZ3q8m0tHTL"
   },
   "outputs": [],
   "source": [
    "X = df.drop(['peso','acabamento', 'maturidade', 'categoria','classificacao', 'ano'],axis=1)\n",
    "y = df['peso']"
   ]
  },
  {
   "cell_type": "markdown",
   "metadata": {
    "id": "c147855a"
   },
   "source": [
    "## LinearRegression"
   ]
  },
  {
   "cell_type": "code",
   "execution_count": 7,
   "metadata": {
    "executionInfo": {
     "elapsed": 11621,
     "status": "ok",
     "timestamp": 1644973078136,
     "user": {
      "displayName": "Inara Santana Ortiz",
      "photoUrl": "https://lh3.googleusercontent.com/a-/AOh14GiiIA2mH7NX3gcUv6FChCpTqiH5LAcmLjP4xmgD3g=s64",
      "userId": "07948853797805552432"
     },
     "user_tz": 240
    },
    "id": "92c7ed8a"
   },
   "outputs": [],
   "source": [
    "cv = KFold(n_splits = 10, shuffle = True)\n",
    "lr = LinearRegression()\n",
    "scores = cross_validate(lr, X, y,cv=cv,\n",
    "                        scoring=('r2', 'neg_mean_absolute_error','neg_root_mean_squared_error','neg_mean_squared_error'),\n",
    "                        return_train_score=True,\n",
    "                        n_jobs=-1)"
   ]
  },
  {
   "cell_type": "code",
   "execution_count": 8,
   "metadata": {
    "executionInfo": {
     "elapsed": 6,
     "status": "ok",
     "timestamp": 1644973212518,
     "user": {
      "displayName": "Inara Santana Ortiz",
      "photoUrl": "https://lh3.googleusercontent.com/a-/AOh14GiiIA2mH7NX3gcUv6FChCpTqiH5LAcmLjP4xmgD3g=s64",
      "userId": "07948853797805552432"
     },
     "user_tz": 240
    },
    "id": "b185e672"
   },
   "outputs": [],
   "source": [
    "def imprime_resultados(scores, nome_metrica):\n",
    "    media = scores [nome_metrica].mean()\n",
    "    desvio_padrao = scores[nome_metrica].std()\n",
    "    print('Métrica ' + nome_metrica + ': ')\n",
    "    print('Média %.2f +/- %.2f' % (media, desvio_padrao))\n",
    "    print('Intervalo: [ %.2f, %.2f ]'  % (min(scores [nome_metrica]), max(scores [nome_metrica])))\n",
    "    print('\\n')"
   ]
  },
  {
   "cell_type": "code",
   "execution_count": 9,
   "metadata": {
    "colab": {
     "base_uri": "https://localhost:8080/"
    },
    "executionInfo": {
     "elapsed": 7,
     "status": "ok",
     "timestamp": 1644973215132,
     "user": {
      "displayName": "Inara Santana Ortiz",
      "photoUrl": "https://lh3.googleusercontent.com/a-/AOh14GiiIA2mH7NX3gcUv6FChCpTqiH5LAcmLjP4xmgD3g=s64",
      "userId": "07948853797805552432"
     },
     "user_tz": 240
    },
    "id": "bc666d80",
    "outputId": "2f77b673-542b-419d-df19-8479dd394469"
   },
   "outputs": [
    {
     "name": "stdout",
     "output_type": "stream",
     "text": [
      "Métrica test_r2: \n",
      "Média 0.55 +/- 0.00\n",
      "Intervalo: [ 0.55, 0.56 ]\n",
      "\n",
      "\n",
      "Métrica test_neg_mean_absolute_error: \n",
      "Média -23.53 +/- 0.06\n",
      "Intervalo: [ -23.63, -23.42 ]\n",
      "\n",
      "\n",
      "Métrica test_neg_root_mean_squared_error: \n",
      "Média -29.67 +/- 0.07\n",
      "Intervalo: [ -29.75, -29.54 ]\n",
      "\n",
      "\n",
      "Métrica test_neg_mean_squared_error: \n",
      "Média -880.36 +/- 3.96\n",
      "Intervalo: [ -884.85, -872.55 ]\n",
      "\n",
      "\n"
     ]
    }
   ],
   "source": [
    "imprime_resultados(scores, nome_metrica='test_r2')\n",
    "imprime_resultados(scores, nome_metrica='test_neg_mean_absolute_error')\n",
    "imprime_resultados(scores, nome_metrica='test_neg_root_mean_squared_error')\n",
    "imprime_resultados(scores, nome_metrica='test_neg_mean_squared_error')        "
   ]
  },
  {
   "cell_type": "code",
   "execution_count": 37,
   "metadata": {
    "colab": {
     "base_uri": "https://localhost:8080/",
     "height": 395
    },
    "executionInfo": {
     "elapsed": 5076,
     "status": "ok",
     "timestamp": 1644981387748,
     "user": {
      "displayName": "Inara Santana Ortiz",
      "photoUrl": "https://lh3.googleusercontent.com/a-/AOh14GiiIA2mH7NX3gcUv6FChCpTqiH5LAcmLjP4xmgD3g=s64",
      "userId": "07948853797805552432"
     },
     "user_tz": 240
    },
    "id": "ZpFOdGOOSrpA",
    "outputId": "69119c1e-00ab-4d2c-ece3-ed7b38c69c13"
   },
   "outputs": [
    {
     "data": {
      "image/png": "[encoded data removed]",
      "text/plain": [
       "<Figure size 576x396 with 1 Axes>"
      ]
     },
     "metadata": {},
     "output_type": "display_data"
    },
    {
     "data": {
      "text/plain": [
       "<matplotlib.axes._subplots.AxesSubplot at 0x7f0490d44990>"
      ]
     },
     "execution_count": 37,
     "metadata": {},
     "output_type": "execute_result"
    }
   ],
   "source": [
    "X_train, X_test, y_train, y_test = train_test_split(X, y, test_size=0.2, random_state=42)\n",
    "\n",
    "lr = LinearRegression()\n",
    "visualizer = PredictionError(lr)\n",
    "\n",
    "visualizer.fit(X_train, y_train)  \n",
    "visualizer.score(X_test, y_test) \n",
    "visualizer.poof()                 "
   ]
  },
  {
   "cell_type": "markdown",
   "metadata": {
    "id": "aONKB_-EgOYv"
   },
   "source": [
    "R-Quadrado Ajustado"
   ]
  },
  {
   "cell_type": "code",
   "execution_count": null,
   "metadata": {
    "colab": {
     "base_uri": "https://localhost:8080/"
    },
    "executionInfo": {
     "elapsed": 1852,
     "status": "ok",
     "timestamp": 1644813896443,
     "user": {
      "displayName": "Inara Santana Ortiz",
      "photoUrl": "https://lh3.googleusercontent.com/a-/AOh14GiiIA2mH7NX3gcUv6FChCpTqiH5LAcmLjP4xmgD3g=s64",
      "userId": "07948853797805552432"
     },
     "user_tz": 240
    },
    "id": "dbvmgrergaNc",
    "outputId": "5ea7e88f-c87d-47bb-da3a-13ca5bb8b61a"
   },
   "outputs": [
    {
     "name": "stdout",
     "output_type": "stream",
     "text": [
      "0.5523695428497084\n"
     ]
    }
   ],
   "source": [
    "X_train, X_test, y_train, y_test = train_test_split(X,y,test_size=0.2, random_state=42) \n",
    "lr.fit(X_train, y_train)\n",
    "y_pred = lr.predict(X_test)\n",
    "\n",
    "R2 = mt.r2_score(y_test,y_pred)\n",
    "print(R2)"
   ]
  },
  {
   "cell_type": "code",
   "execution_count": null,
   "metadata": {
    "id": "SbG6y7ffgQI8"
   },
   "outputs": [],
   "source": [
    "def adjusted_r2(y_test, y_pred, X_train):\n",
    "    adj_r2 = (1 - ((1 - mt.r2_score(y_test, y_pred)) * (len(y_test) - 1)) / \n",
    "          (len(y_test) - X_train.shape[1] - 1))\n",
    "    return adj_r2"
   ]
  },
  {
   "cell_type": "code",
   "execution_count": null,
   "metadata": {
    "colab": {
     "base_uri": "https://localhost:8080/"
    },
    "executionInfo": {
     "elapsed": 281,
     "status": "ok",
     "timestamp": 1644815371541,
     "user": {
      "displayName": "Inara Santana Ortiz",
      "photoUrl": "https://lh3.googleusercontent.com/a-/AOh14GiiIA2mH7NX3gcUv6FChCpTqiH5LAcmLjP4xmgD3g=s64",
      "userId": "07948853797805552432"
     },
     "user_tz": 240
    },
    "id": "-4GXCkgvkYKe",
    "outputId": "c3e2f9ff-41f7-4dbd-f63b-7338ab05adea"
   },
   "outputs": [
    {
     "name": "stdout",
     "output_type": "stream",
     "text": [
      "Valor do R-Quadrado Ajustado: 0.55\n"
     ]
    }
   ],
   "source": [
    "print('Valor do R-Quadrado Ajustado: %.2f' % adjusted_r2(y_test,y_pred,X_train))"
   ]
  },
  {
   "cell_type": "code",
   "execution_count": null,
   "metadata": {
    "colab": {
     "base_uri": "https://localhost:8080/",
     "height": 334
    },
    "executionInfo": {
     "elapsed": 1724,
     "status": "ok",
     "timestamp": 1644815670638,
     "user": {
      "displayName": "Inara Santana Ortiz",
      "photoUrl": "https://lh3.googleusercontent.com/a-/AOh14GiiIA2mH7NX3gcUv6FChCpTqiH5LAcmLjP4xmgD3g=s64",
      "userId": "07948853797805552432"
     },
     "user_tz": 240
    },
    "id": "imW1IJ33pmFN",
    "outputId": "b934b88c-d811-4031-e3e9-72395491ce67"
   },
   "outputs": [
    {
     "name": "stderr",
     "output_type": "stream",
     "text": [
      "/usr/local/lib/python3.7/dist-packages/seaborn/distributions.py:2619: FutureWarning: `distplot` is a deprecated function and will be removed in a future version. Please adapt your code to use either `displot` (a figure-level function with similar flexibility) or `histplot` (an axes-level function for histograms).\n",
      "  warnings.warn(msg, FutureWarning)\n"
     ]
    },
    {
     "data": {
      "image/png": "[encoded data removed]",
      "text/plain": [
       "<Figure size 432x288 with 1 Axes>"
      ]
     },
     "metadata": {
      "needs_background": "light"
     },
     "output_type": "display_data"
    }
   ],
   "source": [
    "sns.distplot(y_test - y_pred, axlabel=\"Test - Prediction\")\n",
    "plt.show()"
   ]
  },
  {
   "cell_type": "markdown",
   "metadata": {
    "id": "fa9b581b"
   },
   "source": [
    "## PolynomialFeatures"
   ]
  },
  {
   "cell_type": "markdown",
   "metadata": {
    "id": "srPTQ_zyKgs4"
   },
   "source": [
    "A técnica Regressão Polinomial para gerar um modelo linear que se encaixa em dados não lineares.  A partir das variáveis existentes, será construindo novas variáveis polinomiais e a regressão com elas terá mais capacidade quanto maior o grau do polinômio criado. No entanto consome muita capacidade de memória conforme o valor do parâmetro degree (grau), antes será aplicado a técnica RFE para elinimar algumas características."
   ]
  },
  {
   "cell_type": "markdown",
   "metadata": {
    "id": "S-Pf60k9Ud4p"
   },
   "source": [
    "### RFE (Recursive Feature Elimination)\n",
    "\n",
    "Reduz a complexidade do modelo removendo recursos um por um até que o número ideal de recursos seja deixado.\n"
   ]
  },
  {
   "cell_type": "code",
   "execution_count": null,
   "metadata": {
    "id": "Buc5Oc6X15Ws"
   },
   "outputs": [],
   "source": [
    "# O RFE tem como parametro o número de recursos a serem selecionados. Se nenhum valor for informado, metade dos recursos são selecionados. \n",
    "# A iteração abaixo visa encontrar o melhor valor para este parâmetro dentro de um intervalo. \n",
    "\n",
    "def num_recursos_selecao(min, max, estimator) :\n",
    "    # nº de recursos a serem testados dentro do intervalo 20 a 30\n",
    "    nof_list=np.arange(min,max) \n",
    "    # Variável para armazenar o melhor score encontrado            \n",
    "    high_score=0\n",
    "    # Variável para armazenar os numero de recursos ideal \n",
    "    nof=0           \n",
    "    score_list =[]\n",
    "    for n in range(len(nof_list)):\n",
    "        X_train, X_test, y_train, y_test = train_test_split(X,y, test_size = 0.3, random_state = 0)\n",
    "        rfe = RFE(estimator,n_features_to_select = nof_list[n])\n",
    "        X_train_rfe = rfe.fit_transform(X_train,y_train)\n",
    "        X_test_rfe = rfe.transform(X_test)\n",
    "        estimator.fit(X_train_rfe,y_train)\n",
    "        score = estimator.score(X_test_rfe,y_test)\n",
    "        score_list.append(score)\n",
    "        print(\"Score com %d recursos: %f\" % (nof_list[n], score))\n",
    "        if(score>high_score):\n",
    "            high_score = score\n",
    "            nof = nof_list[n]\n",
    "    print(\"====================================\")\n",
    "    print(\"Número ideal de recursos: %d\" %nof)\n",
    "    print(\"Score com %d recursos: %f\" % (nof, high_score))"
   ]
  },
  {
   "cell_type": "code",
   "execution_count": null,
   "metadata": {
    "id": "1g9ovwGb3jY3"
   },
   "outputs": [],
   "source": [
    "# Retorna os n recusos mais significativos\n",
    "def selecao_rfe(n) :\n",
    "    model = LinearRegression()\n",
    "    #Inicializando o modelo RFE\n",
    "    rfe = RFE(model, n_features_to_select = n)\n",
    "    X_rfe = rfe.fit_transform(X,y)  \n",
    "    #Treinando o modelo\n",
    "    model.fit(X_rfe,y)  \n",
    "    cols = list(X.columns)            \n",
    "    temp = pd.Series(rfe.support_,index = cols)\n",
    "    selected_features_rfe = temp[temp==True].index\n",
    "    return selected_features_rfe"
   ]
  },
  {
   "cell_type": "code",
   "execution_count": null,
   "metadata": {
    "id": "2eXy4wDx4qyB"
   },
   "outputs": [],
   "source": [
    "# Retorna o score do modelo linear dos recursos gerados de forma polinomial \n",
    "def polynomial_features(selected_features_rfe, degree):\n",
    "    df_selection = df[df.columns.intersection(selected_features_rfe)]\n",
    "    X_train, X_test, y_train, y_test = train_test_split(df_selection,y, test_size = 0.3, random_state = 0)\n",
    "    poly = PolynomialFeatures(degree=degree)\n",
    "    X_train_poly = poly.fit_transform(X_train)\n",
    "    poly.fit(X_train_poly , y_train)\n",
    "    lr2 = LinearRegression()\n",
    "    lr2.fit(X_train_poly, y_train)\n",
    "    y_pred_poly = lr2.predict(poly.fit_transform(X_test))\n",
    "    print(\"R2 com grau polinomial igual a %d : %f\" % (degree, mt.r2_score(y_test, y_pred_poly )))"
   ]
  },
  {
   "cell_type": "code",
   "execution_count": null,
   "metadata": {
    "colab": {
     "base_uri": "https://localhost:8080/"
    },
    "executionInfo": {
     "elapsed": 197518,
     "status": "ok",
     "timestamp": 1642621588985,
     "user": {
      "displayName": "Inara Santana Ortiz",
      "photoUrl": "https://lh3.googleusercontent.com/a-/AOh14GiiIA2mH7NX3gcUv6FChCpTqiH5LAcmLjP4xmgD3g=s64",
      "userId": "07948853797805552432"
     },
     "user_tz": 240
    },
    "id": "aTL94apNUc19",
    "outputId": "2eb72aa2-9a69-4237-8272-4d5501ef2f63"
   },
   "outputs": [
    {
     "name": "stdout",
     "output_type": "stream",
     "text": [
      "Score com 20 recursos: 0.548354\n",
      "Score com 21 recursos: 0.548508\n",
      "Score com 22 recursos: 0.548508\n",
      "Score com 23 recursos: 0.548596\n",
      "Score com 24 recursos: 0.548893\n",
      "Score com 25 recursos: 0.549218\n",
      "Score com 26 recursos: 0.549876\n",
      "Score com 27 recursos: 0.549954\n",
      "Score com 28 recursos: 0.550272\n",
      "Score com 29 recursos: 0.550382\n",
      "Score com 30 recursos: 0.550542\n",
      "====================================\n",
      "Número ideal de recursos: 30\n",
      "Score com 30 recursos: 0.550542\n"
     ]
    }
   ],
   "source": [
    "estimator = LinearRegression()\n",
    "num_recursos_selecao(20, 31, estimator)"
   ]
  },
  {
   "cell_type": "markdown",
   "metadata": {
    "id": "RVdsFcYdy8U5"
   },
   "source": [
    "Agora informamos o valor 30 como número de recursos para RFE e obtemos o conjunto final de recursos dado pelo método RFE."
   ]
  },
  {
   "cell_type": "code",
   "execution_count": null,
   "metadata": {
    "id": "WQ05KW6w4EoR"
   },
   "outputs": [],
   "source": [
    "selected_features_rfe = selecao_rfe(30)"
   ]
  },
  {
   "cell_type": "code",
   "execution_count": null,
   "metadata": {
    "colab": {
     "base_uri": "https://localhost:8080/"
    },
    "executionInfo": {
     "elapsed": 26667,
     "status": "ok",
     "timestamp": 1642623584300,
     "user": {
      "displayName": "Inara Santana Ortiz",
      "photoUrl": "https://lh3.googleusercontent.com/a-/AOh14GiiIA2mH7NX3gcUv6FChCpTqiH5LAcmLjP4xmgD3g=s64",
      "userId": "07948853797805552432"
     },
     "user_tz": 240
    },
    "id": "UDRU0cpo9qM1",
    "outputId": "b366218d-2bff-4d21-b06e-3e3d50a8593e"
   },
   "outputs": [
    {
     "name": "stdout",
     "output_type": "stream",
     "text": [
      "R2 com 2 grau polinomial: 0.611767\n"
     ]
    }
   ],
   "source": [
    "polynomial_features(selected_features_rfe, 2)"
   ]
  },
  {
   "cell_type": "markdown",
   "metadata": {
    "id": "rqME-xAD-1t3"
   },
   "source": [
    "Menos recursos mais grau"
   ]
  },
  {
   "cell_type": "code",
   "execution_count": null,
   "metadata": {
    "colab": {
     "base_uri": "https://localhost:8080/"
    },
    "executionInfo": {
     "elapsed": 244066,
     "status": "ok",
     "timestamp": 1642624441478,
     "user": {
      "displayName": "Inara Santana Ortiz",
      "photoUrl": "https://lh3.googleusercontent.com/a-/AOh14GiiIA2mH7NX3gcUv6FChCpTqiH5LAcmLjP4xmgD3g=s64",
      "userId": "07948853797805552432"
     },
     "user_tz": 240
    },
    "id": "yBif7ftc3Yim",
    "outputId": "5763a6ec-29fb-4bc6-8e99-9c2c613646a3"
   },
   "outputs": [
    {
     "name": "stdout",
     "output_type": "stream",
     "text": [
      "Score com 5 recursos: 0.534494\n",
      "Score com 6 recursos: 0.535259\n",
      "Score com 7 recursos: 0.539937\n",
      "Score com 8 recursos: 0.543513\n",
      "Score com 9 recursos: 0.545213\n",
      "Score com 10 recursos: 0.546621\n",
      "Score com 11 recursos: 0.546971\n",
      "Score com 12 recursos: 0.547156\n",
      "Score com 13 recursos: 0.547315\n",
      "Score com 14 recursos: 0.547331\n",
      "Score com 15 recursos: 0.547496\n",
      "====================================\n",
      "Número ideal de recursos: 15\n",
      "Score com 15 recursos: 0.547496\n"
     ]
    }
   ],
   "source": [
    "estimator = LinearRegression()\n",
    "num_recursos_selecao(10, 20, estimator)"
   ]
  },
  {
   "cell_type": "code",
   "execution_count": null,
   "metadata": {
    "colab": {
     "base_uri": "https://localhost:8080/"
    },
    "executionInfo": {
     "elapsed": 97400,
     "status": "ok",
     "timestamp": 1642624766678,
     "user": {
      "displayName": "Inara Santana Ortiz",
      "photoUrl": "https://lh3.googleusercontent.com/a-/AOh14GiiIA2mH7NX3gcUv6FChCpTqiH5LAcmLjP4xmgD3g=s64",
      "userId": "07948853797805552432"
     },
     "user_tz": 240
    },
    "id": "JkHy9afi4JKd",
    "outputId": "6e8f3170-95d0-4cbc-9b33-3c1aab337a11"
   },
   "outputs": [
    {
     "name": "stdout",
     "output_type": "stream",
     "text": [
      "R2 com grau polinomial igual a 4 : 0.597154\n"
     ]
    }
   ],
   "source": [
    "selected_features_rfe = selecao_rfe(10)\n",
    "polynomial_features(selected_features_rfe, 4)"
   ]
  },
  {
   "cell_type": "code",
   "execution_count": null,
   "metadata": {
    "colab": {
     "base_uri": "https://localhost:8080/"
    },
    "executionInfo": {
     "elapsed": 298742,
     "status": "ok",
     "timestamp": 1642628350497,
     "user": {
      "displayName": "Inara Santana Ortiz",
      "photoUrl": "https://lh3.googleusercontent.com/a-/AOh14GiiIA2mH7NX3gcUv6FChCpTqiH5LAcmLjP4xmgD3g=s64",
      "userId": "07948853797805552432"
     },
     "user_tz": 240
    },
    "id": "DZRTANjHEyLH",
    "outputId": "bd4415c8-756c-407e-e0c3-a5930da4e31d"
   },
   "outputs": [
    {
     "name": "stdout",
     "output_type": "stream",
     "text": [
      "R2 com grau polinomial igual a 5 : 0.617976\n"
     ]
    }
   ],
   "source": [
    "selected_features_rfe = selecao_rfe(10)\n",
    "polynomial_features(selected_features_rfe, 5)"
   ]
  },
  {
   "cell_type": "code",
   "execution_count": null,
   "metadata": {
    "id": "L4WdXs3HS-64"
   },
   "outputs": [],
   "source": [
    "selected_features_rfe = selecao_rfe(10)\n",
    "polynomial_features(selected_features_rfe, 6)"
   ]
  },
  {
   "cell_type": "markdown",
   "metadata": {
    "id": "TjOdqDywTv6l"
   },
   "source": [
    "*Falha memória*"
   ]
  },
  {
   "cell_type": "code",
   "execution_count": null,
   "metadata": {
    "colab": {
     "base_uri": "https://localhost:8080/"
    },
    "executionInfo": {
     "elapsed": 42457,
     "status": "ok",
     "timestamp": 1642629797322,
     "user": {
      "displayName": "Inara Santana Ortiz",
      "photoUrl": "https://lh3.googleusercontent.com/a-/AOh14GiiIA2mH7NX3gcUv6FChCpTqiH5LAcmLjP4xmgD3g=s64",
      "userId": "07948853797805552432"
     },
     "user_tz": 240
    },
    "id": "6q_LvvCPXGQX",
    "outputId": "7e257421-7ee8-466c-bbe4-51d5c6cc1f22"
   },
   "outputs": [
    {
     "name": "stdout",
     "output_type": "stream",
     "text": [
      "R2 com grau polinomial igual a 2 : 0.600730\n"
     ]
    }
   ],
   "source": [
    "selected_features_rfe = selecao_rfe(25)\n",
    "polynomial_features(selected_features_rfe, 2)"
   ]
  },
  {
   "cell_type": "code",
   "execution_count": null,
   "metadata": {
    "colab": {
     "base_uri": "https://localhost:8080/"
    },
    "executionInfo": {
     "elapsed": 53131,
     "status": "ok",
     "timestamp": 1642629097216,
     "user": {
      "displayName": "Inara Santana Ortiz",
      "photoUrl": "https://lh3.googleusercontent.com/a-/AOh14GiiIA2mH7NX3gcUv6FChCpTqiH5LAcmLjP4xmgD3g=s64",
      "userId": "07948853797805552432"
     },
     "user_tz": 240
    },
    "id": "OhWgt-LbUY_x",
    "outputId": "60967c11-3a5d-4a01-81f9-d00dcc94f473"
   },
   "outputs": [
    {
     "name": "stdout",
     "output_type": "stream",
     "text": [
      "R2 com grau polinomial igual a 2 : 0.611767\n"
     ]
    }
   ],
   "source": [
    "selected_features_rfe = selecao_rfe(30)\n",
    "polynomial_features(selected_features_rfe, 2)"
   ]
  },
  {
   "cell_type": "code",
   "execution_count": null,
   "metadata": {
    "id": "JDin8QqMVznE"
   },
   "outputs": [],
   "source": [
    "selected_features_rfe = selecao_rfe(30)\n",
    "polynomial_features(selected_features_rfe, 3)"
   ]
  },
  {
   "cell_type": "markdown",
   "metadata": {
    "id": "bO1dC90TWN5t"
   },
   "source": [
    "*Falha memória*"
   ]
  },
  {
   "cell_type": "code",
   "execution_count": null,
   "metadata": {
    "colab": {
     "base_uri": "https://localhost:8080/"
    },
    "executionInfo": {
     "elapsed": 76131,
     "status": "ok",
     "timestamp": 1642629998583,
     "user": {
      "displayName": "Inara Santana Ortiz",
      "photoUrl": "https://lh3.googleusercontent.com/a-/AOh14GiiIA2mH7NX3gcUv6FChCpTqiH5LAcmLjP4xmgD3g=s64",
      "userId": "07948853797805552432"
     },
     "user_tz": 240
    },
    "id": "Vd_UHY34EPSi",
    "outputId": "8c128f08-3008-4d66-f118-6d0b7359d345"
   },
   "outputs": [
    {
     "name": "stdout",
     "output_type": "stream",
     "text": [
      "R2 com grau polinomial igual a 3 : 0.602351\n"
     ]
    }
   ],
   "source": [
    "selected_features_rfe = selecao_rfe(15)\n",
    "polynomial_features(selected_features_rfe, 3)"
   ]
  }
 ],
 "metadata": {
  "colab": {
   "collapsed_sections": [],
   "machine_shape": "hm",
   "name": "1. Regressão Linear.ipynb",
   "provenance": []
  },
  "kernelspec": {
   "display_name": "Python 3",
   "language": "python",
   "name": "python3"
  },
  "language_info": {
   "codemirror_mode": {
    "name": "ipython",
    "version": 3
   },
   "file_extension": ".py",
   "mimetype": "text/x-python",
   "name": "python",
   "nbconvert_exporter": "python",
   "pygments_lexer": "ipython3",
   "version": "3.7.6"
  }
 },
 "nbformat": 4,
 "nbformat_minor": 5
}
