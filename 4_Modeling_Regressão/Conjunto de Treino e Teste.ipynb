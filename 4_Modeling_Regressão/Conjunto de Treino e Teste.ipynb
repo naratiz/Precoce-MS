{
 "cells": [
  {
   "cell_type": "code",
   "execution_count": 1,
   "id": "2c1a94d8",
   "metadata": {},
   "outputs": [],
   "source": [
    "import pandas as pd\n",
    "import seaborn as sns\n",
    "import matplotlib.pyplot as plt\n",
    "\n",
    "from sklearn.model_selection import cross_val_score,train_test_split, KFold, GroupKFold"
   ]
  },
  {
   "cell_type": "code",
   "execution_count": 3,
   "id": "dd9d3bb9",
   "metadata": {},
   "outputs": [],
   "source": [
    "path = '../../dados/procucao_gado_MS.csv'\n",
    "df = pd.read_csv(path, sep=';')"
   ]
  },
  {
   "cell_type": "code",
   "execution_count": 4,
   "id": "d5dc1c81",
   "metadata": {},
   "outputs": [
    {
     "data": {
      "text/html": [
       "<div>\n",
       "<style scoped>\n",
       "    .dataframe tbody tr th:only-of-type {\n",
       "        vertical-align: middle;\n",
       "    }\n",
       "\n",
       "    .dataframe tbody tr th {\n",
       "        vertical-align: top;\n",
       "    }\n",
       "\n",
       "    .dataframe thead th {\n",
       "        text-align: right;\n",
       "    }\n",
       "</style>\n",
       "<table border=\"1\" class=\"dataframe\">\n",
       "  <thead>\n",
       "    <tr style=\"text-align: right;\">\n",
       "      <th></th>\n",
       "      <th>tipificacao_1</th>\n",
       "      <th>tipificacao_2</th>\n",
       "      <th>tipificacao_3</th>\n",
       "      <th>maturidade</th>\n",
       "      <th>acabamento</th>\n",
       "      <th>peso</th>\n",
       "      <th>classificacao_estabelecimento</th>\n",
       "      <th>outros_incentivos</th>\n",
       "      <th>pratica_recuperacao_pastagem</th>\n",
       "      <th>fertiirrigacao</th>\n",
       "      <th>...</th>\n",
       "      <th>cnt1m_cl_ituinst</th>\n",
       "      <th>cnt3m_cl_ituinst</th>\n",
       "      <th>cnt6m_cl_ituinst</th>\n",
       "      <th>cnt12m_cl_ituinst</th>\n",
       "      <th>ano</th>\n",
       "      <th>categoria</th>\n",
       "      <th>classificacao</th>\n",
       "      <th>longitude</th>\n",
       "      <th>latitude</th>\n",
       "      <th>mes</th>\n",
       "    </tr>\n",
       "  </thead>\n",
       "  <tbody>\n",
       "    <tr>\n",
       "      <th>816061</th>\n",
       "      <td>0</td>\n",
       "      <td>1</td>\n",
       "      <td>0</td>\n",
       "      <td>2</td>\n",
       "      <td>3</td>\n",
       "      <td>308.8</td>\n",
       "      <td>21.0</td>\n",
       "      <td>0</td>\n",
       "      <td>1</td>\n",
       "      <td>0</td>\n",
       "      <td>...</td>\n",
       "      <td>0.2258</td>\n",
       "      <td>0.4516</td>\n",
       "      <td>0.6066</td>\n",
       "      <td>0.5273</td>\n",
       "      <td>2018</td>\n",
       "      <td>2</td>\n",
       "      <td>1</td>\n",
       "      <td>-54.754906</td>\n",
       "      <td>-17.581355</td>\n",
       "      <td>11</td>\n",
       "    </tr>\n",
       "    <tr>\n",
       "      <th>574173</th>\n",
       "      <td>0</td>\n",
       "      <td>0</td>\n",
       "      <td>1</td>\n",
       "      <td>1</td>\n",
       "      <td>3</td>\n",
       "      <td>234.2</td>\n",
       "      <td>21.0</td>\n",
       "      <td>0</td>\n",
       "      <td>0</td>\n",
       "      <td>0</td>\n",
       "      <td>...</td>\n",
       "      <td>0.8387</td>\n",
       "      <td>0.7634</td>\n",
       "      <td>0.5519</td>\n",
       "      <td>0.4454</td>\n",
       "      <td>2018</td>\n",
       "      <td>1</td>\n",
       "      <td>1</td>\n",
       "      <td>-54.842250</td>\n",
       "      <td>-18.916590</td>\n",
       "      <td>7</td>\n",
       "    </tr>\n",
       "    <tr>\n",
       "      <th>917019</th>\n",
       "      <td>0</td>\n",
       "      <td>1</td>\n",
       "      <td>0</td>\n",
       "      <td>4</td>\n",
       "      <td>3</td>\n",
       "      <td>242.8</td>\n",
       "      <td>21.0</td>\n",
       "      <td>0</td>\n",
       "      <td>0</td>\n",
       "      <td>0</td>\n",
       "      <td>...</td>\n",
       "      <td>0.0667</td>\n",
       "      <td>0.1222</td>\n",
       "      <td>0.3257</td>\n",
       "      <td>0.2508</td>\n",
       "      <td>2018</td>\n",
       "      <td>3</td>\n",
       "      <td>1</td>\n",
       "      <td>-56.390198</td>\n",
       "      <td>-20.239333</td>\n",
       "      <td>12</td>\n",
       "    </tr>\n",
       "  </tbody>\n",
       "</table>\n",
       "<p>3 rows × 53 columns</p>\n",
       "</div>"
      ],
      "text/plain": [
       "        tipificacao_1  tipificacao_2  tipificacao_3  maturidade  acabamento  \\\n",
       "816061              0              1              0           2           3   \n",
       "574173              0              0              1           1           3   \n",
       "917019              0              1              0           4           3   \n",
       "\n",
       "         peso  classificacao_estabelecimento  outros_incentivos  \\\n",
       "816061  308.8                           21.0                  0   \n",
       "574173  234.2                           21.0                  0   \n",
       "917019  242.8                           21.0                  0   \n",
       "\n",
       "        pratica_recuperacao_pastagem  fertiirrigacao  ...  cnt1m_cl_ituinst  \\\n",
       "816061                             1               0  ...            0.2258   \n",
       "574173                             0               0  ...            0.8387   \n",
       "917019                             0               0  ...            0.0667   \n",
       "\n",
       "        cnt3m_cl_ituinst  cnt6m_cl_ituinst  cnt12m_cl_ituinst   ano  \\\n",
       "816061            0.4516            0.6066             0.5273  2018   \n",
       "574173            0.7634            0.5519             0.4454  2018   \n",
       "917019            0.1222            0.3257             0.2508  2018   \n",
       "\n",
       "        categoria  classificacao  longitude   latitude  mes  \n",
       "816061          2              1 -54.754906 -17.581355   11  \n",
       "574173          1              1 -54.842250 -18.916590    7  \n",
       "917019          3              1 -56.390198 -20.239333   12  \n",
       "\n",
       "[3 rows x 53 columns]"
      ]
     },
     "execution_count": 4,
     "metadata": {},
     "output_type": "execute_result"
    }
   ],
   "source": [
    "df.sample(3)"
   ]
  },
  {
   "cell_type": "code",
   "execution_count": 5,
   "id": "fff91580",
   "metadata": {},
   "outputs": [
    {
     "name": "stdout",
     "output_type": "stream",
     "text": [
      "A base de dados apresenta 960939 registros e 53 características.\n"
     ]
    }
   ],
   "source": [
    "print('A base de dados apresenta {} registros e {} características.'.format(df.shape[0], df.shape[1]))"
   ]
  },
  {
   "cell_type": "code",
   "execution_count": 7,
   "id": "5ce60b82",
   "metadata": {},
   "outputs": [],
   "source": [
    "y = df['peso']\n",
    "# Retirar a variável alvo e as variáveis obtidas após o abate \n",
    "X = df.drop(['categoria','acabamento', 'maturidade', 'classificacao','categoria', 'ano'],axis=1)"
   ]
  },
  {
   "cell_type": "code",
   "execution_count": 8,
   "id": "cddd454c",
   "metadata": {},
   "outputs": [],
   "source": [
    "SEED = 42\n",
    "kfolds = KFold(n_splits=5, shuffle=True, random_state=SEED)"
   ]
  },
  {
   "cell_type": "code",
   "execution_count": 9,
   "id": "865ac314",
   "metadata": {},
   "outputs": [],
   "source": [
    "X_train, X_test, y_train, y_test = train_test_split(X, y,test_size=0.3, random_state=SEED)"
   ]
  },
  {
   "cell_type": "code",
   "execution_count": 10,
   "id": "eec5e64b",
   "metadata": {},
   "outputs": [],
   "source": [
    "df_y_train = pd.DataFrame(y_train)\n",
    "df_y_test = pd.DataFrame(y_test)"
   ]
  },
  {
   "cell_type": "code",
   "execution_count": 12,
   "id": "1a4eec23",
   "metadata": {},
   "outputs": [
    {
     "data": {
      "text/plain": [
       "count    960939.000000\n",
       "mean        267.488839\n",
       "std          44.371260\n",
       "min         159.600000\n",
       "25%         237.000000\n",
       "50%         271.800000\n",
       "75%         298.600000\n",
       "max         376.000000\n",
       "Name: peso, dtype: float64"
      ]
     },
     "execution_count": 12,
     "metadata": {},
     "output_type": "execute_result"
    }
   ],
   "source": [
    "df.peso.describe()"
   ]
  },
  {
   "cell_type": "code",
   "execution_count": 13,
   "id": "36505dd4",
   "metadata": {},
   "outputs": [
    {
     "data": {
      "text/html": [
       "<div>\n",
       "<style scoped>\n",
       "    .dataframe tbody tr th:only-of-type {\n",
       "        vertical-align: middle;\n",
       "    }\n",
       "\n",
       "    .dataframe tbody tr th {\n",
       "        vertical-align: top;\n",
       "    }\n",
       "\n",
       "    .dataframe thead th {\n",
       "        text-align: right;\n",
       "    }\n",
       "</style>\n",
       "<table border=\"1\" class=\"dataframe\">\n",
       "  <thead>\n",
       "    <tr style=\"text-align: right;\">\n",
       "      <th></th>\n",
       "      <th>peso</th>\n",
       "    </tr>\n",
       "  </thead>\n",
       "  <tbody>\n",
       "    <tr>\n",
       "      <th>count</th>\n",
       "      <td>672657.000000</td>\n",
       "    </tr>\n",
       "    <tr>\n",
       "      <th>mean</th>\n",
       "      <td>267.502798</td>\n",
       "    </tr>\n",
       "    <tr>\n",
       "      <th>std</th>\n",
       "      <td>44.409811</td>\n",
       "    </tr>\n",
       "    <tr>\n",
       "      <th>min</th>\n",
       "      <td>159.600000</td>\n",
       "    </tr>\n",
       "    <tr>\n",
       "      <th>25%</th>\n",
       "      <td>237.000000</td>\n",
       "    </tr>\n",
       "    <tr>\n",
       "      <th>50%</th>\n",
       "      <td>271.800000</td>\n",
       "    </tr>\n",
       "    <tr>\n",
       "      <th>75%</th>\n",
       "      <td>298.600000</td>\n",
       "    </tr>\n",
       "    <tr>\n",
       "      <th>max</th>\n",
       "      <td>376.000000</td>\n",
       "    </tr>\n",
       "  </tbody>\n",
       "</table>\n",
       "</div>"
      ],
      "text/plain": [
       "                peso\n",
       "count  672657.000000\n",
       "mean      267.502798\n",
       "std        44.409811\n",
       "min       159.600000\n",
       "25%       237.000000\n",
       "50%       271.800000\n",
       "75%       298.600000\n",
       "max       376.000000"
      ]
     },
     "execution_count": 13,
     "metadata": {},
     "output_type": "execute_result"
    }
   ],
   "source": [
    "df_y_train.describe()"
   ]
  },
  {
   "cell_type": "markdown",
   "id": "2f865109",
   "metadata": {},
   "source": [
    "## Esportando a amostra de treino"
   ]
  },
  {
   "cell_type": "code",
   "execution_count": 29,
   "id": "451cfd3b",
   "metadata": {},
   "outputs": [],
   "source": [
    "df_train = X_train.join(df_y_train, how = 'left', lsuffix = '_left')"
   ]
  },
  {
   "cell_type": "code",
   "execution_count": 38,
   "id": "350176a7",
   "metadata": {},
   "outputs": [],
   "source": [
    "df_train.to_csv(\"df_train_regression.csv\", sep=';', index=False)"
   ]
  },
  {
   "cell_type": "markdown",
   "id": "1ce83757",
   "metadata": {},
   "source": [
    "## Exportando a amostra de teste"
   ]
  },
  {
   "cell_type": "code",
   "execution_count": 36,
   "id": "635da44b",
   "metadata": {},
   "outputs": [],
   "source": [
    "df_test = X_test.join(df_y_test, how = 'left', lsuffix = '_left')"
   ]
  },
  {
   "cell_type": "code",
   "execution_count": 39,
   "id": "b525d2f5",
   "metadata": {},
   "outputs": [],
   "source": [
    "df_test.to_csv(\"df_test_regression.csv\", sep=';', index=False)"
   ]
  }
 ],
 "metadata": {
  "kernelspec": {
   "display_name": "Python 3 (ipykernel)",
   "language": "python",
   "name": "python3"
  },
  "language_info": {
   "codemirror_mode": {
    "name": "ipython",
    "version": 3
   },
   "file_extension": ".py",
   "mimetype": "text/x-python",
   "name": "python",
   "nbconvert_exporter": "python",
   "pygments_lexer": "ipython3",
   "version": "3.8.12"
  }
 },
 "nbformat": 4,
 "nbformat_minor": 5
}
