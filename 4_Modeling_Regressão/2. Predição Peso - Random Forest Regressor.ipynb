{
 "cells": [
  {
   "cell_type": "code",
   "execution_count": null,
   "metadata": {
    "colab": {
     "base_uri": "https://localhost:8080/"
    },
    "executionInfo": {
     "elapsed": 10156,
     "status": "ok",
     "timestamp": 1648604539749,
     "user": {
      "displayName": "Inara Santana Ortiz",
      "userId": "07948853797805552432"
     },
     "user_tz": 240
    },
    "id": "2lNIOyEYcNoG",
    "outputId": "8fd7c8af-e723-4632-8589-9b7c0376b630"
   },
   "outputs": [],
   "source": [
    "!pip install yellowbrick\n",
    "!pip install optuna"
   ]
  },
  {
   "cell_type": "code",
   "execution_count": 1,
   "metadata": {
    "executionInfo": {
     "elapsed": 259,
     "status": "ok",
     "timestamp": 1648604644173,
     "user": {
      "displayName": "Inara Santana Ortiz",
      "userId": "07948853797805552432"
     },
     "user_tz": 240
    },
    "id": "TA2nuDIKQEHu"
   },
   "outputs": [],
   "source": [
    "import pandas as pd\n",
    "import optuna\n",
    "import time\n",
    "import concurrent.futures\n",
    "import numpy as np\n",
    "import seaborn as sns\n",
    "import matplotlib.pyplot as plt\n",
    "import logging\n",
    "import sys\n",
    "\n",
    "from sklearn.preprocessing import StandardScaler\n",
    "from sklearn.decomposition import PCA\n",
    "from sklearn.model_selection import train_test_split, cross_validate,cross_val_score, KFold\n",
    "from sklearn.ensemble import RandomForestRegressor\n",
    "from sklearn.feature_selection import RFE\n",
    "\n",
    "from yellowbrick.datasets import load_concrete\n",
    "from yellowbrick.regressor import PredictionError"
   ]
  },
  {
   "cell_type": "markdown",
   "metadata": {
    "id": "OWFiLXN581iM"
   },
   "source": [
    "# Base de Dados"
   ]
  },
  {
   "cell_type": "code",
   "execution_count": 1,
   "metadata": {
    "colab": {
     "base_uri": "https://localhost:8080/"
    },
    "executionInfo": {
     "elapsed": 17974,
     "status": "ok",
     "timestamp": 1648604422725,
     "user": {
      "displayName": "Inara Santana Ortiz",
      "userId": "07948853797805552432"
     },
     "user_tz": 240
    },
    "id": "SiYKddJ4zBi6",
    "outputId": "67d8b7d3-9386-4216-f3e1-1c2f672a809f"
   },
   "outputs": [
    {
     "name": "stdout",
     "output_type": "stream",
     "text": [
      "Mounted at /content/drive\n"
     ]
    }
   ],
   "source": [
    "from google.colab import drive\n",
    "drive.mount('/content/drive')"
   ]
  },
  {
   "cell_type": "code",
   "execution_count": 2,
   "metadata": {
    "executionInfo": {
     "elapsed": 6479,
     "status": "ok",
     "timestamp": 1648604555579,
     "user": {
      "displayName": "Inara Santana Ortiz",
      "userId": "07948853797805552432"
     },
     "user_tz": 240
    },
    "id": "F4ySmfKozHFa"
   },
   "outputs": [],
   "source": [
    "#path = \"/content/drive/MyDrive/Dissertação/dados/procucao_gado_MS.csv\"\n",
    "path = \"../../dados/df_train_regression.csv\"\n",
    "df = pd.read_csv(path, sep=';')"
   ]
  },
  {
   "cell_type": "code",
   "execution_count": 3,
   "metadata": {
    "colab": {
     "base_uri": "https://localhost:8080/"
    },
    "executionInfo": {
     "elapsed": 422,
     "status": "ok",
     "timestamp": 1648603954757,
     "user": {
      "displayName": "Inara Santana Ortiz",
      "userId": "07948853797805552432"
     },
     "user_tz": 240
    },
    "id": "QXzTkgOOO4IJ",
    "outputId": "11cf48f9-a5be-41cc-e625-1ad02d0e5d39"
   },
   "outputs": [
    {
     "name": "stdout",
     "output_type": "stream",
     "text": [
      "A base de dados apresenta 672657 registros e 48 características.\n"
     ]
    }
   ],
   "source": [
    "print('A base de dados apresenta {} registros e {} características.'.format(df.shape[0], df.shape[1]))"
   ]
  },
  {
   "cell_type": "code",
   "execution_count": 5,
   "metadata": {},
   "outputs": [
    {
     "data": {
      "text/html": [
       "<div>\n",
       "<style scoped>\n",
       "    .dataframe tbody tr th:only-of-type {\n",
       "        vertical-align: middle;\n",
       "    }\n",
       "\n",
       "    .dataframe tbody tr th {\n",
       "        vertical-align: top;\n",
       "    }\n",
       "\n",
       "    .dataframe thead th {\n",
       "        text-align: right;\n",
       "    }\n",
       "</style>\n",
       "<table border=\"1\" class=\"dataframe\">\n",
       "  <thead>\n",
       "    <tr style=\"text-align: right;\">\n",
       "      <th></th>\n",
       "      <th>count</th>\n",
       "      <th>mean</th>\n",
       "      <th>std</th>\n",
       "      <th>min</th>\n",
       "      <th>25%</th>\n",
       "      <th>50%</th>\n",
       "      <th>75%</th>\n",
       "      <th>max</th>\n",
       "    </tr>\n",
       "  </thead>\n",
       "  <tbody>\n",
       "    <tr>\n",
       "      <th>tipificacao_1</th>\n",
       "      <td>672657.0</td>\n",
       "      <td>0.491430</td>\n",
       "      <td>0.499927</td>\n",
       "      <td>0.000000</td>\n",
       "      <td>0.000000</td>\n",
       "      <td>0.00000</td>\n",
       "      <td>1.000000</td>\n",
       "      <td>1.000000</td>\n",
       "    </tr>\n",
       "    <tr>\n",
       "      <th>tipificacao_2</th>\n",
       "      <td>672657.0</td>\n",
       "      <td>0.223876</td>\n",
       "      <td>0.416840</td>\n",
       "      <td>0.000000</td>\n",
       "      <td>0.000000</td>\n",
       "      <td>0.00000</td>\n",
       "      <td>0.000000</td>\n",
       "      <td>1.000000</td>\n",
       "    </tr>\n",
       "    <tr>\n",
       "      <th>tipificacao_3</th>\n",
       "      <td>672657.0</td>\n",
       "      <td>0.284693</td>\n",
       "      <td>0.451269</td>\n",
       "      <td>0.000000</td>\n",
       "      <td>0.000000</td>\n",
       "      <td>0.00000</td>\n",
       "      <td>1.000000</td>\n",
       "      <td>1.000000</td>\n",
       "    </tr>\n",
       "    <tr>\n",
       "      <th>classificacao_estabelecimento</th>\n",
       "      <td>672657.0</td>\n",
       "      <td>24.469376</td>\n",
       "      <td>3.620986</td>\n",
       "      <td>21.000000</td>\n",
       "      <td>21.000000</td>\n",
       "      <td>26.00000</td>\n",
       "      <td>26.000000</td>\n",
       "      <td>30.000000</td>\n",
       "    </tr>\n",
       "    <tr>\n",
       "      <th>outros_incentivos</th>\n",
       "      <td>672657.0</td>\n",
       "      <td>0.054300</td>\n",
       "      <td>0.226608</td>\n",
       "      <td>0.000000</td>\n",
       "      <td>0.000000</td>\n",
       "      <td>0.00000</td>\n",
       "      <td>0.000000</td>\n",
       "      <td>1.000000</td>\n",
       "    </tr>\n",
       "    <tr>\n",
       "      <th>pratica_recuperacao_pastagem</th>\n",
       "      <td>672657.0</td>\n",
       "      <td>0.592659</td>\n",
       "      <td>0.491340</td>\n",
       "      <td>0.000000</td>\n",
       "      <td>0.000000</td>\n",
       "      <td>1.00000</td>\n",
       "      <td>1.000000</td>\n",
       "      <td>1.000000</td>\n",
       "    </tr>\n",
       "    <tr>\n",
       "      <th>fertiirrigacao</th>\n",
       "      <td>672657.0</td>\n",
       "      <td>0.094448</td>\n",
       "      <td>0.292451</td>\n",
       "      <td>0.000000</td>\n",
       "      <td>0.000000</td>\n",
       "      <td>0.00000</td>\n",
       "      <td>0.000000</td>\n",
       "      <td>1.000000</td>\n",
       "    </tr>\n",
       "    <tr>\n",
       "      <th>ilp</th>\n",
       "      <td>672657.0</td>\n",
       "      <td>0.419834</td>\n",
       "      <td>0.493532</td>\n",
       "      <td>0.000000</td>\n",
       "      <td>0.000000</td>\n",
       "      <td>0.00000</td>\n",
       "      <td>1.000000</td>\n",
       "      <td>1.000000</td>\n",
       "    </tr>\n",
       "    <tr>\n",
       "      <th>ilpf</th>\n",
       "      <td>672657.0</td>\n",
       "      <td>0.048707</td>\n",
       "      <td>0.215255</td>\n",
       "      <td>0.000000</td>\n",
       "      <td>0.000000</td>\n",
       "      <td>0.00000</td>\n",
       "      <td>0.000000</td>\n",
       "      <td>1.000000</td>\n",
       "    </tr>\n",
       "    <tr>\n",
       "      <th>ifp</th>\n",
       "      <td>672657.0</td>\n",
       "      <td>0.048853</td>\n",
       "      <td>0.215560</td>\n",
       "      <td>0.000000</td>\n",
       "      <td>0.000000</td>\n",
       "      <td>0.00000</td>\n",
       "      <td>0.000000</td>\n",
       "      <td>1.000000</td>\n",
       "    </tr>\n",
       "    <tr>\n",
       "      <th>fabrica_racao</th>\n",
       "      <td>672657.0</td>\n",
       "      <td>0.665229</td>\n",
       "      <td>0.471911</td>\n",
       "      <td>0.000000</td>\n",
       "      <td>0.000000</td>\n",
       "      <td>1.00000</td>\n",
       "      <td>1.000000</td>\n",
       "      <td>1.000000</td>\n",
       "    </tr>\n",
       "    <tr>\n",
       "      <th>identificacao_individual</th>\n",
       "      <td>672657.0</td>\n",
       "      <td>0.747796</td>\n",
       "      <td>0.434278</td>\n",
       "      <td>0.000000</td>\n",
       "      <td>0.000000</td>\n",
       "      <td>1.00000</td>\n",
       "      <td>1.000000</td>\n",
       "      <td>1.000000</td>\n",
       "    </tr>\n",
       "    <tr>\n",
       "      <th>regua_de_manejo</th>\n",
       "      <td>672657.0</td>\n",
       "      <td>0.819233</td>\n",
       "      <td>0.384825</td>\n",
       "      <td>0.000000</td>\n",
       "      <td>1.000000</td>\n",
       "      <td>1.00000</td>\n",
       "      <td>1.000000</td>\n",
       "      <td>1.000000</td>\n",
       "    </tr>\n",
       "    <tr>\n",
       "      <th>bpa</th>\n",
       "      <td>672657.0</td>\n",
       "      <td>0.027094</td>\n",
       "      <td>0.162358</td>\n",
       "      <td>0.000000</td>\n",
       "      <td>0.000000</td>\n",
       "      <td>0.00000</td>\n",
       "      <td>0.000000</td>\n",
       "      <td>1.000000</td>\n",
       "    </tr>\n",
       "    <tr>\n",
       "      <th>participa_aliancas_mercadologicas</th>\n",
       "      <td>672657.0</td>\n",
       "      <td>0.337862</td>\n",
       "      <td>0.472981</td>\n",
       "      <td>0.000000</td>\n",
       "      <td>0.000000</td>\n",
       "      <td>0.00000</td>\n",
       "      <td>1.000000</td>\n",
       "      <td>1.000000</td>\n",
       "    </tr>\n",
       "    <tr>\n",
       "      <th>rastreamento_sisbov</th>\n",
       "      <td>672657.0</td>\n",
       "      <td>0.484306</td>\n",
       "      <td>0.499754</td>\n",
       "      <td>0.000000</td>\n",
       "      <td>0.000000</td>\n",
       "      <td>0.00000</td>\n",
       "      <td>1.000000</td>\n",
       "      <td>1.000000</td>\n",
       "    </tr>\n",
       "    <tr>\n",
       "      <th>tot1m_chuva</th>\n",
       "      <td>672657.0</td>\n",
       "      <td>94.452425</td>\n",
       "      <td>77.232422</td>\n",
       "      <td>0.000000</td>\n",
       "      <td>34.910000</td>\n",
       "      <td>70.67000</td>\n",
       "      <td>141.000000</td>\n",
       "      <td>500.690000</td>\n",
       "    </tr>\n",
       "    <tr>\n",
       "      <th>med1m_formituinst</th>\n",
       "      <td>672657.0</td>\n",
       "      <td>72.018391</td>\n",
       "      <td>2.705469</td>\n",
       "      <td>62.230000</td>\n",
       "      <td>70.190000</td>\n",
       "      <td>72.38000</td>\n",
       "      <td>73.900000</td>\n",
       "      <td>78.900000</td>\n",
       "    </tr>\n",
       "    <tr>\n",
       "      <th>med1m_ndvi</th>\n",
       "      <td>672657.0</td>\n",
       "      <td>0.540609</td>\n",
       "      <td>0.098391</td>\n",
       "      <td>0.300000</td>\n",
       "      <td>0.460000</td>\n",
       "      <td>0.57000</td>\n",
       "      <td>0.620000</td>\n",
       "      <td>0.730000</td>\n",
       "    </tr>\n",
       "    <tr>\n",
       "      <th>med1m_prer_soja</th>\n",
       "      <td>672657.0</td>\n",
       "      <td>81.243059</td>\n",
       "      <td>8.492942</td>\n",
       "      <td>65.750000</td>\n",
       "      <td>72.460000</td>\n",
       "      <td>83.12000</td>\n",
       "      <td>88.320000</td>\n",
       "      <td>95.790000</td>\n",
       "    </tr>\n",
       "    <tr>\n",
       "      <th>med1m_prer_milho</th>\n",
       "      <td>672657.0</td>\n",
       "      <td>35.556057</td>\n",
       "      <td>4.848269</td>\n",
       "      <td>25.940000</td>\n",
       "      <td>31.840000</td>\n",
       "      <td>36.72000</td>\n",
       "      <td>39.940000</td>\n",
       "      <td>43.710000</td>\n",
       "    </tr>\n",
       "    <tr>\n",
       "      <th>med1m_prer_boi</th>\n",
       "      <td>672657.0</td>\n",
       "      <td>142.942433</td>\n",
       "      <td>5.550660</td>\n",
       "      <td>124.500000</td>\n",
       "      <td>140.360000</td>\n",
       "      <td>144.00000</td>\n",
       "      <td>146.550000</td>\n",
       "      <td>150.260000</td>\n",
       "    </tr>\n",
       "    <tr>\n",
       "      <th>tot3m_chuva</th>\n",
       "      <td>672657.0</td>\n",
       "      <td>275.073549</td>\n",
       "      <td>172.311494</td>\n",
       "      <td>2.040000</td>\n",
       "      <td>136.320000</td>\n",
       "      <td>242.27000</td>\n",
       "      <td>387.590000</td>\n",
       "      <td>1141.610000</td>\n",
       "    </tr>\n",
       "    <tr>\n",
       "      <th>med3m_formituinst</th>\n",
       "      <td>672657.0</td>\n",
       "      <td>71.643422</td>\n",
       "      <td>2.370352</td>\n",
       "      <td>64.060000</td>\n",
       "      <td>70.050000</td>\n",
       "      <td>71.76000</td>\n",
       "      <td>73.290000</td>\n",
       "      <td>77.720000</td>\n",
       "    </tr>\n",
       "    <tr>\n",
       "      <th>med3m_ndvi</th>\n",
       "      <td>672657.0</td>\n",
       "      <td>0.531715</td>\n",
       "      <td>0.086681</td>\n",
       "      <td>0.320000</td>\n",
       "      <td>0.460000</td>\n",
       "      <td>0.53000</td>\n",
       "      <td>0.610000</td>\n",
       "      <td>0.720000</td>\n",
       "    </tr>\n",
       "    <tr>\n",
       "      <th>med3m_prer_soja</th>\n",
       "      <td>672657.0</td>\n",
       "      <td>80.759786</td>\n",
       "      <td>8.528138</td>\n",
       "      <td>67.840000</td>\n",
       "      <td>71.830000</td>\n",
       "      <td>83.87000</td>\n",
       "      <td>88.660000</td>\n",
       "      <td>91.960000</td>\n",
       "    </tr>\n",
       "    <tr>\n",
       "      <th>med3m_prer_milho</th>\n",
       "      <td>672657.0</td>\n",
       "      <td>35.423861</td>\n",
       "      <td>4.938998</td>\n",
       "      <td>26.570000</td>\n",
       "      <td>30.910000</td>\n",
       "      <td>37.56000</td>\n",
       "      <td>39.610000</td>\n",
       "      <td>41.670000</td>\n",
       "    </tr>\n",
       "    <tr>\n",
       "      <th>med3m_prer_boi</th>\n",
       "      <td>672657.0</td>\n",
       "      <td>142.135585</td>\n",
       "      <td>5.124440</td>\n",
       "      <td>128.170000</td>\n",
       "      <td>140.390000</td>\n",
       "      <td>142.54000</td>\n",
       "      <td>145.830000</td>\n",
       "      <td>148.420000</td>\n",
       "    </tr>\n",
       "    <tr>\n",
       "      <th>tot6m_chuva</th>\n",
       "      <td>672657.0</td>\n",
       "      <td>531.937241</td>\n",
       "      <td>254.133603</td>\n",
       "      <td>28.910000</td>\n",
       "      <td>339.730000</td>\n",
       "      <td>504.63000</td>\n",
       "      <td>720.240000</td>\n",
       "      <td>1597.260000</td>\n",
       "    </tr>\n",
       "    <tr>\n",
       "      <th>med6m_formituinst</th>\n",
       "      <td>672657.0</td>\n",
       "      <td>71.548584</td>\n",
       "      <td>1.983491</td>\n",
       "      <td>65.520000</td>\n",
       "      <td>70.170000</td>\n",
       "      <td>71.54000</td>\n",
       "      <td>72.850000</td>\n",
       "      <td>77.180000</td>\n",
       "    </tr>\n",
       "    <tr>\n",
       "      <th>med6m_ndvi</th>\n",
       "      <td>672657.0</td>\n",
       "      <td>0.544919</td>\n",
       "      <td>0.063335</td>\n",
       "      <td>0.390000</td>\n",
       "      <td>0.500000</td>\n",
       "      <td>0.54000</td>\n",
       "      <td>0.600000</td>\n",
       "      <td>0.710000</td>\n",
       "    </tr>\n",
       "    <tr>\n",
       "      <th>med6m_prer_soja</th>\n",
       "      <td>672657.0</td>\n",
       "      <td>79.073431</td>\n",
       "      <td>7.746224</td>\n",
       "      <td>69.220000</td>\n",
       "      <td>71.270000</td>\n",
       "      <td>78.85000</td>\n",
       "      <td>88.380000</td>\n",
       "      <td>89.170000</td>\n",
       "    </tr>\n",
       "    <tr>\n",
       "      <th>med6m_prer_milho</th>\n",
       "      <td>672657.0</td>\n",
       "      <td>35.026351</td>\n",
       "      <td>4.838518</td>\n",
       "      <td>27.450000</td>\n",
       "      <td>29.730000</td>\n",
       "      <td>37.53000</td>\n",
       "      <td>39.460000</td>\n",
       "      <td>40.480000</td>\n",
       "    </tr>\n",
       "    <tr>\n",
       "      <th>med6m_prer_boi</th>\n",
       "      <td>672657.0</td>\n",
       "      <td>141.112264</td>\n",
       "      <td>3.972878</td>\n",
       "      <td>133.670000</td>\n",
       "      <td>137.400000</td>\n",
       "      <td>142.76000</td>\n",
       "      <td>143.970000</td>\n",
       "      <td>147.100000</td>\n",
       "    </tr>\n",
       "    <tr>\n",
       "      <th>tot12m_chuva</th>\n",
       "      <td>672657.0</td>\n",
       "      <td>1268.698867</td>\n",
       "      <td>452.740102</td>\n",
       "      <td>9.420000</td>\n",
       "      <td>974.850000</td>\n",
       "      <td>1344.78000</td>\n",
       "      <td>1603.390000</td>\n",
       "      <td>2606.920000</td>\n",
       "    </tr>\n",
       "    <tr>\n",
       "      <th>med12m_formituinst</th>\n",
       "      <td>672657.0</td>\n",
       "      <td>72.032145</td>\n",
       "      <td>1.600517</td>\n",
       "      <td>64.960000</td>\n",
       "      <td>70.840000</td>\n",
       "      <td>71.92000</td>\n",
       "      <td>73.260000</td>\n",
       "      <td>78.400000</td>\n",
       "    </tr>\n",
       "    <tr>\n",
       "      <th>med12m_ndvi</th>\n",
       "      <td>672657.0</td>\n",
       "      <td>0.568689</td>\n",
       "      <td>0.037203</td>\n",
       "      <td>0.490000</td>\n",
       "      <td>0.540000</td>\n",
       "      <td>0.57000</td>\n",
       "      <td>0.600000</td>\n",
       "      <td>0.700000</td>\n",
       "    </tr>\n",
       "    <tr>\n",
       "      <th>med12m_prer_soja</th>\n",
       "      <td>672657.0</td>\n",
       "      <td>76.028180</td>\n",
       "      <td>5.143112</td>\n",
       "      <td>70.660000</td>\n",
       "      <td>70.990000</td>\n",
       "      <td>75.02000</td>\n",
       "      <td>81.540000</td>\n",
       "      <td>84.430000</td>\n",
       "    </tr>\n",
       "    <tr>\n",
       "      <th>med12m_prer_milho</th>\n",
       "      <td>672657.0</td>\n",
       "      <td>33.669520</td>\n",
       "      <td>3.189041</td>\n",
       "      <td>29.980000</td>\n",
       "      <td>30.340000</td>\n",
       "      <td>33.41000</td>\n",
       "      <td>37.270000</td>\n",
       "      <td>38.490000</td>\n",
       "    </tr>\n",
       "    <tr>\n",
       "      <th>med12m_prer_boi</th>\n",
       "      <td>672657.0</td>\n",
       "      <td>140.887130</td>\n",
       "      <td>2.650334</td>\n",
       "      <td>136.850000</td>\n",
       "      <td>138.600000</td>\n",
       "      <td>140.24000</td>\n",
       "      <td>143.570000</td>\n",
       "      <td>147.100000</td>\n",
       "    </tr>\n",
       "    <tr>\n",
       "      <th>cnt1m_cl_ituinst</th>\n",
       "      <td>672657.0</td>\n",
       "      <td>0.599653</td>\n",
       "      <td>0.244868</td>\n",
       "      <td>0.064500</td>\n",
       "      <td>0.400000</td>\n",
       "      <td>0.62070</td>\n",
       "      <td>0.833300</td>\n",
       "      <td>1.000000</td>\n",
       "    </tr>\n",
       "    <tr>\n",
       "      <th>cnt3m_cl_ituinst</th>\n",
       "      <td>672657.0</td>\n",
       "      <td>0.634070</td>\n",
       "      <td>0.208960</td>\n",
       "      <td>0.077800</td>\n",
       "      <td>0.486500</td>\n",
       "      <td>0.67740</td>\n",
       "      <td>0.795700</td>\n",
       "      <td>1.000000</td>\n",
       "    </tr>\n",
       "    <tr>\n",
       "      <th>cnt6m_cl_ituinst</th>\n",
       "      <td>672657.0</td>\n",
       "      <td>0.641276</td>\n",
       "      <td>0.179874</td>\n",
       "      <td>0.129900</td>\n",
       "      <td>0.524600</td>\n",
       "      <td>0.66670</td>\n",
       "      <td>0.781400</td>\n",
       "      <td>0.983600</td>\n",
       "    </tr>\n",
       "    <tr>\n",
       "      <th>cnt12m_cl_ituinst</th>\n",
       "      <td>672657.0</td>\n",
       "      <td>0.599519</td>\n",
       "      <td>0.157134</td>\n",
       "      <td>0.183900</td>\n",
       "      <td>0.459800</td>\n",
       "      <td>0.62500</td>\n",
       "      <td>0.715800</td>\n",
       "      <td>0.954500</td>\n",
       "    </tr>\n",
       "    <tr>\n",
       "      <th>longitude</th>\n",
       "      <td>672657.0</td>\n",
       "      <td>-54.226890</td>\n",
       "      <td>1.307862</td>\n",
       "      <td>-57.888482</td>\n",
       "      <td>-54.865560</td>\n",
       "      <td>-54.36319</td>\n",
       "      <td>-53.708090</td>\n",
       "      <td>-51.097640</td>\n",
       "    </tr>\n",
       "    <tr>\n",
       "      <th>latitude</th>\n",
       "      <td>672657.0</td>\n",
       "      <td>-20.710290</td>\n",
       "      <td>1.501305</td>\n",
       "      <td>-23.983513</td>\n",
       "      <td>-21.715288</td>\n",
       "      <td>-20.44368</td>\n",
       "      <td>-19.677372</td>\n",
       "      <td>-17.581355</td>\n",
       "    </tr>\n",
       "    <tr>\n",
       "      <th>mes</th>\n",
       "      <td>672657.0</td>\n",
       "      <td>8.119196</td>\n",
       "      <td>3.124215</td>\n",
       "      <td>1.000000</td>\n",
       "      <td>6.000000</td>\n",
       "      <td>9.00000</td>\n",
       "      <td>11.000000</td>\n",
       "      <td>12.000000</td>\n",
       "    </tr>\n",
       "    <tr>\n",
       "      <th>peso</th>\n",
       "      <td>672657.0</td>\n",
       "      <td>267.502798</td>\n",
       "      <td>44.409811</td>\n",
       "      <td>159.600000</td>\n",
       "      <td>237.000000</td>\n",
       "      <td>271.80000</td>\n",
       "      <td>298.600000</td>\n",
       "      <td>376.000000</td>\n",
       "    </tr>\n",
       "  </tbody>\n",
       "</table>\n",
       "</div>"
      ],
      "text/plain": [
       "                                      count         mean         std  \\\n",
       "tipificacao_1                      672657.0     0.491430    0.499927   \n",
       "tipificacao_2                      672657.0     0.223876    0.416840   \n",
       "tipificacao_3                      672657.0     0.284693    0.451269   \n",
       "classificacao_estabelecimento      672657.0    24.469376    3.620986   \n",
       "outros_incentivos                  672657.0     0.054300    0.226608   \n",
       "pratica_recuperacao_pastagem       672657.0     0.592659    0.491340   \n",
       "fertiirrigacao                     672657.0     0.094448    0.292451   \n",
       "ilp                                672657.0     0.419834    0.493532   \n",
       "ilpf                               672657.0     0.048707    0.215255   \n",
       "ifp                                672657.0     0.048853    0.215560   \n",
       "fabrica_racao                      672657.0     0.665229    0.471911   \n",
       "identificacao_individual           672657.0     0.747796    0.434278   \n",
       "regua_de_manejo                    672657.0     0.819233    0.384825   \n",
       "bpa                                672657.0     0.027094    0.162358   \n",
       "participa_aliancas_mercadologicas  672657.0     0.337862    0.472981   \n",
       "rastreamento_sisbov                672657.0     0.484306    0.499754   \n",
       "tot1m_chuva                        672657.0    94.452425   77.232422   \n",
       "med1m_formituinst                  672657.0    72.018391    2.705469   \n",
       "med1m_ndvi                         672657.0     0.540609    0.098391   \n",
       "med1m_prer_soja                    672657.0    81.243059    8.492942   \n",
       "med1m_prer_milho                   672657.0    35.556057    4.848269   \n",
       "med1m_prer_boi                     672657.0   142.942433    5.550660   \n",
       "tot3m_chuva                        672657.0   275.073549  172.311494   \n",
       "med3m_formituinst                  672657.0    71.643422    2.370352   \n",
       "med3m_ndvi                         672657.0     0.531715    0.086681   \n",
       "med3m_prer_soja                    672657.0    80.759786    8.528138   \n",
       "med3m_prer_milho                   672657.0    35.423861    4.938998   \n",
       "med3m_prer_boi                     672657.0   142.135585    5.124440   \n",
       "tot6m_chuva                        672657.0   531.937241  254.133603   \n",
       "med6m_formituinst                  672657.0    71.548584    1.983491   \n",
       "med6m_ndvi                         672657.0     0.544919    0.063335   \n",
       "med6m_prer_soja                    672657.0    79.073431    7.746224   \n",
       "med6m_prer_milho                   672657.0    35.026351    4.838518   \n",
       "med6m_prer_boi                     672657.0   141.112264    3.972878   \n",
       "tot12m_chuva                       672657.0  1268.698867  452.740102   \n",
       "med12m_formituinst                 672657.0    72.032145    1.600517   \n",
       "med12m_ndvi                        672657.0     0.568689    0.037203   \n",
       "med12m_prer_soja                   672657.0    76.028180    5.143112   \n",
       "med12m_prer_milho                  672657.0    33.669520    3.189041   \n",
       "med12m_prer_boi                    672657.0   140.887130    2.650334   \n",
       "cnt1m_cl_ituinst                   672657.0     0.599653    0.244868   \n",
       "cnt3m_cl_ituinst                   672657.0     0.634070    0.208960   \n",
       "cnt6m_cl_ituinst                   672657.0     0.641276    0.179874   \n",
       "cnt12m_cl_ituinst                  672657.0     0.599519    0.157134   \n",
       "longitude                          672657.0   -54.226890    1.307862   \n",
       "latitude                           672657.0   -20.710290    1.501305   \n",
       "mes                                672657.0     8.119196    3.124215   \n",
       "peso                               672657.0   267.502798   44.409811   \n",
       "\n",
       "                                          min         25%         50%  \\\n",
       "tipificacao_1                        0.000000    0.000000     0.00000   \n",
       "tipificacao_2                        0.000000    0.000000     0.00000   \n",
       "tipificacao_3                        0.000000    0.000000     0.00000   \n",
       "classificacao_estabelecimento       21.000000   21.000000    26.00000   \n",
       "outros_incentivos                    0.000000    0.000000     0.00000   \n",
       "pratica_recuperacao_pastagem         0.000000    0.000000     1.00000   \n",
       "fertiirrigacao                       0.000000    0.000000     0.00000   \n",
       "ilp                                  0.000000    0.000000     0.00000   \n",
       "ilpf                                 0.000000    0.000000     0.00000   \n",
       "ifp                                  0.000000    0.000000     0.00000   \n",
       "fabrica_racao                        0.000000    0.000000     1.00000   \n",
       "identificacao_individual             0.000000    0.000000     1.00000   \n",
       "regua_de_manejo                      0.000000    1.000000     1.00000   \n",
       "bpa                                  0.000000    0.000000     0.00000   \n",
       "participa_aliancas_mercadologicas    0.000000    0.000000     0.00000   \n",
       "rastreamento_sisbov                  0.000000    0.000000     0.00000   \n",
       "tot1m_chuva                          0.000000   34.910000    70.67000   \n",
       "med1m_formituinst                   62.230000   70.190000    72.38000   \n",
       "med1m_ndvi                           0.300000    0.460000     0.57000   \n",
       "med1m_prer_soja                     65.750000   72.460000    83.12000   \n",
       "med1m_prer_milho                    25.940000   31.840000    36.72000   \n",
       "med1m_prer_boi                     124.500000  140.360000   144.00000   \n",
       "tot3m_chuva                          2.040000  136.320000   242.27000   \n",
       "med3m_formituinst                   64.060000   70.050000    71.76000   \n",
       "med3m_ndvi                           0.320000    0.460000     0.53000   \n",
       "med3m_prer_soja                     67.840000   71.830000    83.87000   \n",
       "med3m_prer_milho                    26.570000   30.910000    37.56000   \n",
       "med3m_prer_boi                     128.170000  140.390000   142.54000   \n",
       "tot6m_chuva                         28.910000  339.730000   504.63000   \n",
       "med6m_formituinst                   65.520000   70.170000    71.54000   \n",
       "med6m_ndvi                           0.390000    0.500000     0.54000   \n",
       "med6m_prer_soja                     69.220000   71.270000    78.85000   \n",
       "med6m_prer_milho                    27.450000   29.730000    37.53000   \n",
       "med6m_prer_boi                     133.670000  137.400000   142.76000   \n",
       "tot12m_chuva                         9.420000  974.850000  1344.78000   \n",
       "med12m_formituinst                  64.960000   70.840000    71.92000   \n",
       "med12m_ndvi                          0.490000    0.540000     0.57000   \n",
       "med12m_prer_soja                    70.660000   70.990000    75.02000   \n",
       "med12m_prer_milho                   29.980000   30.340000    33.41000   \n",
       "med12m_prer_boi                    136.850000  138.600000   140.24000   \n",
       "cnt1m_cl_ituinst                     0.064500    0.400000     0.62070   \n",
       "cnt3m_cl_ituinst                     0.077800    0.486500     0.67740   \n",
       "cnt6m_cl_ituinst                     0.129900    0.524600     0.66670   \n",
       "cnt12m_cl_ituinst                    0.183900    0.459800     0.62500   \n",
       "longitude                          -57.888482  -54.865560   -54.36319   \n",
       "latitude                           -23.983513  -21.715288   -20.44368   \n",
       "mes                                  1.000000    6.000000     9.00000   \n",
       "peso                               159.600000  237.000000   271.80000   \n",
       "\n",
       "                                           75%          max  \n",
       "tipificacao_1                         1.000000     1.000000  \n",
       "tipificacao_2                         0.000000     1.000000  \n",
       "tipificacao_3                         1.000000     1.000000  \n",
       "classificacao_estabelecimento        26.000000    30.000000  \n",
       "outros_incentivos                     0.000000     1.000000  \n",
       "pratica_recuperacao_pastagem          1.000000     1.000000  \n",
       "fertiirrigacao                        0.000000     1.000000  \n",
       "ilp                                   1.000000     1.000000  \n",
       "ilpf                                  0.000000     1.000000  \n",
       "ifp                                   0.000000     1.000000  \n",
       "fabrica_racao                         1.000000     1.000000  \n",
       "identificacao_individual              1.000000     1.000000  \n",
       "regua_de_manejo                       1.000000     1.000000  \n",
       "bpa                                   0.000000     1.000000  \n",
       "participa_aliancas_mercadologicas     1.000000     1.000000  \n",
       "rastreamento_sisbov                   1.000000     1.000000  \n",
       "tot1m_chuva                         141.000000   500.690000  \n",
       "med1m_formituinst                    73.900000    78.900000  \n",
       "med1m_ndvi                            0.620000     0.730000  \n",
       "med1m_prer_soja                      88.320000    95.790000  \n",
       "med1m_prer_milho                     39.940000    43.710000  \n",
       "med1m_prer_boi                      146.550000   150.260000  \n",
       "tot3m_chuva                         387.590000  1141.610000  \n",
       "med3m_formituinst                    73.290000    77.720000  \n",
       "med3m_ndvi                            0.610000     0.720000  \n",
       "med3m_prer_soja                      88.660000    91.960000  \n",
       "med3m_prer_milho                     39.610000    41.670000  \n",
       "med3m_prer_boi                      145.830000   148.420000  \n",
       "tot6m_chuva                         720.240000  1597.260000  \n",
       "med6m_formituinst                    72.850000    77.180000  \n",
       "med6m_ndvi                            0.600000     0.710000  \n",
       "med6m_prer_soja                      88.380000    89.170000  \n",
       "med6m_prer_milho                     39.460000    40.480000  \n",
       "med6m_prer_boi                      143.970000   147.100000  \n",
       "tot12m_chuva                       1603.390000  2606.920000  \n",
       "med12m_formituinst                   73.260000    78.400000  \n",
       "med12m_ndvi                           0.600000     0.700000  \n",
       "med12m_prer_soja                     81.540000    84.430000  \n",
       "med12m_prer_milho                    37.270000    38.490000  \n",
       "med12m_prer_boi                     143.570000   147.100000  \n",
       "cnt1m_cl_ituinst                      0.833300     1.000000  \n",
       "cnt3m_cl_ituinst                      0.795700     1.000000  \n",
       "cnt6m_cl_ituinst                      0.781400     0.983600  \n",
       "cnt12m_cl_ituinst                     0.715800     0.954500  \n",
       "longitude                           -53.708090   -51.097640  \n",
       "latitude                            -19.677372   -17.581355  \n",
       "mes                                  11.000000    12.000000  \n",
       "peso                                298.600000   376.000000  "
      ]
     },
     "execution_count": 5,
     "metadata": {},
     "output_type": "execute_result"
    }
   ],
   "source": [
    "df.describe().T"
   ]
  },
  {
   "cell_type": "markdown",
   "metadata": {
    "id": "0iaiR8p-Wc63"
   },
   "source": [
    "### Separando as características preditoras do atributo alvo"
   ]
  },
  {
   "cell_type": "code",
   "execution_count": 4,
   "metadata": {
    "executionInfo": {
     "elapsed": 423,
     "status": "ok",
     "timestamp": 1648604557045,
     "user": {
      "displayName": "Inara Santana Ortiz",
      "userId": "07948853797805552432"
     },
     "user_tz": 240
    },
    "id": "eXGY4ZKRpNTa"
   },
   "outputs": [],
   "source": [
    "y = df['peso']\n",
    "# Retirar a variável alvo e as variáveis obtidas após o abate \n",
    "X = df.drop(['peso'],axis=1)"
   ]
  },
  {
   "cell_type": "code",
   "execution_count": 5,
   "metadata": {
    "executionInfo": {
     "elapsed": 3,
     "status": "ok",
     "timestamp": 1648604557334,
     "user": {
      "displayName": "Inara Santana Ortiz",
      "userId": "07948853797805552432"
     },
     "user_tz": 240
    },
    "id": "CNDlWXfLo1C0"
   },
   "outputs": [],
   "source": [
    "SEED = 42"
   ]
  },
  {
   "cell_type": "code",
   "execution_count": 6,
   "metadata": {
    "executionInfo": {
     "elapsed": 3,
     "status": "ok",
     "timestamp": 1648604558275,
     "user": {
      "displayName": "Inara Santana Ortiz",
      "userId": "07948853797805552432"
     },
     "user_tz": 240
    },
    "id": "n1DNEwIGWLWB"
   },
   "outputs": [],
   "source": [
    "kfolds = KFold(n_splits=5, shuffle=True, random_state=SEED)"
   ]
  },
  {
   "cell_type": "markdown",
   "metadata": {
    "id": "cavsY9EeLdVk"
   },
   "source": [
    "# Treinando o modelo com *Random Forest Regression* (RFR)\n",
    "Passos a serem executados:\n",
    "\n",
    "\n",
    "1. Reescala dos dados como a tecnica StandardScaler;\n",
    "2. Redução da dimensionalidade com PCA, para reduzir o número de recursos e ajudar a acelerar o treinamento do modelo Random Forest;\n",
    "3. Ajuste de hiperparâmetros para tentar otimizar o desempenho do modelo utilizando o framework Optuna. \n",
    "4. Validação cruzada do modelo com os melhores hiperparâmetros encontrados\n",
    "5. Descobrir quais são os recursos mais relevantes para o modelo."
   ]
  },
  {
   "cell_type": "markdown",
   "metadata": {
    "id": "QdQMGjOjPqBA"
   },
   "source": [
    "### StandardScaler"
   ]
  },
  {
   "cell_type": "code",
   "execution_count": 7,
   "metadata": {
    "executionInfo": {
     "elapsed": 1066,
     "status": "ok",
     "timestamp": 1648604561250,
     "user": {
      "displayName": "Inara Santana Ortiz",
      "userId": "07948853797805552432"
     },
     "user_tz": 240
    },
    "id": "Un51MvKwOf_e"
   },
   "outputs": [],
   "source": [
    "scaler = StandardScaler()\n",
    "X_scaled = scaler.fit_transform(X)"
   ]
  },
  {
   "cell_type": "markdown",
   "metadata": {
    "id": "2i2NYfpxGtYq"
   },
   "source": [
    "### PCA \n",
    "Instanciamos a função PCA e definimos o número de componentes (recursos) que queremos considerar. Vamos defini-lo como \"40\" para ver a variação explicada de todos os componentes gerados, antes de decidir onde fazer o corte. "
   ]
  },
  {
   "cell_type": "code",
   "execution_count": 10,
   "metadata": {
    "colab": {
     "base_uri": "https://localhost:8080/"
    },
    "executionInfo": {
     "elapsed": 2175,
     "status": "ok",
     "timestamp": 1648604563761,
     "user": {
      "displayName": "Inara Santana Ortiz",
      "userId": "07948853797805552432"
     },
     "user_tz": 240
    },
    "id": "Ppv4nL1epGD3",
    "outputId": "0afc9181-f44c-43d4-a022-10f67faacb95"
   },
   "outputs": [
    {
     "data": {
      "text/plain": [
       "PCA(n_components=40)"
      ]
     },
     "execution_count": 10,
     "metadata": {},
     "output_type": "execute_result"
    }
   ],
   "source": [
    "pca_test = PCA(n_components=40)\n",
    "pca_test.fit(X_scaled)"
   ]
  },
  {
   "cell_type": "code",
   "execution_count": null,
   "metadata": {
    "colab": {
     "base_uri": "https://localhost:8080/",
     "height": 302
    },
    "executionInfo": {
     "elapsed": 481,
     "status": "ok",
     "timestamp": 1642731214611,
     "user": {
      "displayName": "Inara Santana Ortiz",
      "photoUrl": "https://lh3.googleusercontent.com/a-/AOh14GiiIA2mH7NX3gcUv6FChCpTqiH5LAcmLjP4xmgD3g=s64",
      "userId": "07948853797805552432"
     },
     "user_tz": 240
    },
    "id": "GKu1P51DWyQc",
    "outputId": "798f1c55-e457-4cbb-8192-10426c205763"
   },
   "outputs": [
    {
     "data": {
      "image/png": "[encoded data removed]",
      "text/plain": [
       "<Figure size 432x288 with 1 Axes>"
      ]
     },
     "metadata": {},
     "output_type": "display_data"
    },
    {
     "data": {
      "text/plain": [
       "None"
      ]
     },
     "metadata": {},
     "output_type": "display_data"
    }
   ],
   "source": [
    "sns.set(style='whitegrid')\n",
    "plt.plot(np.cumsum(pca_test.explained_variance_ratio_))\n",
    "plt.xlabel('numero de componentes')\n",
    "plt.ylabel('cumulative explained variance')\n",
    "plt.axvline(linewidth=4, color='r', linestyle = '--', x=30, ymin=0, ymax=1)\n",
    "display(plt.show())"
   ]
  },
  {
   "cell_type": "markdown",
   "metadata": {
    "id": "o_fLxUlNZyW1"
   },
   "source": [
    "Este gráfico mostra que depois de mais de 30 componentes, não ganhamos muita variância explicada."
   ]
  },
  {
   "cell_type": "code",
   "execution_count": null,
   "metadata": {
    "colab": {
     "base_uri": "https://localhost:8080/",
     "height": 1000
    },
    "executionInfo": {
     "elapsed": 394,
     "status": "ok",
     "timestamp": 1642731194792,
     "user": {
      "displayName": "Inara Santana Ortiz",
      "photoUrl": "https://lh3.googleusercontent.com/a-/AOh14GiiIA2mH7NX3gcUv6FChCpTqiH5LAcmLjP4xmgD3g=s64",
      "userId": "07948853797805552432"
     },
     "user_tz": 240
    },
    "id": "Z6FflI-BpVuA",
    "outputId": "67f3b018-118f-4410-c13a-6e3dac0d7833"
   },
   "outputs": [
    {
     "data": {
      "text/html": [
       "\n",
       "  <div id=\"df-95c63e5a-ae9b-4e5c-ab14-9290045a523d\">\n",
       "    <div class=\"colab-df-container\">\n",
       "      <div>\n",
       "<style scoped>\n",
       "    .dataframe tbody tr th:only-of-type {\n",
       "        vertical-align: middle;\n",
       "    }\n",
       "\n",
       "    .dataframe tbody tr th {\n",
       "        vertical-align: top;\n",
       "    }\n",
       "\n",
       "    .dataframe thead th {\n",
       "        text-align: right;\n",
       "    }\n",
       "</style>\n",
       "<table border=\"1\" class=\"dataframe\">\n",
       "  <thead>\n",
       "    <tr style=\"text-align: right;\">\n",
       "      <th></th>\n",
       "      <th>Cumulative Variance Ratio</th>\n",
       "      <th>Explained Variance Ratio</th>\n",
       "    </tr>\n",
       "  </thead>\n",
       "  <tbody>\n",
       "    <tr>\n",
       "      <th>0</th>\n",
       "      <td>0.223556</td>\n",
       "      <td>0.223556</td>\n",
       "    </tr>\n",
       "    <tr>\n",
       "      <th>1</th>\n",
       "      <td>0.373074</td>\n",
       "      <td>0.149518</td>\n",
       "    </tr>\n",
       "    <tr>\n",
       "      <th>2</th>\n",
       "      <td>0.465195</td>\n",
       "      <td>0.092120</td>\n",
       "    </tr>\n",
       "    <tr>\n",
       "      <th>3</th>\n",
       "      <td>0.543392</td>\n",
       "      <td>0.078198</td>\n",
       "    </tr>\n",
       "    <tr>\n",
       "      <th>4</th>\n",
       "      <td>0.594985</td>\n",
       "      <td>0.051592</td>\n",
       "    </tr>\n",
       "    <tr>\n",
       "      <th>5</th>\n",
       "      <td>0.635870</td>\n",
       "      <td>0.040885</td>\n",
       "    </tr>\n",
       "    <tr>\n",
       "      <th>6</th>\n",
       "      <td>0.670435</td>\n",
       "      <td>0.034565</td>\n",
       "    </tr>\n",
       "    <tr>\n",
       "      <th>7</th>\n",
       "      <td>0.701972</td>\n",
       "      <td>0.031538</td>\n",
       "    </tr>\n",
       "    <tr>\n",
       "      <th>8</th>\n",
       "      <td>0.732459</td>\n",
       "      <td>0.030487</td>\n",
       "    </tr>\n",
       "    <tr>\n",
       "      <th>9</th>\n",
       "      <td>0.760056</td>\n",
       "      <td>0.027597</td>\n",
       "    </tr>\n",
       "    <tr>\n",
       "      <th>10</th>\n",
       "      <td>0.784730</td>\n",
       "      <td>0.024674</td>\n",
       "    </tr>\n",
       "    <tr>\n",
       "      <th>11</th>\n",
       "      <td>0.807954</td>\n",
       "      <td>0.023224</td>\n",
       "    </tr>\n",
       "    <tr>\n",
       "      <th>12</th>\n",
       "      <td>0.830967</td>\n",
       "      <td>0.023013</td>\n",
       "    </tr>\n",
       "    <tr>\n",
       "      <th>13</th>\n",
       "      <td>0.852022</td>\n",
       "      <td>0.021055</td>\n",
       "    </tr>\n",
       "    <tr>\n",
       "      <th>14</th>\n",
       "      <td>0.869598</td>\n",
       "      <td>0.017577</td>\n",
       "    </tr>\n",
       "    <tr>\n",
       "      <th>15</th>\n",
       "      <td>0.886110</td>\n",
       "      <td>0.016512</td>\n",
       "    </tr>\n",
       "    <tr>\n",
       "      <th>16</th>\n",
       "      <td>0.901629</td>\n",
       "      <td>0.015519</td>\n",
       "    </tr>\n",
       "    <tr>\n",
       "      <th>17</th>\n",
       "      <td>0.915973</td>\n",
       "      <td>0.014344</td>\n",
       "    </tr>\n",
       "    <tr>\n",
       "      <th>18</th>\n",
       "      <td>0.929193</td>\n",
       "      <td>0.013221</td>\n",
       "    </tr>\n",
       "    <tr>\n",
       "      <th>19</th>\n",
       "      <td>0.941095</td>\n",
       "      <td>0.011901</td>\n",
       "    </tr>\n",
       "    <tr>\n",
       "      <th>20</th>\n",
       "      <td>0.950859</td>\n",
       "      <td>0.009764</td>\n",
       "    </tr>\n",
       "    <tr>\n",
       "      <th>21</th>\n",
       "      <td>0.960263</td>\n",
       "      <td>0.009404</td>\n",
       "    </tr>\n",
       "    <tr>\n",
       "      <th>22</th>\n",
       "      <td>0.968695</td>\n",
       "      <td>0.008432</td>\n",
       "    </tr>\n",
       "    <tr>\n",
       "      <th>23</th>\n",
       "      <td>0.974995</td>\n",
       "      <td>0.006300</td>\n",
       "    </tr>\n",
       "    <tr>\n",
       "      <th>24</th>\n",
       "      <td>0.978793</td>\n",
       "      <td>0.003798</td>\n",
       "    </tr>\n",
       "    <tr>\n",
       "      <th>25</th>\n",
       "      <td>0.982312</td>\n",
       "      <td>0.003519</td>\n",
       "    </tr>\n",
       "    <tr>\n",
       "      <th>26</th>\n",
       "      <td>0.985446</td>\n",
       "      <td>0.003134</td>\n",
       "    </tr>\n",
       "    <tr>\n",
       "      <th>27</th>\n",
       "      <td>0.988349</td>\n",
       "      <td>0.002903</td>\n",
       "    </tr>\n",
       "    <tr>\n",
       "      <th>28</th>\n",
       "      <td>0.990529</td>\n",
       "      <td>0.002180</td>\n",
       "    </tr>\n",
       "    <tr>\n",
       "      <th>29</th>\n",
       "      <td>0.992193</td>\n",
       "      <td>0.001664</td>\n",
       "    </tr>\n",
       "    <tr>\n",
       "      <th>30</th>\n",
       "      <td>0.993697</td>\n",
       "      <td>0.001504</td>\n",
       "    </tr>\n",
       "    <tr>\n",
       "      <th>31</th>\n",
       "      <td>0.994992</td>\n",
       "      <td>0.001294</td>\n",
       "    </tr>\n",
       "    <tr>\n",
       "      <th>32</th>\n",
       "      <td>0.995936</td>\n",
       "      <td>0.000944</td>\n",
       "    </tr>\n",
       "    <tr>\n",
       "      <th>33</th>\n",
       "      <td>0.996726</td>\n",
       "      <td>0.000791</td>\n",
       "    </tr>\n",
       "    <tr>\n",
       "      <th>34</th>\n",
       "      <td>0.997394</td>\n",
       "      <td>0.000667</td>\n",
       "    </tr>\n",
       "    <tr>\n",
       "      <th>35</th>\n",
       "      <td>0.998016</td>\n",
       "      <td>0.000623</td>\n",
       "    </tr>\n",
       "    <tr>\n",
       "      <th>36</th>\n",
       "      <td>0.998542</td>\n",
       "      <td>0.000526</td>\n",
       "    </tr>\n",
       "    <tr>\n",
       "      <th>37</th>\n",
       "      <td>0.999008</td>\n",
       "      <td>0.000467</td>\n",
       "    </tr>\n",
       "    <tr>\n",
       "      <th>38</th>\n",
       "      <td>0.999347</td>\n",
       "      <td>0.000339</td>\n",
       "    </tr>\n",
       "    <tr>\n",
       "      <th>39</th>\n",
       "      <td>0.999595</td>\n",
       "      <td>0.000248</td>\n",
       "    </tr>\n",
       "  </tbody>\n",
       "</table>\n",
       "</div>\n",
       "      <button class=\"colab-df-convert\" onclick=\"convertToInteractive('df-95c63e5a-ae9b-4e5c-ab14-9290045a523d')\"\n",
       "              title=\"Convert this dataframe to an interactive table.\"\n",
       "              style=\"display:none;\">\n",
       "        \n",
       "  <svg xmlns=\"http://www.w3.org/2000/svg\" height=\"24px\"viewBox=\"0 0 24 24\"\n",
       "       width=\"24px\">\n",
       "    <path d=\"M0 0h24v24H0V0z\" fill=\"none\"/>\n",
       "    <path d=\"M18.56 5.44l.94 2.06.94-2.06 2.06-.94-2.06-.94-.94-2.06-.94 2.06-2.06.94zm-11 1L8.5 8.5l.94-2.06 2.06-.94-2.06-.94L8.5 2.5l-.94 2.06-2.06.94zm10 10l.94 2.06.94-2.06 2.06-.94-2.06-.94-.94-2.06-.94 2.06-2.06.94z\"/><path d=\"M17.41 7.96l-1.37-1.37c-.4-.4-.92-.59-1.43-.59-.52 0-1.04.2-1.43.59L10.3 9.45l-7.72 7.72c-.78.78-.78 2.05 0 2.83L4 21.41c.39.39.9.59 1.41.59.51 0 1.02-.2 1.41-.59l7.78-7.78 2.81-2.81c.8-.78.8-2.07 0-2.86zM5.41 20L4 18.59l7.72-7.72 1.47 1.35L5.41 20z\"/>\n",
       "  </svg>\n",
       "      </button>\n",
       "      \n",
       "  <style>\n",
       "    .colab-df-container {\n",
       "      display:flex;\n",
       "      flex-wrap:wrap;\n",
       "      gap: 12px;\n",
       "    }\n",
       "\n",
       "    .colab-df-convert {\n",
       "      background-color: #E8F0FE;\n",
       "      border: none;\n",
       "      border-radius: 50%;\n",
       "      cursor: pointer;\n",
       "      display: none;\n",
       "      fill: #1967D2;\n",
       "      height: 32px;\n",
       "      padding: 0 0 0 0;\n",
       "      width: 32px;\n",
       "    }\n",
       "\n",
       "    .colab-df-convert:hover {\n",
       "      background-color: #E2EBFA;\n",
       "      box-shadow: 0px 1px 2px rgba(60, 64, 67, 0.3), 0px 1px 3px 1px rgba(60, 64, 67, 0.15);\n",
       "      fill: #174EA6;\n",
       "    }\n",
       "\n",
       "    [theme=dark] .colab-df-convert {\n",
       "      background-color: #3B4455;\n",
       "      fill: #D2E3FC;\n",
       "    }\n",
       "\n",
       "    [theme=dark] .colab-df-convert:hover {\n",
       "      background-color: #434B5C;\n",
       "      box-shadow: 0px 1px 3px 1px rgba(0, 0, 0, 0.15);\n",
       "      filter: drop-shadow(0px 1px 2px rgba(0, 0, 0, 0.3));\n",
       "      fill: #FFFFFF;\n",
       "    }\n",
       "  </style>\n",
       "\n",
       "      <script>\n",
       "        const buttonEl =\n",
       "          document.querySelector('#df-95c63e5a-ae9b-4e5c-ab14-9290045a523d button.colab-df-convert');\n",
       "        buttonEl.style.display =\n",
       "          google.colab.kernel.accessAllowed ? 'block' : 'none';\n",
       "\n",
       "        async function convertToInteractive(key) {\n",
       "          const element = document.querySelector('#df-95c63e5a-ae9b-4e5c-ab14-9290045a523d');\n",
       "          const dataTable =\n",
       "            await google.colab.kernel.invokeFunction('convertToInteractive',\n",
       "                                                     [key], {});\n",
       "          if (!dataTable) return;\n",
       "\n",
       "          const docLinkHtml = 'Like what you see? Visit the ' +\n",
       "            '<a target=\"_blank\" href=https://colab.research.google.com/notebooks/data_table.ipynb>data table notebook</a>'\n",
       "            + ' to learn more about interactive tables.';\n",
       "          element.innerHTML = '';\n",
       "          dataTable['output_type'] = 'display_data';\n",
       "          await google.colab.output.renderOutput(dataTable, element);\n",
       "          const docLink = document.createElement('div');\n",
       "          docLink.innerHTML = docLinkHtml;\n",
       "          element.appendChild(docLink);\n",
       "        }\n",
       "      </script>\n",
       "    </div>\n",
       "  </div>\n",
       "  "
      ],
      "text/plain": [
       "    Cumulative Variance Ratio  Explained Variance Ratio\n",
       "0                    0.223556                  0.223556\n",
       "1                    0.373074                  0.149518\n",
       "2                    0.465195                  0.092120\n",
       "3                    0.543392                  0.078198\n",
       "4                    0.594985                  0.051592\n",
       "5                    0.635870                  0.040885\n",
       "6                    0.670435                  0.034565\n",
       "7                    0.701972                  0.031538\n",
       "8                    0.732459                  0.030487\n",
       "9                    0.760056                  0.027597\n",
       "10                   0.784730                  0.024674\n",
       "11                   0.807954                  0.023224\n",
       "12                   0.830967                  0.023013\n",
       "13                   0.852022                  0.021055\n",
       "14                   0.869598                  0.017577\n",
       "15                   0.886110                  0.016512\n",
       "16                   0.901629                  0.015519\n",
       "17                   0.915973                  0.014344\n",
       "18                   0.929193                  0.013221\n",
       "19                   0.941095                  0.011901\n",
       "20                   0.950859                  0.009764\n",
       "21                   0.960263                  0.009404\n",
       "22                   0.968695                  0.008432\n",
       "23                   0.974995                  0.006300\n",
       "24                   0.978793                  0.003798\n",
       "25                   0.982312                  0.003519\n",
       "26                   0.985446                  0.003134\n",
       "27                   0.988349                  0.002903\n",
       "28                   0.990529                  0.002180\n",
       "29                   0.992193                  0.001664\n",
       "30                   0.993697                  0.001504\n",
       "31                   0.994992                  0.001294\n",
       "32                   0.995936                  0.000944\n",
       "33                   0.996726                  0.000791\n",
       "34                   0.997394                  0.000667\n",
       "35                   0.998016                  0.000623\n",
       "36                   0.998542                  0.000526\n",
       "37                   0.999008                  0.000467\n",
       "38                   0.999347                  0.000339\n",
       "39                   0.999595                  0.000248"
      ]
     },
     "metadata": {},
     "output_type": "display_data"
    }
   ],
   "source": [
    "evr = pca_test.explained_variance_ratio_\n",
    "cvr = np.cumsum(pca_test.explained_variance_ratio_)\n",
    "pca_df = pd.DataFrame()\n",
    "pca_df['Cumulative Variance Ratio'] = cvr\n",
    "pca_df['Explained Variance Ratio'] = evr\n",
    "display(pca_df.head(40))"
   ]
  },
  {
   "cell_type": "markdown",
   "metadata": {
    "id": "-mSzkh_Ch8r9"
   },
   "source": [
    "O dataframe mostra a Razão de Variação Acumulada (quanta variação total dos dados é explicada) e a Razão de Variação Explicada (quanto cada componente do PCA explica a variação total dos dados)."
   ]
  },
  {
   "cell_type": "code",
   "execution_count": 8,
   "metadata": {
    "executionInfo": {
     "elapsed": 9229,
     "status": "ok",
     "timestamp": 1648604574764,
     "user": {
      "displayName": "Inara Santana Ortiz",
      "userId": "07948853797805552432"
     },
     "user_tz": 240
    },
    "id": "zcAa2n3ipdCg"
   },
   "outputs": [],
   "source": [
    "pca = PCA(n_components=30)\n",
    "pca.fit(X_scaled)\n",
    "X_scaled_pca = pca.transform(X_scaled)"
   ]
  },
  {
   "cell_type": "markdown",
   "metadata": {
    "id": "Z3rJle2NnwPy"
   },
   "source": [
    "## Random Forest Regressor (RFR) - Baseline"
   ]
  },
  {
   "cell_type": "code",
   "execution_count": 11,
   "metadata": {
    "id": "6SxfSsDAniGq"
   },
   "outputs": [],
   "source": [
    "rfr_baseline = RandomForestRegressor(n_jobs=-1)\n",
    "scores = cross_val_score(rfr_baseline, X_scaled_pca, y, n_jobs=-1, cv=kfolds, scoring='r2')"
   ]
  },
  {
   "cell_type": "code",
   "execution_count": 12,
   "metadata": {
    "colab": {
     "base_uri": "https://localhost:8080/"
    },
    "executionInfo": {
     "elapsed": 425,
     "status": "ok",
     "timestamp": 1644985258650,
     "user": {
      "displayName": "Inara Santana Ortiz",
      "photoUrl": "https://lh3.googleusercontent.com/a-/AOh14GiiIA2mH7NX3gcUv6FChCpTqiH5LAcmLjP4xmgD3g=s64",
      "userId": "07948853797805552432"
     },
     "user_tz": 240
    },
    "id": "_HlsvYUVwuy8",
    "outputId": "661bb64a-f8e7-4cac-d15a-511b93698b28"
   },
   "outputs": [
    {
     "name": "stdout",
     "output_type": "stream",
     "text": [
      "Média 0.778 +/- 0.00\n"
     ]
    }
   ],
   "source": [
    "print('Média %.3f +/- %.2f' % (scores.mean(), scores.std()))"
   ]
  },
  {
   "cell_type": "markdown",
   "metadata": {
    "id": "xmxrclq_Vzuh"
   },
   "source": [
    "## Otimização dos hiperparâmetros"
   ]
  },
  {
   "cell_type": "code",
   "execution_count": 9,
   "metadata": {
    "executionInfo": {
     "elapsed": 300,
     "status": "ok",
     "timestamp": 1648604886709,
     "user": {
      "displayName": "Inara Santana Ortiz",
      "userId": "07948853797805552432"
     },
     "user_tz": 240
    },
    "id": "Cd4sVh9kdgDj"
   },
   "outputs": [],
   "source": [
    "# Manipulador de fluxo para mostrar as mensagens\n",
    "optuna.logging.get_logger(\"optuna\").addHandler(logging.StreamHandler(sys.stdout))\n",
    "study_name = \"rfr-study\"  # Unique identifier of the study.\n",
    "storage_name = \"sqlite:///{}.db\".format(study_name)\n",
    "# storage_name = \"sqlite:///content/drive/MyDrive/Dissertação/dados/{}.db\".format(study_name)"
   ]
  },
  {
   "cell_type": "code",
   "execution_count": 10,
   "metadata": {
    "executionInfo": {
     "elapsed": 290,
     "status": "ok",
     "timestamp": 1648604770517,
     "user": {
      "displayName": "Inara Santana Ortiz",
      "userId": "07948853797805552432"
     },
     "user_tz": 240
    },
    "id": "GvjnuoZFWUeg"
   },
   "outputs": [],
   "source": [
    "# função de otimização baseada em uma função objetivo\n",
    "def tune(objective):\n",
    "    study = optuna.create_study(study_name=study_name, storage=storage_name, load_if_exists=True, direction=\"maximize\")\n",
    "    study.optimize(objective, timeout=86400, n_trials=100)\n",
    "\n",
    "    params = study.best_params\n",
    "    print(f\"Trial: {study.best_trial.number}\")\n",
    "    params = study.best_params\n",
    "    print(\"\\n\")\n",
    "    print(f\"Melhor seleção de parâmetros : \\n{params}\")\n",
    "    print(\"\\n\")\n",
    "    print(f\"Acurácia : {study.best_value:.3f}\")\n",
    "    \n",
    "    return study, params"
   ]
  },
  {
   "cell_type": "code",
   "execution_count": 11,
   "metadata": {
    "executionInfo": {
     "elapsed": 258,
     "status": "ok",
     "timestamp": 1648604775748,
     "user": {
      "displayName": "Inara Santana Ortiz",
      "userId": "07948853797805552432"
     },
     "user_tz": 240
    },
    "id": "UQa2QF3qtdeu"
   },
   "outputs": [],
   "source": [
    "def randomforest_objective(trial: optuna.Trial): \n",
    "    rfr_params = {\n",
    "        \"n_estimators\": trial.suggest_int(\"n_estimators\", 10, 300),\n",
    "        \"max_depth\":  trial.suggest_int(\"max_depth\", 10, 200),\n",
    "        \"min_samples_split\" : trial.suggest_int(\"min_samples_split\", 5, 50),\n",
    "        \"min_samples_leaf\" : trial.suggest_int(\"min_samples_leaf\", 1, 10),\n",
    "        \"max_features\": trial.suggest_categorical(\"max_features\", \n",
    "                                                  choices=[\"auto\", \"sqrt\", \"log2\"]\n",
    "                                                  ),\n",
    "        \"bootstrap\": trial.suggest_categorical(\"bootstrap\", \n",
    "                                               choices=[\"True\", \"False\"]\n",
    "                                               ),\n",
    "        \"random_state\": SEED,\n",
    "    }\n",
    "    rfr = RandomForestRegressor(**rfr_params, n_jobs=-1)\n",
    "    scores = cross_val_score(rfr, X_scaled_pca, y, n_jobs=-1, cv=kfolds, scoring='r2')\n",
    "    return scores.mean()"
   ]
  },
  {
   "cell_type": "code",
   "execution_count": 12,
   "metadata": {
    "colab": {
     "base_uri": "https://localhost:8080/"
    },
    "executionInfo": {
     "elapsed": 1676040,
     "status": "ok",
     "timestamp": 1648607323448,
     "user": {
      "displayName": "Inara Santana Ortiz",
      "userId": "07948853797805552432"
     },
     "user_tz": 240
    },
    "id": "LpuxgmyNt4Sn",
    "outputId": "62b4618b-8ea6-4d22-a939-d5207bbd033c",
    "scrolled": false
   },
   "outputs": [
    {
     "name": "stderr",
     "output_type": "stream",
     "text": [
      "\u001b[32m[I 2022-05-04 22:38:34,660]\u001b[0m Using an existing study with name 'rfr-study' instead of creating a new one.\u001b[0m\n"
     ]
    },
    {
     "name": "stdout",
     "output_type": "stream",
     "text": [
      "Using an existing study with name 'rfr-study' instead of creating a new one.\n"
     ]
    },
    {
     "name": "stderr",
     "output_type": "stream",
     "text": [
      "\u001b[32m[I 2022-05-04 22:53:05,827]\u001b[0m Trial 90 finished with value: 0.7783826924476139 and parameters: {'n_estimators': 270, 'max_depth': 115, 'min_samples_split': 39, 'min_samples_leaf': 1, 'max_features': 'log2', 'bootstrap': 'True'}. Best is trial 37 with value: 0.7783951601151406.\u001b[0m\n"
     ]
    },
    {
     "name": "stdout",
     "output_type": "stream",
     "text": [
      "Trial 90 finished with value: 0.7783826924476139 and parameters: {'n_estimators': 270, 'max_depth': 115, 'min_samples_split': 39, 'min_samples_leaf': 1, 'max_features': 'log2', 'bootstrap': 'True'}. Best is trial 37 with value: 0.7783951601151406.\n"
     ]
    },
    {
     "name": "stderr",
     "output_type": "stream",
     "text": [
      "/home/inara/anaconda3/lib/python3.7/site-packages/joblib/externals/loky/process_executor.py:706: UserWarning: A worker stopped while some jobs were given to the executor. This can be caused by a too short worker timeout or by a memory leak.\n",
      "  \"timeout or by a memory leak.\", UserWarning\n",
      "\u001b[32m[I 2022-05-04 23:07:29,799]\u001b[0m Trial 91 finished with value: 0.7783895126810881 and parameters: {'n_estimators': 282, 'max_depth': 143, 'min_samples_split': 37, 'min_samples_leaf': 1, 'max_features': 'log2', 'bootstrap': 'True'}. Best is trial 37 with value: 0.7783951601151406.\u001b[0m\n"
     ]
    },
    {
     "name": "stdout",
     "output_type": "stream",
     "text": [
      "Trial 91 finished with value: 0.7783895126810881 and parameters: {'n_estimators': 282, 'max_depth': 143, 'min_samples_split': 37, 'min_samples_leaf': 1, 'max_features': 'log2', 'bootstrap': 'True'}. Best is trial 37 with value: 0.7783951601151406.\n"
     ]
    },
    {
     "name": "stderr",
     "output_type": "stream",
     "text": [
      "/home/inara/anaconda3/lib/python3.7/site-packages/joblib/externals/loky/process_executor.py:706: UserWarning: A worker stopped while some jobs were given to the executor. This can be caused by a too short worker timeout or by a memory leak.\n",
      "  \"timeout or by a memory leak.\", UserWarning\n",
      "\u001b[32m[I 2022-05-04 23:21:06,067]\u001b[0m Trial 92 finished with value: 0.7783973221866435 and parameters: {'n_estimators': 263, 'max_depth': 117, 'min_samples_split': 38, 'min_samples_leaf': 1, 'max_features': 'log2', 'bootstrap': 'True'}. Best is trial 92 with value: 0.7783973221866435.\u001b[0m\n"
     ]
    },
    {
     "name": "stdout",
     "output_type": "stream",
     "text": [
      "Trial 92 finished with value: 0.7783973221866435 and parameters: {'n_estimators': 263, 'max_depth': 117, 'min_samples_split': 38, 'min_samples_leaf': 1, 'max_features': 'log2', 'bootstrap': 'True'}. Best is trial 92 with value: 0.7783973221866435.\n"
     ]
    },
    {
     "name": "stderr",
     "output_type": "stream",
     "text": [
      "\u001b[32m[I 2022-05-04 23:34:14,494]\u001b[0m Trial 93 finished with value: 0.7783986592847856 and parameters: {'n_estimators': 256, 'max_depth': 133, 'min_samples_split': 34, 'min_samples_leaf': 1, 'max_features': 'log2', 'bootstrap': 'True'}. Best is trial 93 with value: 0.7783986592847856.\u001b[0m\n"
     ]
    },
    {
     "name": "stdout",
     "output_type": "stream",
     "text": [
      "Trial 93 finished with value: 0.7783986592847856 and parameters: {'n_estimators': 256, 'max_depth': 133, 'min_samples_split': 34, 'min_samples_leaf': 1, 'max_features': 'log2', 'bootstrap': 'True'}. Best is trial 93 with value: 0.7783986592847856.\n"
     ]
    },
    {
     "name": "stderr",
     "output_type": "stream",
     "text": [
      "/home/inara/anaconda3/lib/python3.7/site-packages/joblib/externals/loky/process_executor.py:706: UserWarning: A worker stopped while some jobs were given to the executor. This can be caused by a too short worker timeout or by a memory leak.\n",
      "  \"timeout or by a memory leak.\", UserWarning\n",
      "\u001b[32m[I 2022-05-04 23:47:20,050]\u001b[0m Trial 94 finished with value: 0.7783907991720206 and parameters: {'n_estimators': 261, 'max_depth': 134, 'min_samples_split': 32, 'min_samples_leaf': 1, 'max_features': 'log2', 'bootstrap': 'True'}. Best is trial 93 with value: 0.7783986592847856.\u001b[0m\n"
     ]
    },
    {
     "name": "stdout",
     "output_type": "stream",
     "text": [
      "Trial 94 finished with value: 0.7783907991720206 and parameters: {'n_estimators': 261, 'max_depth': 134, 'min_samples_split': 32, 'min_samples_leaf': 1, 'max_features': 'log2', 'bootstrap': 'True'}. Best is trial 93 with value: 0.7783986592847856.\n"
     ]
    },
    {
     "name": "stderr",
     "output_type": "stream",
     "text": [
      "\u001b[32m[I 2022-05-04 23:58:54,534]\u001b[0m Trial 95 finished with value: 0.7778200508650464 and parameters: {'n_estimators': 230, 'max_depth': 137, 'min_samples_split': 29, 'min_samples_leaf': 7, 'max_features': 'log2', 'bootstrap': 'True'}. Best is trial 93 with value: 0.7783986592847856.\u001b[0m\n"
     ]
    },
    {
     "name": "stdout",
     "output_type": "stream",
     "text": [
      "Trial 95 finished with value: 0.7778200508650464 and parameters: {'n_estimators': 230, 'max_depth': 137, 'min_samples_split': 29, 'min_samples_leaf': 7, 'max_features': 'log2', 'bootstrap': 'True'}. Best is trial 93 with value: 0.7783986592847856.\n"
     ]
    },
    {
     "name": "stderr",
     "output_type": "stream",
     "text": [
      "\u001b[32m[I 2022-05-05 00:10:57,473]\u001b[0m Trial 96 finished with value: 0.7783435622234609 and parameters: {'n_estimators': 240, 'max_depth': 134, 'min_samples_split': 34, 'min_samples_leaf': 2, 'max_features': 'log2', 'bootstrap': 'True'}. Best is trial 93 with value: 0.7783986592847856.\u001b[0m\n"
     ]
    },
    {
     "name": "stdout",
     "output_type": "stream",
     "text": [
      "Trial 96 finished with value: 0.7783435622234609 and parameters: {'n_estimators': 240, 'max_depth': 134, 'min_samples_split': 34, 'min_samples_leaf': 2, 'max_features': 'log2', 'bootstrap': 'True'}. Best is trial 93 with value: 0.7783986592847856.\n"
     ]
    },
    {
     "name": "stderr",
     "output_type": "stream",
     "text": [
      "\u001b[32m[I 2022-05-05 00:23:47,053]\u001b[0m Trial 97 finished with value: 0.7773289043793308 and parameters: {'n_estimators': 254, 'max_depth': 126, 'min_samples_split': 32, 'min_samples_leaf': 10, 'max_features': 'log2', 'bootstrap': 'True'}. Best is trial 93 with value: 0.7783986592847856.\u001b[0m\n"
     ]
    },
    {
     "name": "stdout",
     "output_type": "stream",
     "text": [
      "Trial 97 finished with value: 0.7773289043793308 and parameters: {'n_estimators': 254, 'max_depth': 126, 'min_samples_split': 32, 'min_samples_leaf': 10, 'max_features': 'log2', 'bootstrap': 'True'}. Best is trial 93 with value: 0.7783986592847856.\n"
     ]
    },
    {
     "name": "stderr",
     "output_type": "stream",
     "text": [
      "/home/inara/anaconda3/lib/python3.7/site-packages/joblib/externals/loky/process_executor.py:706: UserWarning: A worker stopped while some jobs were given to the executor. This can be caused by a too short worker timeout or by a memory leak.\n",
      "  \"timeout or by a memory leak.\", UserWarning\n",
      "\u001b[32m[I 2022-05-05 00:34:47,789]\u001b[0m Trial 98 finished with value: 0.7783550108526824 and parameters: {'n_estimators': 219, 'max_depth': 116, 'min_samples_split': 25, 'min_samples_leaf': 1, 'max_features': 'log2', 'bootstrap': 'True'}. Best is trial 93 with value: 0.7783986592847856.\u001b[0m\n"
     ]
    },
    {
     "name": "stdout",
     "output_type": "stream",
     "text": [
      "Trial 98 finished with value: 0.7783550108526824 and parameters: {'n_estimators': 219, 'max_depth': 116, 'min_samples_split': 25, 'min_samples_leaf': 1, 'max_features': 'log2', 'bootstrap': 'True'}. Best is trial 93 with value: 0.7783986592847856.\n"
     ]
    },
    {
     "name": "stderr",
     "output_type": "stream",
     "text": [
      "\u001b[32m[I 2022-05-05 01:59:50,131]\u001b[0m Trial 99 finished with value: 0.7782136148219084 and parameters: {'n_estimators': 272, 'max_depth': 145, 'min_samples_split': 33, 'min_samples_leaf': 2, 'max_features': 'auto', 'bootstrap': 'True'}. Best is trial 93 with value: 0.7783986592847856.\u001b[0m\n"
     ]
    },
    {
     "name": "stdout",
     "output_type": "stream",
     "text": [
      "Trial 99 finished with value: 0.7782136148219084 and parameters: {'n_estimators': 272, 'max_depth': 145, 'min_samples_split': 33, 'min_samples_leaf': 2, 'max_features': 'auto', 'bootstrap': 'True'}. Best is trial 93 with value: 0.7783986592847856.\n"
     ]
    },
    {
     "name": "stderr",
     "output_type": "stream",
     "text": [
      "/home/inara/anaconda3/lib/python3.7/site-packages/joblib/externals/loky/process_executor.py:706: UserWarning: A worker stopped while some jobs were given to the executor. This can be caused by a too short worker timeout or by a memory leak.\n",
      "  \"timeout or by a memory leak.\", UserWarning\n",
      "\u001b[32m[I 2022-05-05 02:13:51,696]\u001b[0m Trial 100 finished with value: 0.7774802303239944 and parameters: {'n_estimators': 283, 'max_depth': 109, 'min_samples_split': 31, 'min_samples_leaf': 9, 'max_features': 'log2', 'bootstrap': 'True'}. Best is trial 93 with value: 0.7783986592847856.\u001b[0m\n"
     ]
    },
    {
     "name": "stdout",
     "output_type": "stream",
     "text": [
      "Trial 100 finished with value: 0.7774802303239944 and parameters: {'n_estimators': 283, 'max_depth': 109, 'min_samples_split': 31, 'min_samples_leaf': 9, 'max_features': 'log2', 'bootstrap': 'True'}. Best is trial 93 with value: 0.7783986592847856.\n"
     ]
    },
    {
     "name": "stderr",
     "output_type": "stream",
     "text": [
      "\u001b[32m[I 2022-05-05 02:27:04,557]\u001b[0m Trial 101 finished with value: 0.778396899689294 and parameters: {'n_estimators': 260, 'max_depth': 141, 'min_samples_split': 35, 'min_samples_leaf': 1, 'max_features': 'log2', 'bootstrap': 'True'}. Best is trial 93 with value: 0.7783986592847856.\u001b[0m\n"
     ]
    },
    {
     "name": "stdout",
     "output_type": "stream",
     "text": [
      "Trial 101 finished with value: 0.778396899689294 and parameters: {'n_estimators': 260, 'max_depth': 141, 'min_samples_split': 35, 'min_samples_leaf': 1, 'max_features': 'log2', 'bootstrap': 'True'}. Best is trial 93 with value: 0.7783986592847856.\n"
     ]
    },
    {
     "name": "stderr",
     "output_type": "stream",
     "text": [
      "\u001b[32m[I 2022-05-05 02:40:03,765]\u001b[0m Trial 102 finished with value: 0.7783961615927741 and parameters: {'n_estimators': 263, 'max_depth': 152, 'min_samples_split': 35, 'min_samples_leaf': 1, 'max_features': 'log2', 'bootstrap': 'True'}. Best is trial 93 with value: 0.7783986592847856.\u001b[0m\n"
     ]
    },
    {
     "name": "stdout",
     "output_type": "stream",
     "text": [
      "Trial 102 finished with value: 0.7783961615927741 and parameters: {'n_estimators': 263, 'max_depth': 152, 'min_samples_split': 35, 'min_samples_leaf': 1, 'max_features': 'log2', 'bootstrap': 'True'}. Best is trial 93 with value: 0.7783986592847856.\n"
     ]
    },
    {
     "name": "stderr",
     "output_type": "stream",
     "text": [
      "\u001b[32m[I 2022-05-05 02:53:15,703]\u001b[0m Trial 103 finished with value: 0.7783920387421441 and parameters: {'n_estimators': 265, 'max_depth': 162, 'min_samples_split': 36, 'min_samples_leaf': 1, 'max_features': 'log2', 'bootstrap': 'True'}. Best is trial 93 with value: 0.7783986592847856.\u001b[0m\n"
     ]
    },
    {
     "name": "stdout",
     "output_type": "stream",
     "text": [
      "Trial 103 finished with value: 0.7783920387421441 and parameters: {'n_estimators': 265, 'max_depth': 162, 'min_samples_split': 36, 'min_samples_leaf': 1, 'max_features': 'log2', 'bootstrap': 'True'}. Best is trial 93 with value: 0.7783986592847856.\n"
     ]
    },
    {
     "name": "stderr",
     "output_type": "stream",
     "text": [
      "\u001b[32m[I 2022-05-05 03:05:36,499]\u001b[0m Trial 104 finished with value: 0.7783956673231776 and parameters: {'n_estimators': 244, 'max_depth': 163, 'min_samples_split': 35, 'min_samples_leaf': 1, 'max_features': 'log2', 'bootstrap': 'True'}. Best is trial 93 with value: 0.7783986592847856.\u001b[0m\n"
     ]
    },
    {
     "name": "stdout",
     "output_type": "stream",
     "text": [
      "Trial 104 finished with value: 0.7783956673231776 and parameters: {'n_estimators': 244, 'max_depth': 163, 'min_samples_split': 35, 'min_samples_leaf': 1, 'max_features': 'log2', 'bootstrap': 'True'}. Best is trial 93 with value: 0.7783986592847856.\n"
     ]
    },
    {
     "name": "stderr",
     "output_type": "stream",
     "text": [
      "/home/inara/anaconda3/lib/python3.7/site-packages/joblib/externals/loky/process_executor.py:706: UserWarning: A worker stopped while some jobs were given to the executor. This can be caused by a too short worker timeout or by a memory leak.\n",
      "  \"timeout or by a memory leak.\", UserWarning\n",
      "\u001b[32m[I 2022-05-05 03:17:41,824]\u001b[0m Trial 105 finished with value: 0.7783959898612981 and parameters: {'n_estimators': 245, 'max_depth': 151, 'min_samples_split': 35, 'min_samples_leaf': 1, 'max_features': 'log2', 'bootstrap': 'True'}. Best is trial 93 with value: 0.7783986592847856.\u001b[0m\n"
     ]
    },
    {
     "name": "stdout",
     "output_type": "stream",
     "text": [
      "Trial 105 finished with value: 0.7783959898612981 and parameters: {'n_estimators': 245, 'max_depth': 151, 'min_samples_split': 35, 'min_samples_leaf': 1, 'max_features': 'log2', 'bootstrap': 'True'}. Best is trial 93 with value: 0.7783986592847856.\n"
     ]
    },
    {
     "name": "stderr",
     "output_type": "stream",
     "text": [
      "\u001b[32m[I 2022-05-05 03:29:45,409]\u001b[0m Trial 106 finished with value: 0.7783956673231776 and parameters: {'n_estimators': 244, 'max_depth': 154, 'min_samples_split': 35, 'min_samples_leaf': 1, 'max_features': 'log2', 'bootstrap': 'True'}. Best is trial 93 with value: 0.7783986592847856.\u001b[0m\n"
     ]
    },
    {
     "name": "stdout",
     "output_type": "stream",
     "text": [
      "Trial 106 finished with value: 0.7783956673231776 and parameters: {'n_estimators': 244, 'max_depth': 154, 'min_samples_split': 35, 'min_samples_leaf': 1, 'max_features': 'log2', 'bootstrap': 'True'}. Best is trial 93 with value: 0.7783986592847856.\n"
     ]
    },
    {
     "name": "stderr",
     "output_type": "stream",
     "text": [
      "\u001b[32m[I 2022-05-05 03:42:02,771]\u001b[0m Trial 107 finished with value: 0.7783303135105101 and parameters: {'n_estimators': 244, 'max_depth': 167, 'min_samples_split': 35, 'min_samples_leaf': 2, 'max_features': 'log2', 'bootstrap': 'True'}. Best is trial 93 with value: 0.7783986592847856.\u001b[0m\n"
     ]
    },
    {
     "name": "stdout",
     "output_type": "stream",
     "text": [
      "Trial 107 finished with value: 0.7783303135105101 and parameters: {'n_estimators': 244, 'max_depth': 167, 'min_samples_split': 35, 'min_samples_leaf': 2, 'max_features': 'log2', 'bootstrap': 'True'}. Best is trial 93 with value: 0.7783986592847856.\n"
     ]
    },
    {
     "name": "stderr",
     "output_type": "stream",
     "text": [
      "\u001b[32m[I 2022-05-05 03:53:40,256]\u001b[0m Trial 108 finished with value: 0.778398881236744 and parameters: {'n_estimators': 233, 'max_depth': 155, 'min_samples_split': 34, 'min_samples_leaf': 1, 'max_features': 'log2', 'bootstrap': 'True'}. Best is trial 108 with value: 0.778398881236744.\u001b[0m\n"
     ]
    },
    {
     "name": "stdout",
     "output_type": "stream",
     "text": [
      "Trial 108 finished with value: 0.778398881236744 and parameters: {'n_estimators': 233, 'max_depth': 155, 'min_samples_split': 34, 'min_samples_leaf': 1, 'max_features': 'log2', 'bootstrap': 'True'}. Best is trial 108 with value: 0.778398881236744.\n"
     ]
    },
    {
     "name": "stderr",
     "output_type": "stream",
     "text": [
      "\u001b[32m[I 2022-05-05 04:04:47,390]\u001b[0m Trial 109 finished with value: 0.778395346830775 and parameters: {'n_estimators': 222, 'max_depth': 153, 'min_samples_split': 34, 'min_samples_leaf': 1, 'max_features': 'log2', 'bootstrap': 'True'}. Best is trial 108 with value: 0.778398881236744.\u001b[0m\n"
     ]
    },
    {
     "name": "stdout",
     "output_type": "stream",
     "text": [
      "Trial 109 finished with value: 0.778395346830775 and parameters: {'n_estimators': 222, 'max_depth': 153, 'min_samples_split': 34, 'min_samples_leaf': 1, 'max_features': 'log2', 'bootstrap': 'True'}. Best is trial 108 with value: 0.778398881236744.\n"
     ]
    },
    {
     "name": "stderr",
     "output_type": "stream",
     "text": [
      "\u001b[32m[I 2022-05-05 04:16:27,582]\u001b[0m Trial 110 finished with value: 0.7783437342291692 and parameters: {'n_estimators': 232, 'max_depth': 150, 'min_samples_split': 34, 'min_samples_leaf': 2, 'max_features': 'log2', 'bootstrap': 'True'}. Best is trial 108 with value: 0.778398881236744.\u001b[0m\n"
     ]
    },
    {
     "name": "stdout",
     "output_type": "stream",
     "text": [
      "Trial 110 finished with value: 0.7783437342291692 and parameters: {'n_estimators': 232, 'max_depth': 150, 'min_samples_split': 34, 'min_samples_leaf': 2, 'max_features': 'log2', 'bootstrap': 'True'}. Best is trial 108 with value: 0.778398881236744.\n"
     ]
    },
    {
     "name": "stderr",
     "output_type": "stream",
     "text": [
      "\u001b[32m[I 2022-05-05 04:27:14,025]\u001b[0m Trial 111 finished with value: 0.7783864197764647 and parameters: {'n_estimators': 215, 'max_depth': 154, 'min_samples_split': 33, 'min_samples_leaf': 1, 'max_features': 'log2', 'bootstrap': 'True'}. Best is trial 108 with value: 0.778398881236744.\u001b[0m\n"
     ]
    },
    {
     "name": "stdout",
     "output_type": "stream",
     "text": [
      "Trial 111 finished with value: 0.7783864197764647 and parameters: {'n_estimators': 215, 'max_depth': 154, 'min_samples_split': 33, 'min_samples_leaf': 1, 'max_features': 'log2', 'bootstrap': 'True'}. Best is trial 108 with value: 0.778398881236744.\n"
     ]
    },
    {
     "name": "stderr",
     "output_type": "stream",
     "text": [
      "\u001b[32m[I 2022-05-05 04:38:21,067]\u001b[0m Trial 112 finished with value: 0.7783918323969784 and parameters: {'n_estimators': 225, 'max_depth': 160, 'min_samples_split': 35, 'min_samples_leaf': 1, 'max_features': 'log2', 'bootstrap': 'True'}. Best is trial 108 with value: 0.778398881236744.\u001b[0m\n"
     ]
    },
    {
     "name": "stdout",
     "output_type": "stream",
     "text": [
      "Trial 112 finished with value: 0.7783918323969784 and parameters: {'n_estimators': 225, 'max_depth': 160, 'min_samples_split': 35, 'min_samples_leaf': 1, 'max_features': 'log2', 'bootstrap': 'True'}. Best is trial 108 with value: 0.778398881236744.\n"
     ]
    },
    {
     "name": "stderr",
     "output_type": "stream",
     "text": [
      "\u001b[32m[I 2022-05-05 04:50:29,929]\u001b[0m Trial 113 finished with value: 0.7783960318493881 and parameters: {'n_estimators': 248, 'max_depth': 166, 'min_samples_split': 35, 'min_samples_leaf': 1, 'max_features': 'log2', 'bootstrap': 'True'}. Best is trial 108 with value: 0.778398881236744.\u001b[0m\n"
     ]
    },
    {
     "name": "stdout",
     "output_type": "stream",
     "text": [
      "Trial 113 finished with value: 0.7783960318493881 and parameters: {'n_estimators': 248, 'max_depth': 166, 'min_samples_split': 35, 'min_samples_leaf': 1, 'max_features': 'log2', 'bootstrap': 'True'}. Best is trial 108 with value: 0.778398881236744.\n"
     ]
    },
    {
     "name": "stderr",
     "output_type": "stream",
     "text": [
      "/home/inara/anaconda3/lib/python3.7/site-packages/joblib/externals/loky/process_executor.py:706: UserWarning: A worker stopped while some jobs were given to the executor. This can be caused by a too short worker timeout or by a memory leak.\n",
      "  \"timeout or by a memory leak.\", UserWarning\n",
      "\u001b[32m[I 2022-05-05 05:02:52,200]\u001b[0m Trial 114 finished with value: 0.7783960318493881 and parameters: {'n_estimators': 248, 'max_depth': 167, 'min_samples_split': 35, 'min_samples_leaf': 1, 'max_features': 'log2', 'bootstrap': 'True'}. Best is trial 108 with value: 0.778398881236744.\u001b[0m\n"
     ]
    },
    {
     "name": "stdout",
     "output_type": "stream",
     "text": [
      "Trial 114 finished with value: 0.7783960318493881 and parameters: {'n_estimators': 248, 'max_depth': 167, 'min_samples_split': 35, 'min_samples_leaf': 1, 'max_features': 'log2', 'bootstrap': 'True'}. Best is trial 108 with value: 0.778398881236744.\n"
     ]
    },
    {
     "name": "stderr",
     "output_type": "stream",
     "text": [
      "\u001b[32m[I 2022-05-05 05:14:49,590]\u001b[0m Trial 115 finished with value: 0.7783857011062963 and parameters: {'n_estimators': 238, 'max_depth': 169, 'min_samples_split': 30, 'min_samples_leaf': 1, 'max_features': 'log2', 'bootstrap': 'True'}. Best is trial 108 with value: 0.778398881236744.\u001b[0m\n"
     ]
    },
    {
     "name": "stdout",
     "output_type": "stream",
     "text": [
      "Trial 115 finished with value: 0.7783857011062963 and parameters: {'n_estimators': 238, 'max_depth': 169, 'min_samples_split': 30, 'min_samples_leaf': 1, 'max_features': 'log2', 'bootstrap': 'True'}. Best is trial 108 with value: 0.778398881236744.\n"
     ]
    },
    {
     "name": "stderr",
     "output_type": "stream",
     "text": [
      "/home/inara/anaconda3/lib/python3.7/site-packages/joblib/externals/loky/process_executor.py:706: UserWarning: A worker stopped while some jobs were given to the executor. This can be caused by a too short worker timeout or by a memory leak.\n",
      "  \"timeout or by a memory leak.\", UserWarning\n",
      "\u001b[32m[I 2022-05-05 05:26:59,662]\u001b[0m Trial 116 finished with value: 0.7783932092165434 and parameters: {'n_estimators': 247, 'max_depth': 180, 'min_samples_split': 33, 'min_samples_leaf': 1, 'max_features': 'log2', 'bootstrap': 'True'}. Best is trial 108 with value: 0.778398881236744.\u001b[0m\n"
     ]
    },
    {
     "name": "stdout",
     "output_type": "stream",
     "text": [
      "Trial 116 finished with value: 0.7783932092165434 and parameters: {'n_estimators': 247, 'max_depth': 180, 'min_samples_split': 33, 'min_samples_leaf': 1, 'max_features': 'log2', 'bootstrap': 'True'}. Best is trial 108 with value: 0.778398881236744.\n"
     ]
    },
    {
     "name": "stderr",
     "output_type": "stream",
     "text": [
      "\u001b[32m[I 2022-05-05 05:38:39,306]\u001b[0m Trial 117 finished with value: 0.7783848019481621 and parameters: {'n_estimators': 234, 'max_depth': 165, 'min_samples_split': 31, 'min_samples_leaf': 1, 'max_features': 'log2', 'bootstrap': 'True'}. Best is trial 108 with value: 0.778398881236744.\u001b[0m\n"
     ]
    },
    {
     "name": "stdout",
     "output_type": "stream",
     "text": [
      "Trial 117 finished with value: 0.7783848019481621 and parameters: {'n_estimators': 234, 'max_depth': 165, 'min_samples_split': 31, 'min_samples_leaf': 1, 'max_features': 'log2', 'bootstrap': 'True'}. Best is trial 108 with value: 0.778398881236744.\n"
     ]
    },
    {
     "name": "stderr",
     "output_type": "stream",
     "text": [
      "\u001b[32m[I 2022-05-05 05:50:33,211]\u001b[0m Trial 118 finished with value: 0.7783438336342866 and parameters: {'n_estimators': 243, 'max_depth': 174, 'min_samples_split': 34, 'min_samples_leaf': 2, 'max_features': 'log2', 'bootstrap': 'True'}. Best is trial 108 with value: 0.778398881236744.\u001b[0m\n"
     ]
    },
    {
     "name": "stdout",
     "output_type": "stream",
     "text": [
      "Trial 118 finished with value: 0.7783438336342866 and parameters: {'n_estimators': 243, 'max_depth': 174, 'min_samples_split': 34, 'min_samples_leaf': 2, 'max_features': 'log2', 'bootstrap': 'True'}. Best is trial 108 with value: 0.778398881236744.\n"
     ]
    },
    {
     "name": "stderr",
     "output_type": "stream",
     "text": [
      "/home/inara/anaconda3/lib/python3.7/site-packages/joblib/externals/loky/process_executor.py:706: UserWarning: A worker stopped while some jobs were given to the executor. This can be caused by a too short worker timeout or by a memory leak.\n",
      "  \"timeout or by a memory leak.\", UserWarning\n",
      "\u001b[32m[I 2022-05-05 06:03:06,097]\u001b[0m Trial 119 finished with value: 0.7783940898985856 and parameters: {'n_estimators': 253, 'max_depth': 158, 'min_samples_split': 36, 'min_samples_leaf': 1, 'max_features': 'log2', 'bootstrap': 'True'}. Best is trial 108 with value: 0.778398881236744.\u001b[0m\n"
     ]
    },
    {
     "name": "stdout",
     "output_type": "stream",
     "text": [
      "Trial 119 finished with value: 0.7783940898985856 and parameters: {'n_estimators': 253, 'max_depth': 158, 'min_samples_split': 36, 'min_samples_leaf': 1, 'max_features': 'log2', 'bootstrap': 'True'}. Best is trial 108 with value: 0.778398881236744.\n"
     ]
    },
    {
     "name": "stderr",
     "output_type": "stream",
     "text": [
      "\u001b[32m[I 2022-05-05 06:14:42,964]\u001b[0m Trial 120 finished with value: 0.7783255885509159 and parameters: {'n_estimators': 231, 'max_depth': 147, 'min_samples_split': 28, 'min_samples_leaf': 2, 'max_features': 'log2', 'bootstrap': 'True'}. Best is trial 108 with value: 0.778398881236744.\u001b[0m\n"
     ]
    },
    {
     "name": "stdout",
     "output_type": "stream",
     "text": [
      "Trial 120 finished with value: 0.7783255885509159 and parameters: {'n_estimators': 231, 'max_depth': 147, 'min_samples_split': 28, 'min_samples_leaf': 2, 'max_features': 'log2', 'bootstrap': 'True'}. Best is trial 108 with value: 0.778398881236744.\n"
     ]
    },
    {
     "name": "stderr",
     "output_type": "stream",
     "text": [
      "\u001b[32m[I 2022-05-05 06:27:37,789]\u001b[0m Trial 121 finished with value: 0.7783946917783793 and parameters: {'n_estimators': 256, 'max_depth': 157, 'min_samples_split': 35, 'min_samples_leaf': 1, 'max_features': 'log2', 'bootstrap': 'True'}. Best is trial 108 with value: 0.778398881236744.\u001b[0m\n"
     ]
    },
    {
     "name": "stdout",
     "output_type": "stream",
     "text": [
      "Trial 121 finished with value: 0.7783946917783793 and parameters: {'n_estimators': 256, 'max_depth': 157, 'min_samples_split': 35, 'min_samples_leaf': 1, 'max_features': 'log2', 'bootstrap': 'True'}. Best is trial 108 with value: 0.778398881236744.\n"
     ]
    },
    {
     "name": "stderr",
     "output_type": "stream",
     "text": [
      "/home/inara/anaconda3/lib/python3.7/site-packages/joblib/externals/loky/process_executor.py:706: UserWarning: A worker stopped while some jobs were given to the executor. This can be caused by a too short worker timeout or by a memory leak.\n",
      "  \"timeout or by a memory leak.\", UserWarning\n",
      "\u001b[32m[I 2022-05-05 06:40:16,711]\u001b[0m Trial 122 finished with value: 0.7783939424495439 and parameters: {'n_estimators': 255, 'max_depth': 152, 'min_samples_split': 35, 'min_samples_leaf': 1, 'max_features': 'log2', 'bootstrap': 'True'}. Best is trial 108 with value: 0.778398881236744.\u001b[0m\n"
     ]
    },
    {
     "name": "stdout",
     "output_type": "stream",
     "text": [
      "Trial 122 finished with value: 0.7783939424495439 and parameters: {'n_estimators': 255, 'max_depth': 152, 'min_samples_split': 35, 'min_samples_leaf': 1, 'max_features': 'log2', 'bootstrap': 'True'}. Best is trial 108 with value: 0.778398881236744.\n"
     ]
    },
    {
     "name": "stderr",
     "output_type": "stream",
     "text": [
      "\u001b[32m[I 2022-05-05 06:52:31,445]\u001b[0m Trial 123 finished with value: 0.7783932092165434 and parameters: {'n_estimators': 247, 'max_depth': 171, 'min_samples_split': 33, 'min_samples_leaf': 1, 'max_features': 'log2', 'bootstrap': 'True'}. Best is trial 108 with value: 0.778398881236744.\u001b[0m\n"
     ]
    },
    {
     "name": "stdout",
     "output_type": "stream",
     "text": [
      "Trial 123 finished with value: 0.7783932092165434 and parameters: {'n_estimators': 247, 'max_depth': 171, 'min_samples_split': 33, 'min_samples_leaf': 1, 'max_features': 'log2', 'bootstrap': 'True'}. Best is trial 108 with value: 0.778398881236744.\n"
     ]
    },
    {
     "name": "stderr",
     "output_type": "stream",
     "text": [
      "\u001b[32m[I 2022-05-05 07:01:42,590]\u001b[0m Trial 124 finished with value: 0.7783802684796914 and parameters: {'n_estimators': 186, 'max_depth': 161, 'min_samples_split': 35, 'min_samples_leaf': 1, 'max_features': 'log2', 'bootstrap': 'True'}. Best is trial 108 with value: 0.778398881236744.\u001b[0m\n"
     ]
    },
    {
     "name": "stdout",
     "output_type": "stream",
     "text": [
      "Trial 124 finished with value: 0.7783802684796914 and parameters: {'n_estimators': 186, 'max_depth': 161, 'min_samples_split': 35, 'min_samples_leaf': 1, 'max_features': 'log2', 'bootstrap': 'True'}. Best is trial 108 with value: 0.778398881236744.\n"
     ]
    },
    {
     "name": "stderr",
     "output_type": "stream",
     "text": [
      "\u001b[32m[I 2022-05-05 07:12:38,550]\u001b[0m Trial 125 finished with value: 0.7783852665535453 and parameters: {'n_estimators': 222, 'max_depth': 193, 'min_samples_split': 36, 'min_samples_leaf': 1, 'max_features': 'log2', 'bootstrap': 'True'}. Best is trial 108 with value: 0.778398881236744.\u001b[0m\n"
     ]
    },
    {
     "name": "stdout",
     "output_type": "stream",
     "text": [
      "Trial 125 finished with value: 0.7783852665535453 and parameters: {'n_estimators': 222, 'max_depth': 193, 'min_samples_split': 36, 'min_samples_leaf': 1, 'max_features': 'log2', 'bootstrap': 'True'}. Best is trial 108 with value: 0.778398881236744.\n"
     ]
    },
    {
     "name": "stderr",
     "output_type": "stream",
     "text": [
      "/home/inara/anaconda3/lib/python3.7/site-packages/joblib/externals/loky/process_executor.py:706: UserWarning: A worker stopped while some jobs were given to the executor. This can be caused by a too short worker timeout or by a memory leak.\n",
      "  \"timeout or by a memory leak.\", UserWarning\n",
      "\u001b[32m[I 2022-05-05 08:29:21,898]\u001b[0m Trial 126 finished with value: 0.7782413447009158 and parameters: {'n_estimators': 249, 'max_depth': 157, 'min_samples_split': 39, 'min_samples_leaf': 1, 'max_features': 'auto', 'bootstrap': 'True'}. Best is trial 108 with value: 0.778398881236744.\u001b[0m\n"
     ]
    },
    {
     "name": "stdout",
     "output_type": "stream",
     "text": [
      "Trial 126 finished with value: 0.7782413447009158 and parameters: {'n_estimators': 249, 'max_depth': 157, 'min_samples_split': 39, 'min_samples_leaf': 1, 'max_features': 'auto', 'bootstrap': 'True'}. Best is trial 108 with value: 0.778398881236744.\n"
     ]
    },
    {
     "name": "stderr",
     "output_type": "stream",
     "text": [
      "\u001b[32m[I 2022-05-05 08:41:10,399]\u001b[0m Trial 127 finished with value: 0.7780418860832073 and parameters: {'n_estimators': 238, 'max_depth': 165, 'min_samples_split': 34, 'min_samples_leaf': 5, 'max_features': 'log2', 'bootstrap': 'True'}. Best is trial 108 with value: 0.778398881236744.\u001b[0m\n"
     ]
    },
    {
     "name": "stdout",
     "output_type": "stream",
     "text": [
      "Trial 127 finished with value: 0.7780418860832073 and parameters: {'n_estimators': 238, 'max_depth': 165, 'min_samples_split': 34, 'min_samples_leaf': 5, 'max_features': 'log2', 'bootstrap': 'True'}. Best is trial 108 with value: 0.778398881236744.\n"
     ]
    },
    {
     "name": "stderr",
     "output_type": "stream",
     "text": [
      "/home/inara/anaconda3/lib/python3.7/site-packages/joblib/externals/loky/process_executor.py:706: UserWarning: A worker stopped while some jobs were given to the executor. This can be caused by a too short worker timeout or by a memory leak.\n",
      "  \"timeout or by a memory leak.\", UserWarning\n",
      "\u001b[32m[I 2022-05-05 08:54:10,032]\u001b[0m Trial 128 finished with value: 0.7783875535822864 and parameters: {'n_estimators': 257, 'max_depth': 148, 'min_samples_split': 31, 'min_samples_leaf': 1, 'max_features': 'log2', 'bootstrap': 'True'}. Best is trial 108 with value: 0.778398881236744.\u001b[0m\n"
     ]
    },
    {
     "name": "stdout",
     "output_type": "stream",
     "text": [
      "Trial 128 finished with value: 0.7783875535822864 and parameters: {'n_estimators': 257, 'max_depth': 148, 'min_samples_split': 31, 'min_samples_leaf': 1, 'max_features': 'log2', 'bootstrap': 'True'}. Best is trial 108 with value: 0.778398881236744.\n"
     ]
    },
    {
     "name": "stderr",
     "output_type": "stream",
     "text": [
      "\u001b[32m[I 2022-05-05 09:06:01,376]\u001b[0m Trial 129 finished with value: 0.7783435622234609 and parameters: {'n_estimators': 240, 'max_depth': 155, 'min_samples_split': 34, 'min_samples_leaf': 2, 'max_features': 'log2', 'bootstrap': 'True'}. Best is trial 108 with value: 0.778398881236744.\u001b[0m\n"
     ]
    },
    {
     "name": "stdout",
     "output_type": "stream",
     "text": [
      "Trial 129 finished with value: 0.7783435622234609 and parameters: {'n_estimators': 240, 'max_depth': 155, 'min_samples_split': 34, 'min_samples_leaf': 2, 'max_features': 'log2', 'bootstrap': 'True'}. Best is trial 108 with value: 0.778398881236744.\n"
     ]
    },
    {
     "name": "stderr",
     "output_type": "stream",
     "text": [
      "\u001b[32m[I 2022-05-05 09:17:05,007]\u001b[0m Trial 130 finished with value: 0.778391573133695 and parameters: {'n_estimators': 227, 'max_depth': 153, 'min_samples_split': 35, 'min_samples_leaf': 1, 'max_features': 'log2', 'bootstrap': 'True'}. Best is trial 108 with value: 0.778398881236744.\u001b[0m\n"
     ]
    },
    {
     "name": "stdout",
     "output_type": "stream",
     "text": [
      "Trial 130 finished with value: 0.778391573133695 and parameters: {'n_estimators': 227, 'max_depth': 153, 'min_samples_split': 35, 'min_samples_leaf': 1, 'max_features': 'log2', 'bootstrap': 'True'}. Best is trial 108 with value: 0.778398881236744.\n"
     ]
    },
    {
     "name": "stderr",
     "output_type": "stream",
     "text": [
      "\u001b[32m[I 2022-05-05 09:29:30,757]\u001b[0m Trial 131 finished with value: 0.7783939340837945 and parameters: {'n_estimators': 252, 'max_depth': 160, 'min_samples_split': 36, 'min_samples_leaf': 1, 'max_features': 'log2', 'bootstrap': 'True'}. Best is trial 108 with value: 0.778398881236744.\u001b[0m\n"
     ]
    },
    {
     "name": "stdout",
     "output_type": "stream",
     "text": [
      "Trial 131 finished with value: 0.7783939340837945 and parameters: {'n_estimators': 252, 'max_depth': 160, 'min_samples_split': 36, 'min_samples_leaf': 1, 'max_features': 'log2', 'bootstrap': 'True'}. Best is trial 108 with value: 0.778398881236744.\n"
     ]
    },
    {
     "name": "stderr",
     "output_type": "stream",
     "text": [
      "/home/inara/anaconda3/lib/python3.7/site-packages/joblib/externals/loky/process_executor.py:706: UserWarning: A worker stopped while some jobs were given to the executor. This can be caused by a too short worker timeout or by a memory leak.\n",
      "  \"timeout or by a memory leak.\", UserWarning\n",
      "\u001b[32m[I 2022-05-05 09:42:08,022]\u001b[0m Trial 132 finished with value: 0.7783938330340654 and parameters: {'n_estimators': 254, 'max_depth': 158, 'min_samples_split': 36, 'min_samples_leaf': 1, 'max_features': 'log2', 'bootstrap': 'True'}. Best is trial 108 with value: 0.778398881236744.\u001b[0m\n"
     ]
    },
    {
     "name": "stdout",
     "output_type": "stream",
     "text": [
      "Trial 132 finished with value: 0.7783938330340654 and parameters: {'n_estimators': 254, 'max_depth': 158, 'min_samples_split': 36, 'min_samples_leaf': 1, 'max_features': 'log2', 'bootstrap': 'True'}. Best is trial 108 with value: 0.778398881236744.\n"
     ]
    },
    {
     "name": "stderr",
     "output_type": "stream",
     "text": [
      "\u001b[32m[I 2022-05-05 09:53:58,977]\u001b[0m Trial 133 finished with value: 0.7783934555532648 and parameters: {'n_estimators': 244, 'max_depth': 171, 'min_samples_split': 36, 'min_samples_leaf': 1, 'max_features': 'log2', 'bootstrap': 'True'}. Best is trial 108 with value: 0.778398881236744.\u001b[0m\n"
     ]
    },
    {
     "name": "stdout",
     "output_type": "stream",
     "text": [
      "Trial 133 finished with value: 0.7783934555532648 and parameters: {'n_estimators': 244, 'max_depth': 171, 'min_samples_split': 36, 'min_samples_leaf': 1, 'max_features': 'log2', 'bootstrap': 'True'}. Best is trial 108 with value: 0.778398881236744.\n"
     ]
    },
    {
     "name": "stderr",
     "output_type": "stream",
     "text": [
      "\u001b[32m[I 2022-05-05 10:06:41,512]\u001b[0m Trial 134 finished with value: 0.7783827998523368 and parameters: {'n_estimators': 259, 'max_depth': 178, 'min_samples_split': 39, 'min_samples_leaf': 1, 'max_features': 'log2', 'bootstrap': 'True'}. Best is trial 108 with value: 0.778398881236744.\u001b[0m\n"
     ]
    },
    {
     "name": "stdout",
     "output_type": "stream",
     "text": [
      "Trial 134 finished with value: 0.7783827998523368 and parameters: {'n_estimators': 259, 'max_depth': 178, 'min_samples_split': 39, 'min_samples_leaf': 1, 'max_features': 'log2', 'bootstrap': 'True'}. Best is trial 108 with value: 0.778398881236744.\n"
     ]
    },
    {
     "name": "stderr",
     "output_type": "stream",
     "text": [
      "\u001b[32m[I 2022-05-05 10:18:43,932]\u001b[0m Trial 135 finished with value: 0.7783911507955569 and parameters: {'n_estimators': 249, 'max_depth': 163, 'min_samples_split': 32, 'min_samples_leaf': 1, 'max_features': 'log2', 'bootstrap': 'True'}. Best is trial 108 with value: 0.778398881236744.\u001b[0m\n"
     ]
    },
    {
     "name": "stdout",
     "output_type": "stream",
     "text": [
      "Trial 135 finished with value: 0.7783911507955569 and parameters: {'n_estimators': 249, 'max_depth': 163, 'min_samples_split': 32, 'min_samples_leaf': 1, 'max_features': 'log2', 'bootstrap': 'True'}. Best is trial 108 with value: 0.778398881236744.\n"
     ]
    },
    {
     "name": "stderr",
     "output_type": "stream",
     "text": [
      "\u001b[32m[I 2022-05-05 10:30:19,187]\u001b[0m Trial 136 finished with value: 0.7783914245901519 and parameters: {'n_estimators': 235, 'max_depth': 142, 'min_samples_split': 33, 'min_samples_leaf': 1, 'max_features': 'log2', 'bootstrap': 'True'}. Best is trial 108 with value: 0.778398881236744.\u001b[0m\n"
     ]
    },
    {
     "name": "stdout",
     "output_type": "stream",
     "text": [
      "Trial 136 finished with value: 0.7783914245901519 and parameters: {'n_estimators': 235, 'max_depth': 142, 'min_samples_split': 33, 'min_samples_leaf': 1, 'max_features': 'log2', 'bootstrap': 'True'}. Best is trial 108 with value: 0.778398881236744.\n"
     ]
    },
    {
     "name": "stderr",
     "output_type": "stream",
     "text": [
      "\u001b[32m[I 2022-05-05 10:41:00,531]\u001b[0m Trial 137 finished with value: 0.7783930707351006 and parameters: {'n_estimators': 216, 'max_depth': 150, 'min_samples_split': 34, 'min_samples_leaf': 1, 'max_features': 'log2', 'bootstrap': 'True'}. Best is trial 108 with value: 0.778398881236744.\u001b[0m\n"
     ]
    },
    {
     "name": "stdout",
     "output_type": "stream",
     "text": [
      "Trial 137 finished with value: 0.7783930707351006 and parameters: {'n_estimators': 216, 'max_depth': 150, 'min_samples_split': 34, 'min_samples_leaf': 1, 'max_features': 'log2', 'bootstrap': 'True'}. Best is trial 108 with value: 0.778398881236744.\n"
     ]
    },
    {
     "name": "stderr",
     "output_type": "stream",
     "text": [
      "/home/inara/anaconda3/lib/python3.7/site-packages/joblib/externals/loky/process_executor.py:706: UserWarning: A worker stopped while some jobs were given to the executor. This can be caused by a too short worker timeout or by a memory leak.\n",
      "  \"timeout or by a memory leak.\", UserWarning\n",
      "\u001b[32m[I 2022-05-05 10:53:44,799]\u001b[0m Trial 138 finished with value: 0.7781260966172303 and parameters: {'n_estimators': 261, 'max_depth': 146, 'min_samples_split': 38, 'min_samples_leaf': 4, 'max_features': 'log2', 'bootstrap': 'True'}. Best is trial 108 with value: 0.778398881236744.\u001b[0m\n"
     ]
    },
    {
     "name": "stdout",
     "output_type": "stream",
     "text": [
      "Trial 138 finished with value: 0.7781260966172303 and parameters: {'n_estimators': 261, 'max_depth': 146, 'min_samples_split': 38, 'min_samples_leaf': 4, 'max_features': 'log2', 'bootstrap': 'True'}. Best is trial 108 with value: 0.778398881236744.\n"
     ]
    },
    {
     "name": "stderr",
     "output_type": "stream",
     "text": [
      "/home/inara/anaconda3/lib/python3.7/site-packages/joblib/externals/loky/process_executor.py:706: UserWarning: A worker stopped while some jobs were given to the executor. This can be caused by a too short worker timeout or by a memory leak.\n",
      "  \"timeout or by a memory leak.\", UserWarning\n",
      "\u001b[32m[I 2022-05-05 11:04:11,036]\u001b[0m Trial 139 finished with value: 0.7783829656776705 and parameters: {'n_estimators': 209, 'max_depth': 183, 'min_samples_split': 36, 'min_samples_leaf': 1, 'max_features': 'log2', 'bootstrap': 'True'}. Best is trial 108 with value: 0.778398881236744.\u001b[0m\n"
     ]
    },
    {
     "name": "stdout",
     "output_type": "stream",
     "text": [
      "Trial 139 finished with value: 0.7783829656776705 and parameters: {'n_estimators': 209, 'max_depth': 183, 'min_samples_split': 36, 'min_samples_leaf': 1, 'max_features': 'log2', 'bootstrap': 'True'}. Best is trial 108 with value: 0.778398881236744.\n"
     ]
    },
    {
     "name": "stderr",
     "output_type": "stream",
     "text": [
      "\u001b[32m[I 2022-05-05 11:16:16,922]\u001b[0m Trial 140 finished with value: 0.7783293241811093 and parameters: {'n_estimators': 244, 'max_depth': 167, 'min_samples_split': 37, 'min_samples_leaf': 2, 'max_features': 'log2', 'bootstrap': 'True'}. Best is trial 108 with value: 0.778398881236744.\u001b[0m\n"
     ]
    },
    {
     "name": "stdout",
     "output_type": "stream",
     "text": [
      "Trial 140 finished with value: 0.7783293241811093 and parameters: {'n_estimators': 244, 'max_depth': 167, 'min_samples_split': 37, 'min_samples_leaf': 2, 'max_features': 'log2', 'bootstrap': 'True'}. Best is trial 108 with value: 0.778398881236744.\n"
     ]
    },
    {
     "name": "stderr",
     "output_type": "stream",
     "text": [
      "/home/inara/anaconda3/lib/python3.7/site-packages/joblib/externals/loky/process_executor.py:706: UserWarning: A worker stopped while some jobs were given to the executor. This can be caused by a too short worker timeout or by a memory leak.\n",
      "  \"timeout or by a memory leak.\", UserWarning\n",
      "\u001b[32m[I 2022-05-05 11:28:41,465]\u001b[0m Trial 141 finished with value: 0.7783939424495439 and parameters: {'n_estimators': 255, 'max_depth': 153, 'min_samples_split': 35, 'min_samples_leaf': 1, 'max_features': 'log2', 'bootstrap': 'True'}. Best is trial 108 with value: 0.778398881236744.\u001b[0m\n"
     ]
    },
    {
     "name": "stdout",
     "output_type": "stream",
     "text": [
      "Trial 141 finished with value: 0.7783939424495439 and parameters: {'n_estimators': 255, 'max_depth': 153, 'min_samples_split': 35, 'min_samples_leaf': 1, 'max_features': 'log2', 'bootstrap': 'True'}. Best is trial 108 with value: 0.778398881236744.\n"
     ]
    },
    {
     "name": "stderr",
     "output_type": "stream",
     "text": [
      "\u001b[32m[I 2022-05-05 11:42:05,704]\u001b[0m Trial 142 finished with value: 0.7783954151894565 and parameters: {'n_estimators': 273, 'max_depth': 139, 'min_samples_split': 35, 'min_samples_leaf': 1, 'max_features': 'log2', 'bootstrap': 'True'}. Best is trial 108 with value: 0.778398881236744.\u001b[0m\n"
     ]
    },
    {
     "name": "stdout",
     "output_type": "stream",
     "text": [
      "Trial 142 finished with value: 0.7783954151894565 and parameters: {'n_estimators': 273, 'max_depth': 139, 'min_samples_split': 35, 'min_samples_leaf': 1, 'max_features': 'log2', 'bootstrap': 'True'}. Best is trial 108 with value: 0.778398881236744.\n"
     ]
    },
    {
     "name": "stderr",
     "output_type": "stream",
     "text": [
      "/home/inara/anaconda3/lib/python3.7/site-packages/joblib/externals/loky/process_executor.py:706: UserWarning: A worker stopped while some jobs were given to the executor. This can be caused by a too short worker timeout or by a memory leak.\n",
      "  \"timeout or by a memory leak.\", UserWarning\n",
      "\u001b[32m[I 2022-05-05 11:55:23,771]\u001b[0m Trial 143 finished with value: 0.7783966524172665 and parameters: {'n_estimators': 272, 'max_depth': 156, 'min_samples_split': 34, 'min_samples_leaf': 1, 'max_features': 'log2', 'bootstrap': 'True'}. Best is trial 108 with value: 0.778398881236744.\u001b[0m\n"
     ]
    },
    {
     "name": "stdout",
     "output_type": "stream",
     "text": [
      "Trial 143 finished with value: 0.7783966524172665 and parameters: {'n_estimators': 272, 'max_depth': 156, 'min_samples_split': 34, 'min_samples_leaf': 1, 'max_features': 'log2', 'bootstrap': 'True'}. Best is trial 108 with value: 0.778398881236744.\n"
     ]
    },
    {
     "name": "stderr",
     "output_type": "stream",
     "text": [
      "\u001b[32m[I 2022-05-05 12:09:08,723]\u001b[0m Trial 144 finished with value: 0.7783951994292204 and parameters: {'n_estimators': 275, 'max_depth': 139, 'min_samples_split': 33, 'min_samples_leaf': 1, 'max_features': 'log2', 'bootstrap': 'True'}. Best is trial 108 with value: 0.778398881236744.\u001b[0m\n"
     ]
    },
    {
     "name": "stdout",
     "output_type": "stream",
     "text": [
      "Trial 144 finished with value: 0.7783951994292204 and parameters: {'n_estimators': 275, 'max_depth': 139, 'min_samples_split': 33, 'min_samples_leaf': 1, 'max_features': 'log2', 'bootstrap': 'True'}. Best is trial 108 with value: 0.778398881236744.\n"
     ]
    },
    {
     "name": "stderr",
     "output_type": "stream",
     "text": [
      "\u001b[32m[I 2022-05-05 12:22:37,130]\u001b[0m Trial 145 finished with value: 0.7783931966958206 and parameters: {'n_estimators': 273, 'max_depth': 139, 'min_samples_split': 33, 'min_samples_leaf': 1, 'max_features': 'log2', 'bootstrap': 'True'}. Best is trial 108 with value: 0.778398881236744.\u001b[0m\n"
     ]
    },
    {
     "name": "stdout",
     "output_type": "stream",
     "text": [
      "Trial 145 finished with value: 0.7783931966958206 and parameters: {'n_estimators': 273, 'max_depth': 139, 'min_samples_split': 33, 'min_samples_leaf': 1, 'max_features': 'log2', 'bootstrap': 'True'}. Best is trial 108 with value: 0.778398881236744.\n"
     ]
    },
    {
     "name": "stderr",
     "output_type": "stream",
     "text": [
      "/home/inara/anaconda3/lib/python3.7/site-packages/joblib/externals/loky/process_executor.py:706: UserWarning: A worker stopped while some jobs were given to the executor. This can be caused by a too short worker timeout or by a memory leak.\n",
      "  \"timeout or by a memory leak.\", UserWarning\n",
      "\u001b[32m[I 2022-05-05 12:38:23,717]\u001b[0m Trial 146 finished with value: 0.778382051444609 and parameters: {'n_estimators': 272, 'max_depth': 139, 'min_samples_split': 32, 'min_samples_leaf': 1, 'max_features': 'sqrt', 'bootstrap': 'True'}. Best is trial 108 with value: 0.778398881236744.\u001b[0m\n"
     ]
    },
    {
     "name": "stdout",
     "output_type": "stream",
     "text": [
      "Trial 146 finished with value: 0.778382051444609 and parameters: {'n_estimators': 272, 'max_depth': 139, 'min_samples_split': 32, 'min_samples_leaf': 1, 'max_features': 'sqrt', 'bootstrap': 'True'}. Best is trial 108 with value: 0.778398881236744.\n"
     ]
    },
    {
     "name": "stderr",
     "output_type": "stream",
     "text": [
      "\u001b[32m[I 2022-05-05 12:51:55,027]\u001b[0m Trial 147 finished with value: 0.7783852494609673 and parameters: {'n_estimators': 279, 'max_depth': 136, 'min_samples_split': 30, 'min_samples_leaf': 1, 'max_features': 'log2', 'bootstrap': 'True'}. Best is trial 108 with value: 0.778398881236744.\u001b[0m\n"
     ]
    },
    {
     "name": "stdout",
     "output_type": "stream",
     "text": [
      "Trial 147 finished with value: 0.7783852494609673 and parameters: {'n_estimators': 279, 'max_depth': 136, 'min_samples_split': 30, 'min_samples_leaf': 1, 'max_features': 'log2', 'bootstrap': 'True'}. Best is trial 108 with value: 0.778398881236744.\n"
     ]
    },
    {
     "name": "stderr",
     "output_type": "stream",
     "text": [
      "\u001b[32m[I 2022-05-05 13:04:45,675]\u001b[0m Trial 148 finished with value: 0.7783980525948541 and parameters: {'n_estimators': 265, 'max_depth': 144, 'min_samples_split': 34, 'min_samples_leaf': 1, 'max_features': 'log2', 'bootstrap': 'True'}. Best is trial 108 with value: 0.778398881236744.\u001b[0m\n"
     ]
    },
    {
     "name": "stdout",
     "output_type": "stream",
     "text": [
      "Trial 148 finished with value: 0.7783980525948541 and parameters: {'n_estimators': 265, 'max_depth': 144, 'min_samples_split': 34, 'min_samples_leaf': 1, 'max_features': 'log2', 'bootstrap': 'True'}. Best is trial 108 with value: 0.778398881236744.\n"
     ]
    },
    {
     "name": "stderr",
     "output_type": "stream",
     "text": [
      "\u001b[32m[I 2022-05-05 13:18:29,825]\u001b[0m Trial 149 finished with value: 0.7783433390780715 and parameters: {'n_estimators': 277, 'max_depth': 151, 'min_samples_split': 34, 'min_samples_leaf': 2, 'max_features': 'log2', 'bootstrap': 'True'}. Best is trial 108 with value: 0.778398881236744.\u001b[0m\n"
     ]
    },
    {
     "name": "stdout",
     "output_type": "stream",
     "text": [
      "Trial 149 finished with value: 0.7783433390780715 and parameters: {'n_estimators': 277, 'max_depth': 151, 'min_samples_split': 34, 'min_samples_leaf': 2, 'max_features': 'log2', 'bootstrap': 'True'}. Best is trial 108 with value: 0.778398881236744.\n"
     ]
    },
    {
     "name": "stderr",
     "output_type": "stream",
     "text": [
      "\u001b[32m[I 2022-05-05 14:39:24,411]\u001b[0m Trial 150 finished with value: 0.7782433044116331 and parameters: {'n_estimators': 264, 'max_depth': 144, 'min_samples_split': 33, 'min_samples_leaf': 1, 'max_features': 'auto', 'bootstrap': 'True'}. Best is trial 108 with value: 0.778398881236744.\u001b[0m\n"
     ]
    },
    {
     "name": "stdout",
     "output_type": "stream",
     "text": [
      "Trial 150 finished with value: 0.7782433044116331 and parameters: {'n_estimators': 264, 'max_depth': 144, 'min_samples_split': 33, 'min_samples_leaf': 1, 'max_features': 'auto', 'bootstrap': 'True'}. Best is trial 108 with value: 0.778398881236744.\n"
     ]
    },
    {
     "name": "stderr",
     "output_type": "stream",
     "text": [
      "/home/inara/anaconda3/lib/python3.7/site-packages/joblib/externals/loky/process_executor.py:706: UserWarning: A worker stopped while some jobs were given to the executor. This can be caused by a too short worker timeout or by a memory leak.\n",
      "  \"timeout or by a memory leak.\", UserWarning\n",
      "\u001b[32m[I 2022-05-05 14:52:34,631]\u001b[0m Trial 151 finished with value: 0.778398065296776 and parameters: {'n_estimators': 269, 'max_depth': 131, 'min_samples_split': 34, 'min_samples_leaf': 1, 'max_features': 'log2', 'bootstrap': 'True'}. Best is trial 108 with value: 0.778398881236744.\u001b[0m\n"
     ]
    },
    {
     "name": "stdout",
     "output_type": "stream",
     "text": [
      "Trial 151 finished with value: 0.778398065296776 and parameters: {'n_estimators': 269, 'max_depth': 131, 'min_samples_split': 34, 'min_samples_leaf': 1, 'max_features': 'log2', 'bootstrap': 'True'}. Best is trial 108 with value: 0.778398881236744.\n"
     ]
    },
    {
     "name": "stderr",
     "output_type": "stream",
     "text": [
      "\u001b[32m[I 2022-05-05 15:05:55,264]\u001b[0m Trial 152 finished with value: 0.7783889065032941 and parameters: {'n_estimators': 269, 'max_depth': 147, 'min_samples_split': 32, 'min_samples_leaf': 1, 'max_features': 'log2', 'bootstrap': 'True'}. Best is trial 108 with value: 0.778398881236744.\u001b[0m\n"
     ]
    },
    {
     "name": "stdout",
     "output_type": "stream",
     "text": [
      "Trial 152 finished with value: 0.7783889065032941 and parameters: {'n_estimators': 269, 'max_depth': 147, 'min_samples_split': 32, 'min_samples_leaf': 1, 'max_features': 'log2', 'bootstrap': 'True'}. Best is trial 108 with value: 0.778398881236744.\n"
     ]
    },
    {
     "name": "stderr",
     "output_type": "stream",
     "text": [
      "\u001b[32m[I 2022-05-05 15:18:44,177]\u001b[0m Trial 153 finished with value: 0.7783977990112892 and parameters: {'n_estimators': 264, 'max_depth': 132, 'min_samples_split': 34, 'min_samples_leaf': 1, 'max_features': 'log2', 'bootstrap': 'True'}. Best is trial 108 with value: 0.778398881236744.\u001b[0m\n"
     ]
    },
    {
     "name": "stdout",
     "output_type": "stream",
     "text": [
      "Trial 153 finished with value: 0.7783977990112892 and parameters: {'n_estimators': 264, 'max_depth': 132, 'min_samples_split': 34, 'min_samples_leaf': 1, 'max_features': 'log2', 'bootstrap': 'True'}. Best is trial 108 with value: 0.778398881236744.\n"
     ]
    },
    {
     "name": "stderr",
     "output_type": "stream",
     "text": [
      "\u001b[32m[I 2022-05-05 15:19:26,153]\u001b[0m Trial 154 finished with value: 0.7778507965980574 and parameters: {'n_estimators': 14, 'max_depth': 132, 'min_samples_split': 34, 'min_samples_leaf': 1, 'max_features': 'log2', 'bootstrap': 'True'}. Best is trial 108 with value: 0.778398881236744.\u001b[0m\n"
     ]
    },
    {
     "name": "stdout",
     "output_type": "stream",
     "text": [
      "Trial 154 finished with value: 0.7778507965980574 and parameters: {'n_estimators': 14, 'max_depth': 132, 'min_samples_split': 34, 'min_samples_leaf': 1, 'max_features': 'log2', 'bootstrap': 'True'}. Best is trial 108 with value: 0.778398881236744.\n"
     ]
    },
    {
     "name": "stderr",
     "output_type": "stream",
     "text": [
      "\u001b[32m[I 2022-05-05 15:32:07,266]\u001b[0m Trial 155 finished with value: 0.7783961615927741 and parameters: {'n_estimators': 263, 'max_depth': 127, 'min_samples_split': 35, 'min_samples_leaf': 1, 'max_features': 'log2', 'bootstrap': 'True'}. Best is trial 108 with value: 0.778398881236744.\u001b[0m\n"
     ]
    },
    {
     "name": "stdout",
     "output_type": "stream",
     "text": [
      "Trial 155 finished with value: 0.7783961615927741 and parameters: {'n_estimators': 263, 'max_depth': 127, 'min_samples_split': 35, 'min_samples_leaf': 1, 'max_features': 'log2', 'bootstrap': 'True'}. Best is trial 108 with value: 0.778398881236744.\n"
     ]
    },
    {
     "name": "stderr",
     "output_type": "stream",
     "text": [
      "\u001b[32m[I 2022-05-05 15:44:45,082]\u001b[0m Trial 156 finished with value: 0.7783964266198116 and parameters: {'n_estimators': 262, 'max_depth': 129, 'min_samples_split': 35, 'min_samples_leaf': 1, 'max_features': 'log2', 'bootstrap': 'True'}. Best is trial 108 with value: 0.778398881236744.\u001b[0m\n"
     ]
    },
    {
     "name": "stdout",
     "output_type": "stream",
     "text": [
      "Trial 156 finished with value: 0.7783964266198116 and parameters: {'n_estimators': 262, 'max_depth': 129, 'min_samples_split': 35, 'min_samples_leaf': 1, 'max_features': 'log2', 'bootstrap': 'True'}. Best is trial 108 with value: 0.778398881236744.\n"
     ]
    },
    {
     "name": "stderr",
     "output_type": "stream",
     "text": [
      "\u001b[32m[I 2022-05-05 15:57:41,336]\u001b[0m Trial 157 finished with value: 0.7782642293647938 and parameters: {'n_estimators': 264, 'max_depth': 125, 'min_samples_split': 15, 'min_samples_leaf': 1, 'max_features': 'log2', 'bootstrap': 'True'}. Best is trial 108 with value: 0.778398881236744.\u001b[0m\n"
     ]
    },
    {
     "name": "stdout",
     "output_type": "stream",
     "text": [
      "Trial 157 finished with value: 0.7782642293647938 and parameters: {'n_estimators': 264, 'max_depth': 125, 'min_samples_split': 15, 'min_samples_leaf': 1, 'max_features': 'log2', 'bootstrap': 'True'}. Best is trial 108 with value: 0.778398881236744.\n"
     ]
    },
    {
     "name": "stderr",
     "output_type": "stream",
     "text": [
      "\u001b[32m[I 2022-05-05 16:10:04,718]\u001b[0m Trial 158 finished with value: 0.778393605542721 and parameters: {'n_estimators': 261, 'max_depth': 128, 'min_samples_split': 36, 'min_samples_leaf': 1, 'max_features': 'log2', 'bootstrap': 'True'}. Best is trial 108 with value: 0.778398881236744.\u001b[0m\n"
     ]
    },
    {
     "name": "stdout",
     "output_type": "stream",
     "text": [
      "Trial 158 finished with value: 0.778393605542721 and parameters: {'n_estimators': 261, 'max_depth': 128, 'min_samples_split': 36, 'min_samples_leaf': 1, 'max_features': 'log2', 'bootstrap': 'True'}. Best is trial 108 with value: 0.778398881236744.\n"
     ]
    },
    {
     "name": "stderr",
     "output_type": "stream",
     "text": [
      "\u001b[32m[I 2022-05-05 16:22:30,956]\u001b[0m Trial 159 finished with value: 0.7783290759381647 and parameters: {'n_estimators': 262, 'max_depth': 124, 'min_samples_split': 31, 'min_samples_leaf': 2, 'max_features': 'log2', 'bootstrap': 'True'}. Best is trial 108 with value: 0.778398881236744.\u001b[0m\n"
     ]
    },
    {
     "name": "stdout",
     "output_type": "stream",
     "text": [
      "Trial 159 finished with value: 0.7783290759381647 and parameters: {'n_estimators': 262, 'max_depth': 124, 'min_samples_split': 31, 'min_samples_leaf': 2, 'max_features': 'log2', 'bootstrap': 'True'}. Best is trial 108 with value: 0.778398881236744.\n"
     ]
    },
    {
     "name": "stderr",
     "output_type": "stream",
     "text": [
      "\u001b[32m[I 2022-05-05 16:23:44,327]\u001b[0m Trial 160 finished with value: 0.7781590258282292 and parameters: {'n_estimators': 25, 'max_depth': 132, 'min_samples_split': 35, 'min_samples_leaf': 1, 'max_features': 'log2', 'bootstrap': 'True'}. Best is trial 108 with value: 0.778398881236744.\u001b[0m\n"
     ]
    },
    {
     "name": "stdout",
     "output_type": "stream",
     "text": [
      "Trial 160 finished with value: 0.7781590258282292 and parameters: {'n_estimators': 25, 'max_depth': 132, 'min_samples_split': 35, 'min_samples_leaf': 1, 'max_features': 'log2', 'bootstrap': 'True'}. Best is trial 108 with value: 0.778398881236744.\n"
     ]
    },
    {
     "name": "stderr",
     "output_type": "stream",
     "text": [
      "/home/inara/anaconda3/lib/python3.7/site-packages/joblib/externals/loky/process_executor.py:706: UserWarning: A worker stopped while some jobs were given to the executor. This can be caused by a too short worker timeout or by a memory leak.\n",
      "  \"timeout or by a memory leak.\", UserWarning\n",
      "\u001b[32m[I 2022-05-05 16:36:26,465]\u001b[0m Trial 161 finished with value: 0.7783961418018799 and parameters: {'n_estimators': 268, 'max_depth': 142, 'min_samples_split': 35, 'min_samples_leaf': 1, 'max_features': 'log2', 'bootstrap': 'True'}. Best is trial 108 with value: 0.778398881236744.\u001b[0m\n"
     ]
    },
    {
     "name": "stdout",
     "output_type": "stream",
     "text": [
      "Trial 161 finished with value: 0.7783961418018799 and parameters: {'n_estimators': 268, 'max_depth': 142, 'min_samples_split': 35, 'min_samples_leaf': 1, 'max_features': 'log2', 'bootstrap': 'True'}. Best is trial 108 with value: 0.778398881236744.\n"
     ]
    },
    {
     "name": "stderr",
     "output_type": "stream",
     "text": [
      "\u001b[32m[I 2022-05-05 16:49:18,494]\u001b[0m Trial 162 finished with value: 0.7783905192100985 and parameters: {'n_estimators': 265, 'max_depth': 135, 'min_samples_split': 37, 'min_samples_leaf': 1, 'max_features': 'log2', 'bootstrap': 'True'}. Best is trial 108 with value: 0.778398881236744.\u001b[0m\n"
     ]
    },
    {
     "name": "stdout",
     "output_type": "stream",
     "text": [
      "Trial 162 finished with value: 0.7783905192100985 and parameters: {'n_estimators': 265, 'max_depth': 135, 'min_samples_split': 37, 'min_samples_leaf': 1, 'max_features': 'log2', 'bootstrap': 'True'}. Best is trial 108 with value: 0.778398881236744.\n"
     ]
    },
    {
     "name": "stderr",
     "output_type": "stream",
     "text": [
      "\u001b[32m[I 2022-05-05 17:02:21,910]\u001b[0m Trial 163 finished with value: 0.778398065296776 and parameters: {'n_estimators': 269, 'max_depth': 127, 'min_samples_split': 34, 'min_samples_leaf': 1, 'max_features': 'log2', 'bootstrap': 'True'}. Best is trial 108 with value: 0.778398881236744.\u001b[0m\n"
     ]
    },
    {
     "name": "stdout",
     "output_type": "stream",
     "text": [
      "Trial 163 finished with value: 0.778398065296776 and parameters: {'n_estimators': 269, 'max_depth': 127, 'min_samples_split': 34, 'min_samples_leaf': 1, 'max_features': 'log2', 'bootstrap': 'True'}. Best is trial 108 with value: 0.778398881236744.\n"
     ]
    },
    {
     "name": "stderr",
     "output_type": "stream",
     "text": [
      "/home/inara/anaconda3/lib/python3.7/site-packages/joblib/externals/loky/process_executor.py:706: UserWarning: A worker stopped while some jobs were given to the executor. This can be caused by a too short worker timeout or by a memory leak.\n",
      "  \"timeout or by a memory leak.\", UserWarning\n",
      "\u001b[32m[I 2022-05-05 17:15:23,378]\u001b[0m Trial 164 finished with value: 0.7783942522069982 and parameters: {'n_estimators': 269, 'max_depth': 128, 'min_samples_split': 33, 'min_samples_leaf': 1, 'max_features': 'log2', 'bootstrap': 'True'}. Best is trial 108 with value: 0.778398881236744.\u001b[0m\n"
     ]
    },
    {
     "name": "stdout",
     "output_type": "stream",
     "text": [
      "Trial 164 finished with value: 0.7783942522069982 and parameters: {'n_estimators': 269, 'max_depth': 128, 'min_samples_split': 33, 'min_samples_leaf': 1, 'max_features': 'log2', 'bootstrap': 'True'}. Best is trial 108 with value: 0.778398881236744.\n"
     ]
    },
    {
     "name": "stderr",
     "output_type": "stream",
     "text": [
      "\u001b[32m[I 2022-05-05 17:28:53,061]\u001b[0m Trial 165 finished with value: 0.7783995068404417 and parameters: {'n_estimators': 277, 'max_depth': 143, 'min_samples_split': 34, 'min_samples_leaf': 1, 'max_features': 'log2', 'bootstrap': 'True'}. Best is trial 165 with value: 0.7783995068404417.\u001b[0m\n"
     ]
    },
    {
     "name": "stdout",
     "output_type": "stream",
     "text": [
      "Trial 165 finished with value: 0.7783995068404417 and parameters: {'n_estimators': 277, 'max_depth': 143, 'min_samples_split': 34, 'min_samples_leaf': 1, 'max_features': 'log2', 'bootstrap': 'True'}. Best is trial 165 with value: 0.7783995068404417.\n"
     ]
    },
    {
     "name": "stderr",
     "output_type": "stream",
     "text": [
      "/home/inara/anaconda3/lib/python3.7/site-packages/joblib/externals/loky/process_executor.py:706: UserWarning: A worker stopped while some jobs were given to the executor. This can be caused by a too short worker timeout or by a memory leak.\n",
      "  \"timeout or by a memory leak.\", UserWarning\n",
      "\u001b[32m[I 2022-05-05 17:42:35,459]\u001b[0m Trial 166 finished with value: 0.7783990326334023 and parameters: {'n_estimators': 290, 'max_depth': 132, 'min_samples_split': 34, 'min_samples_leaf': 1, 'max_features': 'log2', 'bootstrap': 'True'}. Best is trial 165 with value: 0.7783995068404417.\u001b[0m\n"
     ]
    },
    {
     "name": "stdout",
     "output_type": "stream",
     "text": [
      "Trial 166 finished with value: 0.7783990326334023 and parameters: {'n_estimators': 290, 'max_depth': 132, 'min_samples_split': 34, 'min_samples_leaf': 1, 'max_features': 'log2', 'bootstrap': 'True'}. Best is trial 165 with value: 0.7783995068404417.\n"
     ]
    },
    {
     "name": "stderr",
     "output_type": "stream",
     "text": [
      "\u001b[32m[I 2022-05-05 17:56:05,235]\u001b[0m Trial 167 finished with value: 0.7784001554600031 and parameters: {'n_estimators': 280, 'max_depth': 133, 'min_samples_split': 34, 'min_samples_leaf': 1, 'max_features': 'log2', 'bootstrap': 'True'}. Best is trial 167 with value: 0.7784001554600031.\u001b[0m\n"
     ]
    },
    {
     "name": "stdout",
     "output_type": "stream",
     "text": [
      "Trial 167 finished with value: 0.7784001554600031 and parameters: {'n_estimators': 280, 'max_depth': 133, 'min_samples_split': 34, 'min_samples_leaf': 1, 'max_features': 'log2', 'bootstrap': 'True'}. Best is trial 167 with value: 0.7784001554600031.\n"
     ]
    },
    {
     "name": "stderr",
     "output_type": "stream",
     "text": [
      "\u001b[32m[I 2022-05-05 18:10:02,919]\u001b[0m Trial 168 finished with value: 0.7783907350911516 and parameters: {'n_estimators': 288, 'max_depth': 131, 'min_samples_split': 32, 'min_samples_leaf': 1, 'max_features': 'log2', 'bootstrap': 'True'}. Best is trial 167 with value: 0.7784001554600031.\u001b[0m\n"
     ]
    },
    {
     "name": "stdout",
     "output_type": "stream",
     "text": [
      "Trial 168 finished with value: 0.7783907350911516 and parameters: {'n_estimators': 288, 'max_depth': 131, 'min_samples_split': 32, 'min_samples_leaf': 1, 'max_features': 'log2', 'bootstrap': 'True'}. Best is trial 167 with value: 0.7784001554600031.\n"
     ]
    },
    {
     "name": "stderr",
     "output_type": "stream",
     "text": [
      "\u001b[32m[I 2022-05-05 18:24:12,400]\u001b[0m Trial 169 finished with value: 0.7783985167936479 and parameters: {'n_estimators': 296, 'max_depth': 122, 'min_samples_split': 34, 'min_samples_leaf': 1, 'max_features': 'log2', 'bootstrap': 'True'}. Best is trial 167 with value: 0.7784001554600031.\u001b[0m\n"
     ]
    },
    {
     "name": "stdout",
     "output_type": "stream",
     "text": [
      "Trial 169 finished with value: 0.7783985167936479 and parameters: {'n_estimators': 296, 'max_depth': 122, 'min_samples_split': 34, 'min_samples_leaf': 1, 'max_features': 'log2', 'bootstrap': 'True'}. Best is trial 167 with value: 0.7784001554600031.\n"
     ]
    },
    {
     "name": "stderr",
     "output_type": "stream",
     "text": [
      "/home/inara/anaconda3/lib/python3.7/site-packages/joblib/externals/loky/process_executor.py:706: UserWarning: A worker stopped while some jobs were given to the executor. This can be caused by a too short worker timeout or by a memory leak.\n",
      "  \"timeout or by a memory leak.\", UserWarning\n",
      "\u001b[32m[I 2022-05-05 18:38:06,361]\u001b[0m Trial 170 finished with value: 0.7783445636833832 and parameters: {'n_estimators': 291, 'max_depth': 120, 'min_samples_split': 34, 'min_samples_leaf': 2, 'max_features': 'log2', 'bootstrap': 'True'}. Best is trial 167 with value: 0.7784001554600031.\u001b[0m\n"
     ]
    },
    {
     "name": "stdout",
     "output_type": "stream",
     "text": [
      "Trial 170 finished with value: 0.7783445636833832 and parameters: {'n_estimators': 291, 'max_depth': 120, 'min_samples_split': 34, 'min_samples_leaf': 2, 'max_features': 'log2', 'bootstrap': 'True'}. Best is trial 167 with value: 0.7784001554600031.\n"
     ]
    },
    {
     "name": "stderr",
     "output_type": "stream",
     "text": [
      "\u001b[32m[I 2022-05-05 18:52:26,235]\u001b[0m Trial 171 finished with value: 0.7783983092591578 and parameters: {'n_estimators': 299, 'max_depth': 123, 'min_samples_split': 33, 'min_samples_leaf': 1, 'max_features': 'log2', 'bootstrap': 'True'}. Best is trial 167 with value: 0.7784001554600031.\u001b[0m\n"
     ]
    },
    {
     "name": "stdout",
     "output_type": "stream",
     "text": [
      "Trial 171 finished with value: 0.7783983092591578 and parameters: {'n_estimators': 299, 'max_depth': 123, 'min_samples_split': 33, 'min_samples_leaf': 1, 'max_features': 'log2', 'bootstrap': 'True'}. Best is trial 167 with value: 0.7784001554600031.\n"
     ]
    },
    {
     "name": "stderr",
     "output_type": "stream",
     "text": [
      "/home/inara/anaconda3/lib/python3.7/site-packages/joblib/externals/loky/process_executor.py:706: UserWarning: A worker stopped while some jobs were given to the executor. This can be caused by a too short worker timeout or by a memory leak.\n",
      "  \"timeout or by a memory leak.\", UserWarning\n",
      "\u001b[32m[I 2022-05-05 19:06:51,295]\u001b[0m Trial 172 finished with value: 0.7783916647774551 and parameters: {'n_estimators': 300, 'max_depth': 125, 'min_samples_split': 32, 'min_samples_leaf': 1, 'max_features': 'log2', 'bootstrap': 'True'}. Best is trial 167 with value: 0.7784001554600031.\u001b[0m\n"
     ]
    },
    {
     "name": "stdout",
     "output_type": "stream",
     "text": [
      "Trial 172 finished with value: 0.7783916647774551 and parameters: {'n_estimators': 300, 'max_depth': 125, 'min_samples_split': 32, 'min_samples_leaf': 1, 'max_features': 'log2', 'bootstrap': 'True'}. Best is trial 167 with value: 0.7784001554600031.\n"
     ]
    },
    {
     "name": "stderr",
     "output_type": "stream",
     "text": [
      "\u001b[32m[I 2022-05-05 19:20:45,802]\u001b[0m Trial 173 finished with value: 0.7783975364429536 and parameters: {'n_estimators': 291, 'max_depth': 135, 'min_samples_split': 33, 'min_samples_leaf': 1, 'max_features': 'log2', 'bootstrap': 'True'}. Best is trial 167 with value: 0.7784001554600031.\u001b[0m\n"
     ]
    },
    {
     "name": "stdout",
     "output_type": "stream",
     "text": [
      "Trial 173 finished with value: 0.7783975364429536 and parameters: {'n_estimators': 291, 'max_depth': 135, 'min_samples_split': 33, 'min_samples_leaf': 1, 'max_features': 'log2', 'bootstrap': 'True'}. Best is trial 167 with value: 0.7784001554600031.\n"
     ]
    },
    {
     "name": "stderr",
     "output_type": "stream",
     "text": [
      "/home/inara/anaconda3/lib/python3.7/site-packages/joblib/externals/loky/process_executor.py:706: UserWarning: A worker stopped while some jobs were given to the executor. This can be caused by a too short worker timeout or by a memory leak.\n",
      "  \"timeout or by a memory leak.\", UserWarning\n",
      "\u001b[32m[I 2022-05-05 19:34:49,340]\u001b[0m Trial 174 finished with value: 0.7776447078565487 and parameters: {'n_estimators': 294, 'max_depth': 136, 'min_samples_split': 31, 'min_samples_leaf': 8, 'max_features': 'log2', 'bootstrap': 'True'}. Best is trial 167 with value: 0.7784001554600031.\u001b[0m\n"
     ]
    },
    {
     "name": "stdout",
     "output_type": "stream",
     "text": [
      "Trial 174 finished with value: 0.7776447078565487 and parameters: {'n_estimators': 294, 'max_depth': 136, 'min_samples_split': 31, 'min_samples_leaf': 8, 'max_features': 'log2', 'bootstrap': 'True'}. Best is trial 167 with value: 0.7784001554600031.\n"
     ]
    },
    {
     "name": "stderr",
     "output_type": "stream",
     "text": [
      "\u001b[32m[I 2022-05-05 19:49:04,166]\u001b[0m Trial 175 finished with value: 0.7783976095872795 and parameters: {'n_estimators': 294, 'max_depth': 128, 'min_samples_split': 33, 'min_samples_leaf': 1, 'max_features': 'log2', 'bootstrap': 'True'}. Best is trial 167 with value: 0.7784001554600031.\u001b[0m\n"
     ]
    },
    {
     "name": "stdout",
     "output_type": "stream",
     "text": [
      "Trial 175 finished with value: 0.7783976095872795 and parameters: {'n_estimators': 294, 'max_depth': 128, 'min_samples_split': 33, 'min_samples_leaf': 1, 'max_features': 'log2', 'bootstrap': 'True'}. Best is trial 167 with value: 0.7784001554600031.\n"
     ]
    },
    {
     "name": "stderr",
     "output_type": "stream",
     "text": [
      "\u001b[32m[I 2022-05-05 20:03:21,659]\u001b[0m Trial 176 finished with value: 0.7783878981179331 and parameters: {'n_estimators': 295, 'max_depth': 131, 'min_samples_split': 30, 'min_samples_leaf': 1, 'max_features': 'log2', 'bootstrap': 'True'}. Best is trial 167 with value: 0.7784001554600031.\u001b[0m\n"
     ]
    },
    {
     "name": "stdout",
     "output_type": "stream",
     "text": [
      "Trial 176 finished with value: 0.7783878981179331 and parameters: {'n_estimators': 295, 'max_depth': 131, 'min_samples_split': 30, 'min_samples_leaf': 1, 'max_features': 'log2', 'bootstrap': 'True'}. Best is trial 167 with value: 0.7784001554600031.\n"
     ]
    },
    {
     "name": "stderr",
     "output_type": "stream",
     "text": [
      "\u001b[32m[I 2022-05-05 20:19:34,794]\u001b[0m Trial 177 finished with value: 0.7783865734673413 and parameters: {'n_estimators': 286, 'max_depth': 122, 'min_samples_split': 33, 'min_samples_leaf': 1, 'max_features': 'sqrt', 'bootstrap': 'True'}. Best is trial 167 with value: 0.7784001554600031.\u001b[0m\n"
     ]
    },
    {
     "name": "stdout",
     "output_type": "stream",
     "text": [
      "Trial 177 finished with value: 0.7783865734673413 and parameters: {'n_estimators': 286, 'max_depth': 122, 'min_samples_split': 33, 'min_samples_leaf': 1, 'max_features': 'sqrt', 'bootstrap': 'True'}. Best is trial 167 with value: 0.7784001554600031.\n"
     ]
    },
    {
     "name": "stderr",
     "output_type": "stream",
     "text": [
      "/home/inara/anaconda3/lib/python3.7/site-packages/joblib/externals/loky/process_executor.py:706: UserWarning: A worker stopped while some jobs were given to the executor. This can be caused by a too short worker timeout or by a memory leak.\n",
      "  \"timeout or by a memory leak.\", UserWarning\n",
      "\u001b[32m[I 2022-05-05 20:34:39,027]\u001b[0m Trial 178 finished with value: 0.7783989196966563 and parameters: {'n_estimators': 282, 'max_depth': 127, 'min_samples_split': 34, 'min_samples_leaf': 1, 'max_features': 'log2', 'bootstrap': 'True'}. Best is trial 167 with value: 0.7784001554600031.\u001b[0m\n"
     ]
    },
    {
     "name": "stdout",
     "output_type": "stream",
     "text": [
      "Trial 178 finished with value: 0.7783989196966563 and parameters: {'n_estimators': 282, 'max_depth': 127, 'min_samples_split': 34, 'min_samples_leaf': 1, 'max_features': 'log2', 'bootstrap': 'True'}. Best is trial 167 with value: 0.7784001554600031.\n"
     ]
    },
    {
     "name": "stderr",
     "output_type": "stream",
     "text": [
      "\u001b[32m[I 2022-05-05 20:48:22,666]\u001b[0m Trial 179 finished with value: 0.7783968017185356 and parameters: {'n_estimators': 281, 'max_depth': 134, 'min_samples_split': 33, 'min_samples_leaf': 1, 'max_features': 'log2', 'bootstrap': 'True'}. Best is trial 167 with value: 0.7784001554600031.\u001b[0m\n"
     ]
    },
    {
     "name": "stdout",
     "output_type": "stream",
     "text": [
      "Trial 179 finished with value: 0.7783968017185356 and parameters: {'n_estimators': 281, 'max_depth': 134, 'min_samples_split': 33, 'min_samples_leaf': 1, 'max_features': 'log2', 'bootstrap': 'True'}. Best is trial 167 with value: 0.7784001554600031.\n"
     ]
    },
    {
     "name": "stderr",
     "output_type": "stream",
     "text": [
      "/home/inara/anaconda3/lib/python3.7/site-packages/joblib/externals/loky/process_executor.py:706: UserWarning: A worker stopped while some jobs were given to the executor. This can be caused by a too short worker timeout or by a memory leak.\n",
      "  \"timeout or by a memory leak.\", UserWarning\n",
      "\u001b[32m[I 2022-05-05 21:03:13,316]\u001b[0m Trial 180 finished with value: 0.7783718818947962 and parameters: {'n_estimators': 281, 'max_depth': 134, 'min_samples_split': 29, 'min_samples_leaf': 1, 'max_features': 'log2', 'bootstrap': 'True'}. Best is trial 167 with value: 0.7784001554600031.\u001b[0m\n"
     ]
    },
    {
     "name": "stdout",
     "output_type": "stream",
     "text": [
      "Trial 180 finished with value: 0.7783718818947962 and parameters: {'n_estimators': 281, 'max_depth': 134, 'min_samples_split': 29, 'min_samples_leaf': 1, 'max_features': 'log2', 'bootstrap': 'True'}. Best is trial 167 with value: 0.7784001554600031.\n"
     ]
    },
    {
     "name": "stderr",
     "output_type": "stream",
     "text": [
      "\u001b[32m[I 2022-05-05 21:17:40,604]\u001b[0m Trial 181 finished with value: 0.7783979339672324 and parameters: {'n_estimators': 297, 'max_depth': 129, 'min_samples_split': 33, 'min_samples_leaf': 1, 'max_features': 'log2', 'bootstrap': 'True'}. Best is trial 167 with value: 0.7784001554600031.\u001b[0m\n"
     ]
    },
    {
     "name": "stdout",
     "output_type": "stream",
     "text": [
      "Trial 181 finished with value: 0.7783979339672324 and parameters: {'n_estimators': 297, 'max_depth': 129, 'min_samples_split': 33, 'min_samples_leaf': 1, 'max_features': 'log2', 'bootstrap': 'True'}. Best is trial 167 with value: 0.7784001554600031.\n"
     ]
    },
    {
     "name": "stderr",
     "output_type": "stream",
     "text": [
      "/home/inara/anaconda3/lib/python3.7/site-packages/joblib/externals/loky/process_executor.py:706: UserWarning: A worker stopped while some jobs were given to the executor. This can be caused by a too short worker timeout or by a memory leak.\n",
      "  \"timeout or by a memory leak.\", UserWarning\n",
      "\u001b[32m[I 2022-05-05 21:32:40,091]\u001b[0m Trial 182 finished with value: 0.7783903382241275 and parameters: {'n_estimators': 297, 'max_depth': 123, 'min_samples_split': 32, 'min_samples_leaf': 1, 'max_features': 'log2', 'bootstrap': 'True'}. Best is trial 167 with value: 0.7784001554600031.\u001b[0m\n"
     ]
    },
    {
     "name": "stdout",
     "output_type": "stream",
     "text": [
      "Trial 182 finished with value: 0.7783903382241275 and parameters: {'n_estimators': 297, 'max_depth': 123, 'min_samples_split': 32, 'min_samples_leaf': 1, 'max_features': 'log2', 'bootstrap': 'True'}. Best is trial 167 with value: 0.7784001554600031.\n"
     ]
    },
    {
     "name": "stderr",
     "output_type": "stream",
     "text": [
      "\u001b[32m[I 2022-05-05 21:46:44,785]\u001b[0m Trial 183 finished with value: 0.7783967824635784 and parameters: {'n_estimators': 289, 'max_depth': 135, 'min_samples_split': 33, 'min_samples_leaf': 1, 'max_features': 'log2', 'bootstrap': 'True'}. Best is trial 167 with value: 0.7784001554600031.\u001b[0m\n"
     ]
    },
    {
     "name": "stdout",
     "output_type": "stream",
     "text": [
      "Trial 183 finished with value: 0.7783967824635784 and parameters: {'n_estimators': 289, 'max_depth': 135, 'min_samples_split': 33, 'min_samples_leaf': 1, 'max_features': 'log2', 'bootstrap': 'True'}. Best is trial 167 with value: 0.7784001554600031.\n"
     ]
    },
    {
     "name": "stderr",
     "output_type": "stream",
     "text": [
      "\u001b[32m[I 2022-05-05 22:00:28,636]\u001b[0m Trial 184 finished with value: 0.778392062993172 and parameters: {'n_estimators': 287, 'max_depth': 135, 'min_samples_split': 31, 'min_samples_leaf': 1, 'max_features': 'log2', 'bootstrap': 'True'}. Best is trial 167 with value: 0.7784001554600031.\u001b[0m\n"
     ]
    },
    {
     "name": "stdout",
     "output_type": "stream",
     "text": [
      "Trial 184 finished with value: 0.778392062993172 and parameters: {'n_estimators': 287, 'max_depth': 135, 'min_samples_split': 31, 'min_samples_leaf': 1, 'max_features': 'log2', 'bootstrap': 'True'}. Best is trial 167 with value: 0.7784001554600031.\n"
     ]
    },
    {
     "name": "stderr",
     "output_type": "stream",
     "text": [
      "/home/inara/anaconda3/lib/python3.7/site-packages/joblib/externals/loky/process_executor.py:706: UserWarning: A worker stopped while some jobs were given to the executor. This can be caused by a too short worker timeout or by a memory leak.\n",
      "  \"timeout or by a memory leak.\", UserWarning\n",
      "\u001b[32m[I 2022-05-05 22:14:33,273]\u001b[0m Trial 185 finished with value: 0.7783975364429536 and parameters: {'n_estimators': 291, 'max_depth': 130, 'min_samples_split': 33, 'min_samples_leaf': 1, 'max_features': 'log2', 'bootstrap': 'True'}. Best is trial 167 with value: 0.7784001554600031.\u001b[0m\n"
     ]
    },
    {
     "name": "stdout",
     "output_type": "stream",
     "text": [
      "Trial 185 finished with value: 0.7783975364429536 and parameters: {'n_estimators': 291, 'max_depth': 130, 'min_samples_split': 33, 'min_samples_leaf': 1, 'max_features': 'log2', 'bootstrap': 'True'}. Best is trial 167 with value: 0.7784001554600031.\n"
     ]
    },
    {
     "name": "stderr",
     "output_type": "stream",
     "text": [
      "\u001b[32m[I 2022-05-05 22:29:03,172]\u001b[0m Trial 186 finished with value: 0.7783984924938275 and parameters: {'n_estimators': 300, 'max_depth': 117, 'min_samples_split': 33, 'min_samples_leaf': 1, 'max_features': 'log2', 'bootstrap': 'True'}. Best is trial 167 with value: 0.7784001554600031.\u001b[0m\n"
     ]
    },
    {
     "name": "stdout",
     "output_type": "stream",
     "text": [
      "Trial 186 finished with value: 0.7783984924938275 and parameters: {'n_estimators': 300, 'max_depth': 117, 'min_samples_split': 33, 'min_samples_leaf': 1, 'max_features': 'log2', 'bootstrap': 'True'}. Best is trial 167 with value: 0.7784001554600031.\n"
     ]
    },
    {
     "name": "stderr",
     "output_type": "stream",
     "text": [
      "\u001b[32m[I 2022-05-05 23:59:02,755]\u001b[0m Trial 187 finished with value: 0.7782482659204708 and parameters: {'n_estimators': 299, 'max_depth': 117, 'min_samples_split': 32, 'min_samples_leaf': 1, 'max_features': 'auto', 'bootstrap': 'True'}. Best is trial 167 with value: 0.7784001554600031.\u001b[0m\n"
     ]
    },
    {
     "name": "stdout",
     "output_type": "stream",
     "text": [
      "Trial 187 finished with value: 0.7782482659204708 and parameters: {'n_estimators': 299, 'max_depth': 117, 'min_samples_split': 32, 'min_samples_leaf': 1, 'max_features': 'auto', 'bootstrap': 'True'}. Best is trial 167 with value: 0.7784001554600031.\n",
      "Trial: 167\n",
      "\n",
      "\n",
      "Melhor seleção de parâmetros : \n",
      "{'bootstrap': 'True', 'max_depth': 133, 'max_features': 'log2', 'min_samples_leaf': 1, 'min_samples_split': 34, 'n_estimators': 280}\n",
      "\n",
      "\n",
      "Acurácia : 0.778\n",
      "Pronto em:  91228.223\n"
     ]
    }
   ],
   "source": [
    "t0 = time.time()\n",
    "study, best_rfr_params = tune(randomforest_objective)  \n",
    "print(\"Pronto em:  %0.3f\" %(time.time()-t0))"
   ]
  },
  {
   "cell_type": "code",
   "execution_count": null,
   "metadata": {
    "colab": {
     "base_uri": "https://localhost:8080/",
     "height": 306
    },
    "executionInfo": {
     "elapsed": 19,
     "status": "error",
     "timestamp": 1648635849946,
     "user": {
      "displayName": "Inara Santana Ortiz",
      "userId": "07948853797805552432"
     },
     "user_tz": 240
    },
    "id": "4nb1C5U2iEHr",
    "outputId": "56c1e7a6-18bc-4bd3-ab95-11c42e91559c"
   },
   "outputs": [],
   "source": [
    "#Para uso no colab\n",
    "from google.colab import files\n",
    "files.download('/content/sample_data/xgb-study.db')"
   ]
  },
  {
   "cell_type": "code",
   "execution_count": 2,
   "metadata": {
    "colab": {
     "base_uri": "https://localhost:8080/",
     "height": 185
    },
    "executionInfo": {
     "elapsed": 448,
     "status": "error",
     "timestamp": 1648635866547,
     "user": {
      "displayName": "Inara Santana Ortiz",
      "userId": "07948853797805552432"
     },
     "user_tz": 240
    },
    "id": "9NljY1NyvY8_",
    "outputId": "f5e3f0bb-d2df-41fd-9845-f0ae42c78dac"
   },
   "outputs": [
    {
     "ename": "NameError",
     "evalue": "ignored",
     "output_type": "error",
     "traceback": [
      "\u001b[0;31m---------------------------------------------------------------------------\u001b[0m",
      "\u001b[0;31mNameError\u001b[0m                                 Traceback (most recent call last)",
      "\u001b[0;32m<ipython-input-2-211e67744eea>\u001b[0m in \u001b[0;36m<module>\u001b[0;34m()\u001b[0m\n\u001b[1;32m      1\u001b[0m \u001b[0;31m# Determina quais hiperparâmetros tiveram o impacto mais significativo no desempenho geral do modelo.\u001b[0m\u001b[0;34m\u001b[0m\u001b[0;34m\u001b[0m\u001b[0;34m\u001b[0m\u001b[0m\n\u001b[0;32m----> 2\u001b[0;31m \u001b[0moptuna\u001b[0m\u001b[0;34m.\u001b[0m\u001b[0mvisualization\u001b[0m\u001b[0;34m.\u001b[0m\u001b[0mplot_param_importances\u001b[0m\u001b[0;34m(\u001b[0m\u001b[0mstudy\u001b[0m\u001b[0;34m)\u001b[0m\u001b[0;34m\u001b[0m\u001b[0;34m\u001b[0m\u001b[0m\n\u001b[0m",
      "\u001b[0;31mNameError\u001b[0m: name 'optuna' is not defined"
     ]
    }
   ],
   "source": [
    "# Determina quais hiperparâmetros tiveram o impacto mais significativo no desempenho geral do modelo.\n",
    "optuna.visualization.plot_param_importances(study)"
   ]
  },
  {
   "cell_type": "markdown",
   "metadata": {
    "id": "f5QhPcXtkt2h"
   },
   "source": [
    "## Treinando o modelo com os melhores Hiperparâmetros"
   ]
  },
  {
   "cell_type": "code",
   "execution_count": null,
   "metadata": {
    "id": "sMd_dW8PgzMy"
   },
   "outputs": [],
   "source": [
    "#melhores hiperparametros obtidos do processo de otimização\n",
    "params={'n_estimators': 280, 'max_depth': 29, 'min_samples_split': 43, 'min_samples_leaf': 1, 'max_features': 'log2', 'bootstrap': 'True'}"
   ]
  },
  {
   "cell_type": "code",
   "execution_count": null,
   "metadata": {
    "colab": {
     "base_uri": "https://localhost:8080/"
    },
    "executionInfo": {
     "elapsed": 397,
     "status": "ok",
     "timestamp": 1644985853643,
     "user": {
      "displayName": "Inara Santana Ortiz",
      "photoUrl": "https://lh3.googleusercontent.com/a-/AOh14GiiIA2mH7NX3gcUv6FChCpTqiH5LAcmLjP4xmgD3g=s64",
      "userId": "07948853797805552432"
     },
     "user_tz": 240
    },
    "id": "oaPwIbS-R8d0",
    "outputId": "79a5e3b8-f53d-4be4-966d-043410a4e04f"
   },
   "outputs": [
    {
     "data": {
      "text/plain": [
       "RandomForestRegressor(bootstrap='True', max_depth=29, max_features='log2',\n",
       "                      min_samples_split=43, n_estimators=280, n_jobs=-1,\n",
       "                      random_state=42)"
      ]
     },
     "execution_count": 12,
     "metadata": {},
     "output_type": "execute_result"
    }
   ],
   "source": [
    "model_rfr = RandomForestRegressor(n_jobs=-1, random_state=SEED, **params)\n",
    "model_rfr"
   ]
  },
  {
   "cell_type": "markdown",
   "metadata": {
    "id": "tA62OQbAk3ha"
   },
   "source": [
    "### Validação Cruzada com 10 folds"
   ]
  },
  {
   "cell_type": "code",
   "execution_count": null,
   "metadata": {
    "id": "E7o1bUY9k75K"
   },
   "outputs": [],
   "source": [
    "def validacao(modelo, X, y):\n",
    "    cv =  KFold(n_splits= 10, shuffle=True)\n",
    "    scores = cross_validate(modelo, X, y, cv = cv, \n",
    "                            scoring=('r2', 'neg_mean_absolute_error','neg_root_mean_squared_error'),\n",
    "                            return_train_score=True,\n",
    "                            n_jobs=-1)\n",
    "    resultados_cross_validate(scores, nome_metrica='test_r2')\n",
    "    resultados_cross_validate(scores, nome_metrica='test_neg_mean_absolute_error')\n",
    "    resultados_cross_validate(scores, nome_metrica='test_neg_root_mean_squared_error')"
   ]
  },
  {
   "cell_type": "code",
   "execution_count": null,
   "metadata": {
    "id": "MQxN7D2GlSif"
   },
   "outputs": [],
   "source": [
    "def resultados_cross_validate(scores, nome_metrica):\n",
    "    media = scores [nome_metrica].mean()\n",
    "    desvio_padrao = scores[nome_metrica].std()\n",
    "    print('Métrica ' + nome_metrica + ': ' )\n",
    "    print('Média %.3f +/- %.2f' % (media, desvio_padrao))\n",
    "    print('Intervalo: [ %.3f, %.3f ]'  % (min(scores [nome_metrica]), max(scores [nome_metrica])))\n",
    "    print('\\n')"
   ]
  },
  {
   "cell_type": "code",
   "execution_count": null,
   "metadata": {
    "colab": {
     "base_uri": "https://localhost:8080/"
    },
    "executionInfo": {
     "elapsed": 969805,
     "status": "ok",
     "timestamp": 1644986893183,
     "user": {
      "displayName": "Inara Santana Ortiz",
      "photoUrl": "https://lh3.googleusercontent.com/a-/AOh14GiiIA2mH7NX3gcUv6FChCpTqiH5LAcmLjP4xmgD3g=s64",
      "userId": "07948853797805552432"
     },
     "user_tz": 240
    },
    "id": "qA_ncK7Nrrkq",
    "outputId": "f21d4cb8-f146-49cb-b43b-eee3a7fd9d69"
   },
   "outputs": [
    {
     "name": "stdout",
     "output_type": "stream",
     "text": [
      "Métrica test_r2: \n",
      "Média 0.780 +/- 0.00\n",
      "Intervalo: [ 0.778, 0.783 ]\n",
      "\n",
      "\n",
      "Métrica test_neg_mean_absolute_error: \n",
      "Média -15.772 +/- 0.05\n",
      "Intervalo: [ -15.847, -15.700 ]\n",
      "\n",
      "\n",
      "Métrica test_neg_root_mean_squared_error: \n",
      "Média -20.815 +/- 0.07\n",
      "Intervalo: [ -20.907, -20.723 ]\n",
      "\n",
      "\n"
     ]
    }
   ],
   "source": [
    "validacao(model_rfr, X_scaled_pca, y)"
   ]
  },
  {
   "cell_type": "code",
   "execution_count": null,
   "metadata": {
    "colab": {
     "base_uri": "https://localhost:8080/",
     "height": 395
    },
    "executionInfo": {
     "elapsed": 139974,
     "status": "ok",
     "timestamp": 1644987429346,
     "user": {
      "displayName": "Inara Santana Ortiz",
      "photoUrl": "https://lh3.googleusercontent.com/a-/AOh14GiiIA2mH7NX3gcUv6FChCpTqiH5LAcmLjP4xmgD3g=s64",
      "userId": "07948853797805552432"
     },
     "user_tz": 240
    },
    "id": "Zs0hJxbgzjnD",
    "outputId": "762ac59e-305c-4b6e-cd5d-7d3966978c6d"
   },
   "outputs": [
    {
     "data": {
      "image/png": "[encoded data removed]",
      "text/plain": [
       "<Figure size 576x396 with 1 Axes>"
      ]
     },
     "metadata": {},
     "output_type": "display_data"
    },
    {
     "data": {
      "text/plain": [
       "<matplotlib.axes._subplots.AxesSubplot at 0x7fab874df150>"
      ]
     },
     "execution_count": 22,
     "metadata": {},
     "output_type": "execute_result"
    }
   ],
   "source": [
    "X_train, X_test, y_train, y_test = train_test_split(X_scaled_pca, y, test_size=0.2, random_state=42)\n",
    "\n",
    "rfr = RandomForestRegressor(n_jobs=-1, random_state=SEED, **params)\n",
    "visualizer = PredictionError(rfr)\n",
    "\n",
    "visualizer.fit(X_train, y_train)  \n",
    "visualizer.score(X_test, y_test) \n",
    "visualizer.poof() "
   ]
  },
  {
   "cell_type": "markdown",
   "metadata": {
    "id": "5FstNUibCuIX"
   },
   "source": [
    "## Analisando a importância de cada variável"
   ]
  },
  {
   "cell_type": "code",
   "execution_count": null,
   "metadata": {
    "colab": {
     "base_uri": "https://localhost:8080/"
    },
    "executionInfo": {
     "elapsed": 71284,
     "status": "ok",
     "timestamp": 1642808020623,
     "user": {
      "displayName": "Inara Santana Ortiz",
      "photoUrl": "https://lh3.googleusercontent.com/a-/AOh14GiiIA2mH7NX3gcUv6FChCpTqiH5LAcmLjP4xmgD3g=s64",
      "userId": "07948853797805552432"
     },
     "user_tz": 240
    },
    "id": "iwTzmH3zCsVO",
    "outputId": "b65db7f5-da7a-452b-976f-b7b1906d0659"
   },
   "outputs": [
    {
     "data": {
      "text/plain": [
       "RandomForestRegressor(bootstrap='True', max_depth=29, max_features='log2',\n",
       "                      min_samples_split=43, n_estimators=280, n_jobs=-1,\n",
       "                      random_state=42)"
      ]
     },
     "execution_count": 36,
     "metadata": {},
     "output_type": "execute_result"
    }
   ],
   "source": [
    "rfr = RandomForestRegressor(n_jobs=-1, random_state=SEED, **params)\n",
    "rfr.fit(X, y)"
   ]
  },
  {
   "cell_type": "code",
   "execution_count": null,
   "metadata": {
    "id": "uh8PW19PIFiS"
   },
   "outputs": [],
   "source": [
    "nomes_caracteristicas = []\n",
    "for i in X.columns:\n",
    "    nomes_caracteristicas.append(i)"
   ]
  },
  {
   "cell_type": "code",
   "execution_count": null,
   "metadata": {
    "id": "m9cNk470DMFx"
   },
   "outputs": [],
   "source": [
    "importancia = rfr.feature_importances_\n",
    "# Importâncias de características são fornecidas pelo atributo ajustado feature_importances_ \n",
    "# e são calculadas como a média e o desvio padrão de acumulação da diminuição de impurezas dentro de cada árvore.\n",
    "std = np.std([tree.feature_importances_ for tree in rfr.estimators_], axis=0)"
   ]
  },
  {
   "cell_type": "code",
   "execution_count": null,
   "metadata": {
    "colab": {
     "base_uri": "https://localhost:8080/",
     "height": 725
    },
    "executionInfo": {
     "elapsed": 1606,
     "status": "ok",
     "timestamp": 1642808295248,
     "user": {
      "displayName": "Inara Santana Ortiz",
      "photoUrl": "https://lh3.googleusercontent.com/a-/AOh14GiiIA2mH7NX3gcUv6FChCpTqiH5LAcmLjP4xmgD3g=s64",
      "userId": "07948853797805552432"
     },
     "user_tz": 240
    },
    "id": "JUZWm-HmFri5",
    "outputId": "0cf71da6-d261-4f0b-eeea-fd97cd22b22c"
   },
   "outputs": [
    {
     "data": {
      "image/png": "[encoded data removed]",
      "text/plain": [
       "<Figure size 1440x720 with 1 Axes>"
      ]
     },
     "metadata": {},
     "output_type": "display_data"
    }
   ],
   "source": [
    "forest_importances = pd.Series(importancia, index=nomes_caracteristicas)\n",
    "forest_importances.sort_values(ascending=False, inplace=True)\n",
    "fig, ax = plt.subplots(figsize=(20,10))\n",
    "forest_importances.plot.bar(yerr=std, ax=ax)\n",
    "ax.set_title(\"Feature importances using MDI\")\n",
    "ax.set_ylabel(\"Mean decrease in impurity\")\n",
    "fig.tight_layout()"
   ]
  },
  {
   "cell_type": "markdown",
   "metadata": {
    "id": "BhzBSFNtLsxo"
   },
   "source": [
    "### RFE (Recursive Feature Elimination)\n"
   ]
  },
  {
   "cell_type": "code",
   "execution_count": null,
   "metadata": {
    "id": "iZ9IXblBLZGh"
   },
   "outputs": [],
   "source": [
    "# O RFE tem como parametro o número de recursos a serem selecionados. Se nenhum valor for informado, metade dos recursos são selecionados. \n",
    "# A iteração abaixo visa encontrar o melhor valor para este parâmetro dentro de um intervalo. \n",
    "\n",
    "def num_recursos_selecao(min, max, estimator) :\n",
    "    # nº de recursos a serem testados dentro do intervalo 10 a 30\n",
    "    nof_list=np.arange(min,max) \n",
    "    # Variável para armazenar o melhor score encontrado            \n",
    "    high_score=0\n",
    "    # Variável para armazenar os numero de recursos ideal \n",
    "    nof=0           \n",
    "    score_list =[]\n",
    "    for n in range(len(nof_list)):\n",
    "        X_train, X_test, y_train, y_test = train_test_split(,y,test_size = 0.3, random_state = 0)\n",
    "        rfe = RFE(estimator,n_features_to_select = nof_list[n])\n",
    "        X_train_rfe = rfe.fit_transform(X_train,y_train)\n",
    "        X_test_rfe = rfe.transform(X_test)\n",
    "        estimator.fit(X_train_rfe,y_train)\n",
    "        score = estimator.score(X_test_rfe,y_test)\n",
    "        score_list.append(score)\n",
    "        print(\"Score com %d recursos: %f\" % (nof_list[n], score))\n",
    "        if(score>high_score):\n",
    "            high_score = score\n",
    "            nof = nof_list[n]\n",
    "    print(\"====================================\")\n",
    "    print(\"Número ideal de recursos: %d\" %nof)\n",
    "    print(\"Score com %d recursos: %f\" % (nof, high_score))"
   ]
  },
  {
   "cell_type": "code",
   "execution_count": null,
   "metadata": {
    "id": "UD-krYpHL8YP"
   },
   "outputs": [],
   "source": [
    "# Retorna os n recusos mais significativos\n",
    "def selecao_rfe(n) :\n",
    "    model = RandomForestRegressor(n_jobs=-1, random_state=SEED, **params)\n",
    "    #Inicializando o modelo RFE\n",
    "    rfe = RFE(model, n_features_to_select = n)\n",
    "    X_rfe = rfe.fit_transform(X,y)  \n",
    "    #Treinando o modelo\n",
    "    model.fit(X_rfe,y)  \n",
    "    cols = list(X.columns)            \n",
    "    temp = pd.Series(rfe.support_,index = cols)\n",
    "    selected_features_rfe = temp[temp==True].index\n",
    "    return selected_features_rfe"
   ]
  },
  {
   "cell_type": "code",
   "execution_count": null,
   "metadata": {
    "colab": {
     "base_uri": "https://localhost:8080/"
    },
    "executionInfo": {
     "elapsed": 50037992,
     "status": "ok",
     "timestamp": 1642911876687,
     "user": {
      "displayName": "Inara Santana Ortiz",
      "photoUrl": "https://lh3.googleusercontent.com/a-/AOh14GiiIA2mH7NX3gcUv6FChCpTqiH5LAcmLjP4xmgD3g=s64",
      "userId": "07948853797805552432"
     },
     "user_tz": 240
    },
    "id": "FWw6bXT7MBfQ",
    "outputId": "8a7565fd-411e-449b-fb78-b7a07823182b"
   },
   "outputs": [
    {
     "name": "stdout",
     "output_type": "stream",
     "text": [
      "Score com 10 recursos: 0.759605\n",
      "Score com 11 recursos: 0.759566\n",
      "Score com 12 recursos: 0.759843\n",
      "Score com 13 recursos: 0.759807\n",
      "Score com 14 recursos: 0.768200\n",
      "Score com 15 recursos: 0.768200\n",
      "Score com 16 recursos: 0.768432\n",
      "Score com 17 recursos: 0.768378\n",
      "Score com 18 recursos: 0.768398\n",
      "Score com 19 recursos: 0.768367\n",
      "Score com 20 recursos: 0.774587\n",
      "Score com 21 recursos: 0.774592\n",
      "Score com 22 recursos: 0.774610\n",
      "Score com 23 recursos: 0.774561\n",
      "Score com 24 recursos: 0.776684\n",
      "Score com 25 recursos: 0.776662\n",
      "Score com 26 recursos: 0.776668\n",
      "Score com 27 recursos: 0.776654\n",
      "Score com 28 recursos: 0.776655\n",
      "Score com 29 recursos: 0.776675\n",
      "Score com 30 recursos: 0.776614\n",
      "====================================\n",
      "Número ideal de recursos: 24\n",
      "Score com 24 recursos: 0.776684\n"
     ]
    }
   ],
   "source": [
    "estimator = RandomForestRegressor(n_jobs=-1, random_state=SEED, **params)\n",
    "num_recursos_selecao(10, 31, estimator)"
   ]
  },
  {
   "cell_type": "code",
   "execution_count": null,
   "metadata": {
    "colab": {
     "base_uri": "https://localhost:8080/"
    },
    "executionInfo": {
     "elapsed": 1658080,
     "status": "ok",
     "timestamp": 1642914598263,
     "user": {
      "displayName": "Inara Santana Ortiz",
      "photoUrl": "https://lh3.googleusercontent.com/a-/AOh14GiiIA2mH7NX3gcUv6FChCpTqiH5LAcmLjP4xmgD3g=s64",
      "userId": "07948853797805552432"
     },
     "user_tz": 240
    },
    "id": "8ZGXb2bcMu8u",
    "outputId": "d0ce6970-6a9d-47b2-feba-00fee167c722"
   },
   "outputs": [
    {
     "data": {
      "text/plain": [
       "Index(['tipificacao_1', 'tipificacao_2', 'tipificacao_3',\n",
       "       'classificacao_estabelecimento', 'fabrica_racao', 'rastreamento_sisbov',\n",
       "       'med1m_formituinst', 'med1m_prer_boi', 'tot3m_chuva',\n",
       "       'med3m_formituinst', 'med3m_ndvi', 'med3m_prer_milho', 'med3m_prer_boi',\n",
       "       'tot6m_chuva', 'med6m_formituinst', 'med6m_ndvi', 'med6m_prer_milho',\n",
       "       'med6m_prer_boi', 'tot12m_chuva', 'med12m_formituinst',\n",
       "       'cnt6m_cl_ituinst', 'cnt12m_cl_ituinst', 'longitude', 'latitude'],\n",
       "      dtype='object')"
      ]
     },
     "execution_count": 30,
     "metadata": {},
     "output_type": "execute_result"
    }
   ],
   "source": [
    "selected_features_rfe = selecao_rfe(24)\n",
    "selected_features_rfe"
   ]
  },
  {
   "cell_type": "code",
   "execution_count": null,
   "metadata": {
    "id": "lhr7A9qEEHl5"
   },
   "outputs": [],
   "source": [
    "X_selection = df[df.columns.intersection(selected_features_rfe)]"
   ]
  },
  {
   "cell_type": "code",
   "execution_count": null,
   "metadata": {
    "id": "U_fKJy6OgO2M"
   },
   "outputs": [],
   "source": [
    "scaler = StandardScaler()\n",
    "X_scaled = scaler.fit_transform(X_selection)"
   ]
  },
  {
   "cell_type": "code",
   "execution_count": null,
   "metadata": {
    "colab": {
     "base_uri": "https://localhost:8080/"
    },
    "executionInfo": {
     "elapsed": 660537,
     "status": "ok",
     "timestamp": 1645669611957,
     "user": {
      "displayName": "Inara Santana Ortiz",
      "photoUrl": "https://lh3.googleusercontent.com/a-/AOh14GiiIA2mH7NX3gcUv6FChCpTqiH5LAcmLjP4xmgD3g=s64",
      "userId": "07948853797805552432"
     },
     "user_tz": 240
    },
    "id": "XgRgMG5igP6r",
    "outputId": "00676df6-a108-4920-b8cd-68ff2b767e8d"
   },
   "outputs": [
    {
     "name": "stdout",
     "output_type": "stream",
     "text": [
      "Métrica test_r2: \n",
      "Média 0.777 +/- 0.00\n",
      "Intervalo: [ 0.773, 0.780 ]\n",
      "\n",
      "\n",
      "Métrica test_neg_mean_absolute_error: \n",
      "Média -15.896 +/- 0.05\n",
      "Intervalo: [ -15.962, -15.792 ]\n",
      "\n",
      "\n",
      "Métrica test_neg_root_mean_squared_error: \n",
      "Média -20.964 +/- 0.07\n",
      "Intervalo: [ -21.104, -20.868 ]\n",
      "\n",
      "\n"
     ]
    }
   ],
   "source": [
    "validacao(RandomForestRegressor(n_jobs=-1, random_state=SEED, **params), X_scaled, y)"
   ]
  },
  {
   "cell_type": "markdown",
   "metadata": {
    "id": "xO9AD1184QUv"
   },
   "source": [
    "## Exportando o modelo"
   ]
  },
  {
   "cell_type": "code",
   "execution_count": null,
   "metadata": {
    "colab": {
     "base_uri": "https://localhost:8080/"
    },
    "executionInfo": {
     "elapsed": 80285,
     "status": "ok",
     "timestamp": 1643053732623,
     "user": {
      "displayName": "Inara Santana Ortiz",
      "photoUrl": "https://lh3.googleusercontent.com/a-/AOh14GiiIA2mH7NX3gcUv6FChCpTqiH5LAcmLjP4xmgD3g=s64",
      "userId": "07948853797805552432"
     },
     "user_tz": 240
    },
    "id": "ZO8_2CZQm3ZL",
    "outputId": "afa8942e-c778-4f9c-dbea-57512918042e"
   },
   "outputs": [
    {
     "data": {
      "text/plain": [
       "RandomForestRegressor(bootstrap='True', max_depth=29, max_features='log2',\n",
       "                      min_samples_split=43, n_estimators=280, n_jobs=-1,\n",
       "                      random_state=42)"
      ]
     },
     "execution_count": 11,
     "metadata": {},
     "output_type": "execute_result"
    }
   ],
   "source": [
    "rfr = RandomForestRegressor(n_jobs=-1, random_state=SEED, **params)\n",
    "X_train, X_test, y_train, y_test = train_test_split(X_selection,y, test_size = 0.2, random_state = SEED)\n",
    "rfr.fit(X_train, y_train)"
   ]
  },
  {
   "cell_type": "code",
   "execution_count": null,
   "metadata": {
    "colab": {
     "base_uri": "https://localhost:8080/"
    },
    "executionInfo": {
     "elapsed": 1766,
     "status": "ok",
     "timestamp": 1643054999302,
     "user": {
      "displayName": "Inara Santana Ortiz",
      "photoUrl": "https://lh3.googleusercontent.com/a-/AOh14GiiIA2mH7NX3gcUv6FChCpTqiH5LAcmLjP4xmgD3g=s64",
      "userId": "07948853797805552432"
     },
     "user_tz": 240
    },
    "id": "NU4HUbwxjV6P",
    "outputId": "cde139dd-d81c-45f2-8a7c-88dba7e997cf"
   },
   "outputs": [
    {
     "data": {
      "text/plain": [
       "['/content/drive/MyDrive/Dissertação/modelo/rfr_model.joblib']"
      ]
     },
     "execution_count": 15,
     "metadata": {},
     "output_type": "execute_result"
    }
   ],
   "source": [
    "from joblib import dump, load\n",
    "dump(rfr, '/content/drive/MyDrive/Dissertação/modelo/rfr_model.joblib') "
   ]
  },
  {
   "cell_type": "code",
   "execution_count": null,
   "metadata": {
    "id": "SZv9aUd8zMbM"
   },
   "outputs": [],
   "source": [
    "# Para carregar modelo\n",
    "# from joblib import load\n",
    "# rfr = load('/content/drive/MyDrive/Dissertação/modelo/rfr_model.joblib') "
   ]
  }
 ],
 "metadata": {
  "colab": {
   "authorship_tag": "ABX9TyNrN3vGRiaYiFXdSlsAfkz1",
   "background_execution": "on",
   "collapsed_sections": [],
   "machine_shape": "hm",
   "name": "2. Predição Peso - Random Forest Regressor.ipynb",
   "provenance": []
  },
  "kernelspec": {
   "display_name": "Python 3",
   "language": "python",
   "name": "python3"
  },
  "language_info": {
   "codemirror_mode": {
    "name": "ipython",
    "version": 3
   },
   "file_extension": ".py",
   "mimetype": "text/x-python",
   "name": "python",
   "nbconvert_exporter": "python",
   "pygments_lexer": "ipython3",
   "version": "3.7.6"
  }
 },
 "nbformat": 4,
 "nbformat_minor": 1
}
